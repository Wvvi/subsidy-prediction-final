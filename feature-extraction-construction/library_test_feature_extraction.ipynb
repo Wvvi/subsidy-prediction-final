{
 "cells": [
  {
   "cell_type": "code",
   "execution_count": 1,
   "metadata": {
    "collapsed": true
   },
   "outputs": [],
   "source": [
    "#Import\n",
    "\n",
    "#pandas\n",
    "import pandas as pd\n",
    "from pandas import Series,DataFrame\n",
    "\n",
    "#numpy\n",
    "import numpy as np"
   ]
  },
  {
   "cell_type": "code",
   "execution_count": 2,
   "metadata": {
    "collapsed": false
   },
   "outputs": [
    {
     "data": {
      "text/html": [
       "<div>\n",
       "<table border=\"1\" class=\"dataframe\">\n",
       "  <thead>\n",
       "    <tr style=\"text-align: right;\">\n",
       "      <th></th>\n",
       "      <th>id</th>\n",
       "      <th>lib_dor_num</th>\n",
       "      <th>lib_date</th>\n",
       "    </tr>\n",
       "  </thead>\n",
       "  <tbody>\n",
       "    <tr>\n",
       "      <th>0</th>\n",
       "      <td>6308</td>\n",
       "      <td>7</td>\n",
       "      <td>2013/09/01 08:42:43</td>\n",
       "    </tr>\n",
       "    <tr>\n",
       "      <th>1</th>\n",
       "      <td>20745</td>\n",
       "      <td>5</td>\n",
       "      <td>2013/09/01 08:42:49</td>\n",
       "    </tr>\n",
       "    <tr>\n",
       "      <th>2</th>\n",
       "      <td>8152</td>\n",
       "      <td>6</td>\n",
       "      <td>2013/09/01 08:43:42</td>\n",
       "    </tr>\n",
       "    <tr>\n",
       "      <th>3</th>\n",
       "      <td>28693</td>\n",
       "      <td>5</td>\n",
       "      <td>2013/09/01 08:45:32</td>\n",
       "    </tr>\n",
       "    <tr>\n",
       "      <th>4</th>\n",
       "      <td>5466</td>\n",
       "      <td>6</td>\n",
       "      <td>2013/09/01 08:45:35</td>\n",
       "    </tr>\n",
       "  </tbody>\n",
       "</table>\n",
       "</div>"
      ],
      "text/plain": [
       "      id lib_dor_num             lib_date\n",
       "0   6308           7  2013/09/01 08:42:43\n",
       "1  20745           5  2013/09/01 08:42:49\n",
       "2   8152           6  2013/09/01 08:43:42\n",
       "3  28693           5  2013/09/01 08:45:32\n",
       "4   5466           6  2013/09/01 08:45:35"
      ]
     },
     "execution_count": 2,
     "metadata": {},
     "output_type": "execute_result"
    }
   ],
   "source": [
    "#路径\n",
    "path='C:\\Users\\Wvv\\Datacastle_subsidy'\n",
    "\n",
    "#导入library_train数据（图书馆门禁）\n",
    "library_test_name=['id','lib_dor_num','lib_date']\n",
    "library_test=pd.read_table(path + '/final_test/library_final_test.txt',sep=',',header=None,names=library_test_name)\n",
    "\n",
    "#删除重复行并浏览前几行数据\n",
    "library_test=library_test.drop_duplicates()\n",
    "library_test.head()"
   ]
  },
  {
   "cell_type": "code",
   "execution_count": 2,
   "metadata": {
    "collapsed": false
   },
   "outputs": [
    {
     "data": {
      "text/html": [
       "<div>\n",
       "<table border=\"1\" class=\"dataframe\">\n",
       "  <thead>\n",
       "    <tr style=\"text-align: right;\">\n",
       "      <th></th>\n",
       "      <th>id</th>\n",
       "      <th>lib_dor_num</th>\n",
       "      <th>lib_date</th>\n",
       "    </tr>\n",
       "  </thead>\n",
       "  <tbody>\n",
       "    <tr>\n",
       "      <th>0</th>\n",
       "      <td>3094</td>\n",
       "      <td>6</td>\n",
       "      <td>2013/09/01 08:42:32</td>\n",
       "    </tr>\n",
       "    <tr>\n",
       "      <th>1</th>\n",
       "      <td>9812</td>\n",
       "      <td>5</td>\n",
       "      <td>2013/09/01 08:42:46</td>\n",
       "    </tr>\n",
       "    <tr>\n",
       "      <th>2</th>\n",
       "      <td>1972</td>\n",
       "      <td>7</td>\n",
       "      <td>2013/09/01 08:42:51</td>\n",
       "    </tr>\n",
       "    <tr>\n",
       "      <th>3</th>\n",
       "      <td>5508</td>\n",
       "      <td>7</td>\n",
       "      <td>2013/09/01 08:43:22</td>\n",
       "    </tr>\n",
       "    <tr>\n",
       "      <th>4</th>\n",
       "      <td>7060</td>\n",
       "      <td>6</td>\n",
       "      <td>2013/09/01 08:45:17</td>\n",
       "    </tr>\n",
       "  </tbody>\n",
       "</table>\n",
       "</div>"
      ],
      "text/plain": [
       "     id lib_dor_num             lib_date\n",
       "0  3094           6  2013/09/01 08:42:32\n",
       "1  9812           5  2013/09/01 08:42:46\n",
       "2  1972           7  2013/09/01 08:42:51\n",
       "3  5508           7  2013/09/01 08:43:22\n",
       "4  7060           6  2013/09/01 08:45:17"
      ]
     },
     "execution_count": 2,
     "metadata": {},
     "output_type": "execute_result"
    }
   ],
   "source": [
    "#路径\n",
    "path='C:\\Users\\Wvv\\Datacastle_subsidy'\n",
    "\n",
    "#导入library_train数据（图书馆门禁）\n",
    "library_test_name=['id','lib_dor_num','lib_date']\n",
    "library_test=pd.read_table(path + '/test/library_test.txt',sep=',',header=None,names=library_test_name)\n",
    "\n",
    "#删除重复行并浏览前几行数据\n",
    "library_test=library_test.drop_duplicates()\n",
    "library_test.head()"
   ]
  },
  {
   "cell_type": "code",
   "execution_count": 3,
   "metadata": {
    "collapsed": false
   },
   "outputs": [
    {
     "name": "stdout",
     "output_type": "stream",
     "text": [
      "<class 'pandas.core.frame.DataFrame'>\n",
      "Int64Index: 1048633 entries, 0 to 1055195\n",
      "Data columns (total 3 columns):\n",
      "id             1048633 non-null int64\n",
      "lib_dor_num    1048633 non-null object\n",
      "lib_date       1048633 non-null object\n",
      "dtypes: int64(1), object(2)\n",
      "memory usage: 32.0+ MB\n"
     ]
    }
   ],
   "source": [
    "library_test.info()"
   ]
  },
  {
   "cell_type": "code",
   "execution_count": 3,
   "metadata": {
    "collapsed": true
   },
   "outputs": [],
   "source": [
    "#定义time转化函数\n",
    "\n",
    "from datetime import datetime\n",
    "def time_transform(x):\n",
    "    return datetime.strptime(x,'%Y/%m/%d %H:%M:%S')"
   ]
  },
  {
   "cell_type": "code",
   "execution_count": 4,
   "metadata": {
    "collapsed": true
   },
   "outputs": [],
   "source": [
    "#转换字符串型的time成时间戳格式\n",
    "library_test['lib_date']=library_test['lib_date'].apply(time_transform)"
   ]
  },
  {
   "cell_type": "code",
   "execution_count": 5,
   "metadata": {
    "collapsed": true
   },
   "outputs": [],
   "source": [
    "#时间格式转换\n",
    "\n",
    "library_test['date']=library_test['lib_date'].apply(lambda x:x.strftime('%m-%d-%Y'))\n",
    "library_test['year']=library_test['lib_date'].apply(lambda x:x.strftime('%Y'))\n",
    "library_test['month']=library_test['lib_date'].apply(lambda x:x.strftime('%m'))\n",
    "library_test['hour']=library_test['lib_date'].apply(lambda x:x.strftime('%H'))\n",
    "library_test['weekday']=library_test['lib_date'].apply(lambda x:x.strftime('%A'))"
   ]
  },
  {
   "cell_type": "code",
   "execution_count": 6,
   "metadata": {
    "collapsed": false
   },
   "outputs": [
    {
     "data": {
      "text/plain": [
       "Index([u'00', u'01', u'06', u'07', u'08', u'09', u'10', u'11', u'12', u'13',\n",
       "       u'14', u'15', u'16', u'17', u'18', u'19', u'20', u'21', u'22', u'23'],\n",
       "      dtype='object', name=u'hour')"
      ]
     },
     "execution_count": 6,
     "metadata": {},
     "output_type": "execute_result"
    }
   ],
   "source": [
    "#获得图书馆开放时段\n",
    "\n",
    "library_hour=library_test.groupby('hour')['hour'].count()\n",
    "library_hour.index"
   ]
  },
  {
   "cell_type": "code",
   "execution_count": 8,
   "metadata": {
    "collapsed": false
   },
   "outputs": [],
   "source": [
    "#hour(每个时段)\n",
    "\n",
    "a=['00','01','06','23']\n",
    "def hour_transform(hour):\n",
    "    if hour in a:\n",
    "        return 'o'\n",
    "    else:\n",
    "        return hour\n",
    "    \n",
    "            \n",
    "library_test['hour']=library_test['hour'].apply(hour_transform)\n",
    "\n",
    "#对hour进行one_hot编码得到hour新表\n",
    "hour_dummies=pd.get_dummies(library_test['hour'])\n",
    "hour_dummies.columns = ['lib_hour_07','lib_hour_08','lib_hour_09','lib_hour_10','lib_hour_11','lib_hour_12','lib_hour_13','lib_hour_14',\n",
    "                       'lib_hour_15','lib_hour_16','lib_hour_17','lib_hour_18','lib_hour_19','lib_hour_20','lib_hour_21','lib_hour_22','lib_hour_other']\n",
    "\n",
    "#连接两表\n",
    "library_test = library_test.join(hour_dummies)"
   ]
  },
  {
   "cell_type": "code",
   "execution_count": 9,
   "metadata": {
    "collapsed": true
   },
   "outputs": [],
   "source": [
    "#hour(早，中，晚)\n",
    "\n",
    "a=['o','07','08','09','10','11']\n",
    "b=['12','13','14','15','16','17']\n",
    "#c=['18','19','20','21','22']\n",
    "def hour_transform(hour_1):\n",
    "    if hour_1 in a:\n",
    "        return 'a'\n",
    "    elif hour_1 in b:\n",
    "        return 'b'\n",
    "    else:\n",
    "        return 'c'\n",
    "    \n",
    "            \n",
    "library_test['hour']=library_test['hour'].apply(hour_transform)\n",
    "\n",
    "#对hour进行one_hot编码得到hour新表\n",
    "hour_dummies_1=pd.get_dummies(library_test['hour'])\n",
    "hour_dummies_1.columns = ['lib_morning','lib_afternoon','lib_evening']\n",
    "\n",
    "#连接两表\n",
    "library_test = library_test.join(hour_dummies_1)"
   ]
  },
  {
   "cell_type": "code",
   "execution_count": 10,
   "metadata": {
    "collapsed": true
   },
   "outputs": [],
   "source": [
    "#weekday\n",
    "\n",
    "#分为周末与非周末\n",
    "a=['Monday','Tuesday','Wednesday','Thursday','Friday']\n",
    "#b=['Saturday','Sunday']\n",
    "def week_transform(weekday):\n",
    "    if weekday in a:\n",
    "        return 'wd'\n",
    "    else:\n",
    "        return 'vd'\n",
    "    \n",
    "library_test['weekday']=library_test['weekday'].apply(week_transform)\n",
    "\n",
    "#对weekday进行one_hot编码得到weekday新表\n",
    "\n",
    "weekday_dummies = pd.get_dummies(library_test['weekday'])\n",
    "weekday_dummies.columns=['lib_resting_day','lib_working_day']\n",
    "library_test=library_test.join(weekday_dummies)"
   ]
  },
  {
   "cell_type": "code",
   "execution_count": 11,
   "metadata": {
    "collapsed": true
   },
   "outputs": [],
   "source": [
    "#month(每个月)\n",
    "\n",
    "#对month进行one_hot编码得到month新表\n",
    "\n",
    "month_dummies = pd.get_dummies(library_test['month'])\n",
    "month_dummies.columns=['lib_month_01','lib_month_02','lib_month_03','lib_month_04','lib_month_05','lib_month_06','lib_month_07'\n",
    "                      ,'lib_month_08','lib_month_09','lib_month_10','lib_month_11','lib_month_12']\n",
    "library_test=library_test.join(month_dummies)"
   ]
  },
  {
   "cell_type": "code",
   "execution_count": 12,
   "metadata": {
    "collapsed": true
   },
   "outputs": [],
   "source": [
    "#month\n",
    "\n",
    "#分为四个季节\n",
    "\n",
    "a=['03','04','05']#春季\n",
    "b=['06','07','08']#夏季\n",
    "c=['09','10','11']#秋季\n",
    "#d=['12','01','02']#冬季\n",
    "def month_transform(month_1):\n",
    "    if month_1 in a:\n",
    "        return 'a'\n",
    "    elif month_1 in b:\n",
    "        return 'b'\n",
    "    elif month_1 in c:\n",
    "        return 'c'\n",
    "    else:\n",
    "        return 'd'\n",
    "    \n",
    "library_test['month']=library_test['month'].apply(month_transform)\n",
    "\n",
    "#对month进行one_hot编码得到month新表\n",
    "\n",
    "month_dummies_1 = pd.get_dummies(library_test['month'])\n",
    "month_dummies_1.columns=['lib_spring','lib_summer','lib_autumn','lib_winter']\n",
    "library_test=library_test.join(month_dummies_1)"
   ]
  },
  {
   "cell_type": "code",
   "execution_count": 13,
   "metadata": {
    "collapsed": false
   },
   "outputs": [
    {
     "data": {
      "text/html": [
       "<div>\n",
       "<table border=\"1\" class=\"dataframe\">\n",
       "  <thead>\n",
       "    <tr style=\"text-align: right;\">\n",
       "      <th></th>\n",
       "      <th>id</th>\n",
       "      <th>lib_dor_num</th>\n",
       "      <th>lib_date</th>\n",
       "      <th>date</th>\n",
       "      <th>year</th>\n",
       "      <th>month</th>\n",
       "      <th>hour</th>\n",
       "      <th>weekday</th>\n",
       "      <th>lib_hour_07</th>\n",
       "      <th>lib_hour_08</th>\n",
       "      <th>...</th>\n",
       "      <th>lib_month_07</th>\n",
       "      <th>lib_month_08</th>\n",
       "      <th>lib_month_09</th>\n",
       "      <th>lib_month_10</th>\n",
       "      <th>lib_month_11</th>\n",
       "      <th>lib_month_12</th>\n",
       "      <th>lib_spring</th>\n",
       "      <th>lib_summer</th>\n",
       "      <th>lib_autumn</th>\n",
       "      <th>lib_winter</th>\n",
       "    </tr>\n",
       "  </thead>\n",
       "  <tbody>\n",
       "    <tr>\n",
       "      <th>0</th>\n",
       "      <td>3094</td>\n",
       "      <td>6</td>\n",
       "      <td>2013-09-01 08:42:32</td>\n",
       "      <td>09-01-2013</td>\n",
       "      <td>2013</td>\n",
       "      <td>c</td>\n",
       "      <td>a</td>\n",
       "      <td>vd</td>\n",
       "      <td>0</td>\n",
       "      <td>1</td>\n",
       "      <td>...</td>\n",
       "      <td>0</td>\n",
       "      <td>0</td>\n",
       "      <td>1</td>\n",
       "      <td>0</td>\n",
       "      <td>0</td>\n",
       "      <td>0</td>\n",
       "      <td>0</td>\n",
       "      <td>0</td>\n",
       "      <td>1</td>\n",
       "      <td>0</td>\n",
       "    </tr>\n",
       "    <tr>\n",
       "      <th>1</th>\n",
       "      <td>9812</td>\n",
       "      <td>5</td>\n",
       "      <td>2013-09-01 08:42:46</td>\n",
       "      <td>09-01-2013</td>\n",
       "      <td>2013</td>\n",
       "      <td>c</td>\n",
       "      <td>a</td>\n",
       "      <td>vd</td>\n",
       "      <td>0</td>\n",
       "      <td>1</td>\n",
       "      <td>...</td>\n",
       "      <td>0</td>\n",
       "      <td>0</td>\n",
       "      <td>1</td>\n",
       "      <td>0</td>\n",
       "      <td>0</td>\n",
       "      <td>0</td>\n",
       "      <td>0</td>\n",
       "      <td>0</td>\n",
       "      <td>1</td>\n",
       "      <td>0</td>\n",
       "    </tr>\n",
       "    <tr>\n",
       "      <th>2</th>\n",
       "      <td>1972</td>\n",
       "      <td>7</td>\n",
       "      <td>2013-09-01 08:42:51</td>\n",
       "      <td>09-01-2013</td>\n",
       "      <td>2013</td>\n",
       "      <td>c</td>\n",
       "      <td>a</td>\n",
       "      <td>vd</td>\n",
       "      <td>0</td>\n",
       "      <td>1</td>\n",
       "      <td>...</td>\n",
       "      <td>0</td>\n",
       "      <td>0</td>\n",
       "      <td>1</td>\n",
       "      <td>0</td>\n",
       "      <td>0</td>\n",
       "      <td>0</td>\n",
       "      <td>0</td>\n",
       "      <td>0</td>\n",
       "      <td>1</td>\n",
       "      <td>0</td>\n",
       "    </tr>\n",
       "    <tr>\n",
       "      <th>3</th>\n",
       "      <td>5508</td>\n",
       "      <td>7</td>\n",
       "      <td>2013-09-01 08:43:22</td>\n",
       "      <td>09-01-2013</td>\n",
       "      <td>2013</td>\n",
       "      <td>c</td>\n",
       "      <td>a</td>\n",
       "      <td>vd</td>\n",
       "      <td>0</td>\n",
       "      <td>1</td>\n",
       "      <td>...</td>\n",
       "      <td>0</td>\n",
       "      <td>0</td>\n",
       "      <td>1</td>\n",
       "      <td>0</td>\n",
       "      <td>0</td>\n",
       "      <td>0</td>\n",
       "      <td>0</td>\n",
       "      <td>0</td>\n",
       "      <td>1</td>\n",
       "      <td>0</td>\n",
       "    </tr>\n",
       "    <tr>\n",
       "      <th>4</th>\n",
       "      <td>7060</td>\n",
       "      <td>6</td>\n",
       "      <td>2013-09-01 08:45:17</td>\n",
       "      <td>09-01-2013</td>\n",
       "      <td>2013</td>\n",
       "      <td>c</td>\n",
       "      <td>a</td>\n",
       "      <td>vd</td>\n",
       "      <td>0</td>\n",
       "      <td>1</td>\n",
       "      <td>...</td>\n",
       "      <td>0</td>\n",
       "      <td>0</td>\n",
       "      <td>1</td>\n",
       "      <td>0</td>\n",
       "      <td>0</td>\n",
       "      <td>0</td>\n",
       "      <td>0</td>\n",
       "      <td>0</td>\n",
       "      <td>1</td>\n",
       "      <td>0</td>\n",
       "    </tr>\n",
       "  </tbody>\n",
       "</table>\n",
       "<p>5 rows × 46 columns</p>\n",
       "</div>"
      ],
      "text/plain": [
       "     id lib_dor_num            lib_date        date  year month hour weekday  \\\n",
       "0  3094           6 2013-09-01 08:42:32  09-01-2013  2013     c    a      vd   \n",
       "1  9812           5 2013-09-01 08:42:46  09-01-2013  2013     c    a      vd   \n",
       "2  1972           7 2013-09-01 08:42:51  09-01-2013  2013     c    a      vd   \n",
       "3  5508           7 2013-09-01 08:43:22  09-01-2013  2013     c    a      vd   \n",
       "4  7060           6 2013-09-01 08:45:17  09-01-2013  2013     c    a      vd   \n",
       "\n",
       "   lib_hour_07  lib_hour_08     ...      lib_month_07  lib_month_08  \\\n",
       "0            0            1     ...                 0             0   \n",
       "1            0            1     ...                 0             0   \n",
       "2            0            1     ...                 0             0   \n",
       "3            0            1     ...                 0             0   \n",
       "4            0            1     ...                 0             0   \n",
       "\n",
       "   lib_month_09  lib_month_10  lib_month_11  lib_month_12  lib_spring  \\\n",
       "0             1             0             0             0           0   \n",
       "1             1             0             0             0           0   \n",
       "2             1             0             0             0           0   \n",
       "3             1             0             0             0           0   \n",
       "4             1             0             0             0           0   \n",
       "\n",
       "   lib_summer  lib_autumn  lib_winter  \n",
       "0           0           1           0  \n",
       "1           0           1           0  \n",
       "2           0           1           0  \n",
       "3           0           1           0  \n",
       "4           0           1           0  \n",
       "\n",
       "[5 rows x 46 columns]"
      ]
     },
     "execution_count": 13,
     "metadata": {},
     "output_type": "execute_result"
    }
   ],
   "source": [
    "library_test.head()"
   ]
  },
  {
   "cell_type": "code",
   "execution_count": 14,
   "metadata": {
    "collapsed": true
   },
   "outputs": [],
   "source": [
    "#导出数据\n",
    "\n",
    "library_test.to_csv('lib_input/library_test.csv',index=False)"
   ]
  },
  {
   "cell_type": "code",
   "execution_count": 14,
   "metadata": {
    "collapsed": true
   },
   "outputs": [],
   "source": [
    "#导出数据\n",
    "\n",
    "library_test.to_csv('lib_input/library_test_2.csv',index=False)"
   ]
  },
  {
   "cell_type": "code",
   "execution_count": null,
   "metadata": {
    "collapsed": true
   },
   "outputs": [],
   "source": []
  }
 ],
 "metadata": {
  "kernelspec": {
   "display_name": "Python [py2]",
   "language": "python",
   "name": "Python [py2]"
  },
  "language_info": {
   "codemirror_mode": {
    "name": "ipython",
    "version": 2
   },
   "file_extension": ".py",
   "mimetype": "text/x-python",
   "name": "python",
   "nbconvert_exporter": "python",
   "pygments_lexer": "ipython2",
   "version": "2.7.12"
  }
 },
 "nbformat": 4,
 "nbformat_minor": 0
}
