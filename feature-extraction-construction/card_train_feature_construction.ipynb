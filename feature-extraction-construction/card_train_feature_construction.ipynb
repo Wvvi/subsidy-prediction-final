{
 "cells": [
  {
   "cell_type": "code",
   "execution_count": 1,
   "metadata": {
    "collapsed": true
   },
   "outputs": [],
   "source": [
    "#Import\n",
    "\n",
    "#pandas\n",
    "import pandas as pd\n",
    "from pandas import Series,DataFrame\n",
    "\n",
    "#numpy\n",
    "import numpy as np"
   ]
  },
  {
   "cell_type": "code",
   "execution_count": 2,
   "metadata": {
    "collapsed": false
   },
   "outputs": [
    {
     "data": {
      "text/html": [
       "<div>\n",
       "<table border=\"1\" class=\"dataframe\">\n",
       "  <thead>\n",
       "    <tr style=\"text-align: right;\">\n",
       "      <th></th>\n",
       "      <th>id</th>\n",
       "      <th>amount</th>\n",
       "      <th>remainder</th>\n",
       "      <th>date</th>\n",
       "      <th>hour_00_01</th>\n",
       "      <th>hour_06_07</th>\n",
       "      <th>hour_08_09</th>\n",
       "      <th>hour_11_13</th>\n",
       "      <th>hour_17_21</th>\n",
       "      <th>hour_22_23</th>\n",
       "      <th>...</th>\n",
       "      <th>shower</th>\n",
       "      <th>market</th>\n",
       "      <th>canteen</th>\n",
       "      <th>f_ten_canteen</th>\n",
       "      <th>other_canteen</th>\n",
       "      <th>f_ten_place</th>\n",
       "      <th>other_place</th>\n",
       "      <th>winter_vacation</th>\n",
       "      <th>summer_vacation</th>\n",
       "      <th>on_school</th>\n",
       "    </tr>\n",
       "  </thead>\n",
       "  <tbody>\n",
       "    <tr>\n",
       "      <th>0</th>\n",
       "      <td>1006</td>\n",
       "      <td>0.50</td>\n",
       "      <td>124.90</td>\n",
       "      <td>09-01-2013</td>\n",
       "      <td>1</td>\n",
       "      <td>0</td>\n",
       "      <td>0</td>\n",
       "      <td>0</td>\n",
       "      <td>0</td>\n",
       "      <td>0</td>\n",
       "      <td>...</td>\n",
       "      <td>1</td>\n",
       "      <td>0</td>\n",
       "      <td>0</td>\n",
       "      <td>0</td>\n",
       "      <td>0</td>\n",
       "      <td>0</td>\n",
       "      <td>1</td>\n",
       "      <td>0</td>\n",
       "      <td>0</td>\n",
       "      <td>1</td>\n",
       "    </tr>\n",
       "    <tr>\n",
       "      <th>1</th>\n",
       "      <td>1968</td>\n",
       "      <td>0.10</td>\n",
       "      <td>200.14</td>\n",
       "      <td>09-01-2013</td>\n",
       "      <td>1</td>\n",
       "      <td>0</td>\n",
       "      <td>0</td>\n",
       "      <td>0</td>\n",
       "      <td>0</td>\n",
       "      <td>0</td>\n",
       "      <td>...</td>\n",
       "      <td>1</td>\n",
       "      <td>0</td>\n",
       "      <td>0</td>\n",
       "      <td>0</td>\n",
       "      <td>0</td>\n",
       "      <td>0</td>\n",
       "      <td>1</td>\n",
       "      <td>0</td>\n",
       "      <td>0</td>\n",
       "      <td>1</td>\n",
       "    </tr>\n",
       "    <tr>\n",
       "      <th>2</th>\n",
       "      <td>1406</td>\n",
       "      <td>0.01</td>\n",
       "      <td>374.42</td>\n",
       "      <td>09-01-2013</td>\n",
       "      <td>1</td>\n",
       "      <td>0</td>\n",
       "      <td>0</td>\n",
       "      <td>0</td>\n",
       "      <td>0</td>\n",
       "      <td>0</td>\n",
       "      <td>...</td>\n",
       "      <td>0</td>\n",
       "      <td>0</td>\n",
       "      <td>0</td>\n",
       "      <td>0</td>\n",
       "      <td>0</td>\n",
       "      <td>0</td>\n",
       "      <td>1</td>\n",
       "      <td>0</td>\n",
       "      <td>0</td>\n",
       "      <td>1</td>\n",
       "    </tr>\n",
       "    <tr>\n",
       "      <th>3</th>\n",
       "      <td>1406</td>\n",
       "      <td>0.60</td>\n",
       "      <td>373.82</td>\n",
       "      <td>09-01-2013</td>\n",
       "      <td>1</td>\n",
       "      <td>0</td>\n",
       "      <td>0</td>\n",
       "      <td>0</td>\n",
       "      <td>0</td>\n",
       "      <td>0</td>\n",
       "      <td>...</td>\n",
       "      <td>0</td>\n",
       "      <td>0</td>\n",
       "      <td>0</td>\n",
       "      <td>0</td>\n",
       "      <td>0</td>\n",
       "      <td>0</td>\n",
       "      <td>1</td>\n",
       "      <td>0</td>\n",
       "      <td>0</td>\n",
       "      <td>1</td>\n",
       "    </tr>\n",
       "    <tr>\n",
       "      <th>4</th>\n",
       "      <td>13554</td>\n",
       "      <td>0.50</td>\n",
       "      <td>522.37</td>\n",
       "      <td>09-01-2013</td>\n",
       "      <td>1</td>\n",
       "      <td>0</td>\n",
       "      <td>0</td>\n",
       "      <td>0</td>\n",
       "      <td>0</td>\n",
       "      <td>0</td>\n",
       "      <td>...</td>\n",
       "      <td>1</td>\n",
       "      <td>0</td>\n",
       "      <td>0</td>\n",
       "      <td>0</td>\n",
       "      <td>0</td>\n",
       "      <td>1</td>\n",
       "      <td>0</td>\n",
       "      <td>0</td>\n",
       "      <td>0</td>\n",
       "      <td>1</td>\n",
       "    </tr>\n",
       "  </tbody>\n",
       "</table>\n",
       "<p>5 rows × 36 columns</p>\n",
       "</div>"
      ],
      "text/plain": [
       "      id  amount  remainder        date  hour_00_01  hour_06_07  hour_08_09  \\\n",
       "0   1006    0.50     124.90  09-01-2013           1           0           0   \n",
       "1   1968    0.10     200.14  09-01-2013           1           0           0   \n",
       "2   1406    0.01     374.42  09-01-2013           1           0           0   \n",
       "3   1406    0.60     373.82  09-01-2013           1           0           0   \n",
       "4  13554    0.50     522.37  09-01-2013           1           0           0   \n",
       "\n",
       "   hour_11_13  hour_17_21  hour_22_23    ...      shower  market  canteen  \\\n",
       "0           0           0           0    ...           1       0        0   \n",
       "1           0           0           0    ...           1       0        0   \n",
       "2           0           0           0    ...           0       0        0   \n",
       "3           0           0           0    ...           0       0        0   \n",
       "4           0           0           0    ...           1       0        0   \n",
       "\n",
       "   f_ten_canteen  other_canteen  f_ten_place  other_place  winter_vacation  \\\n",
       "0              0              0            0            1                0   \n",
       "1              0              0            0            1                0   \n",
       "2              0              0            0            1                0   \n",
       "3              0              0            0            1                0   \n",
       "4              0              0            1            0                0   \n",
       "\n",
       "   summer_vacation  on_school  \n",
       "0                0          1  \n",
       "1                0          1  \n",
       "2                0          1  \n",
       "3                0          1  \n",
       "4                0          1  \n",
       "\n",
       "[5 rows x 36 columns]"
      ]
     },
     "execution_count": 2,
     "metadata": {},
     "output_type": "execute_result"
    }
   ],
   "source": [
    "#导入数据\n",
    "\n",
    "card_train_feature=pd.read_csv('input/card_train.csv')\n",
    "card_train_feature.head()"
   ]
  },
  {
   "cell_type": "code",
   "execution_count": 3,
   "metadata": {
    "collapsed": false
   },
   "outputs": [],
   "source": [
    "#card_train_feature.info()"
   ]
  },
  {
   "cell_type": "code",
   "execution_count": 3,
   "metadata": {
    "collapsed": true
   },
   "outputs": [],
   "source": [
    "#根据id聚合求解各个特征的产生的总数\n",
    "\n",
    "count_columns=list(card_train_feature.columns)[4:]\n",
    "\n",
    "#count_columns\n",
    "count_pivot=card_train_feature.pivot_table(index='id',values=count_columns,aggfunc=np.count_nonzero)"
   ]
  },
  {
   "cell_type": "code",
   "execution_count": 4,
   "metadata": {
    "collapsed": false
   },
   "outputs": [],
   "source": [
    "#根据id聚合求解各个特征均值(各特征消费次数占比)\n",
    "\n",
    "a=['id','date']\n",
    "mean_columns=[x for x in list(card_train_feature.columns) if x not in a]\n",
    "mean_pivot=card_train_feature.pivot_table(index='id',values=mean_columns,aggfunc=np.mean)\n",
    "\n",
    "#对列名重命名\n",
    "mean_pivot.columns=[x+'_mean' for x in list(mean_pivot.columns)]\n",
    "\n",
    "#连接两表\n",
    "card_train_feature_f=mean_pivot.join(count_pivot)\n",
    "\n",
    "#计算消费总额与余额总额\n",
    "card_train_feature_s=card_train_feature.groupby('id')['amount','remainder'].sum()\n",
    "card_train_feature_f=card_train_feature_f.join(card_train_feature_s)"
   ]
  },
  {
   "cell_type": "code",
   "execution_count": 5,
   "metadata": {
    "collapsed": true
   },
   "outputs": [],
   "source": [
    "#获得id关于每一列的消费总额\n",
    "\n",
    "def get_colunms_sum(df):\n",
    "    a=list(df.columns)[4:]\n",
    "    columns_sum=DataFrame(df.groupby('id')['id'].count())#初始化表格大小\n",
    "    columns_sum.columns=['id_count']\n",
    "    for x in range(len(a)):\n",
    "            columns_sum_x=DataFrame(df.loc[df[a[x]]==1].groupby('id')['amount'].sum())\n",
    "            columns_sum_x.columns=[a[x]+'_amount_sum']\n",
    "            columns_sum=columns_sum.join(columns_sum_x)\n",
    "            x+=1\n",
    "    columns_sum.drop('id_count',axis=1,inplace=True)\n",
    "    return columns_sum\n",
    "\n",
    "#运用定义的函数\n",
    "card_columns_sum=get_colunms_sum(card_train_feature)\n",
    "\n",
    "#连接总表\n",
    "card_train_feature_f=card_train_feature_f.join(card_columns_sum)"
   ]
  },
  {
   "cell_type": "code",
   "execution_count": 6,
   "metadata": {
    "collapsed": true
   },
   "outputs": [],
   "source": [
    "#定义id关于每一列的消费均值(每次)\n",
    "\n",
    "def get_colunms_mean(df_sum,df_count):\n",
    "    a=list(df_count.columns)\n",
    "    columns_mean=DataFrame(df_count[a[0]])#初始化表格大小\n",
    "    columns_mean.columns=['id_count']\n",
    "    for x in range(len(a)):\n",
    "        columns_count_x=df_count[a[x]].values\n",
    "        columns_sum_x=df_sum[a[x]+'_amount_sum'].values\n",
    "        columns_mean[a[x]+'_amount_mean']=np.divide.reduce([columns_sum_x,columns_count_x],axis=0)\n",
    "        x+=1\n",
    "    columns_mean.drop('id_count',axis=1,inplace=True)\n",
    "    return columns_mean\n",
    "\n",
    "#运用定义的函数\n",
    "card_columns_mean=get_colunms_mean(card_columns_sum,count_pivot)\n",
    "\n",
    "#连接总表\n",
    "card_train_feature_f=card_train_feature_f.join(card_columns_mean)"
   ]
  },
  {
   "cell_type": "code",
   "execution_count": 7,
   "metadata": {
    "collapsed": true
   },
   "outputs": [],
   "source": [
    "#定义id关于每一列的消费额占总额的比例\n",
    "\n",
    "def get_colunms_amount_rate(df_sum,df):\n",
    "    a=list(df_sum.columns)\n",
    "    columns_amount_rate=DataFrame(df_sum[a[0]])#初始化表格大小\n",
    "    columns_amount_rate.columns=['id_count']\n",
    "    amount_sum=df['amount'].values\n",
    "    for x in range(len(a)):\n",
    "        columns_amountsum_x=df_sum[a[x]].values\n",
    "        columns_amount_rate[a[x]+'_rate']=np.divide.reduce([columns_amountsum_x,amount_sum],axis=0)\n",
    "        x+=1\n",
    "    columns_amount_rate.drop('id_count',axis=1,inplace=True)\n",
    "    return columns_amount_rate\n",
    "\n",
    "#运用定义的函数\n",
    "card_columns_amount_rate=get_colunms_amount_rate(card_columns_sum,card_train_feature_f)\n",
    "\n",
    "#连接总表\n",
    "card_train_feature_f=card_train_feature_f.join(card_columns_amount_rate)"
   ]
  },
  {
   "cell_type": "code",
   "execution_count": 8,
   "metadata": {
    "collapsed": true
   },
   "outputs": [],
   "source": [
    "#获得id关于每一列的消费的最大值\n",
    "\n",
    "def get_colunms_amount_max(df):\n",
    "    a=list(df.columns)[4:]\n",
    "    columns_amount_max=DataFrame(df.groupby('id')['id'].count())#初始化表格大小\n",
    "    columns_amount_max.columns=['id_count']\n",
    "    for x in range(len(a)):\n",
    "            columns_max_x=DataFrame(df.loc[df[a[x]]==1].groupby('id')['amount'].max())\n",
    "            columns_max_x.columns=[a[x]+'_amount_max']\n",
    "            columns_amount_max=columns_amount_max.join(columns_max_x)\n",
    "            x+=1\n",
    "    columns_amount_max.drop('id_count',axis=1,inplace=True)\n",
    "    return columns_amount_max\n",
    "\n",
    "#运用定义的函数\n",
    "columns_amount_max=get_colunms_amount_max(card_train_feature)\n",
    "\n",
    "#连接总表\n",
    "card_train_feature_f=card_train_feature_f.join(columns_amount_max)"
   ]
  },
  {
   "cell_type": "code",
   "execution_count": 9,
   "metadata": {
    "collapsed": true
   },
   "outputs": [],
   "source": [
    "#获得id关于每一列的消费的最小值\n",
    "\n",
    "def get_colunms_amount_min(df):\n",
    "    a=list(df.columns)[4:]\n",
    "    columns_amount_min=DataFrame(df.groupby('id')['id'].count())#初始化表格大小\n",
    "    columns_amount_min.columns=['id_count']\n",
    "    for x in range(len(a)):\n",
    "            columns_min_x=DataFrame(df.loc[df[a[x]]==1].groupby('id')['amount'].min())\n",
    "            columns_min_x.columns=[a[x]+'_amount_min']\n",
    "            columns_amount_min=columns_amount_min.join(columns_min_x)\n",
    "            x+=1\n",
    "    columns_amount_min.drop('id_count',axis=1,inplace=True)\n",
    "    return columns_amount_min\n",
    "\n",
    "#运用定义的函数\n",
    "columns_amount_min=get_colunms_amount_min(card_train_feature)\n",
    "\n",
    "#连接总表\n",
    "card_train_feature_f=card_train_feature_f.join(columns_amount_min)"
   ]
  },
  {
   "cell_type": "code",
   "execution_count": 10,
   "metadata": {
    "collapsed": true
   },
   "outputs": [],
   "source": [
    "#获得id关于每一列的消费的标准方差\n",
    "\n",
    "def get_colunms_amount_std(df):\n",
    "    a=list(df.columns)[4:]\n",
    "    columns_amount_std=DataFrame(df.groupby('id')['id'].count())#初始化表格大小\n",
    "    columns_amount_std.columns=['id_count']\n",
    "    for x in range(len(a)):\n",
    "            columns_std_x=DataFrame(df.loc[df[a[x]]==1].groupby('id')['amount'].std())\n",
    "            columns_std_x.columns=[a[x]+'_amount_std']\n",
    "            columns_amount_std=columns_amount_std.join(columns_std_x)\n",
    "            x+=1\n",
    "    columns_amount_std.drop('id_count',axis=1,inplace=True)\n",
    "    return columns_amount_std\n",
    "\n",
    "#运用定义的函数\n",
    "columns_amount_std=get_colunms_amount_std(card_train_feature)\n",
    "\n",
    "#连接总表\n",
    "card_train_feature_f=card_train_feature_f.join(columns_amount_std)"
   ]
  },
  {
   "cell_type": "code",
   "execution_count": 11,
   "metadata": {
    "collapsed": true
   },
   "outputs": [],
   "source": [
    "#获得id关于每一列的消费的中位数\n",
    "\n",
    "def get_colunms_amount_median(df):\n",
    "    a=list(df.columns)[4:]\n",
    "    columns_amount_median=DataFrame(df.groupby('id')['id'].count())#初始化表格大小\n",
    "    columns_amount_median.columns=['id_count']\n",
    "    for x in range(len(a)):\n",
    "            columns_median_x=DataFrame(df.loc[df[a[x]]==1].groupby('id')['amount'].median())\n",
    "            columns_median_x.columns=[a[x]+'_amount_median']\n",
    "            columns_amount_median=columns_amount_median.join(columns_median_x)\n",
    "            x+=1\n",
    "    columns_amount_median.drop('id_count',axis=1,inplace=True)\n",
    "    return columns_amount_median\n",
    "\n",
    "#运用定义的函数\n",
    "columns_amount_median=get_colunms_amount_median(card_train_feature)\n",
    "\n",
    "#连接总表\n",
    "card_train_feature_f=card_train_feature_f.join(columns_amount_median)"
   ]
  },
  {
   "cell_type": "code",
   "execution_count": 12,
   "metadata": {
    "collapsed": true
   },
   "outputs": [],
   "source": [
    "#计算单笔消费额的最大、最小值、中位数、方差\n",
    "a='amount'\n",
    "card_train_feature_f[a+'_max']=card_train_feature.groupby('id')[a].max()\n",
    "card_train_feature_f[a+'_min']=card_train_feature.groupby('id')[a].min()\n",
    "card_train_feature_f[a+'_median']=card_train_feature.groupby('id')[a].median()\n",
    "card_train_feature_f[a+'_std']=card_train_feature.groupby('id')[a].std()\n",
    "\n",
    "#计算消费余额的最大、最小值、中位数、方差\n",
    "\n",
    "b='remainder'\n",
    "card_train_feature_f[b+'_max']=card_train_feature.groupby('id')[b].max()\n",
    "card_train_feature_f[b+'_min']=card_train_feature.groupby('id')[b].min()\n",
    "card_train_feature_f[b+'_median']=card_train_feature.groupby('id')[b].median()\n",
    "card_train_feature_f[b+'_std']=card_train_feature.groupby('id')[b].std()\n",
    "\n",
    "#计算消费总笔数\n",
    "\n",
    "card_train_feature_f['amount_count']=card_train_feature.groupby('id')['amount'].count()"
   ]
  },
  {
   "cell_type": "code",
   "execution_count": 13,
   "metadata": {
    "collapsed": true
   },
   "outputs": [],
   "source": [
    "#每个id的活跃天数\n",
    "\n",
    "card_train_date=DataFrame(card_train_feature.groupby(['id','date'])['id'].count())\n",
    "card_train_date.to_csv('input/card_train_day.csv',index=True)\n",
    "card_train_day=pd.read_csv('input/card_train_day.csv')\n",
    "card_train_day_sum=DataFrame(card_train_day.groupby('id')['id.1'].count())\n",
    "card_train_day_sum.columns=['card_day_sum']\n",
    "\n",
    "#平均每天消费总额\n",
    "\n",
    "card_train_feature_f['card_day_sum']=card_train_day_sum['card_day_sum']\n",
    "card_train_feature_f['amount_mean_day']=card_train_feature_f['amount']/card_train_feature_f['card_day_sum']"
   ]
  },
  {
   "cell_type": "code",
   "execution_count": 14,
   "metadata": {
    "collapsed": true
   },
   "outputs": [],
   "source": [
    "#周末消费均值减去非周末消费均值(每次)\n",
    "\n",
    "card_train_feature_f['rd_wd_difference']=card_train_feature_f['resting_day_amount_mean']-card_train_feature_f['working_day_amount_mean']\n"
   ]
  },
  {
   "cell_type": "code",
   "execution_count": 15,
   "metadata": {
    "collapsed": false
   },
   "outputs": [],
   "source": [
    "#“圈存转账”“卡充值”“支付领取”三种充值类特征相加\n",
    "\n",
    "a=card_train_feature_f['card_recharge_amount_sum'].add(card_train_feature_f['load_tansfer_amount_sum'],fill_value=0)\n",
    "card_train_feature_f['three_recharge_amount_sum']=a.add(card_train_feature_f['payment_collection_amount_sum'],fill_value=0)\n",
    "\n",
    "#卡充值总额/活跃天数\n",
    "\n",
    "card_train_feature_f['recharge_day_mean']=card_train_feature_f['three_recharge_amount_sum'].divide(card_train_feature_f['card_day_sum'],fill_value=0)\n"
   ]
  },
  {
   "cell_type": "code",
   "execution_count": 16,
   "metadata": {
    "collapsed": false
   },
   "outputs": [],
   "source": [
    "#单笔消费额在0-2.5，2.5-5，5-10，10-20的总笔数/活跃天数，消费笔数，活跃天数\n",
    "\n",
    "def get_amount_count(df1,df2):\n",
    "    a=[2.5,5,10,20]\n",
    "    for x in range(len(a)):\n",
    "        if x==0:\n",
    "            #消费总笔数\n",
    "            amount_count_x=DataFrame(df1.loc[df1['amount']<=a[x]].groupby('id')['amount'].count())\n",
    "            amount_count_x.columns=['amount_slice_0_'+str(a[x])+'_count']\n",
    "            #活跃天数\n",
    "            amount_day=DataFrame(df1.loc[df1['amount']<=a[x]].groupby(['id','date'])['id'].count())                      \n",
    "            amount_day.to_csv('input/card_train_amount_day.csv',index=True)\n",
    "            amount_day=pd.read_csv('input/card_train_amount_day.csv')\n",
    "            slice_day_sum_x=DataFrame(amount_day.groupby('id')['id.1'].count())\n",
    "            slice_day_sum_x.columns=['day_sum']\n",
    "            #df2['amount_slice_0_'+str(a[x])]=amount_count_x['amount'].divide(slice_day_sum_x['day_sum'],fill_value=0)\n",
    "            #活跃笔数/活跃天数\n",
    "            amount_count_x['amount_slice_0_'+str(a[x])+'_rate_day']=amount_count_x['amount_slice_0_'+str(a[x])+'_count'].divide(slice_day_sum_x['day_sum'],fill_value=0)\n",
    "            amount_count_x['amount_slice_0_'+str(a[x])+'_day_sum']=slice_day_sum_x['day_sum']\n",
    "            df2=df2.join(amount_count_x)\n",
    "        else:\n",
    "            #消费总笔数\n",
    "            b=df1.loc[df1['amount']>a[x-1]]\n",
    "            amount_count_x=DataFrame(b.loc[b['amount']<=a[x]].groupby('id')['amount'].count())\n",
    "            amount_count_x.columns=['amount_slice_'+str(a[x-1])+'_'+str(a[x])+'_count']               \n",
    "            #活跃天数\n",
    "            amount_day=DataFrame(b.loc[b['amount']<=a[x]].groupby(['id','date'])['id'].count()) \n",
    "            amount_day.to_csv('input/card_train_amount_day.csv',index=True)\n",
    "            amount_day=pd.read_csv('input/card_train_amount_day.csv')\n",
    "            slice_day_sum_x=DataFrame(amount_day.groupby('id')['id.1'].count())\n",
    "            slice_day_sum_x.columns=['day_sum']\n",
    "            #活跃天数\n",
    "            #df2['amount_slice_'+str(a[x-1])+'_'+str(a[x])]=amount_count_x['amount'].divide(slice_day_sum_x['day_sum'],fill_value=0)\n",
    "            amount_count_x['amount_slice_'+str(a[x-1])+'_'+str(a[x])+'_rate_day']=amount_count_x['amount_slice_'+str(a[x-1])+'_'+str(a[x])+'_count'].divide(slice_day_sum_x['day_sum'],fill_value=0)\n",
    "            amount_count_x['amount_slice_'+str(a[x-1])+'_'+str(a[x])+'_day_sum']=slice_day_sum_x['day_sum']\n",
    "            df2=df2.join(amount_count_x)\n",
    "            x+=1\n",
    "    return df2"
   ]
  },
  {
   "cell_type": "code",
   "execution_count": 17,
   "metadata": {
    "collapsed": false
   },
   "outputs": [],
   "source": [
    "#运用函数\n",
    "\n",
    "card_train_feature_f=get_amount_count(card_train_feature,card_train_feature_f)"
   ]
  },
  {
   "cell_type": "code",
   "execution_count": 20,
   "metadata": {
    "collapsed": false
   },
   "outputs": [],
   "source": [
    "#单笔消费额在0-2.5，2.5-5，5-10，10-20的活跃笔数占比，活跃天数占比\n",
    "\n",
    "def get_amount_count1(df):\n",
    "    a=[0,2.5,5,10,20]\n",
    "    for x in range(len(a)-1):\n",
    "        df['amount_slice_'+str(a[x])+'_'+str(a[x+1])+'_count_rate']=df['amount_slice_'+str(a[x])+'_'+str(a[x+1])+'_count'].divide(df['amount_count'],fill_value=0)\n",
    "        df['amount_slice_'+str(a[x])+'_'+str(a[x+1])+'_day_rate']=df['amount_slice_'+str(a[x])+'_'+str(a[x+1])+'_day_sum'].divide(df['card_day_sum'],fill_value=0)       \n",
    "    return df \n",
    "\n"
   ]
  },
  {
   "cell_type": "code",
   "execution_count": 22,
   "metadata": {
    "collapsed": false
   },
   "outputs": [],
   "source": [
    "#运用函数\n",
    "\n",
    "card_train_feature_f=get_amount_count1(card_train_feature_f)"
   ]
  },
  {
   "cell_type": "code",
   "execution_count": 25,
   "metadata": {
    "collapsed": true
   },
   "outputs": [],
   "source": [
    "#每天消费总额在0-10，10-20，20-30，30-40,40-50活跃天数\n",
    "\n",
    "def get_amount_count2(df1,df2):\n",
    "    a=[10,20,30,40,50]\n",
    "    for x in range(len(a)):\n",
    "        if x==0:\n",
    "            #消费笔数\n",
    "            amount_sum=DataFrame(df1.groupby(['id','date'])['amount'].sum())\n",
    "            amount_sum.to_csv('input/card_train_amount_sum.csv',index=True)\n",
    "            amount_sum_x=pd.read_csv('input/card_train_amount_sum.csv')\n",
    "            slice_sum_x=DataFrame(amount_sum_x.loc[amount_sum_x['amount']<=a[x]].groupby('id')['amount'].count())\n",
    "            slice_sum_x.columns=['amount_slice_day_0_'+str(a[x])+'_count']\n",
    "            #df2['amount_slice_0_'+str(a[x])+'_all']=slice_sum_x['amount'].divide(df2['card_day_sum'],fill_value=0)\n",
    "            df2=df2.join(slice_sum_x)\n",
    "        else:\n",
    "            #消费笔数\n",
    "            amount_sum=DataFrame(df1.groupby(['id','date'])['amount'].sum())\n",
    "            amount_sum.to_csv('input/card_train_amount_sum.csv',index=True)\n",
    "            amount_sum_x=pd.read_csv('input/card_train_amount_sum.csv')\n",
    "            b=amount_sum_x.loc[amount_sum_x['amount']>a[x-1]]\n",
    "            slice_sum_x=DataFrame(b.loc[b['amount']<=a[x]].groupby('id')['amount'].count())\n",
    "            slice_sum_x.columns=['amount_slice_day_'+str(a[x-1])+'_'+str(a[x])+'_count']\n",
    "            #df2['amount_slice_'+str(a[x-1])+'_'+str(a[x])+'_all']=slice_sum_x['amount'].divide(df2['card_day_sum'],fill_value=0)\n",
    "            df2=df2.join(slice_sum_x)\n",
    "            x+=1\n",
    "    return df2\n",
    "            \n"
   ]
  },
  {
   "cell_type": "code",
   "execution_count": 26,
   "metadata": {
    "collapsed": true
   },
   "outputs": [],
   "source": [
    "#运用函数\n",
    "\n",
    "card_train_feature_f=get_amount_count2(card_train_feature,card_train_feature_f)"
   ]
  },
  {
   "cell_type": "code",
   "execution_count": 28,
   "metadata": {
    "collapsed": true
   },
   "outputs": [],
   "source": [
    "#每天消费总额在0-10，10-20，20-30，30-40,40-50活跃天数/活跃天数\n",
    "def get_amount_count3(df):\n",
    "    a=[0,10,20,30,40,50]\n",
    "    for x in range(len(a)-1):\n",
    "        df['amount_slice_day_'+str(a[x])+'_'+str(a[x+1])+'day_rate']=df['amount_slice_day_'+str(a[x])+'_'+str(a[x+1])+'_count'].divide(df['card_day_sum'],fill_value=0)\n",
    "    return df"
   ]
  },
  {
   "cell_type": "code",
   "execution_count": 29,
   "metadata": {
    "collapsed": false
   },
   "outputs": [],
   "source": [
    "#运用函数\n",
    "\n",
    "card_train_feature_f=get_amount_count3(card_train_feature_f)"
   ]
  },
  {
   "cell_type": "code",
   "execution_count": 82,
   "metadata": {
    "collapsed": true
   },
   "outputs": [],
   "source": [
    "#card_train_feature_f.drop('amount_slice_10_20_sum',axis=1,inplace=True)"
   ]
  },
  {
   "cell_type": "code",
   "execution_count": 30,
   "metadata": {
    "collapsed": false
   },
   "outputs": [
    {
     "data": {
      "text/html": [
       "<div>\n",
       "<table border=\"1\" class=\"dataframe\">\n",
       "  <thead>\n",
       "    <tr style=\"text-align: right;\">\n",
       "      <th></th>\n",
       "      <th>POS_recharge_mean</th>\n",
       "      <th>amount_mean</th>\n",
       "      <th>bus_mean</th>\n",
       "      <th>canteen_mean</th>\n",
       "      <th>card_recharge_mean</th>\n",
       "      <th>f_ten_canteen_mean</th>\n",
       "      <th>f_ten_place_mean</th>\n",
       "      <th>hospital_mean</th>\n",
       "      <th>hour_00_01_mean</th>\n",
       "      <th>hour_02_05_mean</th>\n",
       "      <th>...</th>\n",
       "      <th>amount_slice_day_0_10_count</th>\n",
       "      <th>amount_slice_day_10_20_count</th>\n",
       "      <th>amount_slice_day_20_30_count</th>\n",
       "      <th>amount_slice_day_30_40_count</th>\n",
       "      <th>amount_slice_day_40_50_count</th>\n",
       "      <th>amount_slice_day_0_10day_rate</th>\n",
       "      <th>amount_slice_day_10_20day_rate</th>\n",
       "      <th>amount_slice_day_20_30day_rate</th>\n",
       "      <th>amount_slice_day_30_40day_rate</th>\n",
       "      <th>amount_slice_day_40_50day_rate</th>\n",
       "    </tr>\n",
       "    <tr>\n",
       "      <th>id</th>\n",
       "      <th></th>\n",
       "      <th></th>\n",
       "      <th></th>\n",
       "      <th></th>\n",
       "      <th></th>\n",
       "      <th></th>\n",
       "      <th></th>\n",
       "      <th></th>\n",
       "      <th></th>\n",
       "      <th></th>\n",
       "      <th></th>\n",
       "      <th></th>\n",
       "      <th></th>\n",
       "      <th></th>\n",
       "      <th></th>\n",
       "      <th></th>\n",
       "      <th></th>\n",
       "      <th></th>\n",
       "      <th></th>\n",
       "      <th></th>\n",
       "      <th></th>\n",
       "    </tr>\n",
       "  </thead>\n",
       "  <tbody>\n",
       "    <tr>\n",
       "      <th>0</th>\n",
       "      <td>0.949264</td>\n",
       "      <td>7.830016</td>\n",
       "      <td>0.162029</td>\n",
       "      <td>0.206219</td>\n",
       "      <td>0.036007</td>\n",
       "      <td>0.062193</td>\n",
       "      <td>0.409165</td>\n",
       "      <td>0.0</td>\n",
       "      <td>0.040917</td>\n",
       "      <td>0.003273</td>\n",
       "      <td>...</td>\n",
       "      <td>82.0</td>\n",
       "      <td>52.0</td>\n",
       "      <td>20.0</td>\n",
       "      <td>8.0</td>\n",
       "      <td>2.0</td>\n",
       "      <td>0.440860</td>\n",
       "      <td>0.279570</td>\n",
       "      <td>0.107527</td>\n",
       "      <td>0.043011</td>\n",
       "      <td>0.010753</td>\n",
       "    </tr>\n",
       "    <tr>\n",
       "      <th>1</th>\n",
       "      <td>0.968610</td>\n",
       "      <td>8.784709</td>\n",
       "      <td>0.086697</td>\n",
       "      <td>0.387145</td>\n",
       "      <td>0.016442</td>\n",
       "      <td>0.046338</td>\n",
       "      <td>0.162930</td>\n",
       "      <td>0.0</td>\n",
       "      <td>0.019432</td>\n",
       "      <td>0.000000</td>\n",
       "      <td>...</td>\n",
       "      <td>29.0</td>\n",
       "      <td>38.0</td>\n",
       "      <td>32.0</td>\n",
       "      <td>19.0</td>\n",
       "      <td>2.0</td>\n",
       "      <td>0.207143</td>\n",
       "      <td>0.271429</td>\n",
       "      <td>0.228571</td>\n",
       "      <td>0.135714</td>\n",
       "      <td>0.014286</td>\n",
       "    </tr>\n",
       "    <tr>\n",
       "      <th>8</th>\n",
       "      <td>0.970428</td>\n",
       "      <td>8.388444</td>\n",
       "      <td>0.197665</td>\n",
       "      <td>0.048249</td>\n",
       "      <td>0.028016</td>\n",
       "      <td>0.048249</td>\n",
       "      <td>0.759533</td>\n",
       "      <td>0.0</td>\n",
       "      <td>0.009339</td>\n",
       "      <td>0.000000</td>\n",
       "      <td>...</td>\n",
       "      <td>15.0</td>\n",
       "      <td>130.0</td>\n",
       "      <td>84.0</td>\n",
       "      <td>14.0</td>\n",
       "      <td>2.0</td>\n",
       "      <td>0.053381</td>\n",
       "      <td>0.462633</td>\n",
       "      <td>0.298932</td>\n",
       "      <td>0.049822</td>\n",
       "      <td>0.007117</td>\n",
       "    </tr>\n",
       "    <tr>\n",
       "      <th>9</th>\n",
       "      <td>0.973231</td>\n",
       "      <td>9.033875</td>\n",
       "      <td>0.019758</td>\n",
       "      <td>0.140217</td>\n",
       "      <td>0.026769</td>\n",
       "      <td>0.140217</td>\n",
       "      <td>0.670491</td>\n",
       "      <td>0.0</td>\n",
       "      <td>0.005099</td>\n",
       "      <td>0.000000</td>\n",
       "      <td>...</td>\n",
       "      <td>16.0</td>\n",
       "      <td>67.0</td>\n",
       "      <td>83.0</td>\n",
       "      <td>26.0</td>\n",
       "      <td>24.0</td>\n",
       "      <td>0.059041</td>\n",
       "      <td>0.247232</td>\n",
       "      <td>0.306273</td>\n",
       "      <td>0.095941</td>\n",
       "      <td>0.088561</td>\n",
       "    </tr>\n",
       "    <tr>\n",
       "      <th>10</th>\n",
       "      <td>0.957882</td>\n",
       "      <td>7.191348</td>\n",
       "      <td>0.145608</td>\n",
       "      <td>0.239471</td>\n",
       "      <td>0.031288</td>\n",
       "      <td>0.095066</td>\n",
       "      <td>0.308063</td>\n",
       "      <td>0.0</td>\n",
       "      <td>0.001203</td>\n",
       "      <td>0.000000</td>\n",
       "      <td>...</td>\n",
       "      <td>91.0</td>\n",
       "      <td>56.0</td>\n",
       "      <td>24.0</td>\n",
       "      <td>4.0</td>\n",
       "      <td>4.0</td>\n",
       "      <td>0.435407</td>\n",
       "      <td>0.267943</td>\n",
       "      <td>0.114833</td>\n",
       "      <td>0.019139</td>\n",
       "      <td>0.019139</td>\n",
       "    </tr>\n",
       "  </tbody>\n",
       "</table>\n",
       "<p>5 rows × 336 columns</p>\n",
       "</div>"
      ],
      "text/plain": [
       "    POS_recharge_mean  amount_mean  bus_mean  canteen_mean  \\\n",
       "id                                                           \n",
       "0            0.949264     7.830016  0.162029      0.206219   \n",
       "1            0.968610     8.784709  0.086697      0.387145   \n",
       "8            0.970428     8.388444  0.197665      0.048249   \n",
       "9            0.973231     9.033875  0.019758      0.140217   \n",
       "10           0.957882     7.191348  0.145608      0.239471   \n",
       "\n",
       "    card_recharge_mean  f_ten_canteen_mean  f_ten_place_mean  hospital_mean  \\\n",
       "id                                                                            \n",
       "0             0.036007            0.062193          0.409165            0.0   \n",
       "1             0.016442            0.046338          0.162930            0.0   \n",
       "8             0.028016            0.048249          0.759533            0.0   \n",
       "9             0.026769            0.140217          0.670491            0.0   \n",
       "10            0.031288            0.095066          0.308063            0.0   \n",
       "\n",
       "    hour_00_01_mean  hour_02_05_mean               ...                \\\n",
       "id                                                 ...                 \n",
       "0          0.040917         0.003273               ...                 \n",
       "1          0.019432         0.000000               ...                 \n",
       "8          0.009339         0.000000               ...                 \n",
       "9          0.005099         0.000000               ...                 \n",
       "10         0.001203         0.000000               ...                 \n",
       "\n",
       "    amount_slice_day_0_10_count  amount_slice_day_10_20_count  \\\n",
       "id                                                              \n",
       "0                          82.0                          52.0   \n",
       "1                          29.0                          38.0   \n",
       "8                          15.0                         130.0   \n",
       "9                          16.0                          67.0   \n",
       "10                         91.0                          56.0   \n",
       "\n",
       "    amount_slice_day_20_30_count  amount_slice_day_30_40_count  \\\n",
       "id                                                               \n",
       "0                           20.0                           8.0   \n",
       "1                           32.0                          19.0   \n",
       "8                           84.0                          14.0   \n",
       "9                           83.0                          26.0   \n",
       "10                          24.0                           4.0   \n",
       "\n",
       "    amount_slice_day_40_50_count  amount_slice_day_0_10day_rate  \\\n",
       "id                                                                \n",
       "0                            2.0                       0.440860   \n",
       "1                            2.0                       0.207143   \n",
       "8                            2.0                       0.053381   \n",
       "9                           24.0                       0.059041   \n",
       "10                           4.0                       0.435407   \n",
       "\n",
       "    amount_slice_day_10_20day_rate  amount_slice_day_20_30day_rate  \\\n",
       "id                                                                   \n",
       "0                         0.279570                        0.107527   \n",
       "1                         0.271429                        0.228571   \n",
       "8                         0.462633                        0.298932   \n",
       "9                         0.247232                        0.306273   \n",
       "10                        0.267943                        0.114833   \n",
       "\n",
       "    amount_slice_day_30_40day_rate  amount_slice_day_40_50day_rate  \n",
       "id                                                                  \n",
       "0                         0.043011                        0.010753  \n",
       "1                         0.135714                        0.014286  \n",
       "8                         0.049822                        0.007117  \n",
       "9                         0.095941                        0.088561  \n",
       "10                        0.019139                        0.019139  \n",
       "\n",
       "[5 rows x 336 columns]"
      ]
     },
     "execution_count": 30,
     "metadata": {},
     "output_type": "execute_result"
    }
   ],
   "source": [
    "card_train_feature_f.head()"
   ]
  },
  {
   "cell_type": "code",
   "execution_count": 31,
   "metadata": {
    "collapsed": false
   },
   "outputs": [
    {
     "data": {
      "text/plain": [
       "10860"
      ]
     },
     "execution_count": 31,
     "metadata": {},
     "output_type": "execute_result"
    }
   ],
   "source": [
    "len(card_train_feature_f)"
   ]
  },
  {
   "cell_type": "code",
   "execution_count": 34,
   "metadata": {
    "collapsed": true
   },
   "outputs": [],
   "source": [
    "card_train_feature_f.to_csv('input/card_train_feature_f.csv',index='id')"
   ]
  },
  {
   "cell_type": "code",
   "execution_count": 35,
   "metadata": {
    "collapsed": false
   },
   "outputs": [
    {
     "name": "stdout",
     "output_type": "stream",
     "text": [
      "<class 'pandas.core.frame.DataFrame'>\n",
      "Int64Index: 10860 entries, 0 to 32671\n",
      "Columns: 336 entries, POS_recharge_mean to amount_slice_day_40_50day_rate\n",
      "dtypes: float64(302), int64(34)\n",
      "memory usage: 27.9 MB\n"
     ]
    }
   ],
   "source": [
    "card_train_feature_f.info()"
   ]
  },
  {
   "cell_type": "code",
   "execution_count": null,
   "metadata": {
    "collapsed": true
   },
   "outputs": [],
   "source": []
  }
 ],
 "metadata": {
  "anaconda-cloud": {},
  "kernelspec": {
   "display_name": "Python [py2]",
   "language": "python",
   "name": "Python [py2]"
  },
  "language_info": {
   "codemirror_mode": {
    "name": "ipython",
    "version": 2
   },
   "file_extension": ".py",
   "mimetype": "text/x-python",
   "name": "python",
   "nbconvert_exporter": "python",
   "pygments_lexer": "ipython2",
   "version": "2.7.12"
  }
 },
 "nbformat": 4,
 "nbformat_minor": 0
}
