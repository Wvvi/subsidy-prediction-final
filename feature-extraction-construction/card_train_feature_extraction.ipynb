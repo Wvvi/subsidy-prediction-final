{
 "cells": [
  {
   "cell_type": "code",
   "execution_count": 1,
   "metadata": {
    "collapsed": true
   },
   "outputs": [],
   "source": [
    "#Import\n",
    "\n",
    "#pandas\n",
    "import pandas as pd\n",
    "from pandas import Series,DataFrame\n",
    "\n",
    "#numpy\n",
    "import numpy as np"
   ]
  },
  {
   "cell_type": "code",
   "execution_count": 2,
   "metadata": {
    "collapsed": false
   },
   "outputs": [
    {
     "data": {
      "text/html": [
       "<div>\n",
       "<table border=\"1\" class=\"dataframe\">\n",
       "  <thead>\n",
       "    <tr style=\"text-align: right;\">\n",
       "      <th></th>\n",
       "      <th>id</th>\n",
       "      <th>consume</th>\n",
       "      <th>where</th>\n",
       "      <th>how</th>\n",
       "      <th>time</th>\n",
       "      <th>amount</th>\n",
       "      <th>remainder</th>\n",
       "    </tr>\n",
       "  </thead>\n",
       "  <tbody>\n",
       "    <tr>\n",
       "      <th>0</th>\n",
       "      <td>1006</td>\n",
       "      <td>POS消费</td>\n",
       "      <td>地点551</td>\n",
       "      <td>淋浴</td>\n",
       "      <td>2013/09/01 00:00:32</td>\n",
       "      <td>0.50</td>\n",
       "      <td>124.90</td>\n",
       "    </tr>\n",
       "    <tr>\n",
       "      <th>2</th>\n",
       "      <td>1968</td>\n",
       "      <td>POS消费</td>\n",
       "      <td>地点159</td>\n",
       "      <td>淋浴</td>\n",
       "      <td>2013/09/01 00:00:39</td>\n",
       "      <td>0.10</td>\n",
       "      <td>200.14</td>\n",
       "    </tr>\n",
       "    <tr>\n",
       "      <th>4</th>\n",
       "      <td>1406</td>\n",
       "      <td>POS消费</td>\n",
       "      <td>地点660</td>\n",
       "      <td>开水</td>\n",
       "      <td>2013/09/01 00:00:40</td>\n",
       "      <td>0.01</td>\n",
       "      <td>374.42</td>\n",
       "    </tr>\n",
       "    <tr>\n",
       "      <th>6</th>\n",
       "      <td>1406</td>\n",
       "      <td>POS消费</td>\n",
       "      <td>地点78</td>\n",
       "      <td>其他</td>\n",
       "      <td>2013/09/01 00:00:40</td>\n",
       "      <td>0.60</td>\n",
       "      <td>373.82</td>\n",
       "    </tr>\n",
       "    <tr>\n",
       "      <th>8</th>\n",
       "      <td>13554</td>\n",
       "      <td>POS消费</td>\n",
       "      <td>地点6</td>\n",
       "      <td>淋浴</td>\n",
       "      <td>2013/09/01 00:00:57</td>\n",
       "      <td>0.50</td>\n",
       "      <td>522.37</td>\n",
       "    </tr>\n",
       "  </tbody>\n",
       "</table>\n",
       "</div>"
      ],
      "text/plain": [
       "      id consume  where how                 time  amount  remainder\n",
       "0   1006   POS消费  地点551  淋浴  2013/09/01 00:00:32    0.50     124.90\n",
       "2   1968   POS消费  地点159  淋浴  2013/09/01 00:00:39    0.10     200.14\n",
       "4   1406   POS消费  地点660  开水  2013/09/01 00:00:40    0.01     374.42\n",
       "6   1406   POS消费   地点78  其他  2013/09/01 00:00:40    0.60     373.82\n",
       "8  13554   POS消费    地点6  淋浴  2013/09/01 00:00:57    0.50     522.37"
      ]
     },
     "execution_count": 2,
     "metadata": {},
     "output_type": "execute_result"
    }
   ],
   "source": [
    "#路径\n",
    "path='C:\\Users\\Wvv\\Datacastle_subsidy'\n",
    "\n",
    "#导入card_train数据\n",
    "card_train_name=['id','consume','where','how','time','amount','remainder']\n",
    "card_train=pd.read_table(path + '/train/card_train.txt',sep=',',header=None,names=card_train_name)\n",
    "\n",
    "#删除重复行并浏览前几行数据\n",
    "card_train=card_train.drop_duplicates()\n",
    "card_train.head()"
   ]
  },
  {
   "cell_type": "code",
   "execution_count": 10,
   "metadata": {
    "collapsed": false
   },
   "outputs": [
    {
     "data": {
      "text/html": [
       "<div>\n",
       "<table border=\"1\" class=\"dataframe\">\n",
       "  <thead>\n",
       "    <tr style=\"text-align: right;\">\n",
       "      <th></th>\n",
       "      <th>id</th>\n",
       "      <th>consume</th>\n",
       "      <th>where</th>\n",
       "      <th>how</th>\n",
       "      <th>time</th>\n",
       "      <th>amount</th>\n",
       "      <th>remainder</th>\n",
       "      <th>POS_recharge</th>\n",
       "      <th>card_recharge</th>\n",
       "      <th>load_tansfer</th>\n",
       "      <th>payment_collection</th>\n",
       "    </tr>\n",
       "  </thead>\n",
       "  <tbody>\n",
       "    <tr>\n",
       "      <th>0</th>\n",
       "      <td>1006</td>\n",
       "      <td>POS消费</td>\n",
       "      <td>地点551</td>\n",
       "      <td>淋浴</td>\n",
       "      <td>2013/09/01 00:00:32</td>\n",
       "      <td>0.50</td>\n",
       "      <td>124.90</td>\n",
       "      <td>1</td>\n",
       "      <td>0</td>\n",
       "      <td>0</td>\n",
       "      <td>0</td>\n",
       "    </tr>\n",
       "    <tr>\n",
       "      <th>2</th>\n",
       "      <td>1968</td>\n",
       "      <td>POS消费</td>\n",
       "      <td>地点159</td>\n",
       "      <td>淋浴</td>\n",
       "      <td>2013/09/01 00:00:39</td>\n",
       "      <td>0.10</td>\n",
       "      <td>200.14</td>\n",
       "      <td>1</td>\n",
       "      <td>0</td>\n",
       "      <td>0</td>\n",
       "      <td>0</td>\n",
       "    </tr>\n",
       "    <tr>\n",
       "      <th>4</th>\n",
       "      <td>1406</td>\n",
       "      <td>POS消费</td>\n",
       "      <td>地点660</td>\n",
       "      <td>开水</td>\n",
       "      <td>2013/09/01 00:00:40</td>\n",
       "      <td>0.01</td>\n",
       "      <td>374.42</td>\n",
       "      <td>1</td>\n",
       "      <td>0</td>\n",
       "      <td>0</td>\n",
       "      <td>0</td>\n",
       "    </tr>\n",
       "    <tr>\n",
       "      <th>6</th>\n",
       "      <td>1406</td>\n",
       "      <td>POS消费</td>\n",
       "      <td>地点78</td>\n",
       "      <td>其他</td>\n",
       "      <td>2013/09/01 00:00:40</td>\n",
       "      <td>0.60</td>\n",
       "      <td>373.82</td>\n",
       "      <td>1</td>\n",
       "      <td>0</td>\n",
       "      <td>0</td>\n",
       "      <td>0</td>\n",
       "    </tr>\n",
       "    <tr>\n",
       "      <th>8</th>\n",
       "      <td>13554</td>\n",
       "      <td>POS消费</td>\n",
       "      <td>地点6</td>\n",
       "      <td>淋浴</td>\n",
       "      <td>2013/09/01 00:00:57</td>\n",
       "      <td>0.50</td>\n",
       "      <td>522.37</td>\n",
       "      <td>1</td>\n",
       "      <td>0</td>\n",
       "      <td>0</td>\n",
       "      <td>0</td>\n",
       "    </tr>\n",
       "  </tbody>\n",
       "</table>\n",
       "</div>"
      ],
      "text/plain": [
       "      id consume  where how                 time  amount  remainder  \\\n",
       "0   1006   POS消费  地点551  淋浴  2013/09/01 00:00:32    0.50     124.90   \n",
       "2   1968   POS消费  地点159  淋浴  2013/09/01 00:00:39    0.10     200.14   \n",
       "4   1406   POS消费  地点660  开水  2013/09/01 00:00:40    0.01     374.42   \n",
       "6   1406   POS消费   地点78  其他  2013/09/01 00:00:40    0.60     373.82   \n",
       "8  13554   POS消费    地点6  淋浴  2013/09/01 00:00:57    0.50     522.37   \n",
       "\n",
       "   POS_recharge  card_recharge  load_tansfer  payment_collection  \n",
       "0             1              0             0                   0  \n",
       "2             1              0             0                   0  \n",
       "4             1              0             0                   0  \n",
       "6             1              0             0                   0  \n",
       "8             1              0             0                   0  "
      ]
     },
     "execution_count": 10,
     "metadata": {},
     "output_type": "execute_result"
    }
   ],
   "source": [
    "card_train.head()"
   ]
  },
  {
   "cell_type": "code",
   "execution_count": 11,
   "metadata": {
    "collapsed": false
   },
   "outputs": [
    {
     "data": {
      "text/plain": [
       "consume\n",
       "POS消费    11686938\n",
       "交易冲正           17\n",
       "卡充值        197019\n",
       "卡冻结            70\n",
       "卡挂失         11901\n",
       "卡支取             3\n",
       "卡片开户         9553\n",
       "卡片销户         7734\n",
       "卡补办          7676\n",
       "卡解冻            70\n",
       "卡解挂          4861\n",
       "圈存补帐            4\n",
       "圈存转账        74520\n",
       "换卡           3740\n",
       "支付领取        45053\n",
       "更新卡信息       10792\n",
       "车载消费           32\n",
       "锁卡流水            1\n",
       "Name: id, dtype: int64"
      ]
     },
     "execution_count": 11,
     "metadata": {},
     "output_type": "execute_result"
    }
   ],
   "source": [
    "card_train.groupby('consume')['id'].count()"
   ]
  },
  {
   "cell_type": "code",
   "execution_count": 12,
   "metadata": {
    "collapsed": false
   },
   "outputs": [
    {
     "data": {
      "text/plain": [
       "how\n",
       "其他         6227\n",
       "图书馆      276252\n",
       "开水      3593191\n",
       "教务处       24509\n",
       "文印中心      82442\n",
       "校医院        5696\n",
       "校车       904913\n",
       "洗衣房      330984\n",
       "淋浴      1243977\n",
       "超市       815946\n",
       "食堂      4396945\n",
       "Name: id, dtype: int64"
      ]
     },
     "execution_count": 12,
     "metadata": {},
     "output_type": "execute_result"
    }
   ],
   "source": [
    "card_train.groupby('how')['id'].count()"
   ]
  },
  {
   "cell_type": "code",
   "execution_count": 7,
   "metadata": {
    "collapsed": false
   },
   "outputs": [],
   "source": [
    "card_train2=pd.read_csv('input/card_train_time.csv')"
   ]
  },
  {
   "cell_type": "code",
   "execution_count": 8,
   "metadata": {
    "collapsed": false
   },
   "outputs": [
    {
     "data": {
      "text/html": [
       "<div>\n",
       "<table border=\"1\" class=\"dataframe\">\n",
       "  <thead>\n",
       "    <tr style=\"text-align: right;\">\n",
       "      <th></th>\n",
       "      <th>id</th>\n",
       "      <th>consume</th>\n",
       "      <th>where</th>\n",
       "      <th>how</th>\n",
       "      <th>time</th>\n",
       "      <th>amount</th>\n",
       "      <th>remainder</th>\n",
       "      <th>date</th>\n",
       "      <th>month</th>\n",
       "      <th>hour</th>\n",
       "      <th>weekday</th>\n",
       "    </tr>\n",
       "  </thead>\n",
       "  <tbody>\n",
       "    <tr>\n",
       "      <th>0</th>\n",
       "      <td>1006</td>\n",
       "      <td>POS消费</td>\n",
       "      <td>地点551</td>\n",
       "      <td>淋浴</td>\n",
       "      <td>2013-09-01 00:00:32</td>\n",
       "      <td>0.50</td>\n",
       "      <td>124.90</td>\n",
       "      <td>09-01-2013</td>\n",
       "      <td>9</td>\n",
       "      <td>0</td>\n",
       "      <td>Sunday</td>\n",
       "    </tr>\n",
       "    <tr>\n",
       "      <th>1</th>\n",
       "      <td>1968</td>\n",
       "      <td>POS消费</td>\n",
       "      <td>地点159</td>\n",
       "      <td>淋浴</td>\n",
       "      <td>2013-09-01 00:00:39</td>\n",
       "      <td>0.10</td>\n",
       "      <td>200.14</td>\n",
       "      <td>09-01-2013</td>\n",
       "      <td>9</td>\n",
       "      <td>0</td>\n",
       "      <td>Sunday</td>\n",
       "    </tr>\n",
       "    <tr>\n",
       "      <th>2</th>\n",
       "      <td>1406</td>\n",
       "      <td>POS消费</td>\n",
       "      <td>地点660</td>\n",
       "      <td>开水</td>\n",
       "      <td>2013-09-01 00:00:40</td>\n",
       "      <td>0.01</td>\n",
       "      <td>374.42</td>\n",
       "      <td>09-01-2013</td>\n",
       "      <td>9</td>\n",
       "      <td>0</td>\n",
       "      <td>Sunday</td>\n",
       "    </tr>\n",
       "    <tr>\n",
       "      <th>3</th>\n",
       "      <td>1406</td>\n",
       "      <td>POS消费</td>\n",
       "      <td>地点78</td>\n",
       "      <td>其他</td>\n",
       "      <td>2013-09-01 00:00:40</td>\n",
       "      <td>0.60</td>\n",
       "      <td>373.82</td>\n",
       "      <td>09-01-2013</td>\n",
       "      <td>9</td>\n",
       "      <td>0</td>\n",
       "      <td>Sunday</td>\n",
       "    </tr>\n",
       "    <tr>\n",
       "      <th>4</th>\n",
       "      <td>13554</td>\n",
       "      <td>POS消费</td>\n",
       "      <td>地点6</td>\n",
       "      <td>淋浴</td>\n",
       "      <td>2013-09-01 00:00:57</td>\n",
       "      <td>0.50</td>\n",
       "      <td>522.37</td>\n",
       "      <td>09-01-2013</td>\n",
       "      <td>9</td>\n",
       "      <td>0</td>\n",
       "      <td>Sunday</td>\n",
       "    </tr>\n",
       "  </tbody>\n",
       "</table>\n",
       "</div>"
      ],
      "text/plain": [
       "      id consume  where how                 time  amount  remainder  \\\n",
       "0   1006   POS消费  地点551  淋浴  2013-09-01 00:00:32    0.50     124.90   \n",
       "1   1968   POS消费  地点159  淋浴  2013-09-01 00:00:39    0.10     200.14   \n",
       "2   1406   POS消费  地点660  开水  2013-09-01 00:00:40    0.01     374.42   \n",
       "3   1406   POS消费   地点78  其他  2013-09-01 00:00:40    0.60     373.82   \n",
       "4  13554   POS消费    地点6  淋浴  2013-09-01 00:00:57    0.50     522.37   \n",
       "\n",
       "         date  month  hour weekday  \n",
       "0  09-01-2013      9     0  Sunday  \n",
       "1  09-01-2013      9     0  Sunday  \n",
       "2  09-01-2013      9     0  Sunday  \n",
       "3  09-01-2013      9     0  Sunday  \n",
       "4  09-01-2013      9     0  Sunday  "
      ]
     },
     "execution_count": 8,
     "metadata": {},
     "output_type": "execute_result"
    }
   ],
   "source": [
    "card_train2.head()"
   ]
  },
  {
   "cell_type": "code",
   "execution_count": 3,
   "metadata": {
    "collapsed": false
   },
   "outputs": [
    {
     "name": "stdout",
     "output_type": "stream",
     "text": [
      "<class 'pandas.core.frame.DataFrame'>\n",
      "Int64Index: 12089909 entries, 0 to 12455557\n",
      "Data columns (total 7 columns):\n",
      "id           int64\n",
      "consume      object\n",
      "where        object\n",
      "how          object\n",
      "time         object\n",
      "amount       float64\n",
      "remainder    float64\n",
      "dtypes: float64(2), int64(1), object(4)\n",
      "memory usage: 737.9+ MB\n"
     ]
    }
   ],
   "source": [
    "#表信息\n",
    "card_train.info()"
   ]
  },
  {
   "cell_type": "code",
   "execution_count": 4,
   "metadata": {
    "collapsed": true
   },
   "outputs": [],
   "source": [
    "#定义time转化函数\n",
    "\n",
    "from datetime import datetime\n",
    "def time_tansform(x):\n",
    "    return datetime.strptime(x,'%Y/%m/%d %H:%M:%S')"
   ]
  },
  {
   "cell_type": "code",
   "execution_count": 5,
   "metadata": {
    "collapsed": false
   },
   "outputs": [],
   "source": [
    "#转换字符串型的time成时间戳格式\n",
    "\n",
    "card_train['time']=card_train['time'].apply(time_tansform)"
   ]
  },
  {
   "cell_type": "code",
   "execution_count": 6,
   "metadata": {
    "collapsed": false
   },
   "outputs": [],
   "source": [
    "#时间格式转换\n",
    "\n",
    "card_train['date']=card_train['time'].apply(lambda x:x.strftime('%m-%d-%Y'))\n",
    "card_train['month']=card_train['time'].apply(lambda x:x.strftime('%m'))\n",
    "card_train['hour']=card_train['time'].apply(lambda x:x.strftime('%H'))\n",
    "card_train['weekday']=card_train['time'].apply(lambda x:x.strftime('%A'))"
   ]
  },
  {
   "cell_type": "code",
   "execution_count": 7,
   "metadata": {
    "collapsed": true
   },
   "outputs": [],
   "source": [
    "#上面数据处理花时很多，先保存处理后的结果\n",
    "\n",
    "card_train.to_csv('input/card_train_time.csv',index=False)"
   ]
  },
  {
   "cell_type": "code",
   "execution_count": 12,
   "metadata": {
    "collapsed": false
   },
   "outputs": [],
   "source": [
    "#hour\n",
    "\n",
    "#将每天分成8个时段\n",
    "\n",
    "a=['00','01']#熬夜\n",
    "b=['06','07']#早餐\n",
    "c=['08','09']#早餐\n",
    "d=['11','12','13']#午饭\n",
    "e=['17','18','19','20','21']#晚饭\n",
    "f=['22','23']#宵夜\n",
    "g=['02','03','04','05']#深夜\n",
    "#h=['10','14','15','16']#其它\n",
    "def hour_transform(hour):\n",
    "    if hour in a:\n",
    "        return 'a'\n",
    "    elif hour in b:\n",
    "        return 'b'\n",
    "    elif hour in c:\n",
    "        return 'c'\n",
    "    elif hour in d:\n",
    "        return 'd'\n",
    "    elif hour in e:\n",
    "        return 'e'\n",
    "    elif hour in f:\n",
    "        return 'f'\n",
    "    elif hour in g:\n",
    "        return 'g'\n",
    "    else:\n",
    "        return 'h'\n",
    "    \n",
    "card_train['hour']=card_train['hour'].apply(hour_transform)\n",
    "\n",
    "#对hour进行one_hot编码得到hour新表\n",
    "hour_dummies=pd.get_dummies(card_train['hour'])\n",
    "hour_dummies.columns = ['hour_00_01','hour_06_07','hour_08_09','hour_11_13','hour_17_21','hour_22_23','hour_02_05','hour_other']\n",
    "\n",
    "#连接两表\n",
    "card_train = card_train.join(hour_dummies)"
   ]
  },
  {
   "cell_type": "code",
   "execution_count": 14,
   "metadata": {
    "collapsed": true
   },
   "outputs": [],
   "source": [
    "#weekday\n",
    "\n",
    "#分为周末与非周末\n",
    "a=['Monday','Tuesday','Wednesday','Thursday','Friday']\n",
    "#b=['Saturday','Sunday']\n",
    "def week_tansform(weekday):\n",
    "    if weekday in a:\n",
    "        return 'wd'\n",
    "    else:\n",
    "        return 'vd'\n",
    "    \n",
    "card_train['weekday']=card_train['weekday'].apply(week_tansform)\n",
    "\n",
    "#对weekday进行one_hot编码得到weekday新表\n",
    "weekday_dummies = pd.get_dummies(card_train['weekday'])\n",
    "weekday_dummies.columns=['resting_day','working_day']\n",
    "card_train=card_train.join(weekday_dummies)"
   ]
  },
  {
   "cell_type": "code",
   "execution_count": 9,
   "metadata": {
    "collapsed": false
   },
   "outputs": [],
   "source": [
    "#consume\n",
    "\n",
    "#对consume进行one_hot编码得到consume新表\n",
    "consume_dummies = pd.get_dummies(card_train['consume'])\n",
    "\n",
    "#只保留使用数量多且关于消费的特称\n",
    "consume_dummies.drop(['交易冲正','卡冻结','卡挂失','卡支取','卡片开户','卡片销户','卡补办',\n",
    "                      '卡解冻','卡解挂','圈存补帐','换卡','更新卡信息','车载消费','锁卡流水'], axis=1, inplace=True)\n",
    "consume_dummies.columns = ['POS_recharge','card_recharge','load_tansfer','payment_collection']\n",
    "\n",
    "#连接表\n",
    "card_train = card_train.join(consume_dummies)"
   ]
  },
  {
   "cell_type": "code",
   "execution_count": 23,
   "metadata": {
    "collapsed": false
   },
   "outputs": [],
   "source": [
    "#how\n",
    "\n",
    "#对consume进行one_hot编码得到consume新表\n",
    "how_dummies = pd.get_dummies(card_train['how'])\n",
    "how_dummies.columns=['other','library','water','office','printting','hospital','bus','landry','shower','market','canteen']\n",
    "card_train = card_train.join(how_dummies)"
   ]
  },
  {
   "cell_type": "code",
   "execution_count": 24,
   "metadata": {
    "collapsed": false
   },
   "outputs": [
    {
     "name": "stderr",
     "output_type": "stream",
     "text": [
      "C:\\Users\\Wvv\\Anaconda3\\envs\\py2\\lib\\site-packages\\ipykernel\\__main__.py:5: FutureWarning: sort(columns=....) is deprecated, use sort_values(by=.....)\n"
     ]
    },
    {
     "data": {
      "text/html": [
       "<div>\n",
       "<table border=\"1\" class=\"dataframe\">\n",
       "  <thead>\n",
       "    <tr style=\"text-align: right;\">\n",
       "      <th></th>\n",
       "      <th>where</th>\n",
       "    </tr>\n",
       "    <tr>\n",
       "      <th>where</th>\n",
       "      <th></th>\n",
       "    </tr>\n",
       "  </thead>\n",
       "  <tbody>\n",
       "    <tr>\n",
       "      <th>地点232</th>\n",
       "      <td>377852</td>\n",
       "    </tr>\n",
       "    <tr>\n",
       "      <th>地点118</th>\n",
       "      <td>154008</td>\n",
       "    </tr>\n",
       "    <tr>\n",
       "      <th>地点83</th>\n",
       "      <td>112593</td>\n",
       "    </tr>\n",
       "    <tr>\n",
       "      <th>地点61</th>\n",
       "      <td>87774</td>\n",
       "    </tr>\n",
       "    <tr>\n",
       "      <th>地点1155</th>\n",
       "      <td>85891</td>\n",
       "    </tr>\n",
       "    <tr>\n",
       "      <th>地点217</th>\n",
       "      <td>79599</td>\n",
       "    </tr>\n",
       "    <tr>\n",
       "      <th>地点69</th>\n",
       "      <td>76509</td>\n",
       "    </tr>\n",
       "    <tr>\n",
       "      <th>地点72</th>\n",
       "      <td>73761</td>\n",
       "    </tr>\n",
       "    <tr>\n",
       "      <th>地点60</th>\n",
       "      <td>69832</td>\n",
       "    </tr>\n",
       "    <tr>\n",
       "      <th>地点841</th>\n",
       "      <td>64002</td>\n",
       "    </tr>\n",
       "  </tbody>\n",
       "</table>\n",
       "</div>"
      ],
      "text/plain": [
       "         where\n",
       "where         \n",
       "地点232   377852\n",
       "地点118   154008\n",
       "地点83    112593\n",
       "地点61     87774\n",
       "地点1155   85891\n",
       "地点217    79599\n",
       "地点69     76509\n",
       "地点72     73761\n",
       "地点60     69832\n",
       "地点841    64002"
      ]
     },
     "execution_count": 24,
     "metadata": {},
     "output_type": "execute_result"
    }
   ],
   "source": [
    "#获得前十大最受欢迎的食堂\n",
    "\n",
    "card_train_canteen=card_train.loc[card_train['canteen']==1]\n",
    "card_train_canteen=DataFrame(card_train_canteen.groupby('where')['where'].count())\n",
    "card_train_canteen=card_train_canteen.sort(['where'],ascending=False)\n",
    "card_train_canteen[:10]"
   ]
  },
  {
   "cell_type": "code",
   "execution_count": 25,
   "metadata": {
    "collapsed": false
   },
   "outputs": [
    {
     "name": "stderr",
     "output_type": "stream",
     "text": [
      "C:\\Users\\Wvv\\Anaconda3\\envs\\py2\\lib\\site-packages\\ipykernel\\__main__.py:5: FutureWarning: sort(columns=....) is deprecated, use sort_values(by=.....)\n"
     ]
    },
    {
     "data": {
      "text/html": [
       "<div>\n",
       "<table border=\"1\" class=\"dataframe\">\n",
       "  <thead>\n",
       "    <tr style=\"text-align: right;\">\n",
       "      <th></th>\n",
       "      <th>where</th>\n",
       "    </tr>\n",
       "    <tr>\n",
       "      <th>where</th>\n",
       "      <th></th>\n",
       "    </tr>\n",
       "  </thead>\n",
       "  <tbody>\n",
       "    <tr>\n",
       "      <th>地点21</th>\n",
       "      <td>2222671</td>\n",
       "    </tr>\n",
       "    <tr>\n",
       "      <th>地点91</th>\n",
       "      <td>655846</td>\n",
       "    </tr>\n",
       "    <tr>\n",
       "      <th>地点188</th>\n",
       "      <td>178516</td>\n",
       "    </tr>\n",
       "    <tr>\n",
       "      <th>地点192</th>\n",
       "      <td>169287</td>\n",
       "    </tr>\n",
       "    <tr>\n",
       "      <th>地点26</th>\n",
       "      <td>138544</td>\n",
       "    </tr>\n",
       "    <tr>\n",
       "      <th>地点996</th>\n",
       "      <td>121796</td>\n",
       "    </tr>\n",
       "    <tr>\n",
       "      <th>地点6</th>\n",
       "      <td>113786</td>\n",
       "    </tr>\n",
       "    <tr>\n",
       "      <th>地点219</th>\n",
       "      <td>101091</td>\n",
       "    </tr>\n",
       "    <tr>\n",
       "      <th>地点190</th>\n",
       "      <td>92155</td>\n",
       "    </tr>\n",
       "    <tr>\n",
       "      <th>地点248</th>\n",
       "      <td>92072</td>\n",
       "    </tr>\n",
       "  </tbody>\n",
       "</table>\n",
       "</div>"
      ],
      "text/plain": [
       "         where\n",
       "where         \n",
       "地点21   2222671\n",
       "地点91    655846\n",
       "地点188   178516\n",
       "地点192   169287\n",
       "地点26    138544\n",
       "地点996   121796\n",
       "地点6     113786\n",
       "地点219   101091\n",
       "地点190    92155\n",
       "地点248    92072"
      ]
     },
     "execution_count": 25,
     "metadata": {},
     "output_type": "execute_result"
    }
   ],
   "source": [
    "#获得前十大最受欢迎的非食堂地点\n",
    "\n",
    "card_train_where=card_train.loc[card_train['canteen']==0]\n",
    "card_train_where=DataFrame(card_train_where.groupby('where')['where'].count())\n",
    "card_train_where=card_train_where.sort(['where'],ascending=False)\n",
    "card_train_where[:10]"
   ]
  },
  {
   "cell_type": "code",
   "execution_count": 26,
   "metadata": {
    "collapsed": true
   },
   "outputs": [],
   "source": [
    "#where\n",
    "\n",
    "a=['地点232','地点118','地点83','地点61','地点1155','地点217','地点69','地点72','地点60','地点841']\n",
    "b=list(card_train_canteen.index)\n",
    "c=['地点21','地点91','地点188','地点192','地点26','地点996','地点6','地点219','地点190','地点248']\n",
    "#d=list(card_test_where.index)\n",
    "def where_tansform(where):\n",
    "    if where in a:\n",
    "        return 'a'\n",
    "    elif where not in a and where in b:\n",
    "        return 'b'\n",
    "    elif where in c:\n",
    "        return 'c'\n",
    "    else:\n",
    "        return 'd'\n",
    "    \n",
    "card_train['where']=card_train['where'].apply(where_tansform)\n",
    "\n",
    "#对where进行one_hot编码得到where新表\n",
    "\n",
    "where_dummies = pd.get_dummies(card_train['where'])\n",
    "where_dummies.columns = ['f_ten_canteen','other_canteen','f_ten_place','other_place']\n",
    "card_train = card_train.join(where_dummies)"
   ]
  },
  {
   "cell_type": "code",
   "execution_count": 30,
   "metadata": {
    "collapsed": true
   },
   "outputs": [],
   "source": [
    "#month\n",
    "\n",
    "#分为在校，寒假与暑假\n",
    "\n",
    "a=['01','02']#寒假\n",
    "b=['07','08']#暑假\n",
    "def month_transform(month):\n",
    "    if month in a:\n",
    "        return 'a'\n",
    "    elif month in b:\n",
    "        return 'b'\n",
    "    else:\n",
    "        return 'c'\n",
    "    \n",
    "card_train['month']=card_train['month'].apply(month_transform)\n",
    "\n",
    "#对month进行one_hot编码得到where新表\n",
    "\n",
    "month_dummies = pd.get_dummies(card_train['month'])\n",
    "month_dummies.columns=['winter_vacation','summer_vacation','on_school']\n",
    "card_train=card_train.join(month_dummies)"
   ]
  },
  {
   "cell_type": "code",
   "execution_count": 33,
   "metadata": {
    "collapsed": false
   },
   "outputs": [],
   "source": [
    "#删除无用的列\n",
    "\n",
    "card_train.drop(['consume','where','how','time','hour','weekday','month'],axis=1,inplace=True)"
   ]
  },
  {
   "cell_type": "code",
   "execution_count": 35,
   "metadata": {
    "collapsed": true
   },
   "outputs": [],
   "source": [
    "#导出数据\n",
    "\n",
    "card_train.to_csv('input/card_train.csv',index=False)"
   ]
  },
  {
   "cell_type": "code",
   "execution_count": 34,
   "metadata": {
    "collapsed": false
   },
   "outputs": [
    {
     "data": {
      "text/html": [
       "<div>\n",
       "<table border=\"1\" class=\"dataframe\">\n",
       "  <thead>\n",
       "    <tr style=\"text-align: right;\">\n",
       "      <th></th>\n",
       "      <th>id</th>\n",
       "      <th>amount</th>\n",
       "      <th>remainder</th>\n",
       "      <th>date</th>\n",
       "      <th>hour_00_01</th>\n",
       "      <th>hour_06_07</th>\n",
       "      <th>hour_08_09</th>\n",
       "      <th>hour_11_13</th>\n",
       "      <th>hour_17_21</th>\n",
       "      <th>hour_22_23</th>\n",
       "      <th>...</th>\n",
       "      <th>shower</th>\n",
       "      <th>market</th>\n",
       "      <th>canteen</th>\n",
       "      <th>f_ten_canteen</th>\n",
       "      <th>other_canteen</th>\n",
       "      <th>f_ten_place</th>\n",
       "      <th>other_place</th>\n",
       "      <th>winter_vacation</th>\n",
       "      <th>summer_vacation</th>\n",
       "      <th>on_school</th>\n",
       "    </tr>\n",
       "  </thead>\n",
       "  <tbody>\n",
       "    <tr>\n",
       "      <th>0</th>\n",
       "      <td>1006</td>\n",
       "      <td>0.50</td>\n",
       "      <td>124.90</td>\n",
       "      <td>09-01-2013</td>\n",
       "      <td>1</td>\n",
       "      <td>0</td>\n",
       "      <td>0</td>\n",
       "      <td>0</td>\n",
       "      <td>0</td>\n",
       "      <td>0</td>\n",
       "      <td>...</td>\n",
       "      <td>1</td>\n",
       "      <td>0</td>\n",
       "      <td>0</td>\n",
       "      <td>0</td>\n",
       "      <td>0</td>\n",
       "      <td>0</td>\n",
       "      <td>1</td>\n",
       "      <td>0</td>\n",
       "      <td>0</td>\n",
       "      <td>1</td>\n",
       "    </tr>\n",
       "    <tr>\n",
       "      <th>2</th>\n",
       "      <td>1968</td>\n",
       "      <td>0.10</td>\n",
       "      <td>200.14</td>\n",
       "      <td>09-01-2013</td>\n",
       "      <td>1</td>\n",
       "      <td>0</td>\n",
       "      <td>0</td>\n",
       "      <td>0</td>\n",
       "      <td>0</td>\n",
       "      <td>0</td>\n",
       "      <td>...</td>\n",
       "      <td>1</td>\n",
       "      <td>0</td>\n",
       "      <td>0</td>\n",
       "      <td>0</td>\n",
       "      <td>0</td>\n",
       "      <td>0</td>\n",
       "      <td>1</td>\n",
       "      <td>0</td>\n",
       "      <td>0</td>\n",
       "      <td>1</td>\n",
       "    </tr>\n",
       "    <tr>\n",
       "      <th>4</th>\n",
       "      <td>1406</td>\n",
       "      <td>0.01</td>\n",
       "      <td>374.42</td>\n",
       "      <td>09-01-2013</td>\n",
       "      <td>1</td>\n",
       "      <td>0</td>\n",
       "      <td>0</td>\n",
       "      <td>0</td>\n",
       "      <td>0</td>\n",
       "      <td>0</td>\n",
       "      <td>...</td>\n",
       "      <td>0</td>\n",
       "      <td>0</td>\n",
       "      <td>0</td>\n",
       "      <td>0</td>\n",
       "      <td>0</td>\n",
       "      <td>0</td>\n",
       "      <td>1</td>\n",
       "      <td>0</td>\n",
       "      <td>0</td>\n",
       "      <td>1</td>\n",
       "    </tr>\n",
       "    <tr>\n",
       "      <th>6</th>\n",
       "      <td>1406</td>\n",
       "      <td>0.60</td>\n",
       "      <td>373.82</td>\n",
       "      <td>09-01-2013</td>\n",
       "      <td>1</td>\n",
       "      <td>0</td>\n",
       "      <td>0</td>\n",
       "      <td>0</td>\n",
       "      <td>0</td>\n",
       "      <td>0</td>\n",
       "      <td>...</td>\n",
       "      <td>0</td>\n",
       "      <td>0</td>\n",
       "      <td>0</td>\n",
       "      <td>0</td>\n",
       "      <td>0</td>\n",
       "      <td>0</td>\n",
       "      <td>1</td>\n",
       "      <td>0</td>\n",
       "      <td>0</td>\n",
       "      <td>1</td>\n",
       "    </tr>\n",
       "    <tr>\n",
       "      <th>8</th>\n",
       "      <td>13554</td>\n",
       "      <td>0.50</td>\n",
       "      <td>522.37</td>\n",
       "      <td>09-01-2013</td>\n",
       "      <td>1</td>\n",
       "      <td>0</td>\n",
       "      <td>0</td>\n",
       "      <td>0</td>\n",
       "      <td>0</td>\n",
       "      <td>0</td>\n",
       "      <td>...</td>\n",
       "      <td>1</td>\n",
       "      <td>0</td>\n",
       "      <td>0</td>\n",
       "      <td>0</td>\n",
       "      <td>0</td>\n",
       "      <td>1</td>\n",
       "      <td>0</td>\n",
       "      <td>0</td>\n",
       "      <td>0</td>\n",
       "      <td>1</td>\n",
       "    </tr>\n",
       "  </tbody>\n",
       "</table>\n",
       "<p>5 rows × 36 columns</p>\n",
       "</div>"
      ],
      "text/plain": [
       "      id  amount  remainder        date  hour_00_01  hour_06_07  hour_08_09  \\\n",
       "0   1006    0.50     124.90  09-01-2013           1           0           0   \n",
       "2   1968    0.10     200.14  09-01-2013           1           0           0   \n",
       "4   1406    0.01     374.42  09-01-2013           1           0           0   \n",
       "6   1406    0.60     373.82  09-01-2013           1           0           0   \n",
       "8  13554    0.50     522.37  09-01-2013           1           0           0   \n",
       "\n",
       "   hour_11_13  hour_17_21  hour_22_23    ...      shower  market  canteen  \\\n",
       "0           0           0           0    ...           1       0        0   \n",
       "2           0           0           0    ...           1       0        0   \n",
       "4           0           0           0    ...           0       0        0   \n",
       "6           0           0           0    ...           0       0        0   \n",
       "8           0           0           0    ...           1       0        0   \n",
       "\n",
       "   f_ten_canteen  other_canteen  f_ten_place  other_place  winter_vacation  \\\n",
       "0              0              0            0            1                0   \n",
       "2              0              0            0            1                0   \n",
       "4              0              0            0            1                0   \n",
       "6              0              0            0            1                0   \n",
       "8              0              0            1            0                0   \n",
       "\n",
       "   summer_vacation  on_school  \n",
       "0                0          1  \n",
       "2                0          1  \n",
       "4                0          1  \n",
       "6                0          1  \n",
       "8                0          1  \n",
       "\n",
       "[5 rows x 36 columns]"
      ]
     },
     "execution_count": 34,
     "metadata": {},
     "output_type": "execute_result"
    }
   ],
   "source": [
    "card_train.head()"
   ]
  },
  {
   "cell_type": "code",
   "execution_count": null,
   "metadata": {
    "collapsed": true
   },
   "outputs": [],
   "source": []
  }
 ],
 "metadata": {
  "anaconda-cloud": {},
  "kernelspec": {
   "display_name": "Python [py2]",
   "language": "python",
   "name": "Python [py2]"
  },
  "language_info": {
   "codemirror_mode": {
    "name": "ipython",
    "version": 2
   },
   "file_extension": ".py",
   "mimetype": "text/x-python",
   "name": "python",
   "nbconvert_exporter": "python",
   "pygments_lexer": "ipython2",
   "version": "2.7.12"
  }
 },
 "nbformat": 4,
 "nbformat_minor": 0
}
