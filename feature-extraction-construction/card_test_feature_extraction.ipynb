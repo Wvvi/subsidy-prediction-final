{
 "cells": [
  {
   "cell_type": "code",
   "execution_count": 1,
   "metadata": {
    "collapsed": true
   },
   "outputs": [],
   "source": [
    "#Import\n",
    "\n",
    "#pandas\n",
    "import pandas as pd\n",
    "from pandas import Series,DataFrame\n",
    "\n",
    "#numpy\n",
    "import numpy as np"
   ]
  },
  {
   "cell_type": "code",
   "execution_count": 3,
   "metadata": {
    "collapsed": false
   },
   "outputs": [
    {
     "data": {
      "text/html": [
       "<div>\n",
       "<table border=\"1\" class=\"dataframe\">\n",
       "  <thead>\n",
       "    <tr style=\"text-align: right;\">\n",
       "      <th></th>\n",
       "      <th>id</th>\n",
       "      <th>consume</th>\n",
       "      <th>where</th>\n",
       "      <th>how</th>\n",
       "      <th>time</th>\n",
       "      <th>amount</th>\n",
       "      <th>remainder</th>\n",
       "    </tr>\n",
       "  </thead>\n",
       "  <tbody>\n",
       "    <tr>\n",
       "      <th>0</th>\n",
       "      <td>18021</td>\n",
       "      <td>POS消费</td>\n",
       "      <td>地点1</td>\n",
       "      <td>洗衣房</td>\n",
       "      <td>2013/09/01 00:00:16</td>\n",
       "      <td>1.20</td>\n",
       "      <td>284.68</td>\n",
       "    </tr>\n",
       "    <tr>\n",
       "      <th>2</th>\n",
       "      <td>9127</td>\n",
       "      <td>POS消费</td>\n",
       "      <td>地点2</td>\n",
       "      <td>淋浴</td>\n",
       "      <td>2013/09/01 00:00:48</td>\n",
       "      <td>0.90</td>\n",
       "      <td>117.05</td>\n",
       "    </tr>\n",
       "    <tr>\n",
       "      <th>4</th>\n",
       "      <td>10104</td>\n",
       "      <td>POS消费</td>\n",
       "      <td>地点3</td>\n",
       "      <td>淋浴</td>\n",
       "      <td>2013/09/01 00:01:59</td>\n",
       "      <td>0.50</td>\n",
       "      <td>403.61</td>\n",
       "    </tr>\n",
       "    <tr>\n",
       "      <th>6</th>\n",
       "      <td>16570</td>\n",
       "      <td>POS消费</td>\n",
       "      <td>地点4</td>\n",
       "      <td>淋浴</td>\n",
       "      <td>2013/09/01 00:02:06</td>\n",
       "      <td>0.70</td>\n",
       "      <td>120.27</td>\n",
       "    </tr>\n",
       "    <tr>\n",
       "      <th>8</th>\n",
       "      <td>18608</td>\n",
       "      <td>POS消费</td>\n",
       "      <td>地点5</td>\n",
       "      <td>开水</td>\n",
       "      <td>2013/09/01 00:02:47</td>\n",
       "      <td>0.01</td>\n",
       "      <td>4.41</td>\n",
       "    </tr>\n",
       "  </tbody>\n",
       "</table>\n",
       "</div>"
      ],
      "text/plain": [
       "      id consume where  how                 time  amount  remainder\n",
       "0  18021   POS消费   地点1  洗衣房  2013/09/01 00:00:16    1.20     284.68\n",
       "2   9127   POS消费   地点2   淋浴  2013/09/01 00:00:48    0.90     117.05\n",
       "4  10104   POS消费   地点3   淋浴  2013/09/01 00:01:59    0.50     403.61\n",
       "6  16570   POS消费   地点4   淋浴  2013/09/01 00:02:06    0.70     120.27\n",
       "8  18608   POS消费   地点5   开水  2013/09/01 00:02:47    0.01       4.41"
      ]
     },
     "execution_count": 3,
     "metadata": {},
     "output_type": "execute_result"
    }
   ],
   "source": [
    "#路径\n",
    "path='C:\\Users\\Wvv\\Datacastle_subsidy'\n",
    "\n",
    "#导入card_test数据(数据集1，导入1就不导入2)\n",
    "card_test_name=['id','consume','where','how','time','amount','remainder']\n",
    "card_test=pd.read_table(path + '/final_test/card_final_test.txt',sep=',',header=None,names=card_test_name)\n",
    "\n",
    "#删除重复行并浏览前几行数据\n",
    "card_test=card_test.drop_duplicates()\n",
    "card_test.head()"
   ]
  },
  {
   "cell_type": "code",
   "execution_count": 2,
   "metadata": {
    "collapsed": false
   },
   "outputs": [
    {
     "data": {
      "text/html": [
       "<div>\n",
       "<table border=\"1\" class=\"dataframe\">\n",
       "  <thead>\n",
       "    <tr style=\"text-align: right;\">\n",
       "      <th></th>\n",
       "      <th>id</th>\n",
       "      <th>consume</th>\n",
       "      <th>where</th>\n",
       "      <th>how</th>\n",
       "      <th>time</th>\n",
       "      <th>amount</th>\n",
       "      <th>remainder</th>\n",
       "    </tr>\n",
       "  </thead>\n",
       "  <tbody>\n",
       "    <tr>\n",
       "      <th>0</th>\n",
       "      <td>16894</td>\n",
       "      <td>POS消费</td>\n",
       "      <td>地点326</td>\n",
       "      <td>洗衣房</td>\n",
       "      <td>2013/09/01 00:00:18</td>\n",
       "      <td>0.10</td>\n",
       "      <td>432.76</td>\n",
       "    </tr>\n",
       "    <tr>\n",
       "      <th>2</th>\n",
       "      <td>10124</td>\n",
       "      <td>POS消费</td>\n",
       "      <td>地点102</td>\n",
       "      <td>淋浴</td>\n",
       "      <td>2013/09/01 00:00:18</td>\n",
       "      <td>0.60</td>\n",
       "      <td>113.26</td>\n",
       "    </tr>\n",
       "    <tr>\n",
       "      <th>4</th>\n",
       "      <td>5016</td>\n",
       "      <td>POS消费</td>\n",
       "      <td>地点36</td>\n",
       "      <td>开水</td>\n",
       "      <td>2013/09/01 00:00:19</td>\n",
       "      <td>0.01</td>\n",
       "      <td>134.37</td>\n",
       "    </tr>\n",
       "    <tr>\n",
       "      <th>6</th>\n",
       "      <td>776</td>\n",
       "      <td>POS消费</td>\n",
       "      <td>地点37</td>\n",
       "      <td>淋浴</td>\n",
       "      <td>2013/09/01 00:00:21</td>\n",
       "      <td>1.10</td>\n",
       "      <td>61.40</td>\n",
       "    </tr>\n",
       "    <tr>\n",
       "      <th>8</th>\n",
       "      <td>13112</td>\n",
       "      <td>POS消费</td>\n",
       "      <td>地点6</td>\n",
       "      <td>淋浴</td>\n",
       "      <td>2013/09/01 00:00:51</td>\n",
       "      <td>0.90</td>\n",
       "      <td>231.40</td>\n",
       "    </tr>\n",
       "  </tbody>\n",
       "</table>\n",
       "</div>"
      ],
      "text/plain": [
       "      id consume  where  how                 time  amount  remainder\n",
       "0  16894   POS消费  地点326  洗衣房  2013/09/01 00:00:18    0.10     432.76\n",
       "2  10124   POS消费  地点102   淋浴  2013/09/01 00:00:18    0.60     113.26\n",
       "4   5016   POS消费   地点36   开水  2013/09/01 00:00:19    0.01     134.37\n",
       "6    776   POS消费   地点37   淋浴  2013/09/01 00:00:21    1.10      61.40\n",
       "8  13112   POS消费    地点6   淋浴  2013/09/01 00:00:51    0.90     231.40"
      ]
     },
     "execution_count": 2,
     "metadata": {},
     "output_type": "execute_result"
    }
   ],
   "source": [
    "#路径\n",
    "path='C:\\Users\\Wvv\\Datacastle_subsidy'\n",
    "\n",
    "#导入card_test数据（数据集2）\n",
    "card_test_name=['id','consume','where','how','time','amount','remainder']\n",
    "card_test=pd.read_table(path + '/test/card_test.txt',sep=',',header=None,names=card_test_name)\n",
    "\n",
    "#删除重复行并浏览前几行数据\n",
    "card_test=card_test.drop_duplicates()\n",
    "card_test.head()"
   ]
  },
  {
   "cell_type": "code",
   "execution_count": 3,
   "metadata": {
    "collapsed": false
   },
   "outputs": [
    {
     "name": "stdout",
     "output_type": "stream",
     "text": [
      "<class 'pandas.core.frame.DataFrame'>\n",
      "Int64Index: 12029766 entries, 0 to 12392843\n",
      "Data columns (total 7 columns):\n",
      "id           int64\n",
      "consume      object\n",
      "where        object\n",
      "how          object\n",
      "time         object\n",
      "amount       float64\n",
      "remainder    float64\n",
      "dtypes: float64(2), int64(1), object(4)\n",
      "memory usage: 734.2+ MB\n"
     ]
    }
   ],
   "source": [
    "#表信息\n",
    "\n",
    "card_test.info()"
   ]
  },
  {
   "cell_type": "code",
   "execution_count": 4,
   "metadata": {
    "collapsed": true
   },
   "outputs": [],
   "source": [
    "#定义time转化函数\n",
    "\n",
    "from datetime import datetime\n",
    "def time_transform(x):\n",
    "    return datetime.strptime(x,'%Y/%m/%d %H:%M:%S')"
   ]
  },
  {
   "cell_type": "code",
   "execution_count": 5,
   "metadata": {
    "collapsed": false
   },
   "outputs": [],
   "source": [
    "#转换字符串型的time成时间戳格式\n",
    "\n",
    "card_test['time']=card_test['time'].apply(time_transform)"
   ]
  },
  {
   "cell_type": "code",
   "execution_count": 6,
   "metadata": {
    "collapsed": true
   },
   "outputs": [],
   "source": [
    "#时间格式转换\n",
    "\n",
    "card_test['date']=card_test['time'].apply(lambda x:x.strftime('%m-%d-%Y'))\n",
    "card_test['year']=card_test['time'].apply(lambda x:x.strftime('%Y'))\n",
    "card_test['month']=card_test['time'].apply(lambda x:x.strftime('%m'))\n",
    "card_test['hour']=card_test['time'].apply(lambda x:x.strftime('%H'))\n",
    "card_test['weekday']=card_test['time'].apply(lambda x:x.strftime('%A'))"
   ]
  },
  {
   "cell_type": "code",
   "execution_count": 10,
   "metadata": {
    "collapsed": true
   },
   "outputs": [],
   "source": [
    "#上面数据处理花时很多，先保存处理后的结果\n",
    "\n",
    "card_test.to_csv('input/card_test_time.csv',index=False)"
   ]
  },
  {
   "cell_type": "code",
   "execution_count": 7,
   "metadata": {
    "collapsed": true
   },
   "outputs": [],
   "source": [
    "#上面数据处理花时很多，先保存处理后的结果\n",
    "\n",
    "card_test.to_csv('input/card_test_time_2.csv',index=False)"
   ]
  },
  {
   "cell_type": "code",
   "execution_count": 8,
   "metadata": {
    "collapsed": false
   },
   "outputs": [],
   "source": [
    "#hour\n",
    "\n",
    "#将每天分成8个时段\n",
    "\n",
    "a=['00','01']#熬夜\n",
    "b=['06','07']#早餐\n",
    "c=['08','09']#早餐\n",
    "d=['11','12','13']#午饭\n",
    "e=['17','18','19','20','21']#晚饭\n",
    "f=['22','23']#宵夜\n",
    "g=['02','03','04','05']#深夜\n",
    "#h=['10','14','15','16']#其它\n",
    "def hour_transform(hour):\n",
    "    if hour in a:\n",
    "        return 'a'\n",
    "    elif hour in b:\n",
    "        return 'b'\n",
    "    elif hour in c:\n",
    "        return 'c'\n",
    "    elif hour in d:\n",
    "        return 'd'\n",
    "    elif hour in e:\n",
    "        return 'e'\n",
    "    elif hour in f:\n",
    "        return 'f'\n",
    "    elif hour in g:\n",
    "        return 'g'\n",
    "    else:\n",
    "        return 'h'\n",
    "    \n",
    "card_test['hour']=card_test['hour'].apply(hour_transform)\n",
    "\n",
    "#对hour进行one_hot编码得到hour新表\n",
    "hour_dummies=pd.get_dummies(card_test['hour'])\n",
    "hour_dummies.columns = ['hour_00_01','hour_06_07','hour_08_09','hour_11_13','hour_17_21','hour_22_23','hour_02_05','hour_other']\n",
    "\n",
    "#连接两表\n",
    "card_test = card_test.join(hour_dummies)"
   ]
  },
  {
   "cell_type": "code",
   "execution_count": 9,
   "metadata": {
    "collapsed": true
   },
   "outputs": [],
   "source": [
    "#weekday\n",
    "\n",
    "#分为周末与非周末\n",
    "a=['Monday','Tuesday','Wednesday','Thursday','Friday']\n",
    "#b=['Saturday','Sunday']\n",
    "def week_transform(weekday):\n",
    "    if weekday in a:\n",
    "        return 'wd'\n",
    "    else:\n",
    "        return 'vd'\n",
    "    \n",
    "card_test['weekday']=card_test['weekday'].apply(week_transform)\n",
    "\n",
    "#对weekday进行one_hot编码得到weekday新表\n",
    "\n",
    "weekday_dummies = pd.get_dummies(card_test['weekday'])\n",
    "weekday_dummies.columns=['resting_day','working_day']\n",
    "card_test=card_test.join(weekday_dummies)"
   ]
  },
  {
   "cell_type": "code",
   "execution_count": 10,
   "metadata": {
    "collapsed": true
   },
   "outputs": [],
   "source": [
    "#month\n",
    "\n",
    "#分为在校，寒假与暑假\n",
    "\n",
    "a=['01','02']#寒假\n",
    "b=['07','08']#暑假\n",
    "def month_transform(month):\n",
    "    if month in a:\n",
    "        return 'a'\n",
    "    elif month in b:\n",
    "        return 'b'\n",
    "    else:\n",
    "        return 'c'\n",
    "    \n",
    "card_test['month']=card_test['month'].apply(month_transform)\n",
    "\n",
    "#对month进行one_hot编码得到where新表\n",
    "\n",
    "month_dummies = pd.get_dummies(card_test['month'])\n",
    "month_dummies.columns=['winter_vacation','summer_vacation','on_school']\n",
    "card_test=card_test.join(month_dummies)"
   ]
  },
  {
   "cell_type": "code",
   "execution_count": 12,
   "metadata": {
    "collapsed": false
   },
   "outputs": [
    {
     "data": {
      "text/plain": [
       "consume\n",
       "POS充值           2\n",
       "POS消费    11624621\n",
       "交易冲正           25\n",
       "卡充值        198982\n",
       "卡冻结            56\n",
       "卡挂失         11969\n",
       "卡支取             2\n",
       "卡片开户         9613\n",
       "卡片销户         7764\n",
       "卡补办          7770\n",
       "卡解冻            56\n",
       "卡解挂          4713\n",
       "圈存补帐           10\n",
       "圈存转账        74890\n",
       "换卡           3741\n",
       "支付领取        44769\n",
       "更新卡信息       10998\n",
       "车载消费           23\n",
       "锁卡流水            1\n",
       "Name: id, dtype: int64"
      ]
     },
     "execution_count": 12,
     "metadata": {},
     "output_type": "execute_result"
    }
   ],
   "source": [
    "consume=card_test.groupby('consume')['id'].count()\n",
    "consume"
   ]
  },
  {
   "cell_type": "code",
   "execution_count": 13,
   "metadata": {
    "collapsed": false
   },
   "outputs": [],
   "source": [
    "#consume\n",
    "\n",
    "#对consume进行one_hot编码得到consume新表\n",
    "consume_dummies = pd.get_dummies(card_test['consume'])\n",
    "\n",
    "#只保留使用数量多且关于消费的特称\n",
    "consume_dummies.drop(['POS充值','交易冲正','卡冻结','卡挂失','卡支取','卡片开户','卡片销户','卡补办'\n",
    "                      ,'卡解冻','卡解挂','圈存补帐','换卡','更新卡信息','车载消费','锁卡流水'], axis=1, inplace=True)\n",
    "consume_dummies.columns = ['POS_recharge','card_recharge','load_tansfer','payment_collection']\n",
    "\n",
    "#连接表\n",
    "card_test = card_test.join(consume_dummies)"
   ]
  },
  {
   "cell_type": "code",
   "execution_count": 14,
   "metadata": {
    "collapsed": false
   },
   "outputs": [],
   "source": [
    "#how\n",
    "\n",
    "#对consume进行one_hot编码得到consume新表\n",
    "\n",
    "how_dummies = pd.get_dummies(card_test['how'])\n",
    "how_dummies.columns=['other','library','water','office','printting','hospital','bus','landry','shower','market','canteen']\n",
    "card_test = card_test.join(how_dummies)"
   ]
  },
  {
   "cell_type": "code",
   "execution_count": 15,
   "metadata": {
    "collapsed": false
   },
   "outputs": [
    {
     "name": "stderr",
     "output_type": "stream",
     "text": [
      "C:\\Users\\Wvv\\Anaconda3\\envs\\py2\\lib\\site-packages\\ipykernel\\__main__.py:5: FutureWarning: sort(columns=....) is deprecated, use sort_values(by=.....)\n"
     ]
    },
    {
     "data": {
      "text/html": [
       "<div>\n",
       "<table border=\"1\" class=\"dataframe\">\n",
       "  <thead>\n",
       "    <tr style=\"text-align: right;\">\n",
       "      <th></th>\n",
       "      <th>where</th>\n",
       "    </tr>\n",
       "    <tr>\n",
       "      <th>where</th>\n",
       "      <th></th>\n",
       "    </tr>\n",
       "  </thead>\n",
       "  <tbody>\n",
       "    <tr>\n",
       "      <th>地点232</th>\n",
       "      <td>377715</td>\n",
       "    </tr>\n",
       "    <tr>\n",
       "      <th>地点118</th>\n",
       "      <td>146937</td>\n",
       "    </tr>\n",
       "    <tr>\n",
       "      <th>地点83</th>\n",
       "      <td>113861</td>\n",
       "    </tr>\n",
       "    <tr>\n",
       "      <th>地点61</th>\n",
       "      <td>89094</td>\n",
       "    </tr>\n",
       "    <tr>\n",
       "      <th>地点1155</th>\n",
       "      <td>81623</td>\n",
       "    </tr>\n",
       "    <tr>\n",
       "      <th>地点217</th>\n",
       "      <td>75674</td>\n",
       "    </tr>\n",
       "    <tr>\n",
       "      <th>地点72</th>\n",
       "      <td>74417</td>\n",
       "    </tr>\n",
       "    <tr>\n",
       "      <th>地点69</th>\n",
       "      <td>74111</td>\n",
       "    </tr>\n",
       "    <tr>\n",
       "      <th>地点60</th>\n",
       "      <td>70623</td>\n",
       "    </tr>\n",
       "    <tr>\n",
       "      <th>地点841</th>\n",
       "      <td>67153</td>\n",
       "    </tr>\n",
       "  </tbody>\n",
       "</table>\n",
       "</div>"
      ],
      "text/plain": [
       "         where\n",
       "where         \n",
       "地点232   377715\n",
       "地点118   146937\n",
       "地点83    113861\n",
       "地点61     89094\n",
       "地点1155   81623\n",
       "地点217    75674\n",
       "地点72     74417\n",
       "地点69     74111\n",
       "地点60     70623\n",
       "地点841    67153"
      ]
     },
     "execution_count": 15,
     "metadata": {},
     "output_type": "execute_result"
    }
   ],
   "source": [
    "#获得前十大最受欢迎的食堂以及所有食堂列表\n",
    "\n",
    "card_test_canteen=card_test.loc[card_test['canteen']==1]\n",
    "card_test_canteen=DataFrame(card_test_canteen.groupby('where')['where'].count())\n",
    "card_test_canteen=card_test_canteen.sort(['where'],ascending=False)\n",
    "card_test_canteen[:10]\n",
    "#card_test_canteen.index"
   ]
  },
  {
   "cell_type": "code",
   "execution_count": 16,
   "metadata": {
    "collapsed": false
   },
   "outputs": [
    {
     "name": "stderr",
     "output_type": "stream",
     "text": [
      "C:\\Users\\Wvv\\Anaconda3\\envs\\py2\\lib\\site-packages\\ipykernel\\__main__.py:5: FutureWarning: sort(columns=....) is deprecated, use sort_values(by=.....)\n"
     ]
    },
    {
     "data": {
      "text/html": [
       "<div>\n",
       "<table border=\"1\" class=\"dataframe\">\n",
       "  <thead>\n",
       "    <tr style=\"text-align: right;\">\n",
       "      <th></th>\n",
       "      <th>where</th>\n",
       "    </tr>\n",
       "    <tr>\n",
       "      <th>where</th>\n",
       "      <th></th>\n",
       "    </tr>\n",
       "  </thead>\n",
       "  <tbody>\n",
       "    <tr>\n",
       "      <th>地点21</th>\n",
       "      <td>2190728</td>\n",
       "    </tr>\n",
       "    <tr>\n",
       "      <th>地点91</th>\n",
       "      <td>649240</td>\n",
       "    </tr>\n",
       "    <tr>\n",
       "      <th>地点188</th>\n",
       "      <td>183191</td>\n",
       "    </tr>\n",
       "    <tr>\n",
       "      <th>地点192</th>\n",
       "      <td>174941</td>\n",
       "    </tr>\n",
       "    <tr>\n",
       "      <th>地点26</th>\n",
       "      <td>139541</td>\n",
       "    </tr>\n",
       "    <tr>\n",
       "      <th>地点996</th>\n",
       "      <td>127612</td>\n",
       "    </tr>\n",
       "    <tr>\n",
       "      <th>地点6</th>\n",
       "      <td>113399</td>\n",
       "    </tr>\n",
       "    <tr>\n",
       "      <th>地点219</th>\n",
       "      <td>101279</td>\n",
       "    </tr>\n",
       "    <tr>\n",
       "      <th>地点248</th>\n",
       "      <td>86821</td>\n",
       "    </tr>\n",
       "    <tr>\n",
       "      <th>地点190</th>\n",
       "      <td>86802</td>\n",
       "    </tr>\n",
       "  </tbody>\n",
       "</table>\n",
       "</div>"
      ],
      "text/plain": [
       "         where\n",
       "where         \n",
       "地点21   2190728\n",
       "地点91    649240\n",
       "地点188   183191\n",
       "地点192   174941\n",
       "地点26    139541\n",
       "地点996   127612\n",
       "地点6     113399\n",
       "地点219   101279\n",
       "地点248    86821\n",
       "地点190    86802"
      ]
     },
     "execution_count": 16,
     "metadata": {},
     "output_type": "execute_result"
    }
   ],
   "source": [
    "#获得前十大最受欢迎的非食堂地点及列表\n",
    "\n",
    "card_test_where=card_test.loc[card_test['canteen']==0]\n",
    "card_test_where=DataFrame(card_test_where.groupby('where')['where'].count())\n",
    "card_test_where=card_test_where.sort(['where'],ascending=False)\n",
    "card_test_where[:10]\n",
    "#card_test_where.index"
   ]
  },
  {
   "cell_type": "code",
   "execution_count": 17,
   "metadata": {
    "collapsed": true
   },
   "outputs": [],
   "source": [
    "#where\n",
    "\n",
    "a=['地点232','地点118','地点83','地点61','地点1155','地点217','地点69','地点72','地点60','地点841']\n",
    "b=list(card_test_canteen.index)\n",
    "c=['地点21','地点91','地点188','地点192','地点26','地点996','地点6','地点219','地点190','地点248']\n",
    "#d=list(card_test_where.index)\n",
    "def where_tansform(where):\n",
    "    if where in a:\n",
    "        return 'a'\n",
    "    elif where not in a and where in b:\n",
    "        return 'b'\n",
    "    elif where in c:\n",
    "        return 'c'\n",
    "    else:\n",
    "        return 'd'\n",
    "    \n",
    "card_test['where']=card_test['where'].apply(where_tansform)\n",
    "\n",
    "#对where进行one_hot编码得到where新表\n",
    "\n",
    "where_dummies = pd.get_dummies(card_test['where'])\n",
    "where_dummies.columns = ['f_ten_canteen','other_canteen','f_ten_place','other_place']\n",
    "card_test = card_test.join(where_dummies)"
   ]
  },
  {
   "cell_type": "code",
   "execution_count": 18,
   "metadata": {
    "collapsed": false
   },
   "outputs": [
    {
     "data": {
      "text/html": [
       "<div>\n",
       "<table border=\"1\" class=\"dataframe\">\n",
       "  <thead>\n",
       "    <tr style=\"text-align: right;\">\n",
       "      <th></th>\n",
       "      <th>id</th>\n",
       "      <th>consume</th>\n",
       "      <th>where</th>\n",
       "      <th>how</th>\n",
       "      <th>time</th>\n",
       "      <th>amount</th>\n",
       "      <th>remainder</th>\n",
       "      <th>date</th>\n",
       "      <th>year</th>\n",
       "      <th>month</th>\n",
       "      <th>...</th>\n",
       "      <th>hospital</th>\n",
       "      <th>bus</th>\n",
       "      <th>landry</th>\n",
       "      <th>shower</th>\n",
       "      <th>market</th>\n",
       "      <th>canteen</th>\n",
       "      <th>f_ten_canteen</th>\n",
       "      <th>other_canteen</th>\n",
       "      <th>f_ten_place</th>\n",
       "      <th>other_place</th>\n",
       "    </tr>\n",
       "  </thead>\n",
       "  <tbody>\n",
       "    <tr>\n",
       "      <th>0</th>\n",
       "      <td>16894</td>\n",
       "      <td>POS消费</td>\n",
       "      <td>d</td>\n",
       "      <td>洗衣房</td>\n",
       "      <td>2013-09-01 00:00:18</td>\n",
       "      <td>0.10</td>\n",
       "      <td>432.76</td>\n",
       "      <td>09-01-2013</td>\n",
       "      <td>2013</td>\n",
       "      <td>c</td>\n",
       "      <td>...</td>\n",
       "      <td>0</td>\n",
       "      <td>0</td>\n",
       "      <td>1</td>\n",
       "      <td>0</td>\n",
       "      <td>0</td>\n",
       "      <td>0</td>\n",
       "      <td>0</td>\n",
       "      <td>0</td>\n",
       "      <td>0</td>\n",
       "      <td>1</td>\n",
       "    </tr>\n",
       "    <tr>\n",
       "      <th>2</th>\n",
       "      <td>10124</td>\n",
       "      <td>POS消费</td>\n",
       "      <td>d</td>\n",
       "      <td>淋浴</td>\n",
       "      <td>2013-09-01 00:00:18</td>\n",
       "      <td>0.60</td>\n",
       "      <td>113.26</td>\n",
       "      <td>09-01-2013</td>\n",
       "      <td>2013</td>\n",
       "      <td>c</td>\n",
       "      <td>...</td>\n",
       "      <td>0</td>\n",
       "      <td>0</td>\n",
       "      <td>0</td>\n",
       "      <td>1</td>\n",
       "      <td>0</td>\n",
       "      <td>0</td>\n",
       "      <td>0</td>\n",
       "      <td>0</td>\n",
       "      <td>0</td>\n",
       "      <td>1</td>\n",
       "    </tr>\n",
       "    <tr>\n",
       "      <th>4</th>\n",
       "      <td>5016</td>\n",
       "      <td>POS消费</td>\n",
       "      <td>d</td>\n",
       "      <td>开水</td>\n",
       "      <td>2013-09-01 00:00:19</td>\n",
       "      <td>0.01</td>\n",
       "      <td>134.37</td>\n",
       "      <td>09-01-2013</td>\n",
       "      <td>2013</td>\n",
       "      <td>c</td>\n",
       "      <td>...</td>\n",
       "      <td>0</td>\n",
       "      <td>0</td>\n",
       "      <td>0</td>\n",
       "      <td>0</td>\n",
       "      <td>0</td>\n",
       "      <td>0</td>\n",
       "      <td>0</td>\n",
       "      <td>0</td>\n",
       "      <td>0</td>\n",
       "      <td>1</td>\n",
       "    </tr>\n",
       "    <tr>\n",
       "      <th>6</th>\n",
       "      <td>776</td>\n",
       "      <td>POS消费</td>\n",
       "      <td>d</td>\n",
       "      <td>淋浴</td>\n",
       "      <td>2013-09-01 00:00:21</td>\n",
       "      <td>1.10</td>\n",
       "      <td>61.40</td>\n",
       "      <td>09-01-2013</td>\n",
       "      <td>2013</td>\n",
       "      <td>c</td>\n",
       "      <td>...</td>\n",
       "      <td>0</td>\n",
       "      <td>0</td>\n",
       "      <td>0</td>\n",
       "      <td>1</td>\n",
       "      <td>0</td>\n",
       "      <td>0</td>\n",
       "      <td>0</td>\n",
       "      <td>0</td>\n",
       "      <td>0</td>\n",
       "      <td>1</td>\n",
       "    </tr>\n",
       "    <tr>\n",
       "      <th>8</th>\n",
       "      <td>13112</td>\n",
       "      <td>POS消费</td>\n",
       "      <td>c</td>\n",
       "      <td>淋浴</td>\n",
       "      <td>2013-09-01 00:00:51</td>\n",
       "      <td>0.90</td>\n",
       "      <td>231.40</td>\n",
       "      <td>09-01-2013</td>\n",
       "      <td>2013</td>\n",
       "      <td>c</td>\n",
       "      <td>...</td>\n",
       "      <td>0</td>\n",
       "      <td>0</td>\n",
       "      <td>0</td>\n",
       "      <td>1</td>\n",
       "      <td>0</td>\n",
       "      <td>0</td>\n",
       "      <td>0</td>\n",
       "      <td>0</td>\n",
       "      <td>1</td>\n",
       "      <td>0</td>\n",
       "    </tr>\n",
       "  </tbody>\n",
       "</table>\n",
       "<p>5 rows × 44 columns</p>\n",
       "</div>"
      ],
      "text/plain": [
       "      id consume where  how                time  amount  remainder  \\\n",
       "0  16894   POS消费     d  洗衣房 2013-09-01 00:00:18    0.10     432.76   \n",
       "2  10124   POS消费     d   淋浴 2013-09-01 00:00:18    0.60     113.26   \n",
       "4   5016   POS消费     d   开水 2013-09-01 00:00:19    0.01     134.37   \n",
       "6    776   POS消费     d   淋浴 2013-09-01 00:00:21    1.10      61.40   \n",
       "8  13112   POS消费     c   淋浴 2013-09-01 00:00:51    0.90     231.40   \n",
       "\n",
       "         date  year month     ...      hospital bus  landry  shower  market  \\\n",
       "0  09-01-2013  2013     c     ...             0   0       1       0       0   \n",
       "2  09-01-2013  2013     c     ...             0   0       0       1       0   \n",
       "4  09-01-2013  2013     c     ...             0   0       0       0       0   \n",
       "6  09-01-2013  2013     c     ...             0   0       0       1       0   \n",
       "8  09-01-2013  2013     c     ...             0   0       0       1       0   \n",
       "\n",
       "   canteen  f_ten_canteen  other_canteen  f_ten_place  other_place  \n",
       "0        0              0              0            0            1  \n",
       "2        0              0              0            0            1  \n",
       "4        0              0              0            0            1  \n",
       "6        0              0              0            0            1  \n",
       "8        0              0              0            1            0  \n",
       "\n",
       "[5 rows x 44 columns]"
      ]
     },
     "execution_count": 18,
     "metadata": {},
     "output_type": "execute_result"
    }
   ],
   "source": [
    "card_test.head()"
   ]
  },
  {
   "cell_type": "code",
   "execution_count": 54,
   "metadata": {
    "collapsed": true
   },
   "outputs": [],
   "source": [
    "#导出数据\n",
    "\n",
    "#card_test.to_csv('input/card_test_f.csv',index=False)"
   ]
  },
  {
   "cell_type": "code",
   "execution_count": 19,
   "metadata": {
    "collapsed": true
   },
   "outputs": [],
   "source": [
    "card_test.to_csv('input/card_test_f_2.csv',index=False)"
   ]
  },
  {
   "cell_type": "code",
   "execution_count": null,
   "metadata": {
    "collapsed": true
   },
   "outputs": [],
   "source": []
  },
  {
   "cell_type": "code",
   "execution_count": null,
   "metadata": {
    "collapsed": true
   },
   "outputs": [],
   "source": []
  },
  {
   "cell_type": "code",
   "execution_count": null,
   "metadata": {
    "collapsed": true
   },
   "outputs": [],
   "source": []
  },
  {
   "cell_type": "code",
   "execution_count": null,
   "metadata": {
    "collapsed": true
   },
   "outputs": [],
   "source": []
  }
 ],
 "metadata": {
  "anaconda-cloud": {},
  "kernelspec": {
   "display_name": "Python [py2]",
   "language": "python",
   "name": "Python [py2]"
  },
  "language_info": {
   "codemirror_mode": {
    "name": "ipython",
    "version": 2
   },
   "file_extension": ".py",
   "mimetype": "text/x-python",
   "name": "python",
   "nbconvert_exporter": "python",
   "pygments_lexer": "ipython2",
   "version": "2.7.12"
  }
 },
 "nbformat": 4,
 "nbformat_minor": 0
}
