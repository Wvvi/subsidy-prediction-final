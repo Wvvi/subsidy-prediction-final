{
 "cells": [
  {
   "cell_type": "code",
   "execution_count": 1,
   "metadata": {
    "collapsed": true
   },
   "outputs": [],
   "source": [
    "#Import\n",
    "\n",
    "#pandas\n",
    "import pandas as pd\n",
    "from pandas import Series,DataFrame\n",
    "\n",
    "#numpy\n",
    "import numpy as np"
   ]
  },
  {
   "cell_type": "code",
   "execution_count": 2,
   "metadata": {
    "collapsed": false
   },
   "outputs": [
    {
     "data": {
      "text/html": [
       "<div>\n",
       "<table border=\"1\" class=\"dataframe\">\n",
       "  <thead>\n",
       "    <tr style=\"text-align: right;\">\n",
       "      <th></th>\n",
       "      <th>id</th>\n",
       "      <th>borrow_date</th>\n",
       "      <th>book_name</th>\n",
       "      <th>book_num</th>\n",
       "    </tr>\n",
       "  </thead>\n",
       "  <tbody>\n",
       "    <tr>\n",
       "      <th>0</th>\n",
       "      <td>27604</td>\n",
       "      <td>2014/10/31</td>\n",
       "      <td>Visual C++精彩实例详解 Visual C++ jing cai shi li xi...</td>\n",
       "      <td>TP312C 535</td>\n",
       "    </tr>\n",
       "    <tr>\n",
       "      <th>1</th>\n",
       "      <td>19774</td>\n",
       "      <td>2013/9/9</td>\n",
       "      <td>Photoshop CS4 中文版完全自学攻略 Photoshop CS4 zhong we...</td>\n",
       "      <td>TP391.41 678.4</td>\n",
       "    </tr>\n",
       "    <tr>\n",
       "      <th>2</th>\n",
       "      <td>14482</td>\n",
       "      <td>2014/10/13</td>\n",
       "      <td>认知心理学 ren zhi xin li xue Cognitive psychology ...</td>\n",
       "      <td>B842.1 S837</td>\n",
       "    </tr>\n",
       "    <tr>\n",
       "      <th>3</th>\n",
       "      <td>26968</td>\n",
       "      <td>2014/2/28</td>\n",
       "      <td>电工原理的MATLAB实现 dian gong yuan li de MATLAB shi ...</td>\n",
       "      <td>NaN</td>\n",
       "    </tr>\n",
       "    <tr>\n",
       "      <th>4</th>\n",
       "      <td>22567</td>\n",
       "      <td>2015/6/12</td>\n",
       "      <td>2009年考研英语读真题记单词 2009 nian kao yan ying yu du z...</td>\n",
       "      <td>H313-42 695 2009</td>\n",
       "    </tr>\n",
       "  </tbody>\n",
       "</table>\n",
       "</div>"
      ],
      "text/plain": [
       "      id borrow_date                                          book_name  \\\n",
       "0  27604  2014/10/31  Visual C++精彩实例详解 Visual C++ jing cai shi li xi...   \n",
       "1  19774    2013/9/9  Photoshop CS4 中文版完全自学攻略 Photoshop CS4 zhong we...   \n",
       "2  14482  2014/10/13  认知心理学 ren zhi xin li xue Cognitive psychology ...   \n",
       "3  26968   2014/2/28  电工原理的MATLAB实现 dian gong yuan li de MATLAB shi ...   \n",
       "4  22567   2015/6/12  2009年考研英语读真题记单词 2009 nian kao yan ying yu du z...   \n",
       "\n",
       "           book_num  \n",
       "0        TP312C 535  \n",
       "1    TP391.41 678.4  \n",
       "2       B842.1 S837  \n",
       "3               NaN  \n",
       "4  H313-42 695 2009  "
      ]
     },
     "execution_count": 2,
     "metadata": {},
     "output_type": "execute_result"
    }
   ],
   "source": [
    "#路径\n",
    "path='C:\\Users\\Wvv\\Datacastle_subsidy'\n",
    "\n",
    "#借书记录(数据集1)\n",
    "borrow_test_name=['id','borrow_date','book_name','book_num']\n",
    "borrow_test=pd.read_table(path+'/final_test/borrow_final_test.txt',sep=',',header=None,names=borrow_test_name)\n",
    "\n",
    "#删除重复行并浏览前几行数据\n",
    "borrow_test=borrow_test.drop_duplicates()\n",
    "borrow_test.head()"
   ]
  },
  {
   "cell_type": "code",
   "execution_count": 2,
   "metadata": {
    "collapsed": false
   },
   "outputs": [
    {
     "data": {
      "text/html": [
       "<div>\n",
       "<table border=\"1\" class=\"dataframe\">\n",
       "  <thead>\n",
       "    <tr style=\"text-align: right;\">\n",
       "      <th></th>\n",
       "      <th>id</th>\n",
       "      <th>borrow_date</th>\n",
       "      <th>book_name</th>\n",
       "      <th>book_num</th>\n",
       "    </tr>\n",
       "  </thead>\n",
       "  <tbody>\n",
       "    <tr>\n",
       "      <th>0</th>\n",
       "      <td>842</td>\n",
       "      <td>2013/12/23</td>\n",
       "      <td>人性论 ren xing lun 上 (英)休谟(David Hume)著 关文运译</td>\n",
       "      <td>B561.291 H963-2 V1</td>\n",
       "    </tr>\n",
       "    <tr>\n",
       "      <th>1</th>\n",
       "      <td>26615</td>\n",
       "      <td>2014/11/25</td>\n",
       "      <td>C语言程序设计基础教程 C yu yan cheng xu she ji ji chu ji...</td>\n",
       "      <td>TP312C-43 852.12</td>\n",
       "    </tr>\n",
       "    <tr>\n",
       "      <th>2</th>\n",
       "      <td>12762</td>\n",
       "      <td>2013/12/3</td>\n",
       "      <td>贾平凹散文选 jia ping ao san wen xuan / 贾平凹著</td>\n",
       "      <td>I267 146-13</td>\n",
       "    </tr>\n",
       "    <tr>\n",
       "      <th>3</th>\n",
       "      <td>11291</td>\n",
       "      <td>2015/4/24</td>\n",
       "      <td>概率论与数理统计 / 徐全智，吕恕[主编]</td>\n",
       "      <td>O21-43 337-2 E2</td>\n",
       "    </tr>\n",
       "    <tr>\n",
       "      <th>4</th>\n",
       "      <td>9595</td>\n",
       "      <td>2014/11/20</td>\n",
       "      <td>非营利组织管理概论 fei ying li zu zhi guan li gai lun  ...</td>\n",
       "      <td>C912.2-43 92</td>\n",
       "    </tr>\n",
       "  </tbody>\n",
       "</table>\n",
       "</div>"
      ],
      "text/plain": [
       "      id borrow_date                                          book_name  \\\n",
       "0    842  2013/12/23         人性论 ren xing lun 上 (英)休谟(David Hume)著 关文运译   \n",
       "1  26615  2014/11/25  C语言程序设计基础教程 C yu yan cheng xu she ji ji chu ji...   \n",
       "2  12762   2013/12/3             贾平凹散文选 jia ping ao san wen xuan / 贾平凹著   \n",
       "3  11291   2015/4/24                              概率论与数理统计 / 徐全智，吕恕[主编]   \n",
       "4   9595  2014/11/20  非营利组织管理概论 fei ying li zu zhi guan li gai lun  ...   \n",
       "\n",
       "             book_num  \n",
       "0  B561.291 H963-2 V1  \n",
       "1    TP312C-43 852.12  \n",
       "2         I267 146-13  \n",
       "3     O21-43 337-2 E2  \n",
       "4        C912.2-43 92  "
      ]
     },
     "execution_count": 2,
     "metadata": {},
     "output_type": "execute_result"
    }
   ],
   "source": [
    "#路径\n",
    "path='C:\\Users\\Wvv\\Datacastle_subsidy'\n",
    "\n",
    "#借书记录(数据集2)\n",
    "borrow_test_name=['id','borrow_date','book_name','book_num']\n",
    "borrow_test=pd.read_table(path+'/test/borrow_test.txt',sep=',',header=None,names=borrow_test_name)\n",
    "\n",
    "#删除重复行并浏览前几行数据\n",
    "borrow_test=borrow_test.drop_duplicates()\n",
    "borrow_test.head()"
   ]
  },
  {
   "cell_type": "code",
   "execution_count": 3,
   "metadata": {
    "collapsed": false
   },
   "outputs": [],
   "source": [
    "#删除无用列\n",
    "\n",
    "borrow_test.drop(['book_name','book_num'],axis=1,inplace=True)"
   ]
  },
  {
   "cell_type": "code",
   "execution_count": 4,
   "metadata": {
    "collapsed": true
   },
   "outputs": [],
   "source": [
    "#定义time转化函数\n",
    "\n",
    "from datetime import datetime\n",
    "def time_transform(x):\n",
    "    return datetime.strptime(x,'%Y/%m/%d')"
   ]
  },
  {
   "cell_type": "code",
   "execution_count": 5,
   "metadata": {
    "collapsed": false
   },
   "outputs": [],
   "source": [
    "#转换字符串型的time成时间戳格式\n",
    "borrow_test['borrow_date']=borrow_test['borrow_date'].apply(time_transform)"
   ]
  },
  {
   "cell_type": "code",
   "execution_count": 6,
   "metadata": {
    "collapsed": true
   },
   "outputs": [],
   "source": [
    "#时间格式转换\n",
    "\n",
    "borrow_test['month']=borrow_test['borrow_date'].apply(lambda x:x.strftime('%m'))\n",
    "borrow_test['weekday']=borrow_test['borrow_date'].apply(lambda x:x.strftime('%A'))"
   ]
  },
  {
   "cell_type": "code",
   "execution_count": 7,
   "metadata": {
    "collapsed": false
   },
   "outputs": [],
   "source": [
    "#month\n",
    "b_month=borrow_test.groupby('month')['month'].count()\n",
    "#对month进行one-hot编码\n",
    "\n",
    "month_dummies=pd.get_dummies(borrow_test['month'])\n",
    "month_dummies.columns=['borrow_month'+x for x in list(b_month.index)]\n",
    "\n",
    "#连接两表\n",
    "\n",
    "borrow_test=borrow_test.join(month_dummies)"
   ]
  },
  {
   "cell_type": "code",
   "execution_count": 8,
   "metadata": {
    "collapsed": true
   },
   "outputs": [],
   "source": [
    "#weekday（周末与非周末）\n",
    "\n",
    "def get_week(week):\n",
    "    a=['Monday','Tuesday','Wednesday','Thursday','Friday']\n",
    "    #b=['Saturday','Sunday']\n",
    "    if week in a:\n",
    "        return 'wd'\n",
    "    else:\n",
    "        return 'vd'\n",
    "\n",
    "borrow_test['weekday']=borrow_test['weekday'].apply(get_week)\n",
    "\n",
    "week_dummies=pd.get_dummies(borrow_test['weekday'])\n",
    "week_dummies.columns=['borrow_resting_day','borrow_working_day']\n",
    "\n",
    "borrow_test=borrow_test.join(week_dummies)"
   ]
  },
  {
   "cell_type": "code",
   "execution_count": 9,
   "metadata": {
    "collapsed": true
   },
   "outputs": [],
   "source": [
    "#根据id聚合求解各个特征的产生的总数\n",
    "\n",
    "count_columns=list(borrow_test.columns)[4:]\n",
    "\n",
    "#count_columns\n",
    "count_pivot=borrow_test.pivot_table(index='id',values=count_columns,aggfunc=np.count_nonzero)"
   ]
  },
  {
   "cell_type": "code",
   "execution_count": 10,
   "metadata": {
    "collapsed": true
   },
   "outputs": [],
   "source": [
    "#每个id借书的总次数\n",
    "\n",
    "borrow_test_feature=DataFrame(borrow_test.groupby('id')['id'].count())\n",
    "borrow_test_feature.columns=['borrow_sum']\n",
    "\n",
    "#连接表\n",
    "borrow_test_feature=borrow_test_feature.join(count_pivot)"
   ]
  },
  {
   "cell_type": "code",
   "execution_count": 11,
   "metadata": {
    "collapsed": true
   },
   "outputs": [],
   "source": [
    "#周末与非周末借书占比\n",
    "\n",
    "borrow_week_rate=borrow_test.pivot_table(index='id',values=['borrow_resting_day','borrow_working_day'],aggfunc=np.mean)\n",
    "borrow_week_rate.columns=['borrow_resting_day_rate','borrow_working_day_rate']\n",
    "\n",
    "#连接表\n",
    "borrow_test_feature=borrow_test_feature.join(borrow_week_rate)"
   ]
  },
  {
   "cell_type": "code",
   "execution_count": 12,
   "metadata": {
    "collapsed": true
   },
   "outputs": [],
   "source": [
    "#每个id活跃天数\n",
    "\n",
    "borrow_day=DataFrame(borrow_test.groupby(['id','borrow_date'])['id'].count())\n",
    "borrow_day.to_csv('borrow_input/borrow_test_day.csv',index=True)\n",
    "borrow_day_count=pd.read_csv('borrow_input/borrow_test_day.csv')\n",
    "borrow_day_count=DataFrame(borrow_day_count.groupby('id')['id.1'].count())\n",
    "borrow_day_count.columns=['borrow_day_sum']\n",
    "\n",
    "#连接表\n",
    "borrow_test_feature=borrow_test_feature.join(borrow_day_count)"
   ]
  },
  {
   "cell_type": "code",
   "execution_count": 13,
   "metadata": {
    "collapsed": true
   },
   "outputs": [],
   "source": [
    "#每天平均借书量\n",
    "\n",
    "borrow_test_feature['borrow_day_per']=borrow_test_feature['borrow_sum'].divide(borrow_test_feature['borrow_day_sum'],fill_value=0)"
   ]
  },
  {
   "cell_type": "code",
   "execution_count": 14,
   "metadata": {
    "collapsed": true
   },
   "outputs": [],
   "source": [
    "borrow_test_feature.to_csv('borrow_input/borrow_test_feature_f.csv',index='id')"
   ]
  },
  {
   "cell_type": "code",
   "execution_count": 15,
   "metadata": {
    "collapsed": false
   },
   "outputs": [
    {
     "data": {
      "text/html": [
       "<div>\n",
       "<table border=\"1\" class=\"dataframe\">\n",
       "  <thead>\n",
       "    <tr style=\"text-align: right;\">\n",
       "      <th></th>\n",
       "      <th>borrow_sum</th>\n",
       "      <th>borrow_month01</th>\n",
       "      <th>borrow_month02</th>\n",
       "      <th>borrow_month03</th>\n",
       "      <th>borrow_month04</th>\n",
       "      <th>borrow_month05</th>\n",
       "      <th>borrow_month06</th>\n",
       "      <th>borrow_month07</th>\n",
       "      <th>borrow_month08</th>\n",
       "      <th>borrow_month09</th>\n",
       "      <th>borrow_month10</th>\n",
       "      <th>borrow_month11</th>\n",
       "      <th>borrow_month12</th>\n",
       "      <th>borrow_resting_day</th>\n",
       "      <th>borrow_working_day</th>\n",
       "      <th>borrow_resting_day_rate</th>\n",
       "      <th>borrow_working_day_rate</th>\n",
       "      <th>borrow_day_sum</th>\n",
       "      <th>borrow_day_per</th>\n",
       "    </tr>\n",
       "    <tr>\n",
       "      <th>id</th>\n",
       "      <th></th>\n",
       "      <th></th>\n",
       "      <th></th>\n",
       "      <th></th>\n",
       "      <th></th>\n",
       "      <th></th>\n",
       "      <th></th>\n",
       "      <th></th>\n",
       "      <th></th>\n",
       "      <th></th>\n",
       "      <th></th>\n",
       "      <th></th>\n",
       "      <th></th>\n",
       "      <th></th>\n",
       "      <th></th>\n",
       "      <th></th>\n",
       "      <th></th>\n",
       "      <th></th>\n",
       "      <th></th>\n",
       "    </tr>\n",
       "  </thead>\n",
       "  <tbody>\n",
       "    <tr>\n",
       "      <th>32</th>\n",
       "      <td>13</td>\n",
       "      <td>0</td>\n",
       "      <td>2</td>\n",
       "      <td>5</td>\n",
       "      <td>6</td>\n",
       "      <td>0</td>\n",
       "      <td>0</td>\n",
       "      <td>0</td>\n",
       "      <td>0</td>\n",
       "      <td>0</td>\n",
       "      <td>0</td>\n",
       "      <td>0</td>\n",
       "      <td>0</td>\n",
       "      <td>3</td>\n",
       "      <td>10</td>\n",
       "      <td>0.230769</td>\n",
       "      <td>0.769231</td>\n",
       "      <td>6</td>\n",
       "      <td>2.166667</td>\n",
       "    </tr>\n",
       "    <tr>\n",
       "      <th>38</th>\n",
       "      <td>19</td>\n",
       "      <td>2</td>\n",
       "      <td>1</td>\n",
       "      <td>3</td>\n",
       "      <td>2</td>\n",
       "      <td>0</td>\n",
       "      <td>2</td>\n",
       "      <td>4</td>\n",
       "      <td>0</td>\n",
       "      <td>1</td>\n",
       "      <td>2</td>\n",
       "      <td>0</td>\n",
       "      <td>2</td>\n",
       "      <td>4</td>\n",
       "      <td>15</td>\n",
       "      <td>0.210526</td>\n",
       "      <td>0.789474</td>\n",
       "      <td>10</td>\n",
       "      <td>1.900000</td>\n",
       "    </tr>\n",
       "    <tr>\n",
       "      <th>39</th>\n",
       "      <td>53</td>\n",
       "      <td>7</td>\n",
       "      <td>0</td>\n",
       "      <td>18</td>\n",
       "      <td>2</td>\n",
       "      <td>2</td>\n",
       "      <td>0</td>\n",
       "      <td>0</td>\n",
       "      <td>2</td>\n",
       "      <td>12</td>\n",
       "      <td>4</td>\n",
       "      <td>6</td>\n",
       "      <td>0</td>\n",
       "      <td>20</td>\n",
       "      <td>33</td>\n",
       "      <td>0.377358</td>\n",
       "      <td>0.622642</td>\n",
       "      <td>15</td>\n",
       "      <td>3.533333</td>\n",
       "    </tr>\n",
       "    <tr>\n",
       "      <th>47</th>\n",
       "      <td>2</td>\n",
       "      <td>0</td>\n",
       "      <td>0</td>\n",
       "      <td>0</td>\n",
       "      <td>1</td>\n",
       "      <td>0</td>\n",
       "      <td>0</td>\n",
       "      <td>0</td>\n",
       "      <td>0</td>\n",
       "      <td>0</td>\n",
       "      <td>1</td>\n",
       "      <td>0</td>\n",
       "      <td>0</td>\n",
       "      <td>1</td>\n",
       "      <td>1</td>\n",
       "      <td>0.500000</td>\n",
       "      <td>0.500000</td>\n",
       "      <td>2</td>\n",
       "      <td>1.000000</td>\n",
       "    </tr>\n",
       "    <tr>\n",
       "      <th>48</th>\n",
       "      <td>14</td>\n",
       "      <td>0</td>\n",
       "      <td>0</td>\n",
       "      <td>3</td>\n",
       "      <td>4</td>\n",
       "      <td>0</td>\n",
       "      <td>6</td>\n",
       "      <td>0</td>\n",
       "      <td>0</td>\n",
       "      <td>1</td>\n",
       "      <td>0</td>\n",
       "      <td>0</td>\n",
       "      <td>0</td>\n",
       "      <td>4</td>\n",
       "      <td>10</td>\n",
       "      <td>0.285714</td>\n",
       "      <td>0.714286</td>\n",
       "      <td>4</td>\n",
       "      <td>3.500000</td>\n",
       "    </tr>\n",
       "  </tbody>\n",
       "</table>\n",
       "</div>"
      ],
      "text/plain": [
       "    borrow_sum  borrow_month01  borrow_month02  borrow_month03  \\\n",
       "id                                                               \n",
       "32          13               0               2               5   \n",
       "38          19               2               1               3   \n",
       "39          53               7               0              18   \n",
       "47           2               0               0               0   \n",
       "48          14               0               0               3   \n",
       "\n",
       "    borrow_month04  borrow_month05  borrow_month06  borrow_month07  \\\n",
       "id                                                                   \n",
       "32               6               0               0               0   \n",
       "38               2               0               2               4   \n",
       "39               2               2               0               0   \n",
       "47               1               0               0               0   \n",
       "48               4               0               6               0   \n",
       "\n",
       "    borrow_month08  borrow_month09  borrow_month10  borrow_month11  \\\n",
       "id                                                                   \n",
       "32               0               0               0               0   \n",
       "38               0               1               2               0   \n",
       "39               2              12               4               6   \n",
       "47               0               0               1               0   \n",
       "48               0               1               0               0   \n",
       "\n",
       "    borrow_month12  borrow_resting_day  borrow_working_day  \\\n",
       "id                                                           \n",
       "32               0                   3                  10   \n",
       "38               2                   4                  15   \n",
       "39               0                  20                  33   \n",
       "47               0                   1                   1   \n",
       "48               0                   4                  10   \n",
       "\n",
       "    borrow_resting_day_rate  borrow_working_day_rate  borrow_day_sum  \\\n",
       "id                                                                     \n",
       "32                 0.230769                 0.769231               6   \n",
       "38                 0.210526                 0.789474              10   \n",
       "39                 0.377358                 0.622642              15   \n",
       "47                 0.500000                 0.500000               2   \n",
       "48                 0.285714                 0.714286               4   \n",
       "\n",
       "    borrow_day_per  \n",
       "id                  \n",
       "32        2.166667  \n",
       "38        1.900000  \n",
       "39        3.533333  \n",
       "47        1.000000  \n",
       "48        3.500000  "
      ]
     },
     "execution_count": 15,
     "metadata": {},
     "output_type": "execute_result"
    }
   ],
   "source": [
    "borrow_test_feature.head()"
   ]
  },
  {
   "cell_type": "code",
   "execution_count": 16,
   "metadata": {
    "collapsed": false
   },
   "outputs": [
    {
     "data": {
      "text/plain": [
       "7158"
      ]
     },
     "execution_count": 16,
     "metadata": {},
     "output_type": "execute_result"
    }
   ],
   "source": [
    "len(borrow_test_feature)"
   ]
  },
  {
   "cell_type": "code",
   "execution_count": null,
   "metadata": {
    "collapsed": true
   },
   "outputs": [],
   "source": []
  }
 ],
 "metadata": {
  "kernelspec": {
   "display_name": "Python [py2]",
   "language": "python",
   "name": "Python [py2]"
  },
  "language_info": {
   "codemirror_mode": {
    "name": "ipython",
    "version": 2
   },
   "file_extension": ".py",
   "mimetype": "text/x-python",
   "name": "python",
   "nbconvert_exporter": "python",
   "pygments_lexer": "ipython2",
   "version": "2.7.12"
  }
 },
 "nbformat": 4,
 "nbformat_minor": 0
}
