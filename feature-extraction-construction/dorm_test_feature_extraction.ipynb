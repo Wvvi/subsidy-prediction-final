{
 "cells": [
  {
   "cell_type": "code",
   "execution_count": 2,
   "metadata": {
    "collapsed": true
   },
   "outputs": [],
   "source": [
    "#Import\n",
    "\n",
    "#pandas\n",
    "import pandas as pd\n",
    "from pandas import Series,DataFrame\n",
    "\n",
    "#numpy\n",
    "import numpy as np"
   ]
  },
  {
   "cell_type": "code",
   "execution_count": 3,
   "metadata": {
    "collapsed": false
   },
   "outputs": [
    {
     "data": {
      "text/html": [
       "<div>\n",
       "<table border=\"1\" class=\"dataframe\">\n",
       "  <thead>\n",
       "    <tr style=\"text-align: right;\">\n",
       "      <th></th>\n",
       "      <th>id</th>\n",
       "      <th>dorm_date</th>\n",
       "      <th>out_or_in</th>\n",
       "    </tr>\n",
       "  </thead>\n",
       "  <tbody>\n",
       "    <tr>\n",
       "      <th>0</th>\n",
       "      <td>28358</td>\n",
       "      <td>2014/01/21 05:58:02</td>\n",
       "      <td>1</td>\n",
       "    </tr>\n",
       "    <tr>\n",
       "      <th>1</th>\n",
       "      <td>14167</td>\n",
       "      <td>2014/01/21 07:08:13</td>\n",
       "      <td>1</td>\n",
       "    </tr>\n",
       "    <tr>\n",
       "      <th>2</th>\n",
       "      <td>14167</td>\n",
       "      <td>2014/01/21 07:14:19</td>\n",
       "      <td>0</td>\n",
       "    </tr>\n",
       "    <tr>\n",
       "      <th>3</th>\n",
       "      <td>8280</td>\n",
       "      <td>2014/01/21 08:33:22</td>\n",
       "      <td>0</td>\n",
       "    </tr>\n",
       "    <tr>\n",
       "      <th>4</th>\n",
       "      <td>1511</td>\n",
       "      <td>2014/01/21 09:30:28</td>\n",
       "      <td>1</td>\n",
       "    </tr>\n",
       "  </tbody>\n",
       "</table>\n",
       "</div>"
      ],
      "text/plain": [
       "      id            dorm_date  out_or_in\n",
       "0  28358  2014/01/21 05:58:02          1\n",
       "1  14167  2014/01/21 07:08:13          1\n",
       "2  14167  2014/01/21 07:14:19          0\n",
       "3   8280  2014/01/21 08:33:22          0\n",
       "4   1511  2014/01/21 09:30:28          1"
      ]
     },
     "execution_count": 3,
     "metadata": {},
     "output_type": "execute_result"
    }
   ],
   "source": [
    "#路径\n",
    "\n",
    "path='C:\\Users\\Wvv\\Datacastle_subsidy'\n",
    "\n",
    "#导入dorm_train数据\n",
    "\n",
    "dorm_test_name=['id','dorm_date','out_or_in']\n",
    "dorm_test=pd.read_table(path+'/final_test/dorm_final_test.txt',sep=',',header=None,names=dorm_test_name)\n",
    "\n",
    "#删除重复行并浏览前几行数据\n",
    "dorm_test=dorm_test.drop_duplicates()\n",
    "dorm_test.head()"
   ]
  },
  {
   "cell_type": "code",
   "execution_count": 3,
   "metadata": {
    "collapsed": false
   },
   "outputs": [
    {
     "data": {
      "text/html": [
       "<div>\n",
       "<table border=\"1\" class=\"dataframe\">\n",
       "  <thead>\n",
       "    <tr style=\"text-align: right;\">\n",
       "      <th></th>\n",
       "      <th>id</th>\n",
       "      <th>dorm_date</th>\n",
       "      <th>out_or_in</th>\n",
       "    </tr>\n",
       "  </thead>\n",
       "  <tbody>\n",
       "    <tr>\n",
       "      <th>0</th>\n",
       "      <td>19326</td>\n",
       "      <td>2014/01/21 06:12:13</td>\n",
       "      <td>0</td>\n",
       "    </tr>\n",
       "    <tr>\n",
       "      <th>1</th>\n",
       "      <td>15190</td>\n",
       "      <td>2014/01/21 06:49:12</td>\n",
       "      <td>1</td>\n",
       "    </tr>\n",
       "    <tr>\n",
       "      <th>2</th>\n",
       "      <td>18610</td>\n",
       "      <td>2014/01/21 06:51:00</td>\n",
       "      <td>0</td>\n",
       "    </tr>\n",
       "    <tr>\n",
       "      <th>3</th>\n",
       "      <td>462</td>\n",
       "      <td>2014/01/21 07:40:51</td>\n",
       "      <td>1</td>\n",
       "    </tr>\n",
       "    <tr>\n",
       "      <th>4</th>\n",
       "      <td>18610</td>\n",
       "      <td>2014/01/21 07:51:06</td>\n",
       "      <td>1</td>\n",
       "    </tr>\n",
       "  </tbody>\n",
       "</table>\n",
       "</div>"
      ],
      "text/plain": [
       "      id            dorm_date  out_or_in\n",
       "0  19326  2014/01/21 06:12:13          0\n",
       "1  15190  2014/01/21 06:49:12          1\n",
       "2  18610  2014/01/21 06:51:00          0\n",
       "3    462  2014/01/21 07:40:51          1\n",
       "4  18610  2014/01/21 07:51:06          1"
      ]
     },
     "execution_count": 3,
     "metadata": {},
     "output_type": "execute_result"
    }
   ],
   "source": [
    "#路径\n",
    "\n",
    "path='C:\\Users\\Wvv\\Datacastle_subsidy'\n",
    "\n",
    "#导入dorm_train数据\n",
    "\n",
    "dorm_test_name=['id','dorm_date','out_or_in']\n",
    "dorm_test=pd.read_table(path+'/test/dorm_test.txt',sep=',',header=None,names=dorm_test_name)\n",
    "\n",
    "#删除重复行并浏览前几行数据\n",
    "dorm_test=dorm_test.drop_duplicates()\n",
    "dorm_test.head()"
   ]
  },
  {
   "cell_type": "code",
   "execution_count": 4,
   "metadata": {
    "collapsed": false
   },
   "outputs": [
    {
     "name": "stdout",
     "output_type": "stream",
     "text": [
      "<class 'pandas.core.frame.DataFrame'>\n",
      "Int64Index: 2139942 entries, 0 to 2140486\n",
      "Data columns (total 3 columns):\n",
      "id           int64\n",
      "dorm_date    object\n",
      "out_or_in    int64\n",
      "dtypes: int64(2), object(1)\n",
      "memory usage: 65.3+ MB\n"
     ]
    }
   ],
   "source": [
    "dorm_test.info()"
   ]
  },
  {
   "cell_type": "code",
   "execution_count": 4,
   "metadata": {
    "collapsed": true
   },
   "outputs": [],
   "source": [
    "#定义time转化函数\n",
    "\n",
    "from datetime import datetime\n",
    "def time_transform(x):\n",
    "    return datetime.strptime(x,'%Y/%m/%d %H:%M:%S')"
   ]
  },
  {
   "cell_type": "code",
   "execution_count": 5,
   "metadata": {
    "collapsed": true
   },
   "outputs": [],
   "source": [
    "#转换字符串型的time成时间戳格式\n",
    "\n",
    "dorm_test['dorm_date']=dorm_test['dorm_date'].apply(time_transform)"
   ]
  },
  {
   "cell_type": "code",
   "execution_count": 6,
   "metadata": {
    "collapsed": true
   },
   "outputs": [],
   "source": [
    "#时间格式转换\n",
    "\n",
    "dorm_test['date']=dorm_test['dorm_date'].apply(lambda x:x.strftime('%m-%d-%Y'))\n",
    "dorm_test['year']=dorm_test['dorm_date'].apply(lambda x:x.strftime('%Y'))\n",
    "dorm_test['month']=dorm_test['dorm_date'].apply(lambda x:x.strftime('%m'))\n",
    "dorm_test['hour']=dorm_test['dorm_date'].apply(lambda x:x.strftime('%H'))\n",
    "dorm_test['weekday']=dorm_test['dorm_date'].apply(lambda x:x.strftime('%A'))"
   ]
  },
  {
   "cell_type": "code",
   "execution_count": 7,
   "metadata": {
    "collapsed": true
   },
   "outputs": [],
   "source": [
    "#上面数据处理花时很多，先保存处理后的结果\n",
    "\n",
    "#dorm_test.to_csv('dorm_input/dorm_test_time.csv',index=False)"
   ]
  },
  {
   "cell_type": "code",
   "execution_count": 8,
   "metadata": {
    "collapsed": true
   },
   "outputs": [],
   "source": [
    "#上面数据处理花时很多，先保存处理后的结果\n",
    "\n",
    "dorm_test.to_csv('dorm_input/dorm_test_time_2.csv',index=False)"
   ]
  },
  {
   "cell_type": "code",
   "execution_count": 9,
   "metadata": {
    "collapsed": true
   },
   "outputs": [],
   "source": [
    "#对hour进行one_hot编码得到hour新表\n",
    "\n",
    "hour_dummies=pd.get_dummies(dorm_test['hour'])\n",
    "hour_dummies.columns=['dorm_hour'+x for x in list(hour_dummies.columns)]\n",
    "\n",
    "#连接两表\n",
    "\n",
    "dorm_test=dorm_test.join(hour_dummies)"
   ]
  },
  {
   "cell_type": "code",
   "execution_count": 10,
   "metadata": {
    "collapsed": true
   },
   "outputs": [],
   "source": [
    "#hour \n",
    "\n",
    "#分为4个时段\n",
    "\n",
    "a=['01','02','03','04','05']\n",
    "b=['06','07','08','09','10','11']\n",
    "c=['12','13','14','15','16','17']\n",
    "d=['18','19','20']\n",
    "#e=['21','22','23','00']\n",
    "def get_hour_transform(hour):\n",
    "    if hour in a:\n",
    "        return 'a'\n",
    "    elif hour in b:\n",
    "        return 'b'\n",
    "    elif hour in c:\n",
    "        return 'c'\n",
    "    elif hour in d:\n",
    "        return 'd'\n",
    "    else:\n",
    "        return 'e'\n",
    "    \n",
    "#运用函数\n",
    "dorm_test['hour']=dorm_test['hour'].apply(get_hour_transform)\n",
    "\n",
    "#实现one-hot编码\n",
    "hour_dummies1=pd.get_dummies(dorm_test['hour'])\n",
    "hour_dummies1.columns=['dorm_hour_01_05','dorm_hour_morning','dorm_hour_afternoon','dorm_hour_evening','dorm_hour_midnight']\n",
    "\n",
    "#连接两表\n",
    "dorm_test=dorm_test.join(hour_dummies1)"
   ]
  },
  {
   "cell_type": "code",
   "execution_count": 11,
   "metadata": {
    "collapsed": true
   },
   "outputs": [],
   "source": [
    "#weekday\n",
    "\n",
    "#分为周末与非周末\n",
    "a=['Monday','Tuesday','Wednesday','Thursday','Friday']\n",
    "#b=['Saturday','Sunday']\n",
    "def week_transform(weekday):\n",
    "    if weekday in a:\n",
    "        return 'wd'\n",
    "    else:\n",
    "        return 'vd'\n",
    "    \n",
    "dorm_test['weekday']=dorm_test['weekday'].apply(week_transform)\n",
    "\n",
    "#对weekday进行one_hot编码得到weekday新表\n",
    "\n",
    "weekday_dummies = pd.get_dummies(dorm_test['weekday'])\n",
    "weekday_dummies.columns=['dorm_resting_day','dorm_working_day']\n",
    "dorm_test=dorm_test.join(weekday_dummies)"
   ]
  },
  {
   "cell_type": "code",
   "execution_count": 12,
   "metadata": {
    "collapsed": true
   },
   "outputs": [],
   "source": [
    "#month\n",
    "\n",
    "#分为在校与假期\n",
    "#dorm_month=dorm_train.groupby('month')['month'].count()\n",
    "a=['01','08','02']\n",
    "def get_month_transform(month):\n",
    "    if month in a:\n",
    "        return 'v'\n",
    "    else:\n",
    "        return 'o'\n",
    "    \n",
    "dorm_test['month']=dorm_test['month'].apply(get_month_transform)\n",
    "\n",
    "#对month进行one-hot编码\n",
    "month_dummies=pd.get_dummies(dorm_test['month'])\n",
    "month_dummies.columns=['dorm_on_school','dorm_vacation']\n",
    "dorm_test=dorm_test.join(month_dummies)"
   ]
  },
  {
   "cell_type": "code",
   "execution_count": 13,
   "metadata": {
    "collapsed": true
   },
   "outputs": [],
   "source": [
    "#dorm_test.to_csv('dorm_input/dorm_test.csv',index=False)"
   ]
  },
  {
   "cell_type": "code",
   "execution_count": 14,
   "metadata": {
    "collapsed": true
   },
   "outputs": [],
   "source": [
    "dorm_test.to_csv('dorm_input/dorm_test_2.csv',index=False)"
   ]
  },
  {
   "cell_type": "code",
   "execution_count": 15,
   "metadata": {
    "collapsed": false
   },
   "outputs": [
    {
     "data": {
      "text/html": [
       "<div>\n",
       "<table border=\"1\" class=\"dataframe\">\n",
       "  <thead>\n",
       "    <tr style=\"text-align: right;\">\n",
       "      <th></th>\n",
       "      <th>id</th>\n",
       "      <th>dorm_date</th>\n",
       "      <th>out_or_in</th>\n",
       "      <th>date</th>\n",
       "      <th>year</th>\n",
       "      <th>month</th>\n",
       "      <th>hour</th>\n",
       "      <th>weekday</th>\n",
       "      <th>dorm_hour00</th>\n",
       "      <th>dorm_hour01</th>\n",
       "      <th>...</th>\n",
       "      <th>dorm_hour23</th>\n",
       "      <th>dorm_hour_01_05</th>\n",
       "      <th>dorm_hour_morning</th>\n",
       "      <th>dorm_hour_afternoon</th>\n",
       "      <th>dorm_hour_evening</th>\n",
       "      <th>dorm_hour_midnight</th>\n",
       "      <th>dorm_resting_day</th>\n",
       "      <th>dorm_working_day</th>\n",
       "      <th>dorm_on_school</th>\n",
       "      <th>dorm_vacation</th>\n",
       "    </tr>\n",
       "  </thead>\n",
       "  <tbody>\n",
       "    <tr>\n",
       "      <th>0</th>\n",
       "      <td>19326</td>\n",
       "      <td>2014-01-21 06:12:13</td>\n",
       "      <td>0</td>\n",
       "      <td>01-21-2014</td>\n",
       "      <td>2014</td>\n",
       "      <td>v</td>\n",
       "      <td>b</td>\n",
       "      <td>wd</td>\n",
       "      <td>0</td>\n",
       "      <td>0</td>\n",
       "      <td>...</td>\n",
       "      <td>0</td>\n",
       "      <td>0</td>\n",
       "      <td>1</td>\n",
       "      <td>0</td>\n",
       "      <td>0</td>\n",
       "      <td>0</td>\n",
       "      <td>0</td>\n",
       "      <td>1</td>\n",
       "      <td>0</td>\n",
       "      <td>1</td>\n",
       "    </tr>\n",
       "    <tr>\n",
       "      <th>1</th>\n",
       "      <td>15190</td>\n",
       "      <td>2014-01-21 06:49:12</td>\n",
       "      <td>1</td>\n",
       "      <td>01-21-2014</td>\n",
       "      <td>2014</td>\n",
       "      <td>v</td>\n",
       "      <td>b</td>\n",
       "      <td>wd</td>\n",
       "      <td>0</td>\n",
       "      <td>0</td>\n",
       "      <td>...</td>\n",
       "      <td>0</td>\n",
       "      <td>0</td>\n",
       "      <td>1</td>\n",
       "      <td>0</td>\n",
       "      <td>0</td>\n",
       "      <td>0</td>\n",
       "      <td>0</td>\n",
       "      <td>1</td>\n",
       "      <td>0</td>\n",
       "      <td>1</td>\n",
       "    </tr>\n",
       "    <tr>\n",
       "      <th>2</th>\n",
       "      <td>18610</td>\n",
       "      <td>2014-01-21 06:51:00</td>\n",
       "      <td>0</td>\n",
       "      <td>01-21-2014</td>\n",
       "      <td>2014</td>\n",
       "      <td>v</td>\n",
       "      <td>b</td>\n",
       "      <td>wd</td>\n",
       "      <td>0</td>\n",
       "      <td>0</td>\n",
       "      <td>...</td>\n",
       "      <td>0</td>\n",
       "      <td>0</td>\n",
       "      <td>1</td>\n",
       "      <td>0</td>\n",
       "      <td>0</td>\n",
       "      <td>0</td>\n",
       "      <td>0</td>\n",
       "      <td>1</td>\n",
       "      <td>0</td>\n",
       "      <td>1</td>\n",
       "    </tr>\n",
       "    <tr>\n",
       "      <th>3</th>\n",
       "      <td>462</td>\n",
       "      <td>2014-01-21 07:40:51</td>\n",
       "      <td>1</td>\n",
       "      <td>01-21-2014</td>\n",
       "      <td>2014</td>\n",
       "      <td>v</td>\n",
       "      <td>b</td>\n",
       "      <td>wd</td>\n",
       "      <td>0</td>\n",
       "      <td>0</td>\n",
       "      <td>...</td>\n",
       "      <td>0</td>\n",
       "      <td>0</td>\n",
       "      <td>1</td>\n",
       "      <td>0</td>\n",
       "      <td>0</td>\n",
       "      <td>0</td>\n",
       "      <td>0</td>\n",
       "      <td>1</td>\n",
       "      <td>0</td>\n",
       "      <td>1</td>\n",
       "    </tr>\n",
       "    <tr>\n",
       "      <th>4</th>\n",
       "      <td>18610</td>\n",
       "      <td>2014-01-21 07:51:06</td>\n",
       "      <td>1</td>\n",
       "      <td>01-21-2014</td>\n",
       "      <td>2014</td>\n",
       "      <td>v</td>\n",
       "      <td>b</td>\n",
       "      <td>wd</td>\n",
       "      <td>0</td>\n",
       "      <td>0</td>\n",
       "      <td>...</td>\n",
       "      <td>0</td>\n",
       "      <td>0</td>\n",
       "      <td>1</td>\n",
       "      <td>0</td>\n",
       "      <td>0</td>\n",
       "      <td>0</td>\n",
       "      <td>0</td>\n",
       "      <td>1</td>\n",
       "      <td>0</td>\n",
       "      <td>1</td>\n",
       "    </tr>\n",
       "  </tbody>\n",
       "</table>\n",
       "<p>5 rows × 41 columns</p>\n",
       "</div>"
      ],
      "text/plain": [
       "      id           dorm_date  out_or_in        date  year month hour weekday  \\\n",
       "0  19326 2014-01-21 06:12:13          0  01-21-2014  2014     v    b      wd   \n",
       "1  15190 2014-01-21 06:49:12          1  01-21-2014  2014     v    b      wd   \n",
       "2  18610 2014-01-21 06:51:00          0  01-21-2014  2014     v    b      wd   \n",
       "3    462 2014-01-21 07:40:51          1  01-21-2014  2014     v    b      wd   \n",
       "4  18610 2014-01-21 07:51:06          1  01-21-2014  2014     v    b      wd   \n",
       "\n",
       "   dorm_hour00  dorm_hour01      ...        dorm_hour23  dorm_hour_01_05  \\\n",
       "0            0            0      ...                  0                0   \n",
       "1            0            0      ...                  0                0   \n",
       "2            0            0      ...                  0                0   \n",
       "3            0            0      ...                  0                0   \n",
       "4            0            0      ...                  0                0   \n",
       "\n",
       "   dorm_hour_morning  dorm_hour_afternoon  dorm_hour_evening  \\\n",
       "0                  1                    0                  0   \n",
       "1                  1                    0                  0   \n",
       "2                  1                    0                  0   \n",
       "3                  1                    0                  0   \n",
       "4                  1                    0                  0   \n",
       "\n",
       "   dorm_hour_midnight  dorm_resting_day  dorm_working_day  dorm_on_school  \\\n",
       "0                   0                 0                 1               0   \n",
       "1                   0                 0                 1               0   \n",
       "2                   0                 0                 1               0   \n",
       "3                   0                 0                 1               0   \n",
       "4                   0                 0                 1               0   \n",
       "\n",
       "   dorm_vacation  \n",
       "0              1  \n",
       "1              1  \n",
       "2              1  \n",
       "3              1  \n",
       "4              1  \n",
       "\n",
       "[5 rows x 41 columns]"
      ]
     },
     "execution_count": 15,
     "metadata": {},
     "output_type": "execute_result"
    }
   ],
   "source": [
    "dorm_test.head()"
   ]
  },
  {
   "cell_type": "code",
   "execution_count": null,
   "metadata": {
    "collapsed": true
   },
   "outputs": [],
   "source": []
  }
 ],
 "metadata": {
  "anaconda-cloud": {},
  "kernelspec": {
   "display_name": "Python [py2]",
   "language": "python",
   "name": "Python [py2]"
  },
  "language_info": {
   "codemirror_mode": {
    "name": "ipython",
    "version": 2
   },
   "file_extension": ".py",
   "mimetype": "text/x-python",
   "name": "python",
   "nbconvert_exporter": "python",
   "pygments_lexer": "ipython2",
   "version": "2.7.12"
  }
 },
 "nbformat": 4,
 "nbformat_minor": 0
}
