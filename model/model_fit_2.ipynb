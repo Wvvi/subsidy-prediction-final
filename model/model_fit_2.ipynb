{
 "cells": [
  {
   "cell_type": "code",
   "execution_count": 1,
   "metadata": {
    "collapsed": true
   },
   "outputs": [],
   "source": [
    "#import\n",
    "\n",
    "import pandas as pd\n",
    "from pandas import DataFrame,Series\n",
    "import numpy as np\n",
    "from sklearn.preprocessing import StandardScaler\n",
    "\n",
    "#特征选择\n",
    "from sklearn.feature_selection import VarianceThreshold\n",
    "from sklearn.feature_selection import SelectKBest\n",
    "from sklearn.feature_selection import chi2\n",
    "from sklearn.feature_selection import SelectFromModel"
   ]
  },
  {
   "cell_type": "code",
   "execution_count": 2,
   "metadata": {
    "collapsed": true
   },
   "outputs": [],
   "source": [
    "#导入训练特征\n",
    "\n",
    "all_feature_train=pd.read_csv('all_feature_input/all_features_train.csv',encoding='gb18030')\n",
    "\n",
    "#导入测试集特征\n",
    "\n",
    "all_feature_test=pd.read_csv('all_feature_input/all_features_test.csv',encoding='gb18030')"
   ]
  },
  {
   "cell_type": "code",
   "execution_count": 4,
   "metadata": {
    "collapsed": false
   },
   "outputs": [
    {
     "data": {
      "text/html": [
       "<div>\n",
       "<table border=\"1\" class=\"dataframe\">\n",
       "  <thead>\n",
       "    <tr style=\"text-align: right;\">\n",
       "      <th></th>\n",
       "      <th>id</th>\n",
       "      <th>money</th>\n",
       "      <th>POS_recharge_mean</th>\n",
       "      <th>amount_mean</th>\n",
       "      <th>bus_mean</th>\n",
       "      <th>canteen_mean</th>\n",
       "      <th>card_recharge_mean</th>\n",
       "      <th>f_ten_canteen_mean</th>\n",
       "      <th>f_ten_place_mean</th>\n",
       "      <th>hospital_mean</th>\n",
       "      <th>...</th>\n",
       "      <th>borrow_resting_day_rate</th>\n",
       "      <th>borrow_working_day_rate</th>\n",
       "      <th>borrow_day_sum</th>\n",
       "      <th>borrow_day_per</th>\n",
       "      <th>0_percent</th>\n",
       "      <th>1000_percent</th>\n",
       "      <th>1500_percent</th>\n",
       "      <th>2000_percent</th>\n",
       "      <th>amount_college_rank</th>\n",
       "      <th>amount_score_rank</th>\n",
       "    </tr>\n",
       "  </thead>\n",
       "  <tbody>\n",
       "    <tr>\n",
       "      <th>0</th>\n",
       "      <td>19</td>\n",
       "      <td>0</td>\n",
       "      <td>0.946161</td>\n",
       "      <td>8.194343</td>\n",
       "      <td>0.110413</td>\n",
       "      <td>0.411749</td>\n",
       "      <td>0.016769</td>\n",
       "      <td>0.094254</td>\n",
       "      <td>0.144379</td>\n",
       "      <td>0.000407</td>\n",
       "      <td>...</td>\n",
       "      <td>0.0</td>\n",
       "      <td>0.0</td>\n",
       "      <td>0.0</td>\n",
       "      <td>0.0</td>\n",
       "      <td>0.353063</td>\n",
       "      <td>0.021807</td>\n",
       "      <td>0.020768</td>\n",
       "      <td>0.010384</td>\n",
       "      <td>108.0</td>\n",
       "      <td>756.0</td>\n",
       "    </tr>\n",
       "    <tr>\n",
       "      <th>1</th>\n",
       "      <td>9401</td>\n",
       "      <td>0</td>\n",
       "      <td>0.953393</td>\n",
       "      <td>6.257133</td>\n",
       "      <td>0.087029</td>\n",
       "      <td>0.343523</td>\n",
       "      <td>0.014170</td>\n",
       "      <td>0.119027</td>\n",
       "      <td>0.151388</td>\n",
       "      <td>0.000328</td>\n",
       "      <td>...</td>\n",
       "      <td>0.0</td>\n",
       "      <td>0.0</td>\n",
       "      <td>0.0</td>\n",
       "      <td>0.0</td>\n",
       "      <td>0.353063</td>\n",
       "      <td>0.021807</td>\n",
       "      <td>0.020768</td>\n",
       "      <td>0.010384</td>\n",
       "      <td>100.0</td>\n",
       "      <td>76700.0</td>\n",
       "    </tr>\n",
       "    <tr>\n",
       "      <th>2</th>\n",
       "      <td>22071</td>\n",
       "      <td>0</td>\n",
       "      <td>0.953000</td>\n",
       "      <td>6.780568</td>\n",
       "      <td>0.117958</td>\n",
       "      <td>0.350116</td>\n",
       "      <td>0.013756</td>\n",
       "      <td>0.080419</td>\n",
       "      <td>0.328425</td>\n",
       "      <td>0.000322</td>\n",
       "      <td>...</td>\n",
       "      <td>0.0</td>\n",
       "      <td>0.0</td>\n",
       "      <td>0.0</td>\n",
       "      <td>0.0</td>\n",
       "      <td>0.353063</td>\n",
       "      <td>0.021807</td>\n",
       "      <td>0.020768</td>\n",
       "      <td>0.010384</td>\n",
       "      <td>81.0</td>\n",
       "      <td>31185.0</td>\n",
       "    </tr>\n",
       "    <tr>\n",
       "      <th>3</th>\n",
       "      <td>29603</td>\n",
       "      <td>0</td>\n",
       "      <td>0.963326</td>\n",
       "      <td>8.150449</td>\n",
       "      <td>0.053137</td>\n",
       "      <td>0.330473</td>\n",
       "      <td>0.010171</td>\n",
       "      <td>0.082275</td>\n",
       "      <td>0.219569</td>\n",
       "      <td>-0.000250</td>\n",
       "      <td>...</td>\n",
       "      <td>0.0</td>\n",
       "      <td>0.0</td>\n",
       "      <td>0.0</td>\n",
       "      <td>0.0</td>\n",
       "      <td>0.353063</td>\n",
       "      <td>0.021807</td>\n",
       "      <td>0.020768</td>\n",
       "      <td>0.010384</td>\n",
       "      <td>277.0</td>\n",
       "      <td>114124.0</td>\n",
       "    </tr>\n",
       "    <tr>\n",
       "      <th>4</th>\n",
       "      <td>21</td>\n",
       "      <td>0</td>\n",
       "      <td>0.968227</td>\n",
       "      <td>5.465932</td>\n",
       "      <td>0.058210</td>\n",
       "      <td>0.323161</td>\n",
       "      <td>0.026632</td>\n",
       "      <td>0.111922</td>\n",
       "      <td>0.313870</td>\n",
       "      <td>0.000475</td>\n",
       "      <td>...</td>\n",
       "      <td>0.0</td>\n",
       "      <td>0.0</td>\n",
       "      <td>0.0</td>\n",
       "      <td>0.0</td>\n",
       "      <td>0.353063</td>\n",
       "      <td>0.021807</td>\n",
       "      <td>0.020768</td>\n",
       "      <td>0.010384</td>\n",
       "      <td>113.0</td>\n",
       "      <td>43053.0</td>\n",
       "    </tr>\n",
       "  </tbody>\n",
       "</table>\n",
       "<p>5 rows × 586 columns</p>\n",
       "</div>"
      ],
      "text/plain": [
       "      id  money  POS_recharge_mean  amount_mean  bus_mean  canteen_mean  \\\n",
       "0     19      0           0.946161     8.194343  0.110413      0.411749   \n",
       "1   9401      0           0.953393     6.257133  0.087029      0.343523   \n",
       "2  22071      0           0.953000     6.780568  0.117958      0.350116   \n",
       "3  29603      0           0.963326     8.150449  0.053137      0.330473   \n",
       "4     21      0           0.968227     5.465932  0.058210      0.323161   \n",
       "\n",
       "   card_recharge_mean  f_ten_canteen_mean  f_ten_place_mean  hospital_mean  \\\n",
       "0            0.016769            0.094254          0.144379       0.000407   \n",
       "1            0.014170            0.119027          0.151388       0.000328   \n",
       "2            0.013756            0.080419          0.328425       0.000322   \n",
       "3            0.010171            0.082275          0.219569      -0.000250   \n",
       "4            0.026632            0.111922          0.313870       0.000475   \n",
       "\n",
       "         ...          borrow_resting_day_rate  borrow_working_day_rate  \\\n",
       "0        ...                              0.0                      0.0   \n",
       "1        ...                              0.0                      0.0   \n",
       "2        ...                              0.0                      0.0   \n",
       "3        ...                              0.0                      0.0   \n",
       "4        ...                              0.0                      0.0   \n",
       "\n",
       "   borrow_day_sum  borrow_day_per  0_percent  1000_percent  1500_percent  \\\n",
       "0             0.0             0.0   0.353063      0.021807      0.020768   \n",
       "1             0.0             0.0   0.353063      0.021807      0.020768   \n",
       "2             0.0             0.0   0.353063      0.021807      0.020768   \n",
       "3             0.0             0.0   0.353063      0.021807      0.020768   \n",
       "4             0.0             0.0   0.353063      0.021807      0.020768   \n",
       "\n",
       "   2000_percent  amount_college_rank  amount_score_rank  \n",
       "0      0.010384                108.0              756.0  \n",
       "1      0.010384                100.0            76700.0  \n",
       "2      0.010384                 81.0            31185.0  \n",
       "3      0.010384                277.0           114124.0  \n",
       "4      0.010384                113.0            43053.0  \n",
       "\n",
       "[5 rows x 586 columns]"
      ]
     },
     "execution_count": 4,
     "metadata": {},
     "output_type": "execute_result"
    }
   ],
   "source": [
    "all_feature_train.head()"
   ]
  },
  {
   "cell_type": "code",
   "execution_count": 4,
   "metadata": {
    "collapsed": false
   },
   "outputs": [
    {
     "data": {
      "text/plain": [
       "10885"
      ]
     },
     "execution_count": 4,
     "metadata": {},
     "output_type": "execute_result"
    }
   ],
   "source": [
    "len(all_feature_train)"
   ]
  },
  {
   "cell_type": "code",
   "execution_count": 3,
   "metadata": {
    "collapsed": true
   },
   "outputs": [],
   "source": [
    "#去除从训练集中去除id、money\n",
    "\n",
    "X_train=all_feature_train.drop(['id','money'],axis=1)\n",
    "X_test=all_feature_train.drop(['id','money'],axis=1)"
   ]
  },
  {
   "cell_type": "code",
   "execution_count": 6,
   "metadata": {
    "collapsed": false
   },
   "outputs": [
    {
     "data": {
      "text/plain": [
       "[1, 3]"
      ]
     },
     "execution_count": 6,
     "metadata": {},
     "output_type": "execute_result"
    }
   ],
   "source": [
    "c=np.array([[1,2,3,4],[5,6,7,8]])\n",
    "d=np.array([[2,4],[6,8]])\n",
    "e=[]\n",
    "for i in range(4):\n",
    "    if c[:,i:i+1] in d:\n",
    "        e.append(i)\n",
    "e"
   ]
  },
  {
   "cell_type": "code",
   "execution_count": 4,
   "metadata": {
    "collapsed": false
   },
   "outputs": [],
   "source": [
    "#特征选择(train)\n",
    "\n",
    "#去除低方差的特称\n",
    "#sel = VarianceThreshold(threshold=(.8 * (1 - .8)))\n",
    "sel = VarianceThreshold()\n",
    "X_new_train=sel.fit_transform(X_train)\n",
    "#m运用卡方验证获得最好的前450个特征\n",
    "Slk=SelectKBest(chi2, k=450)\n",
    "X_new_train = Slk.fit_transform(np.abs(X_new_train), all_feature_train['money'])"
   ]
  },
  {
   "cell_type": "code",
   "execution_count": 5,
   "metadata": {
    "collapsed": true
   },
   "outputs": [],
   "source": [
    "#特征选择(test)\n",
    "\n",
    "#去除低方差的特称\n",
    "X_test=all_feature_train.drop(['id','money'],axis=1)\n",
    "#sel = VarianceThreshold(threshold=(.8 * (1 - .8)))\n",
    "sel = VarianceThreshold()\n",
    "X_new_test=sel.fit_transform(X_test)\n",
    "#m运用卡方验证获得最好的前450个特征\n",
    "X_new_test = SelectKBest(chi2, k=450).fit_transform(np.abs(X_new_test), all_feature_train['money'])"
   ]
  },
  {
   "cell_type": "code",
   "execution_count": 6,
   "metadata": {
    "collapsed": false
   },
   "outputs": [],
   "source": [
    "#数据标准分\n",
    "X_new_train=StandardScaler().fit_transform(X_new_train)\n",
    "X_new_test=StandardScaler().fit_transform(X_new_test)"
   ]
  },
  {
   "cell_type": "code",
   "execution_count": 9,
   "metadata": {
    "collapsed": false
   },
   "outputs": [
    {
     "data": {
      "text/plain": [
       "449"
      ]
     },
     "execution_count": 9,
     "metadata": {},
     "output_type": "execute_result"
    }
   ],
   "source": [
    "index=np.argsort(X_new_train)\n",
    "index.max()"
   ]
  },
  {
   "cell_type": "code",
   "execution_count": 7,
   "metadata": {
    "collapsed": false
   },
   "outputs": [
    {
     "data": {
      "text/html": [
       "<div>\n",
       "<table border=\"1\" class=\"dataframe\">\n",
       "  <thead>\n",
       "    <tr style=\"text-align: right;\">\n",
       "      <th></th>\n",
       "      <th>id</th>\n",
       "      <th>money</th>\n",
       "      <th>POS_recharge_mean</th>\n",
       "      <th>amount_mean</th>\n",
       "      <th>bus_mean</th>\n",
       "      <th>canteen_mean</th>\n",
       "      <th>card_recharge_mean</th>\n",
       "      <th>f_ten_canteen_mean</th>\n",
       "      <th>f_ten_place_mean</th>\n",
       "      <th>hospital_mean</th>\n",
       "      <th>...</th>\n",
       "      <th>borrow_resting_day_rate</th>\n",
       "      <th>borrow_working_day_rate</th>\n",
       "      <th>borrow_day_sum</th>\n",
       "      <th>borrow_day_per</th>\n",
       "      <th>0_percent</th>\n",
       "      <th>1000_percent</th>\n",
       "      <th>1500_percent</th>\n",
       "      <th>2000_percent</th>\n",
       "      <th>amount_college_rank</th>\n",
       "      <th>amount_score_rank</th>\n",
       "    </tr>\n",
       "  </thead>\n",
       "  <tbody>\n",
       "    <tr>\n",
       "      <th>0</th>\n",
       "      <td>316</td>\n",
       "      <td>0.0</td>\n",
       "      <td>0.970361</td>\n",
       "      <td>6.086440</td>\n",
       "      <td>0.046161</td>\n",
       "      <td>0.291770</td>\n",
       "      <td>0.022220</td>\n",
       "      <td>0.174279</td>\n",
       "      <td>0.328624</td>\n",
       "      <td>-0.000149</td>\n",
       "      <td>...</td>\n",
       "      <td>0.0</td>\n",
       "      <td>0.0</td>\n",
       "      <td>0.0</td>\n",
       "      <td>0.0</td>\n",
       "      <td>0.353063</td>\n",
       "      <td>0.021807</td>\n",
       "      <td>0.020768</td>\n",
       "      <td>0.010384</td>\n",
       "      <td>213.0</td>\n",
       "      <td>160176.0</td>\n",
       "    </tr>\n",
       "    <tr>\n",
       "      <th>1</th>\n",
       "      <td>7399</td>\n",
       "      <td>0.0</td>\n",
       "      <td>0.970488</td>\n",
       "      <td>8.164384</td>\n",
       "      <td>0.063330</td>\n",
       "      <td>0.353499</td>\n",
       "      <td>0.031007</td>\n",
       "      <td>0.151998</td>\n",
       "      <td>0.310721</td>\n",
       "      <td>0.000158</td>\n",
       "      <td>...</td>\n",
       "      <td>0.0</td>\n",
       "      <td>0.0</td>\n",
       "      <td>0.0</td>\n",
       "      <td>0.0</td>\n",
       "      <td>0.353063</td>\n",
       "      <td>0.021807</td>\n",
       "      <td>0.020768</td>\n",
       "      <td>0.010384</td>\n",
       "      <td>170.0</td>\n",
       "      <td>70720.0</td>\n",
       "    </tr>\n",
       "    <tr>\n",
       "      <th>2</th>\n",
       "      <td>12370</td>\n",
       "      <td>0.0</td>\n",
       "      <td>0.944889</td>\n",
       "      <td>8.451108</td>\n",
       "      <td>0.110569</td>\n",
       "      <td>0.357973</td>\n",
       "      <td>0.023152</td>\n",
       "      <td>0.120780</td>\n",
       "      <td>0.277767</td>\n",
       "      <td>-0.000161</td>\n",
       "      <td>...</td>\n",
       "      <td>0.0</td>\n",
       "      <td>0.0</td>\n",
       "      <td>0.0</td>\n",
       "      <td>0.0</td>\n",
       "      <td>0.353063</td>\n",
       "      <td>0.021807</td>\n",
       "      <td>0.020768</td>\n",
       "      <td>0.010384</td>\n",
       "      <td>58.0</td>\n",
       "      <td>37584.0</td>\n",
       "    </tr>\n",
       "    <tr>\n",
       "      <th>3</th>\n",
       "      <td>21479</td>\n",
       "      <td>0.0</td>\n",
       "      <td>0.947016</td>\n",
       "      <td>8.281770</td>\n",
       "      <td>0.082200</td>\n",
       "      <td>0.276062</td>\n",
       "      <td>0.009322</td>\n",
       "      <td>0.170226</td>\n",
       "      <td>0.321603</td>\n",
       "      <td>0.000231</td>\n",
       "      <td>...</td>\n",
       "      <td>0.0</td>\n",
       "      <td>1.0</td>\n",
       "      <td>1.0</td>\n",
       "      <td>1.0</td>\n",
       "      <td>0.353063</td>\n",
       "      <td>0.021807</td>\n",
       "      <td>0.020768</td>\n",
       "      <td>0.010384</td>\n",
       "      <td>128.0</td>\n",
       "      <td>88320.0</td>\n",
       "    </tr>\n",
       "    <tr>\n",
       "      <th>4</th>\n",
       "      <td>29078</td>\n",
       "      <td>0.0</td>\n",
       "      <td>0.945593</td>\n",
       "      <td>7.880259</td>\n",
       "      <td>0.067525</td>\n",
       "      <td>0.282774</td>\n",
       "      <td>0.025579</td>\n",
       "      <td>0.108638</td>\n",
       "      <td>0.167391</td>\n",
       "      <td>0.000134</td>\n",
       "      <td>...</td>\n",
       "      <td>0.0</td>\n",
       "      <td>0.0</td>\n",
       "      <td>0.0</td>\n",
       "      <td>0.0</td>\n",
       "      <td>0.353063</td>\n",
       "      <td>0.021807</td>\n",
       "      <td>0.020768</td>\n",
       "      <td>0.010384</td>\n",
       "      <td>78.0</td>\n",
       "      <td>50622.0</td>\n",
       "    </tr>\n",
       "  </tbody>\n",
       "</table>\n",
       "<p>5 rows × 586 columns</p>\n",
       "</div>"
      ],
      "text/plain": [
       "      id  money  POS_recharge_mean  amount_mean  bus_mean  canteen_mean  \\\n",
       "0    316    0.0           0.970361     6.086440  0.046161      0.291770   \n",
       "1   7399    0.0           0.970488     8.164384  0.063330      0.353499   \n",
       "2  12370    0.0           0.944889     8.451108  0.110569      0.357973   \n",
       "3  21479    0.0           0.947016     8.281770  0.082200      0.276062   \n",
       "4  29078    0.0           0.945593     7.880259  0.067525      0.282774   \n",
       "\n",
       "   card_recharge_mean  f_ten_canteen_mean  f_ten_place_mean  hospital_mean  \\\n",
       "0            0.022220            0.174279          0.328624      -0.000149   \n",
       "1            0.031007            0.151998          0.310721       0.000158   \n",
       "2            0.023152            0.120780          0.277767      -0.000161   \n",
       "3            0.009322            0.170226          0.321603       0.000231   \n",
       "4            0.025579            0.108638          0.167391       0.000134   \n",
       "\n",
       "         ...          borrow_resting_day_rate  borrow_working_day_rate  \\\n",
       "0        ...                              0.0                      0.0   \n",
       "1        ...                              0.0                      0.0   \n",
       "2        ...                              0.0                      0.0   \n",
       "3        ...                              0.0                      1.0   \n",
       "4        ...                              0.0                      0.0   \n",
       "\n",
       "   borrow_day_sum  borrow_day_per  0_percent  1000_percent  1500_percent  \\\n",
       "0             0.0             0.0   0.353063      0.021807      0.020768   \n",
       "1             0.0             0.0   0.353063      0.021807      0.020768   \n",
       "2             0.0             0.0   0.353063      0.021807      0.020768   \n",
       "3             1.0             1.0   0.353063      0.021807      0.020768   \n",
       "4             0.0             0.0   0.353063      0.021807      0.020768   \n",
       "\n",
       "   2000_percent  amount_college_rank  amount_score_rank  \n",
       "0      0.010384                213.0           160176.0  \n",
       "1      0.010384                170.0            70720.0  \n",
       "2      0.010384                 58.0            37584.0  \n",
       "3      0.010384                128.0            88320.0  \n",
       "4      0.010384                 78.0            50622.0  \n",
       "\n",
       "[5 rows x 586 columns]"
      ]
     },
     "execution_count": 7,
     "metadata": {},
     "output_type": "execute_result"
    }
   ],
   "source": [
    "all_feature_test.head()"
   ]
  },
  {
   "cell_type": "code",
   "execution_count": 8,
   "metadata": {
    "collapsed": true
   },
   "outputs": [],
   "source": [
    "label='money'\n",
    "IDcol='id'\n",
    "ids=all_feature_test['id'].values\n",
    "predictors=[x for x in all_feature_train.columns if x not in ['money','id']]"
   ]
  },
  {
   "cell_type": "code",
   "execution_count": 9,
   "metadata": {
    "collapsed": false
   },
   "outputs": [],
   "source": [
    "#GBDT\n",
    "from sklearn.ensemble import GradientBoostingClassifier\n",
    "\n",
    "#交叉验证测评\n",
    "from sklearn import metrics\n",
    "from sklearn.model_selection import cross_val_score\n",
    "\n",
    "#数据二值化\n",
    "#from sklearn.preprocessing import Binarizer\n",
    "\n",
    "#k折分层\n",
    "from sklearn.model_selection import StratifiedKFold\n",
    "from sklearn.model_selection import KFold\n",
    "\n",
    "\n",
    "#网格调参\n",
    "from sklearn.model_selection import GridSearchCV\n",
    "\n",
    "import matplotlib.pylab as plt\n",
    "%matplotlib inline\n",
    "from matplotlib.pylab import rcParams\n",
    "rcParams['figure.figsize'] = 8, 4"
   ]
  },
  {
   "cell_type": "code",
   "execution_count": 10,
   "metadata": {
    "collapsed": false
   },
   "outputs": [
    {
     "name": "stdout",
     "output_type": "stream",
     "text": [
      "741 149\n",
      "465 93\n",
      "354 71\n",
      "741 148\n",
      "465 93\n",
      "354 71\n",
      "741 148\n",
      "465 93\n",
      "354 71\n",
      "741 148\n",
      "465 93\n",
      "354 71\n",
      "741 148\n",
      "465 93\n",
      "354 70\n"
     ]
    }
   ],
   "source": [
    "#分层划分训练测试集（根据原样本获奖人数分布划分，划分后子样本获奖人数比例与样本一致）\n",
    "\n",
    "#X=all_feature_train.drop(['id','money'],axis=1)\n",
    "money=[1000,1500,2000]\n",
    "skf = StratifiedKFold(n_splits=5,random_state=1359,shuffle=True)\n",
    "for train, test in skf.split(X_new_train,all_feature_train['money']):\n",
    "    #原样本与分层划分样本获奖人数比例比较\n",
    "    train1=all_feature_train.ix[test]\n",
    "    for i in range(len(money)):\n",
    "        train_i=all_feature_train[all_feature_train['money']==money[i]]\n",
    "        test_i=train1[train1['money']==money[i]]\n",
    "        print len(train_i), len(test_i)"
   ]
  },
  {
   "cell_type": "code",
   "execution_count": 11,
   "metadata": {
    "collapsed": false
   },
   "outputs": [
    {
     "name": "stdout",
     "output_type": "stream",
     "text": [
      "741 149\n",
      "465 98\n",
      "354 87\n",
      "741 172\n",
      "465 90\n",
      "354 69\n",
      "741 147\n",
      "465 97\n",
      "354 71\n",
      "741 134\n",
      "465 86\n",
      "354 69\n",
      "741 139\n",
      "465 94\n",
      "354 58\n"
     ]
    }
   ],
   "source": [
    "#不分层划分\n",
    "\n",
    "#X=all_feature_train.drop(['id','money'],axis=1)\n",
    "money=[1000,1500,2000]\n",
    "kf=KFold(n_splits=5,random_state=2017,shuffle=True)\n",
    "for train, test in kf.split(X_new_train):\n",
    "    #原样本与未分层划分样本获奖人数比例比较\n",
    "    train2=all_feature_train.ix[test]\n",
    "    for i in range(len(money)):\n",
    "        train_i=all_feature_train[all_feature_train['money']==money[i]]\n",
    "        test_i=train2[train2['money']==money[i]]\n",
    "        print len(train_i), len(test_i)"
   ]
  },
  {
   "cell_type": "code",
   "execution_count": 14,
   "metadata": {
    "collapsed": false
   },
   "outputs": [
    {
     "name": "stdout",
     "output_type": "stream",
     "text": [
      "Wall time: 11min 25s\n"
     ]
    },
    {
     "data": {
      "text/plain": [
       "array([ 0.84986226,  0.85668351,  0.85071199,  0.85392742,  0.85477941])"
      ]
     },
     "execution_count": 14,
     "metadata": {},
     "output_type": "execute_result"
    }
   ],
   "source": [
    "#分层交叉验证的准确率（结果很稳定）\n",
    "clf=GradientBoostingClassifier(random_state=2017)\n",
    "%time cv_skf=cross_val_score(clf,X_new_train,all_feature_train['money'],cv=skf)\n",
    "cv_skf"
   ]
  },
  {
   "cell_type": "code",
   "execution_count": null,
   "metadata": {
    "collapsed": true
   },
   "outputs": [],
   "source": [
    "#未分层交叉验证的准确率（结果不稳定）\n",
    "%time cv_kf=cross_val_score(clf,X_new_train,all_feature_train['money'],cv=kf)\n",
    "cv_kf"
   ]
  },
  {
   "cell_type": "code",
   "execution_count": 11,
   "metadata": {
    "collapsed": true
   },
   "outputs": [],
   "source": [
    "def modelfit(alg, dtrain, predictor, cv_folds, performCV=True, printFeatureImportance=True):\n",
    "    #算法拟合数据\n",
    "    alg.fit(dtrain[predictor], dtrain['money'])\n",
    "        \n",
    "    #用训练出模型预测测试集\n",
    "    dtrain_predictions = alg.predict(dtrain[predictor])\n",
    "    dtrain_predprob = alg.predict_proba(dtrain[predictor])[:,1]\n",
    "    \n",
    "    #标签二值化\n",
    "    #dummies=Binarizer.fit_transform(dtrain['money'])\n",
    "    \n",
    "    #显示交叉验证的准确率\n",
    "    if performCV:\n",
    "        cv_score = cross_val_score(alg, dtrain[predictor], dtrain['money'], cv=cv_folds)\n",
    "    \n",
    "    #模型输出报告\n",
    "    print \"\\nModel Report\"\n",
    "    #print \"Accuracy : %.4g\" % metrics.accuracy_score(dtrain['money'], dtrain_predictions)\n",
    "    #print \"f1_Score (micro): %f\" % metrics.f1_score(dtrain['money'], dtrain_predictions,average='micro')\n",
    "    #print \"f1_Score (macro): %f\" % metrics.f1_score(dtrain['money'], dtrain_predictions,average='macro')\n",
    "    #print  \"roc_auc_score : %f\" % metrics.roc_auc_score(dummies.T,dtrain_predprob )\n",
    "    print metrics.classification_report(dtrain['money'],dtrain_predictions)\n",
    "    if performCV:\n",
    "        print \"CV Score : Mean - %.7g | Std - %.7g | Min - %.7g | Max - %.7g\" % (np.mean(cv_score),np.std(cv_score),np.min(cv_score),np.max(cv_score))\n",
    "                \n",
    "    #重要特征显示\n",
    "    if printFeatureImportance:\n",
    "        feat_imp = pd.Series(alg.feature_importances_, predictor).sort_values(ascending=False)[:20]\n",
    "        feat_imp.plot(kind='bar', title='Feature Importances')\n",
    "        plt.ylabel('Feature Importance Score')"
   ]
  },
  {
   "cell_type": "code",
   "execution_count": 12,
   "metadata": {
    "collapsed": false
   },
   "outputs": [
    {
     "name": "stdout",
     "output_type": "stream",
     "text": [
      "\n",
      "Model Report\n",
      "             precision    recall  f1-score   support\n",
      "\n",
      "          0       0.88      1.00      0.94      9325\n",
      "       1000       0.88      0.19      0.32       741\n",
      "       1500       0.99      0.20      0.34       465\n",
      "       2000       1.00      0.22      0.36       354\n",
      "\n",
      "avg / total       0.89      0.89      0.85     10885\n",
      "\n",
      "CV Score : Mean - 0.8532845 | Std - 0.002615289 | Min - 0.8493339 | Max - 0.8571429\n"
     ]
    },
    {
     "data": {
      "image/png": "[encoded data removed]",
      "text/plain": [
       "<matplotlib.figure.Figure at 0xdf5df98>"
      ]
     },
     "metadata": {},
     "output_type": "display_data"
    }
   ],
   "source": [
    "#用默认参数训练出的基线模型(所有特征)\n",
    "gbm0 = GradientBoostingClassifier(random_state=10)\n",
    "gbm0.fit(X_train,all_feature_train['money'])\n",
    "modelfit(gbm0,all_feature_train,predictors,skf)"
   ]
  },
  {
   "cell_type": "markdown",
   "metadata": {},
   "source": [
    "### GBDT 重要参数：\n",
    "#### *learning_rate（学习率）\n",
    "#### * n_estimators（需要使用到的决定树的数量）\n",
    "#### * min_samples_split （一个节点分裂所需的最少样本数）\n",
    "#### * min_samples_leaf（成为叶子节点所需要的最少的样本数）\n",
    "#### * max_depth （树的最大深度）\n",
    "#### * max_features（节点分裂时参与判断的最大特征数）"
   ]
  },
  {
   "cell_type": "code",
   "execution_count": 13,
   "metadata": {
    "collapsed": true
   },
   "outputs": [],
   "source": [
    "def modelfit1(alg, dtrain, x_train,cv_folds, performCV=True, printFeatureImportance=True):\n",
    "    #算法拟合数据\n",
    "    alg.fit(x_train, dtrain['money'])\n",
    "        \n",
    "    #用训练出模型预测测试集\n",
    "    dtrain_predictions = alg.predict(x_train)\n",
    "    dtrain_predprob = alg.predict_proba(x_train)[:,1]\n",
    "    \n",
    "    #标签二值化\n",
    "    #binarizer = Binarizer()\n",
    "    #dummies=binarizer.fit_transform(dtrain['money'])\n",
    "    #dummies=dummies.reshape(-1,1)\n",
    "    \n",
    "    #显示交叉验证的准确率\n",
    "    if performCV:\n",
    "        cv_score = cross_val_score(alg, x_train, dtrain['money'], cv=cv_folds)\n",
    "    \n",
    "    #模型输出报告\n",
    "    print \"\\nModel Report\"\n",
    "    print \"Accuracy : %.4g\" % metrics.accuracy_score(dtrain['money'], dtrain_predictions)\n",
    "    #print \"f1_Score (micro): %f\" % metrics.f1_score(dtrain['money'], dtrain_predictions,average='micro')\n",
    "    #print \"f1_Score (macro): %f\" % metrics.f1_score(dtrain['money'], dtrain_predictions,average='macro')\n",
    "    #print  \"roc_auc_score : %f\" % metrics.roc_auc_score(dummies,dtrain_predprob )\n",
    "    print metrics.classification_report(dtrain['money'],dtrain_predictions)\n",
    "    if performCV:\n",
    "        print \"CV Score : Mean - %.7g | Std - %.7g | Min - %.7g | Max - %.7g\" % (np.mean(cv_score),np.std(cv_score),np.min(cv_score),np.max(cv_score))\n",
    "                \n",
    "    #重要特征显示\n",
    "    if printFeatureImportance:\n",
    "        feat_imp = pd.Series(alg.feature_importances_).sort_values(ascending=False)[:20]\n",
    "        feat_imp.plot(kind='bar', title='Feature Importances')\n",
    "        plt.ylabel('Feature Importance Score')"
   ]
  },
  {
   "cell_type": "code",
   "execution_count": 18,
   "metadata": {
    "collapsed": false
   },
   "outputs": [
    {
     "name": "stdout",
     "output_type": "stream",
     "text": [
      "Accuracy : 0.8877\n"
     ]
    }
   ],
   "source": [
    "print \"Accuracy : %.4g\" % metrics.accuracy_score(all_feature_train['money'], predictor1)"
   ]
  },
  {
   "cell_type": "code",
   "execution_count": 16,
   "metadata": {
    "collapsed": false
   },
   "outputs": [
    {
     "name": "stdout",
     "output_type": "stream",
     "text": [
      "\n",
      "Model Report\n",
      "Accuracy : 0.8877\n",
      "             precision    recall  f1-score   support\n",
      "\n",
      "          0       0.89      1.00      0.94      9325\n",
      "       1000       0.94      0.21      0.35       741\n",
      "       1500       0.98      0.20      0.33       465\n",
      "       2000       1.00      0.26      0.41       354\n",
      "\n",
      "avg / total       0.90      0.89      0.86     10885\n",
      "\n",
      "CV Score : Mean - 0.8525498 | Std - 0.002279001 | Min - 0.8498623 | Max - 0.8557648\n"
     ]
    },
    {
     "data": {
      "image/png": "[encoded data removed]",
      "text/plain": [
       "<matplotlib.figure.Figure at 0xa929780>"
      ]
     },
     "metadata": {},
     "output_type": "display_data"
    }
   ],
   "source": [
    "#用默认参数训练出的基线模型(所有特征)\n",
    "gbm1 = GradientBoostingClassifier(random_state=10)\n",
    "gbm1.fit(X_new_train,all_feature_train['money'])\n",
    "modelfit1(gbm1,all_feature_train,X_new_train,skf)"
   ]
  },
  {
   "cell_type": "code",
   "execution_count": 85,
   "metadata": {
    "collapsed": false
   },
   "outputs": [
    {
     "data": {
      "text/plain": [
       "array([[ 0.47331295, -1.20497156,  1.27928914, ..., -1.09457311,\n",
       "        -1.00139027, -0.87470398],\n",
       "       [-0.60523387, -1.15857854, -0.74110418, ..., -1.09457311,\n",
       "        -1.02672117, -0.7525604 ],\n",
       "       [-0.31380975,  0.01335551,  1.07682827, ..., -1.09457311,\n",
       "        -1.08688205, -0.82576388],\n",
       "       ..., \n",
       "       [ 0.32928006, -1.33940058,  0.38004419, ...,  0.06246528,\n",
       "        -0.81140852, -0.75459978],\n",
       "       [-0.26718153, -1.0478431 ,  0.1340581 , ..., -1.09457311,\n",
       "        -0.5264359 , -0.67964804],\n",
       "       [-0.37070506, -0.48604566,  0.20008316, ..., -1.09457311,\n",
       "        -0.52960226, -0.67999544]])"
      ]
     },
     "execution_count": 85,
     "metadata": {},
     "output_type": "execute_result"
    }
   ],
   "source": [
    "X_new_train"
   ]
  },
  {
   "cell_type": "code",
   "execution_count": 1,
   "metadata": {
    "collapsed": false
   },
   "outputs": [],
   "source": [
    "#调节n_estimators参数\n",
    "param_test1 = {'n_estimators':range(10,201,10)}\n",
    "gsearch1 = GridSearchCV(estimator = GradientBoostingClassifier(learning_rate=0.1, min_samples_split=2,\n",
    "                                  min_samples_leaf=1,max_depth=6,max_features='sqrt', subsample=0.8,random_state=10), \n",
    "                       param_grid = param_test1,n_jobs=4,iid=False, cv=5)\n",
    "gsearch1.fit(X_new_train,all_feature_train['money'])"
   ]
  },
  {
   "cell_type": "code",
   "execution_count": 49,
   "metadata": {
    "collapsed": false
   },
   "outputs": [
    {
     "data": {
      "text/plain": [
       "({'mean_fit_time': array([  3.36540003,   6.3848    ,   9.02879996,  11.65820003,\n",
       "          14.398     ,  17.14860001,  19.70580001,  22.53620005,\n",
       "          25.27179999,  28.17680001,  30.71320004,  33.37179999,\n",
       "          36.12379999,  38.71519995,  41.35179992,  44.04619999,\n",
       "          46.71399994,  49.51399999,  52.26360002,  50.14879999]),\n",
       "  'mean_score_time': array([ 0.02259998,  0.03759995,  0.05180001,  0.06779995,  0.09000001,\n",
       "          0.09579997,  0.1098    ,  0.12819996,  0.14119997,  0.15999999,\n",
       "          0.17159991,  0.1908    ,  0.20180001,  0.21500001,  0.22980013,\n",
       "          0.24439998,  0.26700001,  0.28160005,  0.29219995,  0.221     ]),\n",
       "  'mean_test_score': array([ 0.8530088 ,  0.83867711,  0.82792795,  0.81644324,  0.80468284,\n",
       "          0.7958621 ,  0.78704064,  0.78235445,  0.78033349,  0.77803612,\n",
       "          0.77316593,  0.77334988,  0.7705935 ,  0.76765237,  0.76746829,\n",
       "          0.76618199,  0.76535559,  0.76682562,  0.76480403,  0.76498807]),\n",
       "  'mean_train_score': array([ 0.86010563,  0.87262283,  0.88778123,  0.90277892,  0.91699574,\n",
       "          0.92960492,  0.94147909,  0.95227381,  0.96240239,  0.97191091,\n",
       "          0.97893892,  0.98566838,  0.99012407,  0.9938218 ,  0.9963482 ,\n",
       "          0.99793294,  0.99903537,  0.99949472,  0.99977033,  0.9998622 ]),\n",
       "  'param_n_estimators': masked_array(data = [10 20 30 40 50 60 70 80 90 100 110 120 130 140 150 160 170 180 190 200],\n",
       "               mask = [False False False False False False False False False False False False\n",
       "   False False False False False False False False],\n",
       "         fill_value = ?),\n",
       "  'params': ({'n_estimators': 10},\n",
       "   {'n_estimators': 20},\n",
       "   {'n_estimators': 30},\n",
       "   {'n_estimators': 40},\n",
       "   {'n_estimators': 50},\n",
       "   {'n_estimators': 60},\n",
       "   {'n_estimators': 70},\n",
       "   {'n_estimators': 80},\n",
       "   {'n_estimators': 90},\n",
       "   {'n_estimators': 100},\n",
       "   {'n_estimators': 110},\n",
       "   {'n_estimators': 120},\n",
       "   {'n_estimators': 130},\n",
       "   {'n_estimators': 140},\n",
       "   {'n_estimators': 150},\n",
       "   {'n_estimators': 160},\n",
       "   {'n_estimators': 170},\n",
       "   {'n_estimators': 180},\n",
       "   {'n_estimators': 190},\n",
       "   {'n_estimators': 200}),\n",
       "  'rank_test_score': array([ 1,  2,  3,  4,  5,  6,  7,  8,  9, 10, 12, 11, 13, 14, 15, 17, 18,\n",
       "         16, 20, 19]),\n",
       "  'split0_test_score': array([ 0.85629017,  0.85629017,  0.85629017,  0.85629017,  0.85629017,\n",
       "          0.85629017,  0.85629017,  0.85629017,  0.85629017,  0.85629017,\n",
       "          0.85629017,  0.85629017,  0.85629017,  0.85629017,  0.85629017,\n",
       "          0.85629017,  0.85629017,  0.85629017,  0.85629017,  0.85629017]),\n",
       "  'split0_train_score': array([ 0.85781555,  0.86757781,  0.87998162,  0.89410819,  0.90846445,\n",
       "          0.92442862,  0.93648788,  0.9477432 ,  0.95899851,  0.97002412,\n",
       "          0.97725968,  0.98552888,  0.99138624,  0.99471689,  0.9972436 ,\n",
       "          0.99827725,  0.99919605,  0.99965545,  1.        ,  1.        ]),\n",
       "  'split1_test_score': array([ 0.8383096 ,  0.76848875,  0.72301332,  0.68442811,  0.64216812,\n",
       "          0.61874139,  0.59623335,  0.585209  ,  0.57740009,  0.57418466,\n",
       "          0.56316031,  0.56178227,  0.55397336,  0.55443271,  0.55810749,\n",
       "          0.55029858,  0.54386771,  0.55121727,  0.5457051 ,  0.54340836]),\n",
       "  'split1_train_score': array([ 0.86541112,  0.88344051,  0.90158475,  0.91938447,  0.9340836 ,\n",
       "          0.94487827,  0.95555811,  0.96635278,  0.97347267,  0.97967386,\n",
       "          0.98530087,  0.9903537 ,  0.99310978,  0.99632522,  0.99793294,\n",
       "          0.99896647,  0.99977033,  0.99977033,  0.99988516,  1.        ]),\n",
       "  'split2_test_score': array([ 0.85668351,  0.85530547,  0.85163068,  0.84382177,  0.83876895,\n",
       "          0.83187873,  0.83187873,  0.82820395,  0.82406982,  0.82315113,\n",
       "          0.82177308,  0.82085439,  0.8180983 ,  0.81763895,  0.81672026,\n",
       "          0.81947634,  0.8171796 ,  0.81580156,  0.81626091,  0.81626091]),\n",
       "  'split2_train_score': array([ 0.85932476,  0.87115296,  0.88734497,  0.90319247,  0.91754708,\n",
       "          0.92960496,  0.94418925,  0.9552136 ,  0.96508957,  0.97416169,\n",
       "          0.9819706 ,  0.98736794,  0.99104272,  0.99402848,  0.99655489,\n",
       "          0.99758842,  0.99873679,  0.99919614,  0.99977033,  0.99988516]),\n",
       "  'split3_test_score': array([ 0.85668351,  0.85668351,  0.85668351,  0.85668351,  0.85714286,\n",
       "          0.85714286,  0.85714286,  0.8576022 ,  0.8576022 ,  0.85714286,\n",
       "          0.85714286,  0.85806155,  0.85806155,  0.8576022 ,  0.8576022 ,\n",
       "          0.8576022 ,  0.8576022 ,  0.8576022 ,  0.8576022 ,  0.8576022 ]),\n",
       "  'split3_train_score': array([ 0.85932476,  0.87149747,  0.88458888,  0.89733578,  0.91100138,\n",
       "          0.92282958,  0.93442811,  0.94614148,  0.95544327,  0.96658245,\n",
       "          0.97335783,  0.98082223,  0.98553055,  0.99069821,  0.99333946,\n",
       "          0.9968994 ,  0.99827745,  0.99942582,  0.99954065,  0.99954065]),\n",
       "  'split4_test_score': array([ 0.85707721,  0.85661765,  0.85202206,  0.84099265,  0.82904412,\n",
       "          0.81525735,  0.79365809,  0.78446691,  0.78630515,  0.77941176,\n",
       "          0.76746324,  0.76976103,  0.76654412,  0.75229779,  0.74862132,\n",
       "          0.74724265,  0.75183824,  0.75321691,  0.74816176,  0.75137868]),\n",
       "  'split4_train_score': array([ 0.85865197,  0.8694454 ,  0.8854059 ,  0.89987369,  0.91388219,\n",
       "          0.92628316,  0.93673212,  0.94591802,  0.95900792,  0.96911241,\n",
       "          0.9768056 ,  0.98426915,  0.98955104,  0.99334022,  0.99667011,\n",
       "          0.99793317,  0.99919623,  0.99942588,  0.99965553,  0.99988518]),\n",
       "  'std_fit_time': array([ 0.33138415,  0.09514494,  0.084561  ,  0.12579737,  0.18021537,\n",
       "          0.17872497,  0.1514747 ,  0.20349292,  0.21439159,  0.30750246,\n",
       "          0.3243624 ,  0.22326072,  0.27301318,  0.36496757,  0.21277443,\n",
       "          0.25675695,  0.31496346,  0.48886846,  0.50915637,  5.55001951]),\n",
       "  'std_score_time': array([ 0.00101976,  0.00135638,  0.00183294,  0.00278565,  0.01485934,\n",
       "          0.00231521,  0.00222704,  0.00159998,  0.00462161,  0.00497998,\n",
       "          0.00512253,  0.0116516 ,  0.00691091,  0.00460436,  0.00376299,\n",
       "          0.0056781 ,  0.01043072,  0.01100183,  0.00172043,  0.06952707]),\n",
       "  'std_test_score': array([ 0.00735381,  0.03509764,  0.052499  ,  0.06631336,  0.08195333,\n",
       "          0.08994666,  0.09815446,  0.10208005,  0.10475721,  0.10580572,\n",
       "          0.10996299,  0.11053106,  0.11330664,  0.11326489,  0.11191636,\n",
       "          0.11513625,  0.11722104,  0.11429356,  0.11654212,  0.11732446]),\n",
       "  'std_train_score': array([ 0.00271018,  0.00558565,  0.00731293,  0.0088223 ,  0.0090632 ,\n",
       "          0.00796252,  0.00778108,  0.00781521,  0.00634524,  0.00458505,\n",
       "          0.00419964,  0.00317185,  0.00256048,  0.00184931,  0.0015819 ,\n",
       "          0.000689  ,  0.00050109,  0.00020021,  0.0001624 ,  0.00016878])},\n",
       " {'n_estimators': 10},\n",
       " 0.85300879991101619)"
      ]
     },
     "execution_count": 49,
     "metadata": {},
     "output_type": "execute_result"
    }
   ],
   "source": [
    "#查看调参结果\n",
    "gsearch1.cv_results_,gsearch1.best_params_,gsearch1.best_score_"
   ]
  },
  {
   "cell_type": "code",
   "execution_count": 2,
   "metadata": {
    "collapsed": false
   },
   "outputs": [],
   "source": [
    "param_test2 = {'min_samples_split':range(2,11,1),'min_samples_leaf':range(1,11,1)}\n",
    "gsearch2 = GridSearchCV(estimator = GradientBoostingClassifier(learning_rate=0.1, n_estimators=100,max_depth=6,\n",
    "                                                 max_features='sqrt', subsample=0.8, random_state=10), \n",
    "                       param_grid = param_test2,n_jobs=4,iid=False, cv=5)\n",
    "%time gsearch2.fit(X_new_train,all_feature_train['money'])"
   ]
  },
  {
   "cell_type": "code",
   "execution_count": 16,
   "metadata": {
    "collapsed": false
   },
   "outputs": [
    {
     "data": {
      "text/plain": [
       "({'mean_fit_time': array([ 30.44099998,  29.71120005,  29.48419995,  29.09499998,\n",
       "          28.85220008,  28.66859999,  28.48960004,  28.53659992,  26.03719988]),\n",
       "  'mean_score_time': array([ 0.15700006,  0.15939994,  0.15680003,  0.15699997,  0.16099997,\n",
       "          0.15820007,  0.15539994,  0.16560001,  0.13640013]),\n",
       "  'mean_test_score': array([ 0.78795896,  0.78382453,  0.77886125,  0.78354744,  0.78097518,\n",
       "          0.77757478,  0.77895468,  0.78161907,  0.77996335]),\n",
       "  'mean_train_score': array([ 0.9848416 ,  0.9846578 ,  0.98539278,  0.98385402,  0.98311899,\n",
       "          0.98210838,  0.98171803,  0.98061556,  0.98070742]),\n",
       "  'param_min_samples_split': masked_array(data = [2 3 4 5 6 7 8 9 10],\n",
       "               mask = [False False False False False False False False False],\n",
       "         fill_value = ?),\n",
       "  'params': ({'min_samples_split': 2},\n",
       "   {'min_samples_split': 3},\n",
       "   {'min_samples_split': 4},\n",
       "   {'min_samples_split': 5},\n",
       "   {'min_samples_split': 6},\n",
       "   {'min_samples_split': 7},\n",
       "   {'min_samples_split': 8},\n",
       "   {'min_samples_split': 9},\n",
       "   {'min_samples_split': 10}),\n",
       "  'rank_test_score': array([1, 2, 8, 3, 5, 9, 7, 4, 6]),\n",
       "  'split0_test_score': array([ 0.85674931,  0.85674931,  0.85629017,  0.85674931,  0.85674931,\n",
       "          0.85629017,  0.85674931,  0.85629017,  0.85629017]),\n",
       "  'split0_train_score': array([ 0.98219823,  0.98093488,  0.98323188,  0.98173883,  0.97944183,\n",
       "          0.97783393,  0.97909728,  0.97714483,  0.97553692]),\n",
       "  'split1_test_score': array([ 0.61001378,  0.58980248,  0.58888379,  0.60174552,  0.58842444,\n",
       "          0.58658705,  0.57785944,  0.58888379,  0.59807074]),\n",
       "  'split1_train_score': array([ 0.99265044,  0.99333946,  0.99127239,  0.9916169 ,  0.9903537 ,\n",
       "          0.99104272,  0.98989435,  0.98863114,  0.989435  ]),\n",
       "  'split2_test_score': array([ 0.82820395,  0.83004134,  0.83279743,  0.83233808,  0.83141938,\n",
       "          0.83141938,  0.82544786,  0.82590721,  0.83096004]),\n",
       "  'split2_train_score': array([ 0.98828663,  0.98656408,  0.98794212,  0.98656408,  0.98621957,\n",
       "          0.98449701,  0.98484153,  0.98392283,  0.98484153]),\n",
       "  'split3_test_score': array([ 0.85484612,  0.85576481,  0.85530547,  0.85622416,  0.85668351,\n",
       "          0.85576481,  0.85622416,  0.85714286,  0.85714286]),\n",
       "  'split3_train_score': array([ 0.98231511,  0.98208544,  0.98300413,  0.98151125,  0.98093707,\n",
       "          0.97841066,  0.97875517,  0.97772164,  0.97944419]),\n",
       "  'split4_test_score': array([ 0.78998162,  0.78676471,  0.76102941,  0.77068015,  0.77159926,\n",
       "          0.7578125 ,  0.77849265,  0.77987132,  0.75735294]),\n",
       "  'split4_train_score': array([ 0.97875761,  0.98036514,  0.98151338,  0.97783902,  0.97864278,\n",
       "          0.97875761,  0.97600184,  0.97565737,  0.97427948]),\n",
       "  'std_fit_time': array([ 0.8329783 ,  0.47263665,  0.39745907,  0.43971904,  0.50889582,\n",
       "          0.55082246,  0.5042113 ,  0.45886535,  4.61634389]),\n",
       "  'std_score_time': array([ 0.00334665,  0.00372021,  0.00376298,  0.00456067,  0.00638743,\n",
       "          0.00815841,  0.00332265,  0.01393706,  0.03697888]),\n",
       "  'std_test_score': array([ 0.0921892 ,  0.10028222,  0.10115086,  0.09616491,  0.10117488,\n",
       "          0.10205479,  0.10452148,  0.10039024,  0.09795843]),\n",
       "  'std_train_score': array([ 0.00496451,  0.00485611,  0.00364675,  0.00476969,  0.00447824,\n",
       "          0.00507346,  0.0049986 ,  0.0049029 ,  0.00570806])},\n",
       " {'min_samples_split': 2},\n",
       " 0.78795895565515417)"
      ]
     },
     "execution_count": 16,
     "metadata": {},
     "output_type": "execute_result"
    }
   ],
   "source": [
    "gsearch2.cv_results_, gsearch2.best_params_, gsearch2.best_score_"
   ]
  },
  {
   "cell_type": "code",
   "execution_count": 18,
   "metadata": {
    "collapsed": false
   },
   "outputs": [
    {
     "data": {
      "text/plain": [
       "GridSearchCV(cv=5, error_score='raise',\n",
       "       estimator=GradientBoostingClassifier(criterion='friedman_mse', init=None,\n",
       "              learning_rate=0.1, loss='deviance', max_depth=6,\n",
       "              max_features='sqrt', max_leaf_nodes=None,\n",
       "              min_impurity_split=1e-07, min_samples_leaf=1,\n",
       "              min_samples_split=2, min_weight_fraction_leaf=0.0,\n",
       "              n_estimators=100, presort='auto', random_state=10,\n",
       "              subsample=0.8, verbose=0, warm_start=False),\n",
       "       fit_params={}, iid=False, n_jobs=4,\n",
       "       param_grid={'min_samples_leaf': [1, 2, 3, 4, 5, 6, 7, 8, 9, 10]},\n",
       "       pre_dispatch='2*n_jobs', refit=True, return_train_score=True,\n",
       "       scoring=None, verbose=0)"
      ]
     },
     "execution_count": 18,
     "metadata": {},
     "output_type": "execute_result"
    }
   ],
   "source": [
    "#调节min_samples_leaf参数\n",
    "\n",
    "param_test3 = {'min_samples_leaf':range(1,11,1)}\n",
    "gsearch3 = GridSearchCV(estimator = GradientBoostingClassifier(learning_rate=0.1, n_estimators=100,max_depth=6,\n",
    "                                                   min_samples_split=2,max_features='sqrt', subsample=0.8, random_state=10), \n",
    "                       param_grid = param_test3,n_jobs=4,iid=False, cv=5)\n",
    "gsearch3.fit(X_new_train,all_feature_train['money'])"
   ]
  },
  {
   "cell_type": "code",
   "execution_count": 19,
   "metadata": {
    "collapsed": false
   },
   "outputs": [
    {
     "data": {
      "text/plain": [
       "({'mean_fit_time': array([ 30.07080002,  30.26119995,  29.88919997,  30.08300004,\n",
       "          29.69519997,  29.8848    ,  30.12280002,  29.41560001,\n",
       "          29.81959991,  26.23280005]),\n",
       "  'mean_score_time': array([ 0.15700002,  0.16139994,  0.16000004,  0.16020002,  0.1586    ,\n",
       "          0.15700002,  0.16139998,  0.15779991,  0.15880008,  0.12379994]),\n",
       "  'mean_test_score': array([ 0.78795896,  0.78410069,  0.78538534,  0.78887917,  0.78970625,\n",
       "          0.78952137,  0.79172768,  0.78694924,  0.79273892,  0.7839167 ]),\n",
       "  'mean_train_score': array([ 0.9848416 ,  0.98897567,  0.98996324,  0.99065228,  0.99060634,\n",
       "          0.98961874,  0.98902161,  0.98830963,  0.98773544,  0.98688566]),\n",
       "  'param_min_samples_leaf': masked_array(data = [1 2 3 4 5 6 7 8 9 10],\n",
       "               mask = [False False False False False False False False False False],\n",
       "         fill_value = ?),\n",
       "  'params': ({'min_samples_leaf': 1},\n",
       "   {'min_samples_leaf': 2},\n",
       "   {'min_samples_leaf': 3},\n",
       "   {'min_samples_leaf': 4},\n",
       "   {'min_samples_leaf': 5},\n",
       "   {'min_samples_leaf': 6},\n",
       "   {'min_samples_leaf': 7},\n",
       "   {'min_samples_leaf': 8},\n",
       "   {'min_samples_leaf': 9},\n",
       "   {'min_samples_leaf': 10}),\n",
       "  'rank_test_score': array([ 6,  9,  8,  5,  3,  4,  2,  7,  1, 10]),\n",
       "  'split0_test_score': array([ 0.85674931,  0.85629017,  0.85629017,  0.85629017,  0.85720845,\n",
       "          0.85629017,  0.85629017,  0.85629017,  0.85629017,  0.85629017]),\n",
       "  'split0_train_score': array([ 0.98219823,  0.98748134,  0.98897439,  0.99081199,  0.98954864,\n",
       "          0.98805559,  0.98931894,  0.98862984,  0.98828529,  0.98633284]),\n",
       "  'split1_test_score': array([ 0.61001378,  0.58980248,  0.60128617,  0.59853009,  0.59531465,\n",
       "          0.60358291,  0.59761139,  0.58934313,  0.60174552,  0.59255857]),\n",
       "  'split1_train_score': array([ 0.99265044,  0.99448783,  0.9947175 ,  0.99483234,  0.9956362 ,\n",
       "          0.99552136,  0.99391364,  0.99345429,  0.99127239,  0.99184658]),\n",
       "  'split2_test_score': array([ 0.82820395,  0.82544786,  0.8373909 ,  0.82682591,  0.82958199,\n",
       "          0.83509417,  0.83601286,  0.83325678,  0.82958199,  0.82452917]),\n",
       "  'split2_train_score': array([ 0.98828663,  0.98977951,  0.99058337,  0.99081305,  0.9916169 ,\n",
       "          0.99012402,  0.989435  ,  0.989435  ,  0.98805696,  0.98863114]),\n",
       "  'split3_test_score': array([ 0.85484612,  0.85668351,  0.85622416,  0.85668351,  0.85668351,\n",
       "          0.85622416,  0.85668351,  0.85714286,  0.85668351,  0.85668351]),\n",
       "  'split3_train_score': array([ 0.98231511,  0.98633441,  0.98610473,  0.98633441,  0.98667892,\n",
       "          0.98633441,  0.9841525 ,  0.9828893 ,  0.98392283,  0.98300413]),\n",
       "  'split4_test_score': array([ 0.78998162,  0.79227941,  0.77573529,  0.80606618,  0.80974265,\n",
       "          0.79641544,  0.81204044,  0.79871324,  0.81939338,  0.78952206]),\n",
       "  'split4_train_score': array([ 0.97875761,  0.98679527,  0.98943622,  0.99046963,  0.98955104,\n",
       "          0.98805833,  0.98828798,  0.98713974,  0.98713974,  0.98461362]),\n",
       "  'std_fit_time': array([ 0.7550551 ,  0.39565055,  0.49013398,  0.41999903,  0.33747558,\n",
       "          0.42390577,  0.25276188,  0.27762319,  0.33105683,  4.21141333]),\n",
       "  'std_score_time': array([ 0.00178894,  0.00484151,  0.00509892,  0.00515361,  0.00344091,\n",
       "          0.00419527,  0.00776135,  0.00278571,  0.00278566,  0.03705886]),\n",
       "  'std_test_score': array([ 0.0921892 ,  0.10000786,  0.09668075,  0.09706677,  0.09881511,\n",
       "          0.09550377,  0.09843017,  0.10106064,  0.09661679,  0.09882475]),\n",
       "  'std_train_score': array([ 0.00496451,  0.00299978,  0.00279754,  0.00269079,  0.00296573,\n",
       "          0.00318626,  0.00311248,  0.00342302,  0.00235825,  0.00310456])},\n",
       " {'min_samples_leaf': 9},\n",
       " 0.79273891623407267)"
      ]
     },
     "execution_count": 19,
     "metadata": {},
     "output_type": "execute_result"
    }
   ],
   "source": [
    "gsearch3.cv_results_, gsearch3.best_params_, gsearch3.best_score_"
   ]
  },
  {
   "cell_type": "code",
   "execution_count": null,
   "metadata": {
    "collapsed": false
   },
   "outputs": [],
   "source": [
    "param_test4 = {'max_depth':range(20,40,1)}\n",
    "gsearch4 = GridSearchCV(estimator = GradientBoostingClassifier(learning_rate=0.1, n_estimators=100,min_samples_leaf=9,\n",
    "                                                min_samples_split=2, subsample=0.8, random_state=10), \n",
    "                       param_grid = param_test4,n_jobs=4,iid=False, cv=5)\n",
    "gsearch4.fit(X_new_train,all_feature_train['money'])"
   ]
  },
  {
   "cell_type": "code",
   "execution_count": 57,
   "metadata": {
    "collapsed": false
   },
   "outputs": [
    {
     "data": {
      "text/plain": [
       "({'mean_fit_time': array([ 2.47360001,  2.94579997,  3.01659999,  3.08740001,  3.18580003,\n",
       "          3.30079999,  3.35760007,  3.46820002,  3.54760003,  3.62259998,\n",
       "          3.69700003,  3.83199997,  3.9276    ,  3.93659997,  4.01659999,\n",
       "          4.11100006,  4.19080005,  4.2704    ,  4.38560004,  3.98380003]),\n",
       "  'mean_score_time': array([ 0.02039995,  0.02220006,  0.02400002,  0.021     ,  0.02160001,\n",
       "          0.023     ,  0.02179999,  0.02319999,  0.02220001,  0.02240005,\n",
       "          0.02519994,  0.02140002,  0.02180004,  0.02299995,  0.02339993,\n",
       "          0.02199993,  0.0223999 ,  0.02240005,  0.02140002,  0.01960001]),\n",
       "  'mean_test_score': array([ 0.85659171,  0.85659171,  0.85649984,  0.85649984,  0.85649984,\n",
       "          0.8563161 ,  0.85594863,  0.85649984,  0.85594863,  0.85649984,\n",
       "          0.85585676,  0.85604049,  0.85649984,  0.85585676,  0.85613236,\n",
       "          0.8563161 ,  0.85567302,  0.85576489,  0.85622423,  0.8563161 ]),\n",
       "  'mean_train_score': array([ 0.85668351,  0.85668351,  0.85670648,  0.85672945,  0.85670648,\n",
       "          0.85675242,  0.85670648,  0.85679835,  0.85682132,  0.85672945,\n",
       "          0.85672945,  0.85675242,  0.85675242,  0.85670648,  0.85677538,\n",
       "          0.85670648,  0.85686725,  0.85675242,  0.85682132,  0.85672945]),\n",
       "  'param_max_features': masked_array(data = [20 21 22 23 24 25 26 27 28 29 30 31 32 33 34 35 36 37 38 39],\n",
       "               mask = [False False False False False False False False False False False False\n",
       "   False False False False False False False False],\n",
       "         fill_value = ?),\n",
       "  'params': ({'max_features': 20},\n",
       "   {'max_features': 21},\n",
       "   {'max_features': 22},\n",
       "   {'max_features': 23},\n",
       "   {'max_features': 24},\n",
       "   {'max_features': 25},\n",
       "   {'max_features': 26},\n",
       "   {'max_features': 27},\n",
       "   {'max_features': 28},\n",
       "   {'max_features': 29},\n",
       "   {'max_features': 30},\n",
       "   {'max_features': 31},\n",
       "   {'max_features': 32},\n",
       "   {'max_features': 33},\n",
       "   {'max_features': 34},\n",
       "   {'max_features': 35},\n",
       "   {'max_features': 36},\n",
       "   {'max_features': 37},\n",
       "   {'max_features': 38},\n",
       "   {'max_features': 39}),\n",
       "  'rank_test_score': array([ 1,  1,  3,  3,  3,  9, 15,  3, 15,  3, 17, 14,  3, 17, 13,  9, 20,\n",
       "         19, 12,  9]),\n",
       "  'split0_test_score': array([ 0.85629017,  0.85629017,  0.85629017,  0.85629017,  0.85629017,\n",
       "          0.85629017,  0.85629017,  0.85629017,  0.85629017,  0.85629017,\n",
       "          0.85629017,  0.85629017,  0.85629017,  0.85629017,  0.85629017,\n",
       "          0.85629017,  0.85629017,  0.85629017,  0.85629017,  0.85629017]),\n",
       "  'split0_train_score': array([ 0.8567819,  0.8567819,  0.8567819,  0.8567819,  0.8567819,\n",
       "          0.8567819,  0.8567819,  0.8567819,  0.8567819,  0.8567819,\n",
       "          0.8567819,  0.8567819,  0.8567819,  0.8567819,  0.8567819,\n",
       "          0.8567819,  0.8567819,  0.8567819,  0.8567819,  0.8567819]),\n",
       "  'split1_test_score': array([ 0.85622416,  0.85622416,  0.85576481,  0.85576481,  0.85576481,\n",
       "          0.85484612,  0.85300873,  0.85576481,  0.85300873,  0.85576481,\n",
       "          0.85254938,  0.85346808,  0.85576481,  0.85254938,  0.85392742,\n",
       "          0.85484612,  0.85163068,  0.85209003,  0.85438677,  0.85484612]),\n",
       "  'split1_train_score': array([ 0.85668351,  0.85668351,  0.85679835,  0.85691318,  0.85679835,\n",
       "          0.85702802,  0.85679835,  0.85725769,  0.85737253,  0.85691318,\n",
       "          0.85691318,  0.85702802,  0.85702802,  0.85679835,  0.85714286,\n",
       "          0.85679835,  0.8576022 ,  0.85702802,  0.85737253,  0.85691318]),\n",
       "  'split2_test_score': array([ 0.85668351,  0.85668351,  0.85668351,  0.85668351,  0.85668351,\n",
       "          0.85668351,  0.85668351,  0.85668351,  0.85668351,  0.85668351,\n",
       "          0.85668351,  0.85668351,  0.85668351,  0.85668351,  0.85668351,\n",
       "          0.85668351,  0.85668351,  0.85668351,  0.85668351,  0.85668351]),\n",
       "  'split2_train_score': array([ 0.85668351,  0.85668351,  0.85668351,  0.85668351,  0.85668351,\n",
       "          0.85668351,  0.85668351,  0.85668351,  0.85668351,  0.85668351,\n",
       "          0.85668351,  0.85668351,  0.85668351,  0.85668351,  0.85668351,\n",
       "          0.85668351,  0.85668351,  0.85668351,  0.85668351,  0.85668351]),\n",
       "  'split3_test_score': array([ 0.85668351,  0.85668351,  0.85668351,  0.85668351,  0.85668351,\n",
       "          0.85668351,  0.85668351,  0.85668351,  0.85668351,  0.85668351,\n",
       "          0.85668351,  0.85668351,  0.85668351,  0.85668351,  0.85668351,\n",
       "          0.85668351,  0.85668351,  0.85668351,  0.85668351,  0.85668351]),\n",
       "  'split3_train_score': array([ 0.85668351,  0.85668351,  0.85668351,  0.85668351,  0.85668351,\n",
       "          0.85668351,  0.85668351,  0.85668351,  0.85668351,  0.85668351,\n",
       "          0.85668351,  0.85668351,  0.85668351,  0.85668351,  0.85668351,\n",
       "          0.85668351,  0.85668351,  0.85668351,  0.85668351,  0.85668351]),\n",
       "  'split4_test_score': array([ 0.85707721,  0.85707721,  0.85707721,  0.85707721,  0.85707721,\n",
       "          0.85707721,  0.85707721,  0.85707721,  0.85707721,  0.85707721,\n",
       "          0.85707721,  0.85707721,  0.85707721,  0.85707721,  0.85707721,\n",
       "          0.85707721,  0.85707721,  0.85707721,  0.85707721,  0.85707721]),\n",
       "  'split4_train_score': array([ 0.85658514,  0.85658514,  0.85658514,  0.85658514,  0.85658514,\n",
       "          0.85658514,  0.85658514,  0.85658514,  0.85658514,  0.85658514,\n",
       "          0.85658514,  0.85658514,  0.85658514,  0.85658514,  0.85658514,\n",
       "          0.85658514,  0.85658514,  0.85658514,  0.85658514,  0.85658514]),\n",
       "  'std_fit_time': array([ 0.32547422,  0.03305993,  0.02132234,  0.02059709,  0.01969161,\n",
       "          0.033784  ,  0.02999069,  0.04039   ,  0.04247638,  0.09097822,\n",
       "          0.04288583,  0.07697536,  0.0373395 ,  0.05132097,  0.03494335,\n",
       "          0.04752687,  0.02595697,  0.0362083 ,  0.09539299,  0.62287726]),\n",
       "  'std_score_time': array([ 0.00272767,  0.0013267 ,  0.00296649,  0.00089447,  0.00149666,\n",
       "          0.00141425,  0.00116617,  0.00213539,  0.00116615,  0.00149668,\n",
       "          0.00511464,  0.00135647,  0.00039995,  0.00219091,  0.00224505,\n",
       "          0.00109545,  0.0023324 ,  0.00101982,  0.00101977,  0.00662124]),\n",
       "  'std_test_score': array([ 0.00030938,  0.00030938,  0.00044386,  0.00044386,  0.00044386,\n",
       "          0.00077599,  0.00149087,  0.00044386,  0.00149087,  0.00044386,\n",
       "          0.00167231,  0.00131007,  0.00044386,  0.00167231,  0.00113021,\n",
       "          0.00077599,  0.00203643,  0.00185421,  0.00095185,  0.00077599]),\n",
       "  'std_train_score': array([  6.22202841e-05,   6.22202841e-05,   7.73379565e-05,\n",
       "           1.10954774e-04,   7.73379565e-05,   1.51197788e-04,\n",
       "           7.73379565e-05,   2.37950434e-04,   2.82542454e-04,\n",
       "           1.10954774e-04,   1.10954774e-04,   1.51197788e-04,\n",
       "           1.51197788e-04,   7.73379565e-05,   1.93986048e-04,\n",
       "           7.73379565e-05,   3.72706207e-04,   1.51197788e-04,\n",
       "           2.82542454e-04,   1.10954774e-04])},\n",
       " {'max_features': 20},\n",
       " 0.85659171217560037)"
      ]
     },
     "execution_count": 57,
     "metadata": {},
     "output_type": "execute_result"
    }
   ],
   "source": [
    "gsearch4.cv_results_, gsearch4.best_params_, gsearch4.best_score_"
   ]
  },
  {
   "cell_type": "code",
   "execution_count": 58,
   "metadata": {
    "collapsed": false
   },
   "outputs": [
    {
     "data": {
      "text/plain": [
       "GridSearchCV(cv=5, error_score='raise',\n",
       "       estimator=GradientBoostingClassifier(criterion='friedman_mse', init=None,\n",
       "              learning_rate=0.1, loss='deviance', max_depth=3,\n",
       "              max_features=20, max_leaf_nodes=None,\n",
       "              min_impurity_split=1e-07, min_samples_leaf=100,\n",
       "              min_samples_split=240, min_weight_fraction_leaf=0.0,\n",
       "              n_estimators=10, presort='auto', random_state=10,\n",
       "              subsample=0.8, verbose=0, warm_start=False),\n",
       "       fit_params={}, iid=False, n_jobs=4,\n",
       "       param_grid={'max_depth': [5, 6, 7, 8, 9, 10, 11, 12, 13, 14, 15]},\n",
       "       pre_dispatch='2*n_jobs', refit=True, return_train_score=True,\n",
       "       scoring=None, verbose=0)"
      ]
     },
     "execution_count": 58,
     "metadata": {},
     "output_type": "execute_result"
    }
   ],
   "source": [
    "param_test5 = {'max_depth':range(5,16,1)}\n",
    "gsearch5 = GridSearchCV(estimator = GradientBoostingClassifier(learning_rate=0.1, n_estimators=10,min_samples_leaf=100,\n",
    "                                                min_samples_split=240,max_features=20, subsample=0.8, random_state=10), \n",
    "                       param_grid = param_test5,n_jobs=4,iid=False, cv=5)\n",
    "gsearch5.fit(X_new_train,all_feature_train['money'])"
   ]
  },
  {
   "cell_type": "code",
   "execution_count": 59,
   "metadata": {
    "collapsed": false
   },
   "outputs": [
    {
     "data": {
      "text/plain": [
       "({'mean_fit_time': array([ 2.45840001,  3.2138    ,  3.6402    ,  3.81200008,  4.01880007,\n",
       "          4.15079999,  4.26900001,  4.39779992,  4.41919999,  4.48340001,\n",
       "          4.25320001]),\n",
       "  'mean_score_time': array([ 0.01919999,  0.02279997,  0.02380009,  0.02539997,  0.02659993,\n",
       "          0.0256001 ,  0.02519999,  0.02660003,  0.0296001 ,  0.03100004,\n",
       "          0.02179999]),\n",
       "  'mean_test_score': array([ 0.85659171,  0.85613236,  0.85659171,  0.85659171,  0.85659171,\n",
       "          0.85668358,  0.85622423,  0.85668358,  0.85622423,  0.85668358,\n",
       "          0.85640797]),\n",
       "  'mean_train_score': array([ 0.85668351,  0.85668351,  0.85670648,  0.85668351,  0.85668351,\n",
       "          0.85670648,  0.85668351,  0.85668351,  0.85679835,  0.85668351,\n",
       "          0.85675242]),\n",
       "  'param_max_depth': masked_array(data = [5 6 7 8 9 10 11 12 13 14 15],\n",
       "               mask = [False False False False False False False False False False False],\n",
       "         fill_value = ?),\n",
       "  'params': ({'max_depth': 5},\n",
       "   {'max_depth': 6},\n",
       "   {'max_depth': 7},\n",
       "   {'max_depth': 8},\n",
       "   {'max_depth': 9},\n",
       "   {'max_depth': 10},\n",
       "   {'max_depth': 11},\n",
       "   {'max_depth': 12},\n",
       "   {'max_depth': 13},\n",
       "   {'max_depth': 14},\n",
       "   {'max_depth': 15}),\n",
       "  'rank_test_score': array([ 4, 11,  4,  4,  4,  1,  9,  1,  9,  1,  8]),\n",
       "  'split0_test_score': array([ 0.85629017,  0.85629017,  0.85629017,  0.85629017,  0.85629017,\n",
       "          0.85629017,  0.85629017,  0.85629017,  0.85629017,  0.85629017,\n",
       "          0.85629017]),\n",
       "  'split0_train_score': array([ 0.8567819,  0.8567819,  0.8567819,  0.8567819,  0.8567819,\n",
       "          0.8567819,  0.8567819,  0.8567819,  0.8567819,  0.8567819,\n",
       "          0.8567819]),\n",
       "  'split1_test_score': array([ 0.85622416,  0.85392742,  0.85622416,  0.85622416,  0.85622416,\n",
       "          0.85668351,  0.85438677,  0.85668351,  0.85438677,  0.85668351,\n",
       "          0.85530547]),\n",
       "  'split1_train_score': array([ 0.85668351,  0.85668351,  0.85679835,  0.85668351,  0.85668351,\n",
       "          0.85679835,  0.85668351,  0.85668351,  0.85725769,  0.85668351,\n",
       "          0.85702802]),\n",
       "  'split2_test_score': array([ 0.85668351,  0.85668351,  0.85668351,  0.85668351,  0.85668351,\n",
       "          0.85668351,  0.85668351,  0.85668351,  0.85668351,  0.85668351,\n",
       "          0.85668351]),\n",
       "  'split2_train_score': array([ 0.85668351,  0.85668351,  0.85668351,  0.85668351,  0.85668351,\n",
       "          0.85668351,  0.85668351,  0.85668351,  0.85668351,  0.85668351,\n",
       "          0.85668351]),\n",
       "  'split3_test_score': array([ 0.85668351,  0.85668351,  0.85668351,  0.85668351,  0.85668351,\n",
       "          0.85668351,  0.85668351,  0.85668351,  0.85668351,  0.85668351,\n",
       "          0.85668351]),\n",
       "  'split3_train_score': array([ 0.85668351,  0.85668351,  0.85668351,  0.85668351,  0.85668351,\n",
       "          0.85668351,  0.85668351,  0.85668351,  0.85668351,  0.85668351,\n",
       "          0.85668351]),\n",
       "  'split4_test_score': array([ 0.85707721,  0.85707721,  0.85707721,  0.85707721,  0.85707721,\n",
       "          0.85707721,  0.85707721,  0.85707721,  0.85707721,  0.85707721,\n",
       "          0.85707721]),\n",
       "  'split4_train_score': array([ 0.85658514,  0.85658514,  0.85658514,  0.85658514,  0.85658514,\n",
       "          0.85658514,  0.85658514,  0.85658514,  0.85658514,  0.85658514,\n",
       "          0.85658514]),\n",
       "  'std_fit_time': array([ 0.32676633,  0.05110142,  0.01822526,  0.04283923,  0.0360411 ,\n",
       "          0.03693455,  0.07418089,  0.07740645,  0.13725798,  0.11087766,\n",
       "          0.42841586]),\n",
       "  'std_score_time': array([ 0.00406941,  0.00097981,  0.00040004,  0.00048994,  0.00185476,\n",
       "          0.00135645,  0.00213545,  0.0010198 ,  0.00682929,  0.01009954,\n",
       "          0.00591271]),\n",
       "  'std_test_score': array([ 0.00030938,  0.00113021,  0.00030938,  0.00030938,  0.00030938,\n",
       "          0.00024888,  0.00095185,  0.00024888,  0.00095185,  0.00024888,\n",
       "          0.00060483]),\n",
       "  'std_train_score': array([  6.22202841e-05,   6.22202841e-05,   7.73379565e-05,\n",
       "           6.22202841e-05,   6.22202841e-05,   7.73379565e-05,\n",
       "           6.22202841e-05,   6.22202841e-05,   2.37950434e-04,\n",
       "           6.22202841e-05,   1.51197788e-04])},\n",
       " {'max_depth': 10},\n",
       " 0.85668358172084624)"
      ]
     },
     "execution_count": 59,
     "metadata": {},
     "output_type": "execute_result"
    }
   ],
   "source": [
    "gsearch5.cv_results_, gsearch5.best_params_, gsearch5.best_score_"
   ]
  },
  {
   "cell_type": "code",
   "execution_count": null,
   "metadata": {
    "collapsed": true
   },
   "outputs": [],
   "source": []
  },
  {
   "cell_type": "code",
   "execution_count": null,
   "metadata": {
    "collapsed": true
   },
   "outputs": [],
   "source": []
  },
  {
   "cell_type": "code",
   "execution_count": 63,
   "metadata": {
    "collapsed": false
   },
   "outputs": [
    {
     "data": {
      "text/plain": [
       "GridSearchCV(cv=5, error_score='raise',\n",
       "       estimator=GradientBoostingClassifier(criterion='friedman_mse', init=None,\n",
       "              learning_rate=0.1, loss='deviance', max_depth=5,\n",
       "              max_features=20, max_leaf_nodes=None,\n",
       "              min_impurity_split=1e-07, min_samples_leaf=100,\n",
       "              min_samples_split=240, min_weight_fraction_leaf=0.0,\n",
       "              n_estimators=10, presort='auto', random_state=10,\n",
       "              subsample=1.0, verbose=0, warm_start=False),\n",
       "       fit_params={}, iid=False, n_jobs=4,\n",
       "       param_grid={'subsample': [0.6, 0.7, 0.75, 0.8, 0.85, 0.9]},\n",
       "       pre_dispatch='2*n_jobs', refit=True, return_train_score=True,\n",
       "       scoring=None, verbose=0)"
      ]
     },
     "execution_count": 63,
     "metadata": {},
     "output_type": "execute_result"
    }
   ],
   "source": [
    "param_test6 = {'subsample':[0.6,0.7,0.75,0.8,0.85,0.9]}\n",
    "gsearch6 = GridSearchCV(estimator = GradientBoostingClassifier(learning_rate=0.1, n_estimators=10,max_depth=5, \n",
    "                            min_samples_split=240, min_samples_leaf=100, random_state=10, max_features=20),\n",
    "                       param_grid = param_test6,n_jobs=4,iid=False, cv=5)\n",
    "gsearch6.fit(X_new_train,all_feature_train['money'])"
   ]
  },
  {
   "cell_type": "code",
   "execution_count": 64,
   "metadata": {
    "collapsed": false
   },
   "outputs": [
    {
     "data": {
      "text/plain": [
       "({'mean_fit_time': array([ 2.08919997,  2.64239993,  2.75940003,  2.84839997,  3.00959997,\n",
       "          2.85560002]),\n",
       "  'mean_score_time': array([ 0.02140002,  0.02440004,  0.023     ,  0.02339997,  0.02260003,\n",
       "          0.01820002]),\n",
       "  'mean_test_score': array([ 0.85668358,  0.85659171,  0.85668358,  0.85659171,  0.85649984,\n",
       "          0.85649984]),\n",
       "  'mean_train_score': array([ 0.85668351,  0.85670648,  0.85670648,  0.85668351,  0.85668351,\n",
       "          0.85672945]),\n",
       "  'param_subsample': masked_array(data = [0.6 0.7 0.75 0.8 0.85 0.9],\n",
       "               mask = [False False False False False False],\n",
       "         fill_value = ?),\n",
       "  'params': ({'subsample': 0.6},\n",
       "   {'subsample': 0.7},\n",
       "   {'subsample': 0.75},\n",
       "   {'subsample': 0.8},\n",
       "   {'subsample': 0.85},\n",
       "   {'subsample': 0.9}),\n",
       "  'rank_test_score': array([1, 3, 1, 3, 5, 5]),\n",
       "  'split0_test_score': array([ 0.85629017,  0.85629017,  0.85629017,  0.85629017,  0.85629017,\n",
       "          0.85629017]),\n",
       "  'split0_train_score': array([ 0.8567819,  0.8567819,  0.8567819,  0.8567819,  0.8567819,\n",
       "          0.8567819]),\n",
       "  'split1_test_score': array([ 0.85668351,  0.85622416,  0.85668351,  0.85622416,  0.85576481,\n",
       "          0.85576481]),\n",
       "  'split1_train_score': array([ 0.85668351,  0.85679835,  0.85679835,  0.85668351,  0.85668351,\n",
       "          0.85691318]),\n",
       "  'split2_test_score': array([ 0.85668351,  0.85668351,  0.85668351,  0.85668351,  0.85668351,\n",
       "          0.85668351]),\n",
       "  'split2_train_score': array([ 0.85668351,  0.85668351,  0.85668351,  0.85668351,  0.85668351,\n",
       "          0.85668351]),\n",
       "  'split3_test_score': array([ 0.85668351,  0.85668351,  0.85668351,  0.85668351,  0.85668351,\n",
       "          0.85668351]),\n",
       "  'split3_train_score': array([ 0.85668351,  0.85668351,  0.85668351,  0.85668351,  0.85668351,\n",
       "          0.85668351]),\n",
       "  'split4_test_score': array([ 0.85707721,  0.85707721,  0.85707721,  0.85707721,  0.85707721,\n",
       "          0.85707721]),\n",
       "  'split4_train_score': array([ 0.85658514,  0.85658514,  0.85658514,  0.85658514,  0.85658514,\n",
       "          0.85658514]),\n",
       "  'std_fit_time': array([ 0.30887953,  0.02702297,  0.03401526,  0.01989568,  0.09551459,\n",
       "          0.2083772 ]),\n",
       "  'std_score_time': array([ 0.0016248 ,  0.00349853,  0.00109537,  0.00293943,  0.00048986,\n",
       "          0.00604645]),\n",
       "  'std_test_score': array([ 0.00024888,  0.00030938,  0.00024888,  0.00030938,  0.00044386,\n",
       "          0.00044386]),\n",
       "  'std_train_score': array([  6.22202841e-05,   7.73379565e-05,   7.73379565e-05,\n",
       "           6.22202841e-05,   6.22202841e-05,   1.10954774e-04])},\n",
       " {'subsample': 0.6},\n",
       " 0.85668358172084624)"
      ]
     },
     "execution_count": 64,
     "metadata": {},
     "output_type": "execute_result"
    }
   ],
   "source": [
    "gsearch6.cv_results_, gsearch6.best_params_, gsearch6.best_score_"
   ]
  },
  {
   "cell_type": "code",
   "execution_count": 16,
   "metadata": {
    "collapsed": false
   },
   "outputs": [
    {
     "name": "stdout",
     "output_type": "stream",
     "text": [
      "\n",
      "Model Report\n",
      "Accuracy : 0.9306\n",
      "             precision    recall  f1-score   support\n",
      "\n",
      "          0       0.93      1.00      0.96      9325\n",
      "       1000       0.99      0.52      0.68       741\n",
      "       1500       1.00      0.51      0.68       465\n",
      "       2000       1.00      0.52      0.68       354\n",
      "\n",
      "avg / total       0.94      0.93      0.92     10885\n",
      "\n",
      "CV Score : Mean - 0.8555815 | Std - 0.001909233 | Min - 0.8534681 | Max - 0.8584559\n"
     ]
    },
    {
     "data": {
      "image/png": "[encoded data removed]",
      "text/plain": [
       "<matplotlib.figure.Figure at 0xa2eb2e8>"
      ]
     },
     "metadata": {},
     "output_type": "display_data"
    }
   ],
   "source": [
    "gbm_tuned_1 = GradientBoostingClassifier(learning_rate=0.05, n_estimators=200,max_depth=5, min_samples_split=2, \n",
    "                                         min_samples_leaf=1, max_features=20,subsample=0.8, random_state=10)\n",
    "modelfit1(gbm_tuned_1,all_feature_train, X_new_train,skf)"
   ]
  },
  {
   "cell_type": "code",
   "execution_count": 92,
   "metadata": {
    "collapsed": false
   },
   "outputs": [
    {
     "name": "stdout",
     "output_type": "stream",
     "text": [
      "\n",
      "Model Report\n",
      "Accuracy : 0.935\n",
      "             precision    recall  f1-score   support\n",
      "\n",
      "          0       0.93      1.00      0.96      9325\n",
      "       1000       1.00      0.55      0.71       741\n",
      "       1500       1.00      0.53      0.69       465\n",
      "       2000       1.00      0.56      0.72       354\n",
      "\n",
      "avg / total       0.94      0.94      0.93     10885\n",
      "\n",
      "CV Score : Mean - 0.8562244 | Std - 0.00150971 | Min - 0.8539945 | Max - 0.8585209\n"
     ]
    },
    {
     "data": {
      "image/png": "[encoded data removed]",
      "text/plain": [
       "<matplotlib.figure.Figure at 0x2ae9b710>"
      ]
     },
     "metadata": {},
     "output_type": "display_data"
    }
   ],
   "source": [
    "gbm_tuned_2 = GradientBoostingClassifier(learning_rate=0.01, n_estimators=1000,max_depth=5, min_samples_split=20, \n",
    "                                         min_samples_leaf=9, max_features=20,subsample=0.8, random_state=10)\n",
    "modelfit1(gbm_tuned_2,all_feature_train, X_new_train,skf)"
   ]
  },
  {
   "cell_type": "code",
   "execution_count": 93,
   "metadata": {
    "collapsed": false
   },
   "outputs": [
    {
     "name": "stdout",
     "output_type": "stream",
     "text": [
      "\n",
      "Model Report\n",
      "Accuracy : 0.9317\n",
      "             precision    recall  f1-score   support\n",
      "\n",
      "          0       0.93      1.00      0.96      9325\n",
      "       1000       1.00      0.53      0.69       741\n",
      "       1500       1.00      0.49      0.66       465\n",
      "       2000       1.00      0.55      0.71       354\n",
      "\n",
      "avg / total       0.94      0.93      0.92     10885\n",
      "\n",
      "CV Score : Mean - 0.8563164 | Std - 0.002100375 | Min - 0.8539274 | Max - 0.8594396\n"
     ]
    },
    {
     "data": {
      "image/png": "[encoded data removed]",
      "text/plain": [
       "<matplotlib.figure.Figure at 0x31572390>"
      ]
     },
     "metadata": {},
     "output_type": "display_data"
    }
   ],
   "source": [
    "gbm_tuned_3 = GradientBoostingClassifier(learning_rate=0.01, n_estimators=1000,max_depth=5, min_samples_split=20, \n",
    "                                         min_samples_leaf=20, max_features=20,subsample=0.8, random_state=10)\n",
    "modelfit1(gbm_tuned_3,all_feature_train, X_new_train,skf)"
   ]
  },
  {
   "cell_type": "code",
   "execution_count": 86,
   "metadata": {
    "collapsed": true
   },
   "outputs": [],
   "source": [
    "#添加一个class_weight参数\n",
    "\n",
    "def learn(x, y, flag,test_x):\n",
    "    # set sample weight\n",
    "    weight_0=1.2\n",
    "    weight_1000=6.7\n",
    "    weight_1500=7.4\n",
    "    weight_2000=12.7\n",
    "\n",
    "    weight_list = []\n",
    "    for j in range(len(y)):\n",
    "        if y[j] == 0:\n",
    "            weight_list.append(weight_0)\n",
    "        if y[j] == 1000:\n",
    "            weight_list.append(weight_1000)\n",
    "        if y[j] == 1500:\n",
    "            weight_list.append(weight_1500)\n",
    "        if y[j] == 2000:\n",
    "            weight_list.append(weight_2000)\n",
    "    if flag==1:\n",
    "        clf = gbm_tuned_1.fit(x, y, weight_list)\n",
    "        prediction_list = clf.predict(test_x)\n",
    "    else:\n",
    "        gbm1 = GradientBoostingClassifier(random_state=10)\n",
    "        clf = gbm1.fit(x, y, weight_list)\n",
    "        prediction_list = clf.predict(test_x)\n",
    "    return prediction_list"
   ]
  },
  {
   "cell_type": "code",
   "execution_count": 87,
   "metadata": {
    "collapsed": false
   },
   "outputs": [],
   "source": [
    "result_test=learn(X_new_train,all_feature_train['money'],1,X_new_test)"
   ]
  },
  {
   "cell_type": "code",
   "execution_count": 26,
   "metadata": {
    "collapsed": true
   },
   "outputs": [],
   "source": [
    "result_test1=learn(X_new_train,all_feature_train['money'],0,X_new_test)"
   ]
  },
  {
   "cell_type": "code",
   "execution_count": 88,
   "metadata": {
    "collapsed": false
   },
   "outputs": [],
   "source": [
    "a={}\n",
    "a['0']=0\n",
    "a['1000']=0\n",
    "a['1500']=0\n",
    "a['2000']=0\n",
    "for i in range(len(result_test)):\n",
    "    if result_test[i]==0:\n",
    "        a['0']+=1\n",
    "    elif result_test[i]==1000:\n",
    "        a['1000']+=1\n",
    "    elif result_test[i]==1500:\n",
    "        a['1500']+=1\n",
    "    else:\n",
    "        a['2000']+=1"
   ]
  },
  {
   "cell_type": "code",
   "execution_count": 89,
   "metadata": {
    "collapsed": false
   },
   "outputs": [
    {
     "data": {
      "text/plain": [
       "{'0': 9145, '1000': 871, '1500': 480, '2000': 389}"
      ]
     },
     "execution_count": 89,
     "metadata": {},
     "output_type": "execute_result"
    }
   ],
   "source": [
    "a"
   ]
  },
  {
   "cell_type": "code",
   "execution_count": 12,
   "metadata": {
    "collapsed": true
   },
   "outputs": [],
   "source": [
    "test_result=pd.DataFrame(columns=['studentid','subsidy'])\n",
    "test_result.studentid=ids\n",
    "test_result.subsidy=test_predicted\n",
    "test_result.subsidy=test_result.subsidy.apply(lambda x :int(x))"
   ]
  },
  {
   "cell_type": "code",
   "execution_count": null,
   "metadata": {
    "collapsed": true
   },
   "outputs": [],
   "source": [
    "#test_result.to_csv(\"output/submit2016.csv\",index=False)"
   ]
  }
 ],
 "metadata": {
  "anaconda-cloud": {},
  "kernelspec": {
   "display_name": "Python [py2]",
   "language": "python",
   "name": "Python [py2]"
  },
  "language_info": {
   "codemirror_mode": {
    "name": "ipython",
    "version": 2
   },
   "file_extension": ".py",
   "mimetype": "text/x-python",
   "name": "python",
   "nbconvert_exporter": "python",
   "pygments_lexer": "ipython2",
   "version": "2.7.12"
  }
 },
 "nbformat": 4,
 "nbformat_minor": 0
}
