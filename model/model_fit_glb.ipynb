{
 "cells": [
  {
   "cell_type": "code",
   "execution_count": 1,
   "metadata": {
    "collapsed": true
   },
   "outputs": [],
   "source": [
    "#Graphlab\n",
    "\n",
    "import graphlab as glb\n",
    "from graphlab import SFrame\n",
    "from graphlab import SArray\n",
    "\n",
    "#numpy,pandas，preprocessing\n",
    "\n",
    "import numpy as np\n",
    "import pandas as pd \n",
    "from sklearn.preprocessing import StandardScaler"
   ]
  },
  {
   "cell_type": "code",
   "execution_count": 2,
   "metadata": {
    "collapsed": false
   },
   "outputs": [],
   "source": [
    "#导入训练特征\n",
    "\n",
    "all_feature_train=pd.read_csv('all_feature_input/all_features_train.csv')\n",
    "\n",
    "#导入测试集特征\n",
    "\n",
    "all_feature_test=pd.read_csv('all_feature_input/all_features_test.csv')"
   ]
  },
  {
   "cell_type": "code",
   "execution_count": 2,
   "metadata": {
    "collapsed": true
   },
   "outputs": [],
   "source": [
    "#导入训练特征\n",
    "\n",
    "#all_feature_train=pd.read_csv('all_feature_input/all_features_train_2.csv')\n",
    "\n",
    "#导入测试集特征\n",
    "\n",
    "#all_feature_test=pd.read_csv('all_feature_input/all_features_test_2.csv')"
   ]
  },
  {
   "cell_type": "code",
   "execution_count": 10,
   "metadata": {
    "collapsed": false
   },
   "outputs": [
    {
     "data": {
      "text/html": [
       "<div>\n",
       "<table border=\"1\" class=\"dataframe\">\n",
       "  <thead>\n",
       "    <tr style=\"text-align: right;\">\n",
       "      <th></th>\n",
       "      <th>id</th>\n",
       "      <th>money</th>\n",
       "      <th>POS_recharge_mean</th>\n",
       "      <th>amount_mean</th>\n",
       "      <th>bus_mean</th>\n",
       "      <th>canteen_mean</th>\n",
       "      <th>card_recharge_mean</th>\n",
       "      <th>f_ten_canteen_mean</th>\n",
       "      <th>f_ten_place_mean</th>\n",
       "      <th>hospital_mean</th>\n",
       "      <th>...</th>\n",
       "      <th>borrow_resting_day_rate</th>\n",
       "      <th>borrow_working_day_rate</th>\n",
       "      <th>borrow_day_sum</th>\n",
       "      <th>borrow_day_per</th>\n",
       "      <th>0_percent</th>\n",
       "      <th>1000_percent</th>\n",
       "      <th>1500_percent</th>\n",
       "      <th>2000_percent</th>\n",
       "      <th>amount_college_rank</th>\n",
       "      <th>amount_score_rank</th>\n",
       "    </tr>\n",
       "  </thead>\n",
       "  <tbody>\n",
       "    <tr>\n",
       "      <th>0</th>\n",
       "      <td>316</td>\n",
       "      <td>0.0</td>\n",
       "      <td>0.970361</td>\n",
       "      <td>6.086440</td>\n",
       "      <td>0.046161</td>\n",
       "      <td>0.291770</td>\n",
       "      <td>0.022220</td>\n",
       "      <td>0.174279</td>\n",
       "      <td>0.328624</td>\n",
       "      <td>-0.000149</td>\n",
       "      <td>...</td>\n",
       "      <td>0.0</td>\n",
       "      <td>0.0</td>\n",
       "      <td>0.0</td>\n",
       "      <td>0.0</td>\n",
       "      <td>0.353063</td>\n",
       "      <td>0.021807</td>\n",
       "      <td>0.020768</td>\n",
       "      <td>0.010384</td>\n",
       "      <td>213.0</td>\n",
       "      <td>160176.0</td>\n",
       "    </tr>\n",
       "    <tr>\n",
       "      <th>1</th>\n",
       "      <td>7399</td>\n",
       "      <td>0.0</td>\n",
       "      <td>0.970488</td>\n",
       "      <td>8.164384</td>\n",
       "      <td>0.063330</td>\n",
       "      <td>0.353499</td>\n",
       "      <td>0.031007</td>\n",
       "      <td>0.151998</td>\n",
       "      <td>0.310721</td>\n",
       "      <td>0.000158</td>\n",
       "      <td>...</td>\n",
       "      <td>0.0</td>\n",
       "      <td>0.0</td>\n",
       "      <td>0.0</td>\n",
       "      <td>0.0</td>\n",
       "      <td>0.353063</td>\n",
       "      <td>0.021807</td>\n",
       "      <td>0.020768</td>\n",
       "      <td>0.010384</td>\n",
       "      <td>170.0</td>\n",
       "      <td>70720.0</td>\n",
       "    </tr>\n",
       "    <tr>\n",
       "      <th>2</th>\n",
       "      <td>12370</td>\n",
       "      <td>0.0</td>\n",
       "      <td>0.944889</td>\n",
       "      <td>8.451108</td>\n",
       "      <td>0.110569</td>\n",
       "      <td>0.357973</td>\n",
       "      <td>0.023152</td>\n",
       "      <td>0.120780</td>\n",
       "      <td>0.277767</td>\n",
       "      <td>-0.000161</td>\n",
       "      <td>...</td>\n",
       "      <td>0.0</td>\n",
       "      <td>0.0</td>\n",
       "      <td>0.0</td>\n",
       "      <td>0.0</td>\n",
       "      <td>0.353063</td>\n",
       "      <td>0.021807</td>\n",
       "      <td>0.020768</td>\n",
       "      <td>0.010384</td>\n",
       "      <td>58.0</td>\n",
       "      <td>37584.0</td>\n",
       "    </tr>\n",
       "    <tr>\n",
       "      <th>3</th>\n",
       "      <td>21479</td>\n",
       "      <td>0.0</td>\n",
       "      <td>0.947016</td>\n",
       "      <td>8.281770</td>\n",
       "      <td>0.082200</td>\n",
       "      <td>0.276062</td>\n",
       "      <td>0.009322</td>\n",
       "      <td>0.170226</td>\n",
       "      <td>0.321603</td>\n",
       "      <td>0.000231</td>\n",
       "      <td>...</td>\n",
       "      <td>0.0</td>\n",
       "      <td>1.0</td>\n",
       "      <td>1.0</td>\n",
       "      <td>1.0</td>\n",
       "      <td>0.353063</td>\n",
       "      <td>0.021807</td>\n",
       "      <td>0.020768</td>\n",
       "      <td>0.010384</td>\n",
       "      <td>128.0</td>\n",
       "      <td>88320.0</td>\n",
       "    </tr>\n",
       "    <tr>\n",
       "      <th>4</th>\n",
       "      <td>29078</td>\n",
       "      <td>0.0</td>\n",
       "      <td>0.945593</td>\n",
       "      <td>7.880259</td>\n",
       "      <td>0.067525</td>\n",
       "      <td>0.282774</td>\n",
       "      <td>0.025579</td>\n",
       "      <td>0.108638</td>\n",
       "      <td>0.167391</td>\n",
       "      <td>0.000134</td>\n",
       "      <td>...</td>\n",
       "      <td>0.0</td>\n",
       "      <td>0.0</td>\n",
       "      <td>0.0</td>\n",
       "      <td>0.0</td>\n",
       "      <td>0.353063</td>\n",
       "      <td>0.021807</td>\n",
       "      <td>0.020768</td>\n",
       "      <td>0.010384</td>\n",
       "      <td>78.0</td>\n",
       "      <td>50622.0</td>\n",
       "    </tr>\n",
       "  </tbody>\n",
       "</table>\n",
       "<p>5 rows × 586 columns</p>\n",
       "</div>"
      ],
      "text/plain": [
       "      id  money  POS_recharge_mean  amount_mean  bus_mean  canteen_mean  \\\n",
       "0    316    0.0           0.970361     6.086440  0.046161      0.291770   \n",
       "1   7399    0.0           0.970488     8.164384  0.063330      0.353499   \n",
       "2  12370    0.0           0.944889     8.451108  0.110569      0.357973   \n",
       "3  21479    0.0           0.947016     8.281770  0.082200      0.276062   \n",
       "4  29078    0.0           0.945593     7.880259  0.067525      0.282774   \n",
       "\n",
       "   card_recharge_mean  f_ten_canteen_mean  f_ten_place_mean  hospital_mean  \\\n",
       "0            0.022220            0.174279          0.328624      -0.000149   \n",
       "1            0.031007            0.151998          0.310721       0.000158   \n",
       "2            0.023152            0.120780          0.277767      -0.000161   \n",
       "3            0.009322            0.170226          0.321603       0.000231   \n",
       "4            0.025579            0.108638          0.167391       0.000134   \n",
       "\n",
       "         ...          borrow_resting_day_rate  borrow_working_day_rate  \\\n",
       "0        ...                              0.0                      0.0   \n",
       "1        ...                              0.0                      0.0   \n",
       "2        ...                              0.0                      0.0   \n",
       "3        ...                              0.0                      1.0   \n",
       "4        ...                              0.0                      0.0   \n",
       "\n",
       "   borrow_day_sum  borrow_day_per  0_percent  1000_percent  1500_percent  \\\n",
       "0             0.0             0.0   0.353063      0.021807      0.020768   \n",
       "1             0.0             0.0   0.353063      0.021807      0.020768   \n",
       "2             0.0             0.0   0.353063      0.021807      0.020768   \n",
       "3             1.0             1.0   0.353063      0.021807      0.020768   \n",
       "4             0.0             0.0   0.353063      0.021807      0.020768   \n",
       "\n",
       "   2000_percent  amount_college_rank  amount_score_rank  \n",
       "0      0.010384                213.0           160176.0  \n",
       "1      0.010384                170.0            70720.0  \n",
       "2      0.010384                 58.0            37584.0  \n",
       "3      0.010384                128.0            88320.0  \n",
       "4      0.010384                 78.0            50622.0  \n",
       "\n",
       "[5 rows x 586 columns]"
      ]
     },
     "execution_count": 10,
     "metadata": {},
     "output_type": "execute_result"
    }
   ],
   "source": [
    "all_feature_test.head()"
   ]
  },
  {
   "cell_type": "code",
   "execution_count": 27,
   "metadata": {
    "collapsed": false
   },
   "outputs": [
    {
     "data": {
      "text/plain": [
       "10885"
      ]
     },
     "execution_count": 27,
     "metadata": {},
     "output_type": "execute_result"
    }
   ],
   "source": [
    "len(all_feature_train)"
   ]
  },
  {
   "cell_type": "code",
   "execution_count": 6,
   "metadata": {
    "collapsed": false
   },
   "outputs": [],
   "source": [
    "label='money'\n",
    "IDcol='id'\n",
    "ids=all_feature_test['id'].values"
   ]
  },
  {
   "cell_type": "code",
   "execution_count": 4,
   "metadata": {
    "collapsed": false
   },
   "outputs": [],
   "source": [
    "Strain=SFrame(all_feature_train)\n",
    "Strain=Strain.remove_column('id')\n",
    "all_feature_train['money']=all_feature_test['money'].apply(lambda x:int(x))\n",
    "predictor=[x for x in all_feature_train.columns if x not in ['id','money']]"
   ]
  },
  {
   "cell_type": "code",
   "execution_count": 15,
   "metadata": {
    "collapsed": false
   },
   "outputs": [
    {
     "data": {
      "text/plain": [
       "{'0': 1, '2000': 2}"
      ]
     },
     "execution_count": 15,
     "metadata": {},
     "output_type": "execute_result"
    }
   ],
   "source": [
    "a={'0':1,'2000':2}\n",
    "a"
   ]
  },
  {
   "cell_type": "code",
   "execution_count": 16,
   "metadata": {
    "collapsed": false
   },
   "outputs": [
    {
     "name": "stdout",
     "output_type": "stream",
     "text": [
      "PROGRESS: Creating a validation set from 5 percent of training data. This may take a while.\n",
      "          You can set ``validation_set=None`` to disable validation tracking.\n",
      "\n"
     ]
    },
    {
     "data": {
      "text/html": [
       "<pre>WARNING: Detected extremely low variance for feature(s) 'lib_hour_other_per_day', 'dorm_hour00_day_mean', 'dorm_hour01_day_mean', 'dorm_hour02_day_mean', 'dorm_hour03_day_mean', 'dorm_hour04_day_mean', 'dorm_hour05_day_mean', 'dorm_hour09_day_mean', 'dorm_hour10_day_mean', 'dorm_hour13_day_mean', 'dorm_hour14_day_mean', 'dorm_hour15_day_mean', 'dorm_hour16_day_mean', 'dorm_hour19_day_mean', 'dorm_hour20_day_mean', 'dorm_hour23_day_mean', 'dorm_hour_01_05_day_mean' because all entries are nearly the same.\n",
       "Proceeding with model training using all features. If the model does not provide results of adequate quality, exclude the above mentioned feature(s) from the input dataset.</pre>"
      ],
      "text/plain": [
       "WARNING: Detected extremely low variance for feature(s) 'lib_hour_other_per_day', 'dorm_hour00_day_mean', 'dorm_hour01_day_mean', 'dorm_hour02_day_mean', 'dorm_hour03_day_mean', 'dorm_hour04_day_mean', 'dorm_hour05_day_mean', 'dorm_hour09_day_mean', 'dorm_hour10_day_mean', 'dorm_hour13_day_mean', 'dorm_hour14_day_mean', 'dorm_hour15_day_mean', 'dorm_hour16_day_mean', 'dorm_hour19_day_mean', 'dorm_hour20_day_mean', 'dorm_hour23_day_mean', 'dorm_hour_01_05_day_mean' because all entries are nearly the same.\n",
       "Proceeding with model training using all features. If the model does not provide results of adequate quality, exclude the above mentioned feature(s) from the input dataset."
      ]
     },
     "metadata": {},
     "output_type": "display_data"
    },
    {
     "data": {
      "text/html": [
       "<pre>Boosted trees classifier:</pre>"
      ],
      "text/plain": [
       "Boosted trees classifier:"
      ]
     },
     "metadata": {},
     "output_type": "display_data"
    },
    {
     "data": {
      "text/html": [
       "<pre>--------------------------------------------------------</pre>"
      ],
      "text/plain": [
       "--------------------------------------------------------"
      ]
     },
     "metadata": {},
     "output_type": "display_data"
    },
    {
     "data": {
      "text/html": [
       "<pre>Number of examples          : 10346</pre>"
      ],
      "text/plain": [
       "Number of examples          : 10346"
      ]
     },
     "metadata": {},
     "output_type": "display_data"
    },
    {
     "data": {
      "text/html": [
       "<pre>Number of classes           : 4</pre>"
      ],
      "text/plain": [
       "Number of classes           : 4"
      ]
     },
     "metadata": {},
     "output_type": "display_data"
    },
    {
     "data": {
      "text/html": [
       "<pre>Number of feature columns   : 584</pre>"
      ],
      "text/plain": [
       "Number of feature columns   : 584"
      ]
     },
     "metadata": {},
     "output_type": "display_data"
    },
    {
     "data": {
      "text/html": [
       "<pre>Number of unpacked features : 584</pre>"
      ],
      "text/plain": [
       "Number of unpacked features : 584"
      ]
     },
     "metadata": {},
     "output_type": "display_data"
    },
    {
     "data": {
      "text/html": [
       "<pre>+-----------+--------------+-------------------+---------------------+-------------------+---------------------+</pre>"
      ],
      "text/plain": [
       "+-----------+--------------+-------------------+---------------------+-------------------+---------------------+"
      ]
     },
     "metadata": {},
     "output_type": "display_data"
    },
    {
     "data": {
      "text/html": [
       "<pre>| Iteration | Elapsed Time | Training-accuracy | Validation-accuracy | Training-log_loss | Validation-log_loss |</pre>"
      ],
      "text/plain": [
       "| Iteration | Elapsed Time | Training-accuracy | Validation-accuracy | Training-log_loss | Validation-log_loss |"
      ]
     },
     "metadata": {},
     "output_type": "display_data"
    },
    {
     "data": {
      "text/html": [
       "<pre>+-----------+--------------+-------------------+---------------------+-------------------+---------------------+</pre>"
      ],
      "text/plain": [
       "+-----------+--------------+-------------------+---------------------+-------------------+---------------------+"
      ]
     },
     "metadata": {},
     "output_type": "display_data"
    },
    {
     "data": {
      "text/html": [
       "<pre>| 1         | 0.913911     | 0.877054          | 0.862709            | 0.996212          | 1.011976            |</pre>"
      ],
      "text/plain": [
       "| 1         | 0.913911     | 0.877054          | 0.862709            | 0.996212          | 1.011976            |"
      ]
     },
     "metadata": {},
     "output_type": "display_data"
    },
    {
     "data": {
      "text/html": [
       "<pre>| 2         | 1.968134     | 0.880534          | 0.866419            | 0.782065          | 0.819016            |</pre>"
      ],
      "text/plain": [
       "| 2         | 1.968134     | 0.880534          | 0.866419            | 0.782065          | 0.819016            |"
      ]
     },
     "metadata": {},
     "output_type": "display_data"
    },
    {
     "data": {
      "text/html": [
       "<pre>| 3         | 2.928797     | 0.884110          | 0.862709            | 0.642272          | 0.701652            |</pre>"
      ],
      "text/plain": [
       "| 3         | 2.928797     | 0.884110          | 0.862709            | 0.642272          | 0.701652            |"
      ]
     },
     "metadata": {},
     "output_type": "display_data"
    },
    {
     "data": {
      "text/html": [
       "<pre>| 4         | 3.862570     | 0.885656          | 0.866419            | 0.545296          | 0.625696            |</pre>"
      ],
      "text/plain": [
       "| 4         | 3.862570     | 0.885656          | 0.866419            | 0.545296          | 0.625696            |"
      ]
     },
     "metadata": {},
     "output_type": "display_data"
    },
    {
     "data": {
      "text/html": [
       "<pre>| 5         | 4.824487     | 0.886913          | 0.866419            | 0.474920          | 0.574974            |</pre>"
      ],
      "text/plain": [
       "| 5         | 4.824487     | 0.886913          | 0.866419            | 0.474920          | 0.574974            |"
      ]
     },
     "metadata": {},
     "output_type": "display_data"
    },
    {
     "data": {
      "text/html": [
       "<pre>| 6         | 5.915766     | 0.889812          | 0.866419            | 0.421783          | 0.538511            |</pre>"
      ],
      "text/plain": [
       "| 6         | 5.915766     | 0.889812          | 0.866419            | 0.421783          | 0.538511            |"
      ]
     },
     "metadata": {},
     "output_type": "display_data"
    },
    {
     "data": {
      "text/html": [
       "<pre>| 10        | 9.460864     | 0.905954          | 0.864564            | 0.289618          | 0.486296            |</pre>"
      ],
      "text/plain": [
       "| 10        | 9.460864     | 0.905954          | 0.864564            | 0.289618          | 0.486296            |"
      ]
     },
     "metadata": {},
     "output_type": "display_data"
    },
    {
     "data": {
      "text/html": [
       "<pre>+-----------+--------------+-------------------+---------------------+-------------------+---------------------+</pre>"
      ],
      "text/plain": [
       "+-----------+--------------+-------------------+---------------------+-------------------+---------------------+"
      ]
     },
     "metadata": {},
     "output_type": "display_data"
    }
   ],
   "source": [
    "#模型\n",
    "model_1 =glb.boosted_trees_classifier.create(Strain, target=label,features=predictor,random_seed=10)"
   ]
  },
  {
   "cell_type": "code",
   "execution_count": 32,
   "metadata": {
    "collapsed": false
   },
   "outputs": [
    {
     "name": "stdout",
     "output_type": "stream",
     "text": [
      "PROGRESS: Creating a validation set from 5 percent of training data. This may take a while.\n",
      "          You can set ``validation_set=None`` to disable validation tracking.\n",
      "\n"
     ]
    },
    {
     "data": {
      "text/html": [
       "<pre>WARNING: Detected extremely low variance for feature(s) 'lib_hour_other_per_day', 'dorm_hour00_day_mean', 'dorm_hour01_day_mean', 'dorm_hour02_day_mean', 'dorm_hour03_day_mean', 'dorm_hour04_day_mean', 'dorm_hour05_day_mean', 'dorm_hour09_day_mean', 'dorm_hour10_day_mean', 'dorm_hour13_day_mean', 'dorm_hour14_day_mean', 'dorm_hour15_day_mean', 'dorm_hour16_day_mean', 'dorm_hour19_day_mean', 'dorm_hour20_day_mean', 'dorm_hour23_day_mean', 'dorm_hour_01_05_day_mean' because all entries are nearly the same.\n",
       "Proceeding with model training using all features. If the model does not provide results of adequate quality, exclude the above mentioned feature(s) from the input dataset.</pre>"
      ],
      "text/plain": [
       "WARNING: Detected extremely low variance for feature(s) 'lib_hour_other_per_day', 'dorm_hour00_day_mean', 'dorm_hour01_day_mean', 'dorm_hour02_day_mean', 'dorm_hour03_day_mean', 'dorm_hour04_day_mean', 'dorm_hour05_day_mean', 'dorm_hour09_day_mean', 'dorm_hour10_day_mean', 'dorm_hour13_day_mean', 'dorm_hour14_day_mean', 'dorm_hour15_day_mean', 'dorm_hour16_day_mean', 'dorm_hour19_day_mean', 'dorm_hour20_day_mean', 'dorm_hour23_day_mean', 'dorm_hour_01_05_day_mean' because all entries are nearly the same.\n",
       "Proceeding with model training using all features. If the model does not provide results of adequate quality, exclude the above mentioned feature(s) from the input dataset."
      ]
     },
     "metadata": {},
     "output_type": "display_data"
    },
    {
     "data": {
      "text/html": [
       "<pre>Boosted trees classifier:</pre>"
      ],
      "text/plain": [
       "Boosted trees classifier:"
      ]
     },
     "metadata": {},
     "output_type": "display_data"
    },
    {
     "data": {
      "text/html": [
       "<pre>--------------------------------------------------------</pre>"
      ],
      "text/plain": [
       "--------------------------------------------------------"
      ]
     },
     "metadata": {},
     "output_type": "display_data"
    },
    {
     "data": {
      "text/html": [
       "<pre>Number of examples          : 10349</pre>"
      ],
      "text/plain": [
       "Number of examples          : 10349"
      ]
     },
     "metadata": {},
     "output_type": "display_data"
    },
    {
     "data": {
      "text/html": [
       "<pre>Number of classes           : 4</pre>"
      ],
      "text/plain": [
       "Number of classes           : 4"
      ]
     },
     "metadata": {},
     "output_type": "display_data"
    },
    {
     "data": {
      "text/html": [
       "<pre>Number of feature columns   : 584</pre>"
      ],
      "text/plain": [
       "Number of feature columns   : 584"
      ]
     },
     "metadata": {},
     "output_type": "display_data"
    },
    {
     "data": {
      "text/html": [
       "<pre>Number of unpacked features : 584</pre>"
      ],
      "text/plain": [
       "Number of unpacked features : 584"
      ]
     },
     "metadata": {},
     "output_type": "display_data"
    },
    {
     "data": {
      "text/html": [
       "<pre>+-----------+--------------+-------------------+---------------------+-------------------+---------------------+</pre>"
      ],
      "text/plain": [
       "+-----------+--------------+-------------------+---------------------+-------------------+---------------------+"
      ]
     },
     "metadata": {},
     "output_type": "display_data"
    },
    {
     "data": {
      "text/html": [
       "<pre>| Iteration | Elapsed Time | Training-accuracy | Validation-accuracy | Training-log_loss | Validation-log_loss |</pre>"
      ],
      "text/plain": [
       "| Iteration | Elapsed Time | Training-accuracy | Validation-accuracy | Training-log_loss | Validation-log_loss |"
      ]
     },
     "metadata": {},
     "output_type": "display_data"
    },
    {
     "data": {
      "text/html": [
       "<pre>+-----------+--------------+-------------------+---------------------+-------------------+---------------------+</pre>"
      ],
      "text/plain": [
       "+-----------+--------------+-------------------+---------------------+-------------------+---------------------+"
      ]
     },
     "metadata": {},
     "output_type": "display_data"
    },
    {
     "data": {
      "text/html": [
       "<pre>| 1         | 1.090609     | 0.879505          | 0.867537            | 0.996222          | 1.000919            |</pre>"
      ],
      "text/plain": [
       "| 1         | 1.090609     | 0.879505          | 0.867537            | 0.996222          | 1.000919            |"
      ]
     },
     "metadata": {},
     "output_type": "display_data"
    },
    {
     "data": {
      "text/html": [
       "<pre>| 2         | 2.130605     | 0.880278          | 0.880597            | 0.781133          | 0.795864            |</pre>"
      ],
      "text/plain": [
       "| 2         | 2.130605     | 0.880278          | 0.880597            | 0.781133          | 0.795864            |"
      ]
     },
     "metadata": {},
     "output_type": "display_data"
    },
    {
     "data": {
      "text/html": [
       "<pre>| 3         | 3.222799     | 0.881728          | 0.878731            | 0.643569          | 0.669946            |</pre>"
      ],
      "text/plain": [
       "| 3         | 3.222799     | 0.881728          | 0.878731            | 0.643569          | 0.669946            |"
      ]
     },
     "metadata": {},
     "output_type": "display_data"
    },
    {
     "data": {
      "text/html": [
       "<pre>| 4         | 4.169038     | 0.884723          | 0.878731            | 0.546426          | 0.585530            |</pre>"
      ],
      "text/plain": [
       "| 4         | 4.169038     | 0.884723          | 0.878731            | 0.546426          | 0.585530            |"
      ]
     },
     "metadata": {},
     "output_type": "display_data"
    },
    {
     "data": {
      "text/html": [
       "<pre>| 5         | 5.208526     | 0.887815          | 0.880597            | 0.474714          | 0.526863            |</pre>"
      ],
      "text/plain": [
       "| 5         | 5.208526     | 0.887815          | 0.880597            | 0.474714          | 0.526863            |"
      ]
     },
     "metadata": {},
     "output_type": "display_data"
    },
    {
     "data": {
      "text/html": [
       "<pre>| 6         | 6.185197     | 0.891294          | 0.880597            | 0.419907          | 0.485299            |</pre>"
      ],
      "text/plain": [
       "| 6         | 6.185197     | 0.891294          | 0.880597            | 0.419907          | 0.485299            |"
      ]
     },
     "metadata": {},
     "output_type": "display_data"
    },
    {
     "data": {
      "text/html": [
       "<pre>| 7         | 7.156837     | 0.894386          | 0.882463            | 0.377336          | 0.455097            |</pre>"
      ],
      "text/plain": [
       "| 7         | 7.156837     | 0.894386          | 0.882463            | 0.377336          | 0.455097            |"
      ]
     },
     "metadata": {},
     "output_type": "display_data"
    },
    {
     "data": {
      "text/html": [
       "<pre>| 8         | 8.134606     | 0.898348          | 0.882463            | 0.342358          | 0.433967            |</pre>"
      ],
      "text/plain": [
       "| 8         | 8.134606     | 0.898348          | 0.882463            | 0.342358          | 0.433967            |"
      ]
     },
     "metadata": {},
     "output_type": "display_data"
    },
    {
     "data": {
      "text/html": [
       "<pre>| 9         | 9.135032     | 0.901633          | 0.884328            | 0.314938          | 0.417634            |</pre>"
      ],
      "text/plain": [
       "| 9         | 9.135032     | 0.901633          | 0.884328            | 0.314938          | 0.417634            |"
      ]
     },
     "metadata": {},
     "output_type": "display_data"
    },
    {
     "data": {
      "text/html": [
       "<pre>| 10        | 10.217671    | 0.906078          | 0.886194            | 0.291529          | 0.411761            |</pre>"
      ],
      "text/plain": [
       "| 10        | 10.217671    | 0.906078          | 0.886194            | 0.291529          | 0.411761            |"
      ]
     },
     "metadata": {},
     "output_type": "display_data"
    },
    {
     "data": {
      "text/html": [
       "<pre>+-----------+--------------+-------------------+---------------------+-------------------+---------------------+</pre>"
      ],
      "text/plain": [
       "+-----------+--------------+-------------------+---------------------+-------------------+---------------------+"
      ]
     },
     "metadata": {},
     "output_type": "display_data"
    },
    {
     "data": {
      "text/html": [
       "<pre>WARNING: Detected extremely low variance for feature(s) 'lib_hour_other_per_day', 'dorm_hour00_day_mean', 'dorm_hour01_day_mean', 'dorm_hour02_day_mean', 'dorm_hour03_day_mean', 'dorm_hour04_day_mean', 'dorm_hour05_day_mean', 'dorm_hour09_day_mean', 'dorm_hour10_day_mean', 'dorm_hour13_day_mean', 'dorm_hour14_day_mean', 'dorm_hour15_day_mean', 'dorm_hour16_day_mean', 'dorm_hour19_day_mean', 'dorm_hour20_day_mean', 'dorm_hour23_day_mean', 'dorm_hour_01_05_day_mean' because all entries are nearly the same.\n",
       "Proceeding with model training using all features. If the model does not provide results of adequate quality, exclude the above mentioned feature(s) from the input dataset.</pre>"
      ],
      "text/plain": [
       "WARNING: Detected extremely low variance for feature(s) 'lib_hour_other_per_day', 'dorm_hour00_day_mean', 'dorm_hour01_day_mean', 'dorm_hour02_day_mean', 'dorm_hour03_day_mean', 'dorm_hour04_day_mean', 'dorm_hour05_day_mean', 'dorm_hour09_day_mean', 'dorm_hour10_day_mean', 'dorm_hour13_day_mean', 'dorm_hour14_day_mean', 'dorm_hour15_day_mean', 'dorm_hour16_day_mean', 'dorm_hour19_day_mean', 'dorm_hour20_day_mean', 'dorm_hour23_day_mean', 'dorm_hour_01_05_day_mean' because all entries are nearly the same.\n",
       "Proceeding with model training using all features. If the model does not provide results of adequate quality, exclude the above mentioned feature(s) from the input dataset."
      ]
     },
     "metadata": {},
     "output_type": "display_data"
    },
    {
     "data": {
      "text/html": [
       "<pre>Boosted trees classifier:</pre>"
      ],
      "text/plain": [
       "Boosted trees classifier:"
      ]
     },
     "metadata": {},
     "output_type": "display_data"
    },
    {
     "data": {
      "text/html": [
       "<pre>--------------------------------------------------------</pre>"
      ],
      "text/plain": [
       "--------------------------------------------------------"
      ]
     },
     "metadata": {},
     "output_type": "display_data"
    },
    {
     "data": {
      "text/html": [
       "<pre>Number of examples          : 10885</pre>"
      ],
      "text/plain": [
       "Number of examples          : 10885"
      ]
     },
     "metadata": {},
     "output_type": "display_data"
    },
    {
     "data": {
      "text/html": [
       "<pre>Number of classes           : 4</pre>"
      ],
      "text/plain": [
       "Number of classes           : 4"
      ]
     },
     "metadata": {},
     "output_type": "display_data"
    },
    {
     "data": {
      "text/html": [
       "<pre>Number of feature columns   : 584</pre>"
      ],
      "text/plain": [
       "Number of feature columns   : 584"
      ]
     },
     "metadata": {},
     "output_type": "display_data"
    },
    {
     "data": {
      "text/html": [
       "<pre>Number of unpacked features : 584</pre>"
      ],
      "text/plain": [
       "Number of unpacked features : 584"
      ]
     },
     "metadata": {},
     "output_type": "display_data"
    },
    {
     "data": {
      "text/html": [
       "<pre>+-----------+--------------+-------------------+---------------------+-------------------+---------------------+</pre>"
      ],
      "text/plain": [
       "+-----------+--------------+-------------------+---------------------+-------------------+---------------------+"
      ]
     },
     "metadata": {},
     "output_type": "display_data"
    },
    {
     "data": {
      "text/html": [
       "<pre>| Iteration | Elapsed Time | Training-accuracy | Validation-accuracy | Training-log_loss | Validation-log_loss |</pre>"
      ],
      "text/plain": [
       "| Iteration | Elapsed Time | Training-accuracy | Validation-accuracy | Training-log_loss | Validation-log_loss |"
      ]
     },
     "metadata": {},
     "output_type": "display_data"
    },
    {
     "data": {
      "text/html": [
       "<pre>+-----------+--------------+-------------------+---------------------+-------------------+---------------------+</pre>"
      ],
      "text/plain": [
       "+-----------+--------------+-------------------+---------------------+-------------------+---------------------+"
      ]
     },
     "metadata": {},
     "output_type": "display_data"
    },
    {
     "data": {
      "text/html": [
       "<pre>| 1         | 1.218543     | 0.875517          | 0.873220            | 0.996739          | 1.000838            |</pre>"
      ],
      "text/plain": [
       "| 1         | 1.218543     | 0.875517          | 0.873220            | 0.996739          | 1.000838            |"
      ]
     },
     "metadata": {},
     "output_type": "display_data"
    },
    {
     "data": {
      "text/html": [
       "<pre>| 2         | 2.321166     | 0.879467          | 0.876895            | 0.784137          | 0.791852            |</pre>"
      ],
      "text/plain": [
       "| 2         | 2.321166     | 0.879467          | 0.876895            | 0.784137          | 0.791852            |"
      ]
     },
     "metadata": {},
     "output_type": "display_data"
    },
    {
     "data": {
      "text/html": [
       "<pre>| 3         | 3.402741     | 0.882683          | 0.877814            | 0.644273          | 0.652001            |</pre>"
      ],
      "text/plain": [
       "| 3         | 3.402741     | 0.882683          | 0.877814            | 0.644273          | 0.652001            |"
      ]
     },
     "metadata": {},
     "output_type": "display_data"
    },
    {
     "data": {
      "text/html": [
       "<pre>| 4         | 4.432167     | 0.884704          | 0.877814            | 0.546046          | 0.552883            |</pre>"
      ],
      "text/plain": [
       "| 4         | 4.432167     | 0.884704          | 0.877814            | 0.546046          | 0.552883            |"
      ]
     },
     "metadata": {},
     "output_type": "display_data"
    },
    {
     "data": {
      "text/html": [
       "<pre>| 5         | 5.455325     | 0.886909          | 0.882407            | 0.474044          | 0.482567            |</pre>"
      ],
      "text/plain": [
       "| 5         | 5.455325     | 0.886909          | 0.882407            | 0.474044          | 0.482567            |"
      ]
     },
     "metadata": {},
     "output_type": "display_data"
    },
    {
     "data": {
      "text/html": [
       "<pre>| 6         | 6.506094     | 0.889389          | 0.886541            | 0.420495          | 0.428716            |</pre>"
      ],
      "text/plain": [
       "| 6         | 6.506094     | 0.889389          | 0.886541            | 0.420495          | 0.428716            |"
      ]
     },
     "metadata": {},
     "output_type": "display_data"
    },
    {
     "data": {
      "text/html": [
       "<pre>| 7         | 7.595299     | 0.893891          | 0.890216            | 0.377852          | 0.388475            |</pre>"
      ],
      "text/plain": [
       "| 7         | 7.595299     | 0.893891          | 0.890216            | 0.377852          | 0.388475            |"
      ]
     },
     "metadata": {},
     "output_type": "display_data"
    },
    {
     "data": {
      "text/html": [
       "<pre>| 8         | 8.650364     | 0.897198          | 0.894809            | 0.344869          | 0.354872            |</pre>"
      ],
      "text/plain": [
       "| 8         | 8.650364     | 0.897198          | 0.894809            | 0.344869          | 0.354872            |"
      ]
     },
     "metadata": {},
     "output_type": "display_data"
    },
    {
     "data": {
      "text/html": [
       "<pre>| 9         | 9.710014     | 0.901332          | 0.900781            | 0.315167          | 0.323092            |</pre>"
      ],
      "text/plain": [
       "| 9         | 9.710014     | 0.901332          | 0.900781            | 0.315167          | 0.323092            |"
      ]
     },
     "metadata": {},
     "output_type": "display_data"
    },
    {
     "data": {
      "text/html": [
       "<pre>| 10        | 10.767486    | 0.903721          | 0.903078            | 0.292946          | 0.301014            |</pre>"
      ],
      "text/plain": [
       "| 10        | 10.767486    | 0.903721          | 0.903078            | 0.292946          | 0.301014            |"
      ]
     },
     "metadata": {},
     "output_type": "display_data"
    },
    {
     "data": {
      "text/html": [
       "<pre>+-----------+--------------+-------------------+---------------------+-------------------+---------------------+</pre>"
      ],
      "text/plain": [
       "+-----------+--------------+-------------------+---------------------+-------------------+---------------------+"
      ]
     },
     "metadata": {},
     "output_type": "display_data"
    },
    {
     "name": "stdout",
     "output_type": "stream",
     "text": [
      "150\n",
      "{'f1_score': 0.6290470234277132, 'auc': 0.9807617927868448, 'recall': 0.5169596499035751, 'precision': 0.9744922630560928, 'log_loss': 0.3010141665030884, 'roc_curve': Columns:\n",
      "\tthreshold\tfloat\n",
      "\tfpr\tfloat\n",
      "\ttpr\tfloat\n",
      "\tp\tint\n",
      "\tn\tint\n",
      "\tclass\tint\n",
      "\n",
      "Rows: 400004\n",
      "\n",
      "Data:\n",
      "+-----------+-----+-----+------+-----+-------+\n",
      "| threshold | fpr | tpr |  p   |  n  | class |\n",
      "+-----------+-----+-----+------+-----+-------+\n",
      "|    0.0    | 1.0 | 1.0 | 1857 | 320 |   0   |\n",
      "|   1e-05   | 1.0 | 1.0 | 1857 | 320 |   0   |\n",
      "|   2e-05   | 1.0 | 1.0 | 1857 | 320 |   0   |\n",
      "|   3e-05   | 1.0 | 1.0 | 1857 | 320 |   0   |\n",
      "|   4e-05   | 1.0 | 1.0 | 1857 | 320 |   0   |\n",
      "|   5e-05   | 1.0 | 1.0 | 1857 | 320 |   0   |\n",
      "|   6e-05   | 1.0 | 1.0 | 1857 | 320 |   0   |\n",
      "|   7e-05   | 1.0 | 1.0 | 1857 | 320 |   0   |\n",
      "|   8e-05   | 1.0 | 1.0 | 1857 | 320 |   0   |\n",
      "|   9e-05   | 1.0 | 1.0 | 1857 | 320 |   0   |\n",
      "+-----------+-----+-----+------+-----+-------+\n",
      "[400004 rows x 6 columns]\n",
      "Note: Only the head of the SFrame is printed.\n",
      "You can use print_rows(num_rows=m, num_columns=n) to print more rows and columns., 'confusion_matrix': Columns:\n",
      "\ttarget_label\tint\n",
      "\tpredicted_label\tint\n",
      "\tcount\tint\n",
      "\n",
      "Rows: 7\n",
      "\n",
      "Data:\n",
      "+--------------+-----------------+-------+\n",
      "| target_label | predicted_label | count |\n",
      "+--------------+-----------------+-------+\n",
      "|     1000     |        0        |  105  |\n",
      "|     2000     |        0        |   37  |\n",
      "|     2000     |       2000      |   26  |\n",
      "|     1000     |       1000      |   45  |\n",
      "|     1500     |        0        |   69  |\n",
      "|     1500     |       1500      |   38  |\n",
      "|      0       |        0        |  1857 |\n",
      "+--------------+-----------------+-------+\n",
      "[7 rows x 3 columns]\n",
      ", 'accuracy': 0.9030776297657327}\n",
      "107\n",
      "{'f1_score': 0.6290470234277132, 'auc': 0.9807617927868448, 'recall': 0.5169596499035751, 'precision': 0.9744922630560928, 'log_loss': 0.3010141665030884, 'roc_curve': Columns:\n",
      "\tthreshold\tfloat\n",
      "\tfpr\tfloat\n",
      "\ttpr\tfloat\n",
      "\tp\tint\n",
      "\tn\tint\n",
      "\tclass\tint\n",
      "\n",
      "Rows: 400004\n",
      "\n",
      "Data:\n",
      "+-----------+-----+-----+------+-----+-------+\n",
      "| threshold | fpr | tpr |  p   |  n  | class |\n",
      "+-----------+-----+-----+------+-----+-------+\n",
      "|    0.0    | 1.0 | 1.0 | 1857 | 320 |   0   |\n",
      "|   1e-05   | 1.0 | 1.0 | 1857 | 320 |   0   |\n",
      "|   2e-05   | 1.0 | 1.0 | 1857 | 320 |   0   |\n",
      "|   3e-05   | 1.0 | 1.0 | 1857 | 320 |   0   |\n",
      "|   4e-05   | 1.0 | 1.0 | 1857 | 320 |   0   |\n",
      "|   5e-05   | 1.0 | 1.0 | 1857 | 320 |   0   |\n",
      "|   6e-05   | 1.0 | 1.0 | 1857 | 320 |   0   |\n",
      "|   7e-05   | 1.0 | 1.0 | 1857 | 320 |   0   |\n",
      "|   8e-05   | 1.0 | 1.0 | 1857 | 320 |   0   |\n",
      "|   9e-05   | 1.0 | 1.0 | 1857 | 320 |   0   |\n",
      "+-----------+-----+-----+------+-----+-------+\n",
      "[400004 rows x 6 columns]\n",
      "Note: Only the head of the SFrame is printed.\n",
      "You can use print_rows(num_rows=m, num_columns=n) to print more rows and columns., 'confusion_matrix': Columns:\n",
      "\ttarget_label\tint\n",
      "\tpredicted_label\tint\n",
      "\tcount\tint\n",
      "\n",
      "Rows: 7\n",
      "\n",
      "Data:\n",
      "+--------------+-----------------+-------+\n",
      "| target_label | predicted_label | count |\n",
      "+--------------+-----------------+-------+\n",
      "|     1000     |        0        |  105  |\n",
      "|     2000     |        0        |   37  |\n",
      "|     2000     |       2000      |   26  |\n",
      "|     1000     |       1000      |   45  |\n",
      "|     1500     |        0        |   69  |\n",
      "|     1500     |       1500      |   38  |\n",
      "|      0       |        0        |  1857 |\n",
      "+--------------+-----------------+-------+\n",
      "[7 rows x 3 columns]\n",
      ", 'accuracy': 0.9030776297657327}\n",
      "63\n",
      "{'f1_score': 0.6290470234277132, 'auc': 0.9807617927868448, 'recall': 0.5169596499035751, 'precision': 0.9744922630560928, 'log_loss': 0.3010141665030884, 'roc_curve': Columns:\n",
      "\tthreshold\tfloat\n",
      "\tfpr\tfloat\n",
      "\ttpr\tfloat\n",
      "\tp\tint\n",
      "\tn\tint\n",
      "\tclass\tint\n",
      "\n",
      "Rows: 400004\n",
      "\n",
      "Data:\n",
      "+-----------+-----+-----+------+-----+-------+\n",
      "| threshold | fpr | tpr |  p   |  n  | class |\n",
      "+-----------+-----+-----+------+-----+-------+\n",
      "|    0.0    | 1.0 | 1.0 | 1857 | 320 |   0   |\n",
      "|   1e-05   | 1.0 | 1.0 | 1857 | 320 |   0   |\n",
      "|   2e-05   | 1.0 | 1.0 | 1857 | 320 |   0   |\n",
      "|   3e-05   | 1.0 | 1.0 | 1857 | 320 |   0   |\n",
      "|   4e-05   | 1.0 | 1.0 | 1857 | 320 |   0   |\n",
      "|   5e-05   | 1.0 | 1.0 | 1857 | 320 |   0   |\n",
      "|   6e-05   | 1.0 | 1.0 | 1857 | 320 |   0   |\n",
      "|   7e-05   | 1.0 | 1.0 | 1857 | 320 |   0   |\n",
      "|   8e-05   | 1.0 | 1.0 | 1857 | 320 |   0   |\n",
      "|   9e-05   | 1.0 | 1.0 | 1857 | 320 |   0   |\n",
      "+-----------+-----+-----+------+-----+-------+\n",
      "[400004 rows x 6 columns]\n",
      "Note: Only the head of the SFrame is printed.\n",
      "You can use print_rows(num_rows=m, num_columns=n) to print more rows and columns., 'confusion_matrix': Columns:\n",
      "\ttarget_label\tint\n",
      "\tpredicted_label\tint\n",
      "\tcount\tint\n",
      "\n",
      "Rows: 7\n",
      "\n",
      "Data:\n",
      "+--------------+-----------------+-------+\n",
      "| target_label | predicted_label | count |\n",
      "+--------------+-----------------+-------+\n",
      "|     1000     |        0        |  105  |\n",
      "|     2000     |        0        |   37  |\n",
      "|     2000     |       2000      |   26  |\n",
      "|     1000     |       1000      |   45  |\n",
      "|     1500     |        0        |   69  |\n",
      "|     1500     |       1500      |   38  |\n",
      "|      0       |        0        |  1857 |\n",
      "+--------------+-----------------+-------+\n",
      "[7 rows x 3 columns]\n",
      ", 'accuracy': 0.9030776297657327}\n"
     ]
    },
    {
     "data": {
      "text/html": [
       "<pre>WARNING: Detected extremely low variance for feature(s) 'lib_hour_other_per_day', 'dorm_hour00_day_mean', 'dorm_hour01_day_mean', 'dorm_hour02_day_mean', 'dorm_hour03_day_mean', 'dorm_hour04_day_mean', 'dorm_hour05_day_mean', 'dorm_hour09_day_mean', 'dorm_hour10_day_mean', 'dorm_hour13_day_mean', 'dorm_hour14_day_mean', 'dorm_hour15_day_mean', 'dorm_hour16_day_mean', 'dorm_hour19_day_mean', 'dorm_hour20_day_mean', 'dorm_hour23_day_mean', 'dorm_hour_01_05_day_mean' because all entries are nearly the same.\n",
       "Proceeding with model training using all features. If the model does not provide results of adequate quality, exclude the above mentioned feature(s) from the input dataset.</pre>"
      ],
      "text/plain": [
       "WARNING: Detected extremely low variance for feature(s) 'lib_hour_other_per_day', 'dorm_hour00_day_mean', 'dorm_hour01_day_mean', 'dorm_hour02_day_mean', 'dorm_hour03_day_mean', 'dorm_hour04_day_mean', 'dorm_hour05_day_mean', 'dorm_hour09_day_mean', 'dorm_hour10_day_mean', 'dorm_hour13_day_mean', 'dorm_hour14_day_mean', 'dorm_hour15_day_mean', 'dorm_hour16_day_mean', 'dorm_hour19_day_mean', 'dorm_hour20_day_mean', 'dorm_hour23_day_mean', 'dorm_hour_01_05_day_mean' because all entries are nearly the same.\n",
       "Proceeding with model training using all features. If the model does not provide results of adequate quality, exclude the above mentioned feature(s) from the input dataset."
      ]
     },
     "metadata": {},
     "output_type": "display_data"
    },
    {
     "data": {
      "text/html": [
       "<pre>Boosted trees classifier:</pre>"
      ],
      "text/plain": [
       "Boosted trees classifier:"
      ]
     },
     "metadata": {},
     "output_type": "display_data"
    },
    {
     "data": {
      "text/html": [
       "<pre>--------------------------------------------------------</pre>"
      ],
      "text/plain": [
       "--------------------------------------------------------"
      ]
     },
     "metadata": {},
     "output_type": "display_data"
    },
    {
     "data": {
      "text/html": [
       "<pre>Number of examples          : 10885</pre>"
      ],
      "text/plain": [
       "Number of examples          : 10885"
      ]
     },
     "metadata": {},
     "output_type": "display_data"
    },
    {
     "data": {
      "text/html": [
       "<pre>Number of classes           : 4</pre>"
      ],
      "text/plain": [
       "Number of classes           : 4"
      ]
     },
     "metadata": {},
     "output_type": "display_data"
    },
    {
     "data": {
      "text/html": [
       "<pre>Number of feature columns   : 584</pre>"
      ],
      "text/plain": [
       "Number of feature columns   : 584"
      ]
     },
     "metadata": {},
     "output_type": "display_data"
    },
    {
     "data": {
      "text/html": [
       "<pre>Number of unpacked features : 584</pre>"
      ],
      "text/plain": [
       "Number of unpacked features : 584"
      ]
     },
     "metadata": {},
     "output_type": "display_data"
    },
    {
     "data": {
      "text/html": [
       "<pre>+-----------+--------------+-------------------+---------------------+-------------------+---------------------+</pre>"
      ],
      "text/plain": [
       "+-----------+--------------+-------------------+---------------------+-------------------+---------------------+"
      ]
     },
     "metadata": {},
     "output_type": "display_data"
    },
    {
     "data": {
      "text/html": [
       "<pre>| Iteration | Elapsed Time | Training-accuracy | Validation-accuracy | Training-log_loss | Validation-log_loss |</pre>"
      ],
      "text/plain": [
       "| Iteration | Elapsed Time | Training-accuracy | Validation-accuracy | Training-log_loss | Validation-log_loss |"
      ]
     },
     "metadata": {},
     "output_type": "display_data"
    },
    {
     "data": {
      "text/html": [
       "<pre>+-----------+--------------+-------------------+---------------------+-------------------+---------------------+</pre>"
      ],
      "text/plain": [
       "+-----------+--------------+-------------------+---------------------+-------------------+---------------------+"
      ]
     },
     "metadata": {},
     "output_type": "display_data"
    },
    {
     "data": {
      "text/html": [
       "<pre>| 1         | 1.119648     | 0.875517          | 0.881488            | 0.996739          | 0.995720            |</pre>"
      ],
      "text/plain": [
       "| 1         | 1.119648     | 0.875517          | 0.881488            | 0.996739          | 0.995720            |"
      ]
     },
     "metadata": {},
     "output_type": "display_data"
    },
    {
     "data": {
      "text/html": [
       "<pre>| 2         | 2.150058     | 0.879467          | 0.883326            | 0.784137          | 0.780293            |</pre>"
      ],
      "text/plain": [
       "| 2         | 2.150058     | 0.879467          | 0.883326            | 0.784137          | 0.780293            |"
      ]
     },
     "metadata": {},
     "output_type": "display_data"
    },
    {
     "data": {
      "text/html": [
       "<pre>| 3         | 3.213367     | 0.882683          | 0.887460            | 0.644273          | 0.639323            |</pre>"
      ],
      "text/plain": [
       "| 3         | 3.213367     | 0.882683          | 0.887460            | 0.644273          | 0.639323            |"
      ]
     },
     "metadata": {},
     "output_type": "display_data"
    },
    {
     "data": {
      "text/html": [
       "<pre>| 4         | 4.288109     | 0.884704          | 0.889297            | 0.546046          | 0.540903            |</pre>"
      ],
      "text/plain": [
       "| 4         | 4.288109     | 0.884704          | 0.889297            | 0.546046          | 0.540903            |"
      ]
     },
     "metadata": {},
     "output_type": "display_data"
    },
    {
     "data": {
      "text/html": [
       "<pre>| 5         | 5.345037     | 0.886909          | 0.889297            | 0.474044          | 0.469519            |</pre>"
      ],
      "text/plain": [
       "| 5         | 5.345037     | 0.886909          | 0.889297            | 0.474044          | 0.469519            |"
      ]
     },
     "metadata": {},
     "output_type": "display_data"
    },
    {
     "data": {
      "text/html": [
       "<pre>| 6         | 6.372534     | 0.889389          | 0.891135            | 0.420495          | 0.416080            |</pre>"
      ],
      "text/plain": [
       "| 6         | 6.372534     | 0.889389          | 0.891135            | 0.420495          | 0.416080            |"
      ]
     },
     "metadata": {},
     "output_type": "display_data"
    },
    {
     "data": {
      "text/html": [
       "<pre>| 7         | 7.421556     | 0.893891          | 0.895728            | 0.377852          | 0.373233            |</pre>"
      ],
      "text/plain": [
       "| 7         | 7.421556     | 0.893891          | 0.895728            | 0.377852          | 0.373233            |"
      ]
     },
     "metadata": {},
     "output_type": "display_data"
    },
    {
     "data": {
      "text/html": [
       "<pre>| 8         | 8.462333     | 0.897198          | 0.897106            | 0.344869          | 0.340412            |</pre>"
      ],
      "text/plain": [
       "| 8         | 8.462333     | 0.897198          | 0.897106            | 0.344869          | 0.340412            |"
      ]
     },
     "metadata": {},
     "output_type": "display_data"
    },
    {
     "data": {
      "text/html": [
       "<pre>| 9         | 9.609343     | 0.901332          | 0.898484            | 0.315167          | 0.312882            |</pre>"
      ],
      "text/plain": [
       "| 9         | 9.609343     | 0.901332          | 0.898484            | 0.315167          | 0.312882            |"
      ]
     },
     "metadata": {},
     "output_type": "display_data"
    },
    {
     "data": {
      "text/html": [
       "<pre>| 10        | 10.595933    | 0.903721          | 0.903537            | 0.292946          | 0.291568            |</pre>"
      ],
      "text/plain": [
       "| 10        | 10.595933    | 0.903721          | 0.903537            | 0.292946          | 0.291568            |"
      ]
     },
     "metadata": {},
     "output_type": "display_data"
    },
    {
     "data": {
      "text/html": [
       "<pre>+-----------+--------------+-------------------+---------------------+-------------------+---------------------+</pre>"
      ],
      "text/plain": [
       "+-----------+--------------+-------------------+---------------------+-------------------+---------------------+"
      ]
     },
     "metadata": {},
     "output_type": "display_data"
    },
    {
     "name": "stdout",
     "output_type": "stream",
     "text": [
      "138\n",
      "{'f1_score': 0.5765485592127347, 'auc': 0.9761210306127288, 'recall': 0.47066267143197327, 'precision': 0.969047619047619, 'log_loss': 0.29156835172189066, 'roc_curve': Columns:\n",
      "\tthreshold\tfloat\n",
      "\tfpr\tfloat\n",
      "\ttpr\tfloat\n",
      "\tp\tint\n",
      "\tn\tint\n",
      "\tclass\tint\n",
      "\n",
      "Rows: 400004\n",
      "\n",
      "Data:\n",
      "+-----------+-----+-----+------+-----+-------+\n",
      "| threshold | fpr | tpr |  p   |  n  | class |\n",
      "+-----------+-----+-----+------+-----+-------+\n",
      "|    0.0    | 1.0 | 1.0 | 1882 | 295 |   0   |\n",
      "|   1e-05   | 1.0 | 1.0 | 1882 | 295 |   0   |\n",
      "|   2e-05   | 1.0 | 1.0 | 1882 | 295 |   0   |\n",
      "|   3e-05   | 1.0 | 1.0 | 1882 | 295 |   0   |\n",
      "|   4e-05   | 1.0 | 1.0 | 1882 | 295 |   0   |\n",
      "|   5e-05   | 1.0 | 1.0 | 1882 | 295 |   0   |\n",
      "|   6e-05   | 1.0 | 1.0 | 1882 | 295 |   0   |\n",
      "|   7e-05   | 1.0 | 1.0 | 1882 | 295 |   0   |\n",
      "|   8e-05   | 1.0 | 1.0 | 1882 | 295 |   0   |\n",
      "|   9e-05   | 1.0 | 1.0 | 1882 | 295 |   0   |\n",
      "+-----------+-----+-----+------+-----+-------+\n",
      "[400004 rows x 6 columns]\n",
      "Note: Only the head of the SFrame is printed.\n",
      "You can use print_rows(num_rows=m, num_columns=n) to print more rows and columns., 'confusion_matrix': Columns:\n",
      "\ttarget_label\tint\n",
      "\tpredicted_label\tint\n",
      "\tcount\tint\n",
      "\n",
      "Rows: 8\n",
      "\n",
      "Data:\n",
      "+--------------+-----------------+-------+\n",
      "| target_label | predicted_label | count |\n",
      "+--------------+-----------------+-------+\n",
      "|     2000     |       2000      |   22  |\n",
      "|     1000     |       1000      |   41  |\n",
      "|     2000     |        0        |   44  |\n",
      "|     1000     |        0        |   97  |\n",
      "|     1500     |        0        |   68  |\n",
      "|      0       |       1000      |   1   |\n",
      "|     1500     |       1500      |   23  |\n",
      "|      0       |        0        |  1881 |\n",
      "+--------------+-----------------+-------+\n",
      "[8 rows x 3 columns]\n",
      ", 'accuracy': 0.9035369774919614}\n",
      "91\n",
      "{'f1_score': 0.5765485592127347, 'auc': 0.9761210306127288, 'recall': 0.47066267143197327, 'precision': 0.969047619047619, 'log_loss': 0.29156835172189066, 'roc_curve': Columns:\n",
      "\tthreshold\tfloat\n",
      "\tfpr\tfloat\n",
      "\ttpr\tfloat\n",
      "\tp\tint\n",
      "\tn\tint\n",
      "\tclass\tint\n",
      "\n",
      "Rows: 400004\n",
      "\n",
      "Data:\n",
      "+-----------+-----+-----+------+-----+-------+\n",
      "| threshold | fpr | tpr |  p   |  n  | class |\n",
      "+-----------+-----+-----+------+-----+-------+\n",
      "|    0.0    | 1.0 | 1.0 | 1882 | 295 |   0   |\n",
      "|   1e-05   | 1.0 | 1.0 | 1882 | 295 |   0   |\n",
      "|   2e-05   | 1.0 | 1.0 | 1882 | 295 |   0   |\n",
      "|   3e-05   | 1.0 | 1.0 | 1882 | 295 |   0   |\n",
      "|   4e-05   | 1.0 | 1.0 | 1882 | 295 |   0   |\n",
      "|   5e-05   | 1.0 | 1.0 | 1882 | 295 |   0   |\n",
      "|   6e-05   | 1.0 | 1.0 | 1882 | 295 |   0   |\n",
      "|   7e-05   | 1.0 | 1.0 | 1882 | 295 |   0   |\n",
      "|   8e-05   | 1.0 | 1.0 | 1882 | 295 |   0   |\n",
      "|   9e-05   | 1.0 | 1.0 | 1882 | 295 |   0   |\n",
      "+-----------+-----+-----+------+-----+-------+\n",
      "[400004 rows x 6 columns]\n",
      "Note: Only the head of the SFrame is printed.\n",
      "You can use print_rows(num_rows=m, num_columns=n) to print more rows and columns., 'confusion_matrix': Columns:\n",
      "\ttarget_label\tint\n",
      "\tpredicted_label\tint\n",
      "\tcount\tint\n",
      "\n",
      "Rows: 8\n",
      "\n",
      "Data:\n",
      "+--------------+-----------------+-------+\n",
      "| target_label | predicted_label | count |\n",
      "+--------------+-----------------+-------+\n",
      "|     2000     |       2000      |   22  |\n",
      "|     1000     |       1000      |   41  |\n",
      "|     2000     |        0        |   44  |\n",
      "|     1000     |        0        |   97  |\n",
      "|     1500     |        0        |   68  |\n",
      "|      0       |       1000      |   1   |\n",
      "|     1500     |       1500      |   23  |\n",
      "|      0       |        0        |  1881 |\n",
      "+--------------+-----------------+-------+\n",
      "[8 rows x 3 columns]\n",
      ", 'accuracy': 0.9035369774919614}\n",
      "66\n",
      "{'f1_score': 0.5765485592127347, 'auc': 0.9761210306127288, 'recall': 0.47066267143197327, 'precision': 0.969047619047619, 'log_loss': 0.29156835172189066, 'roc_curve': Columns:\n",
      "\tthreshold\tfloat\n",
      "\tfpr\tfloat\n",
      "\ttpr\tfloat\n",
      "\tp\tint\n",
      "\tn\tint\n",
      "\tclass\tint\n",
      "\n",
      "Rows: 400004\n",
      "\n",
      "Data:\n",
      "+-----------+-----+-----+------+-----+-------+\n",
      "| threshold | fpr | tpr |  p   |  n  | class |\n",
      "+-----------+-----+-----+------+-----+-------+\n",
      "|    0.0    | 1.0 | 1.0 | 1882 | 295 |   0   |\n",
      "|   1e-05   | 1.0 | 1.0 | 1882 | 295 |   0   |\n",
      "|   2e-05   | 1.0 | 1.0 | 1882 | 295 |   0   |\n",
      "|   3e-05   | 1.0 | 1.0 | 1882 | 295 |   0   |\n",
      "|   4e-05   | 1.0 | 1.0 | 1882 | 295 |   0   |\n",
      "|   5e-05   | 1.0 | 1.0 | 1882 | 295 |   0   |\n",
      "|   6e-05   | 1.0 | 1.0 | 1882 | 295 |   0   |\n",
      "|   7e-05   | 1.0 | 1.0 | 1882 | 295 |   0   |\n",
      "|   8e-05   | 1.0 | 1.0 | 1882 | 295 |   0   |\n",
      "|   9e-05   | 1.0 | 1.0 | 1882 | 295 |   0   |\n",
      "+-----------+-----+-----+------+-----+-------+\n",
      "[400004 rows x 6 columns]\n",
      "Note: Only the head of the SFrame is printed.\n",
      "You can use print_rows(num_rows=m, num_columns=n) to print more rows and columns., 'confusion_matrix': Columns:\n",
      "\ttarget_label\tint\n",
      "\tpredicted_label\tint\n",
      "\tcount\tint\n",
      "\n",
      "Rows: 8\n",
      "\n",
      "Data:\n",
      "+--------------+-----------------+-------+\n",
      "| target_label | predicted_label | count |\n",
      "+--------------+-----------------+-------+\n",
      "|     2000     |       2000      |   22  |\n",
      "|     1000     |       1000      |   41  |\n",
      "|     2000     |        0        |   44  |\n",
      "|     1000     |        0        |   97  |\n",
      "|     1500     |        0        |   68  |\n",
      "|      0       |       1000      |   1   |\n",
      "|     1500     |       1500      |   23  |\n",
      "|      0       |        0        |  1881 |\n",
      "+--------------+-----------------+-------+\n",
      "[8 rows x 3 columns]\n",
      ", 'accuracy': 0.9035369774919614}\n"
     ]
    },
    {
     "data": {
      "text/html": [
       "<pre>WARNING: Detected extremely low variance for feature(s) 'lib_hour_other_per_day', 'dorm_hour00_day_mean', 'dorm_hour01_day_mean', 'dorm_hour02_day_mean', 'dorm_hour03_day_mean', 'dorm_hour04_day_mean', 'dorm_hour05_day_mean', 'dorm_hour09_day_mean', 'dorm_hour10_day_mean', 'dorm_hour13_day_mean', 'dorm_hour14_day_mean', 'dorm_hour15_day_mean', 'dorm_hour16_day_mean', 'dorm_hour19_day_mean', 'dorm_hour20_day_mean', 'dorm_hour23_day_mean', 'dorm_hour_01_05_day_mean' because all entries are nearly the same.\n",
       "Proceeding with model training using all features. If the model does not provide results of adequate quality, exclude the above mentioned feature(s) from the input dataset.</pre>"
      ],
      "text/plain": [
       "WARNING: Detected extremely low variance for feature(s) 'lib_hour_other_per_day', 'dorm_hour00_day_mean', 'dorm_hour01_day_mean', 'dorm_hour02_day_mean', 'dorm_hour03_day_mean', 'dorm_hour04_day_mean', 'dorm_hour05_day_mean', 'dorm_hour09_day_mean', 'dorm_hour10_day_mean', 'dorm_hour13_day_mean', 'dorm_hour14_day_mean', 'dorm_hour15_day_mean', 'dorm_hour16_day_mean', 'dorm_hour19_day_mean', 'dorm_hour20_day_mean', 'dorm_hour23_day_mean', 'dorm_hour_01_05_day_mean' because all entries are nearly the same.\n",
       "Proceeding with model training using all features. If the model does not provide results of adequate quality, exclude the above mentioned feature(s) from the input dataset."
      ]
     },
     "metadata": {},
     "output_type": "display_data"
    },
    {
     "data": {
      "text/html": [
       "<pre>Boosted trees classifier:</pre>"
      ],
      "text/plain": [
       "Boosted trees classifier:"
      ]
     },
     "metadata": {},
     "output_type": "display_data"
    },
    {
     "data": {
      "text/html": [
       "<pre>--------------------------------------------------------</pre>"
      ],
      "text/plain": [
       "--------------------------------------------------------"
      ]
     },
     "metadata": {},
     "output_type": "display_data"
    },
    {
     "data": {
      "text/html": [
       "<pre>Number of examples          : 10885</pre>"
      ],
      "text/plain": [
       "Number of examples          : 10885"
      ]
     },
     "metadata": {},
     "output_type": "display_data"
    },
    {
     "data": {
      "text/html": [
       "<pre>Number of classes           : 4</pre>"
      ],
      "text/plain": [
       "Number of classes           : 4"
      ]
     },
     "metadata": {},
     "output_type": "display_data"
    },
    {
     "data": {
      "text/html": [
       "<pre>Number of feature columns   : 584</pre>"
      ],
      "text/plain": [
       "Number of feature columns   : 584"
      ]
     },
     "metadata": {},
     "output_type": "display_data"
    },
    {
     "data": {
      "text/html": [
       "<pre>Number of unpacked features : 584</pre>"
      ],
      "text/plain": [
       "Number of unpacked features : 584"
      ]
     },
     "metadata": {},
     "output_type": "display_data"
    },
    {
     "data": {
      "text/html": [
       "<pre>+-----------+--------------+-------------------+---------------------+-------------------+---------------------+</pre>"
      ],
      "text/plain": [
       "+-----------+--------------+-------------------+---------------------+-------------------+---------------------+"
      ]
     },
     "metadata": {},
     "output_type": "display_data"
    },
    {
     "data": {
      "text/html": [
       "<pre>| Iteration | Elapsed Time | Training-accuracy | Validation-accuracy | Training-log_loss | Validation-log_loss |</pre>"
      ],
      "text/plain": [
       "| Iteration | Elapsed Time | Training-accuracy | Validation-accuracy | Training-log_loss | Validation-log_loss |"
      ]
     },
     "metadata": {},
     "output_type": "display_data"
    },
    {
     "data": {
      "text/html": [
       "<pre>+-----------+--------------+-------------------+---------------------+-------------------+---------------------+</pre>"
      ],
      "text/plain": [
       "+-----------+--------------+-------------------+---------------------+-------------------+---------------------+"
      ]
     },
     "metadata": {},
     "output_type": "display_data"
    },
    {
     "data": {
      "text/html": [
       "<pre>| 1         | 1.055300     | 0.875517          | 0.877354            | 0.996739          | 0.993394            |</pre>"
      ],
      "text/plain": [
       "| 1         | 1.055300     | 0.875517          | 0.877354            | 0.996739          | 0.993394            |"
      ]
     },
     "metadata": {},
     "output_type": "display_data"
    },
    {
     "data": {
      "text/html": [
       "<pre>| 2         | 2.055496     | 0.879467          | 0.885622            | 0.784137          | 0.778974            |</pre>"
      ],
      "text/plain": [
       "| 2         | 2.055496     | 0.879467          | 0.885622            | 0.784137          | 0.778974            |"
      ]
     },
     "metadata": {},
     "output_type": "display_data"
    },
    {
     "data": {
      "text/html": [
       "<pre>| 3         | 3.109925     | 0.882683          | 0.889297            | 0.644273          | 0.638637            |</pre>"
      ],
      "text/plain": [
       "| 3         | 3.109925     | 0.882683          | 0.889297            | 0.644273          | 0.638637            |"
      ]
     },
     "metadata": {},
     "output_type": "display_data"
    },
    {
     "data": {
      "text/html": [
       "<pre>| 4         | 4.182266     | 0.884704          | 0.892972            | 0.546046          | 0.539710            |</pre>"
      ],
      "text/plain": [
       "| 4         | 4.182266     | 0.884704          | 0.892972            | 0.546046          | 0.539710            |"
      ]
     },
     "metadata": {},
     "output_type": "display_data"
    },
    {
     "data": {
      "text/html": [
       "<pre>| 5         | 5.257890     | 0.886909          | 0.895728            | 0.474044          | 0.466427            |</pre>"
      ],
      "text/plain": [
       "| 5         | 5.257890     | 0.886909          | 0.895728            | 0.474044          | 0.466427            |"
      ]
     },
     "metadata": {},
     "output_type": "display_data"
    },
    {
     "data": {
      "text/html": [
       "<pre>| 6         | 6.311681     | 0.889389          | 0.899862            | 0.420495          | 0.412466            |</pre>"
      ],
      "text/plain": [
       "| 6         | 6.311681     | 0.889389          | 0.899862            | 0.420495          | 0.412466            |"
      ]
     },
     "metadata": {},
     "output_type": "display_data"
    },
    {
     "data": {
      "text/html": [
       "<pre>| 7         | 7.368279     | 0.893891          | 0.903996            | 0.377852          | 0.369154            |</pre>"
      ],
      "text/plain": [
       "| 7         | 7.368279     | 0.893891          | 0.903996            | 0.377852          | 0.369154            |"
      ]
     },
     "metadata": {},
     "output_type": "display_data"
    },
    {
     "data": {
      "text/html": [
       "<pre>| 8         | 8.370264     | 0.897198          | 0.906293            | 0.344869          | 0.335925            |</pre>"
      ],
      "text/plain": [
       "| 8         | 8.370264     | 0.897198          | 0.906293            | 0.344869          | 0.335925            |"
      ]
     },
     "metadata": {},
     "output_type": "display_data"
    },
    {
     "data": {
      "text/html": [
       "<pre>| 9         | 9.395836     | 0.901332          | 0.912724            | 0.315167          | 0.306079            |</pre>"
      ],
      "text/plain": [
       "| 9         | 9.395836     | 0.901332          | 0.912724            | 0.315167          | 0.306079            |"
      ]
     },
     "metadata": {},
     "output_type": "display_data"
    },
    {
     "data": {
      "text/html": [
       "<pre>| 10        | 10.420111    | 0.903721          | 0.912724            | 0.292946          | 0.283387            |</pre>"
      ],
      "text/plain": [
       "| 10        | 10.420111    | 0.903721          | 0.912724            | 0.292946          | 0.283387            |"
      ]
     },
     "metadata": {},
     "output_type": "display_data"
    },
    {
     "data": {
      "text/html": [
       "<pre>+-----------+--------------+-------------------+---------------------+-------------------+---------------------+</pre>"
      ],
      "text/plain": [
       "+-----------+--------------+-------------------+---------------------+-------------------+---------------------+"
      ]
     },
     "metadata": {},
     "output_type": "display_data"
    },
    {
     "name": "stdout",
     "output_type": "stream",
     "text": [
      "146\n",
      "{'f1_score': 0.6670484904820797, 'auc': 0.9816674847081006, 'recall': 0.5517963072912089, 'precision': 0.9724869337979094, 'log_loss': 0.2833869888650507, 'roc_curve': Columns:\n",
      "\tthreshold\tfloat\n",
      "\tfpr\tfloat\n",
      "\ttpr\tfloat\n",
      "\tp\tint\n",
      "\tn\tint\n",
      "\tclass\tint\n",
      "\n",
      "Rows: 400004\n",
      "\n",
      "Data:\n",
      "+-----------+-----+-----+------+-----+-------+\n",
      "| threshold | fpr | tpr |  p   |  n  | class |\n",
      "+-----------+-----+-----+------+-----+-------+\n",
      "|    0.0    | 1.0 | 1.0 | 1862 | 315 |   0   |\n",
      "|   1e-05   | 1.0 | 1.0 | 1862 | 315 |   0   |\n",
      "|   2e-05   | 1.0 | 1.0 | 1862 | 315 |   0   |\n",
      "|   3e-05   | 1.0 | 1.0 | 1862 | 315 |   0   |\n",
      "|   4e-05   | 1.0 | 1.0 | 1862 | 315 |   0   |\n",
      "|   5e-05   | 1.0 | 1.0 | 1862 | 315 |   0   |\n",
      "|   6e-05   | 1.0 | 1.0 | 1862 | 315 |   0   |\n",
      "|   7e-05   | 1.0 | 1.0 | 1862 | 315 |   0   |\n",
      "|   8e-05   | 1.0 | 1.0 | 1862 | 315 |   0   |\n",
      "|   9e-05   | 1.0 | 1.0 | 1862 | 315 |   0   |\n",
      "+-----------+-----+-----+------+-----+-------+\n",
      "[400004 rows x 6 columns]\n",
      "Note: Only the head of the SFrame is printed.\n",
      "You can use print_rows(num_rows=m, num_columns=n) to print more rows and columns., 'confusion_matrix': Columns:\n",
      "\ttarget_label\tint\n",
      "\tpredicted_label\tint\n",
      "\tcount\tint\n",
      "\n",
      "Rows: 8\n",
      "\n",
      "Data:\n",
      "+--------------+-----------------+-------+\n",
      "| target_label | predicted_label | count |\n",
      "+--------------+-----------------+-------+\n",
      "|     2000     |        0        |   46  |\n",
      "|     2000     |       2000      |   28  |\n",
      "|     1000     |       1000      |   55  |\n",
      "|     1500     |        0        |   52  |\n",
      "|      0       |       1000      |   1   |\n",
      "|     1000     |        0        |   91  |\n",
      "|     1500     |       1500      |   43  |\n",
      "|      0       |        0        |  1861 |\n",
      "+--------------+-----------------+-------+\n",
      "[8 rows x 3 columns]\n",
      ", 'accuracy': 0.9127239320165366}\n",
      "95\n",
      "{'f1_score': 0.6670484904820797, 'auc': 0.9816674847081006, 'recall': 0.5517963072912089, 'precision': 0.9724869337979094, 'log_loss': 0.2833869888650507, 'roc_curve': Columns:\n",
      "\tthreshold\tfloat\n",
      "\tfpr\tfloat\n",
      "\ttpr\tfloat\n",
      "\tp\tint\n",
      "\tn\tint\n",
      "\tclass\tint\n",
      "\n",
      "Rows: 400004\n",
      "\n",
      "Data:\n",
      "+-----------+-----+-----+------+-----+-------+\n",
      "| threshold | fpr | tpr |  p   |  n  | class |\n",
      "+-----------+-----+-----+------+-----+-------+\n",
      "|    0.0    | 1.0 | 1.0 | 1862 | 315 |   0   |\n",
      "|   1e-05   | 1.0 | 1.0 | 1862 | 315 |   0   |\n",
      "|   2e-05   | 1.0 | 1.0 | 1862 | 315 |   0   |\n",
      "|   3e-05   | 1.0 | 1.0 | 1862 | 315 |   0   |\n",
      "|   4e-05   | 1.0 | 1.0 | 1862 | 315 |   0   |\n",
      "|   5e-05   | 1.0 | 1.0 | 1862 | 315 |   0   |\n",
      "|   6e-05   | 1.0 | 1.0 | 1862 | 315 |   0   |\n",
      "|   7e-05   | 1.0 | 1.0 | 1862 | 315 |   0   |\n",
      "|   8e-05   | 1.0 | 1.0 | 1862 | 315 |   0   |\n",
      "|   9e-05   | 1.0 | 1.0 | 1862 | 315 |   0   |\n",
      "+-----------+-----+-----+------+-----+-------+\n",
      "[400004 rows x 6 columns]\n",
      "Note: Only the head of the SFrame is printed.\n",
      "You can use print_rows(num_rows=m, num_columns=n) to print more rows and columns., 'confusion_matrix': Columns:\n",
      "\ttarget_label\tint\n",
      "\tpredicted_label\tint\n",
      "\tcount\tint\n",
      "\n",
      "Rows: 8\n",
      "\n",
      "Data:\n",
      "+--------------+-----------------+-------+\n",
      "| target_label | predicted_label | count |\n",
      "+--------------+-----------------+-------+\n",
      "|     2000     |        0        |   46  |\n",
      "|     2000     |       2000      |   28  |\n",
      "|     1000     |       1000      |   55  |\n",
      "|     1500     |        0        |   52  |\n",
      "|      0       |       1000      |   1   |\n",
      "|     1000     |        0        |   91  |\n",
      "|     1500     |       1500      |   43  |\n",
      "|      0       |        0        |  1861 |\n",
      "+--------------+-----------------+-------+\n",
      "[8 rows x 3 columns]\n",
      ", 'accuracy': 0.9127239320165366}\n",
      "74\n",
      "{'f1_score': 0.6670484904820797, 'auc': 0.9816674847081006, 'recall': 0.5517963072912089, 'precision': 0.9724869337979094, 'log_loss': 0.2833869888650507, 'roc_curve': Columns:\n",
      "\tthreshold\tfloat\n",
      "\tfpr\tfloat\n",
      "\ttpr\tfloat\n",
      "\tp\tint\n",
      "\tn\tint\n",
      "\tclass\tint\n",
      "\n",
      "Rows: 400004\n",
      "\n",
      "Data:\n",
      "+-----------+-----+-----+------+-----+-------+\n",
      "| threshold | fpr | tpr |  p   |  n  | class |\n",
      "+-----------+-----+-----+------+-----+-------+\n",
      "|    0.0    | 1.0 | 1.0 | 1862 | 315 |   0   |\n",
      "|   1e-05   | 1.0 | 1.0 | 1862 | 315 |   0   |\n",
      "|   2e-05   | 1.0 | 1.0 | 1862 | 315 |   0   |\n",
      "|   3e-05   | 1.0 | 1.0 | 1862 | 315 |   0   |\n",
      "|   4e-05   | 1.0 | 1.0 | 1862 | 315 |   0   |\n",
      "|   5e-05   | 1.0 | 1.0 | 1862 | 315 |   0   |\n",
      "|   6e-05   | 1.0 | 1.0 | 1862 | 315 |   0   |\n",
      "|   7e-05   | 1.0 | 1.0 | 1862 | 315 |   0   |\n",
      "|   8e-05   | 1.0 | 1.0 | 1862 | 315 |   0   |\n",
      "|   9e-05   | 1.0 | 1.0 | 1862 | 315 |   0   |\n",
      "+-----------+-----+-----+------+-----+-------+\n",
      "[400004 rows x 6 columns]\n",
      "Note: Only the head of the SFrame is printed.\n",
      "You can use print_rows(num_rows=m, num_columns=n) to print more rows and columns., 'confusion_matrix': Columns:\n",
      "\ttarget_label\tint\n",
      "\tpredicted_label\tint\n",
      "\tcount\tint\n",
      "\n",
      "Rows: 8\n",
      "\n",
      "Data:\n",
      "+--------------+-----------------+-------+\n",
      "| target_label | predicted_label | count |\n",
      "+--------------+-----------------+-------+\n",
      "|     2000     |        0        |   46  |\n",
      "|     2000     |       2000      |   28  |\n",
      "|     1000     |       1000      |   55  |\n",
      "|     1500     |        0        |   52  |\n",
      "|      0       |       1000      |   1   |\n",
      "|     1000     |        0        |   91  |\n",
      "|     1500     |       1500      |   43  |\n",
      "|      0       |        0        |  1861 |\n",
      "+--------------+-----------------+-------+\n",
      "[8 rows x 3 columns]\n",
      ", 'accuracy': 0.9127239320165366}\n"
     ]
    },
    {
     "data": {
      "text/html": [
       "<pre>WARNING: Detected extremely low variance for feature(s) 'lib_hour_other_per_day', 'dorm_hour00_day_mean', 'dorm_hour01_day_mean', 'dorm_hour02_day_mean', 'dorm_hour03_day_mean', 'dorm_hour04_day_mean', 'dorm_hour05_day_mean', 'dorm_hour09_day_mean', 'dorm_hour10_day_mean', 'dorm_hour13_day_mean', 'dorm_hour14_day_mean', 'dorm_hour15_day_mean', 'dorm_hour16_day_mean', 'dorm_hour19_day_mean', 'dorm_hour20_day_mean', 'dorm_hour23_day_mean', 'dorm_hour_01_05_day_mean' because all entries are nearly the same.\n",
       "Proceeding with model training using all features. If the model does not provide results of adequate quality, exclude the above mentioned feature(s) from the input dataset.</pre>"
      ],
      "text/plain": [
       "WARNING: Detected extremely low variance for feature(s) 'lib_hour_other_per_day', 'dorm_hour00_day_mean', 'dorm_hour01_day_mean', 'dorm_hour02_day_mean', 'dorm_hour03_day_mean', 'dorm_hour04_day_mean', 'dorm_hour05_day_mean', 'dorm_hour09_day_mean', 'dorm_hour10_day_mean', 'dorm_hour13_day_mean', 'dorm_hour14_day_mean', 'dorm_hour15_day_mean', 'dorm_hour16_day_mean', 'dorm_hour19_day_mean', 'dorm_hour20_day_mean', 'dorm_hour23_day_mean', 'dorm_hour_01_05_day_mean' because all entries are nearly the same.\n",
       "Proceeding with model training using all features. If the model does not provide results of adequate quality, exclude the above mentioned feature(s) from the input dataset."
      ]
     },
     "metadata": {},
     "output_type": "display_data"
    },
    {
     "data": {
      "text/html": [
       "<pre>Boosted trees classifier:</pre>"
      ],
      "text/plain": [
       "Boosted trees classifier:"
      ]
     },
     "metadata": {},
     "output_type": "display_data"
    },
    {
     "data": {
      "text/html": [
       "<pre>--------------------------------------------------------</pre>"
      ],
      "text/plain": [
       "--------------------------------------------------------"
      ]
     },
     "metadata": {},
     "output_type": "display_data"
    },
    {
     "data": {
      "text/html": [
       "<pre>Number of examples          : 10885</pre>"
      ],
      "text/plain": [
       "Number of examples          : 10885"
      ]
     },
     "metadata": {},
     "output_type": "display_data"
    },
    {
     "data": {
      "text/html": [
       "<pre>Number of classes           : 4</pre>"
      ],
      "text/plain": [
       "Number of classes           : 4"
      ]
     },
     "metadata": {},
     "output_type": "display_data"
    },
    {
     "data": {
      "text/html": [
       "<pre>Number of feature columns   : 584</pre>"
      ],
      "text/plain": [
       "Number of feature columns   : 584"
      ]
     },
     "metadata": {},
     "output_type": "display_data"
    },
    {
     "data": {
      "text/html": [
       "<pre>Number of unpacked features : 584</pre>"
      ],
      "text/plain": [
       "Number of unpacked features : 584"
      ]
     },
     "metadata": {},
     "output_type": "display_data"
    },
    {
     "data": {
      "text/html": [
       "<pre>+-----------+--------------+-------------------+---------------------+-------------------+---------------------+</pre>"
      ],
      "text/plain": [
       "+-----------+--------------+-------------------+---------------------+-------------------+---------------------+"
      ]
     },
     "metadata": {},
     "output_type": "display_data"
    },
    {
     "data": {
      "text/html": [
       "<pre>| Iteration | Elapsed Time | Training-accuracy | Validation-accuracy | Training-log_loss | Validation-log_loss |</pre>"
      ],
      "text/plain": [
       "| Iteration | Elapsed Time | Training-accuracy | Validation-accuracy | Training-log_loss | Validation-log_loss |"
      ]
     },
     "metadata": {},
     "output_type": "display_data"
    },
    {
     "data": {
      "text/html": [
       "<pre>+-----------+--------------+-------------------+---------------------+-------------------+---------------------+</pre>"
      ],
      "text/plain": [
       "+-----------+--------------+-------------------+---------------------+-------------------+---------------------+"
      ]
     },
     "metadata": {},
     "output_type": "display_data"
    },
    {
     "data": {
      "text/html": [
       "<pre>| 1         | 1.038025     | 0.875517          | 0.877354            | 0.996739          | 0.992246            |</pre>"
      ],
      "text/plain": [
       "| 1         | 1.038025     | 0.875517          | 0.877354            | 0.996739          | 0.992246            |"
      ]
     },
     "metadata": {},
     "output_type": "display_data"
    },
    {
     "data": {
      "text/html": [
       "<pre>| 2         | 2.073808     | 0.879467          | 0.880570            | 0.784137          | 0.778332            |</pre>"
      ],
      "text/plain": [
       "| 2         | 2.073808     | 0.879467          | 0.880570            | 0.784137          | 0.778332            |"
      ]
     },
     "metadata": {},
     "output_type": "display_data"
    },
    {
     "data": {
      "text/html": [
       "<pre>| 3         | 3.061527     | 0.882683          | 0.887000            | 0.644273          | 0.638057            |</pre>"
      ],
      "text/plain": [
       "| 3         | 3.061527     | 0.882683          | 0.887000            | 0.644273          | 0.638057            |"
      ]
     },
     "metadata": {},
     "output_type": "display_data"
    },
    {
     "data": {
      "text/html": [
       "<pre>| 4         | 4.088867     | 0.884704          | 0.890216            | 0.546046          | 0.539113            |</pre>"
      ],
      "text/plain": [
       "| 4         | 4.088867     | 0.884704          | 0.890216            | 0.546046          | 0.539113            |"
      ]
     },
     "metadata": {},
     "output_type": "display_data"
    },
    {
     "data": {
      "text/html": [
       "<pre>| 5         | 5.170000     | 0.886909          | 0.891135            | 0.474044          | 0.465869            |</pre>"
      ],
      "text/plain": [
       "| 5         | 5.170000     | 0.886909          | 0.891135            | 0.474044          | 0.465869            |"
      ]
     },
     "metadata": {},
     "output_type": "display_data"
    },
    {
     "data": {
      "text/html": [
       "<pre>| 6         | 6.235327     | 0.889389          | 0.891594            | 0.420495          | 0.412002            |</pre>"
      ],
      "text/plain": [
       "| 6         | 6.235327     | 0.889389          | 0.891594            | 0.420495          | 0.412002            |"
      ]
     },
     "metadata": {},
     "output_type": "display_data"
    },
    {
     "data": {
      "text/html": [
       "<pre>| 7         | 7.206139     | 0.893891          | 0.897106            | 0.377852          | 0.368384            |</pre>"
      ],
      "text/plain": [
       "| 7         | 7.206139     | 0.893891          | 0.897106            | 0.377852          | 0.368384            |"
      ]
     },
     "metadata": {},
     "output_type": "display_data"
    },
    {
     "data": {
      "text/html": [
       "<pre>| 8         | 8.254541     | 0.897198          | 0.899403            | 0.344869          | 0.336774            |</pre>"
      ],
      "text/plain": [
       "| 8         | 8.254541     | 0.897198          | 0.899403            | 0.344869          | 0.336774            |"
      ]
     },
     "metadata": {},
     "output_type": "display_data"
    },
    {
     "data": {
      "text/html": [
       "<pre>| 9         | 9.256162     | 0.901332          | 0.904456            | 0.315167          | 0.307861            |</pre>"
      ],
      "text/plain": [
       "| 9         | 9.256162     | 0.901332          | 0.904456            | 0.315167          | 0.307861            |"
      ]
     },
     "metadata": {},
     "output_type": "display_data"
    },
    {
     "data": {
      "text/html": [
       "<pre>| 10        | 10.252264    | 0.903721          | 0.907671            | 0.292946          | 0.284938            |</pre>"
      ],
      "text/plain": [
       "| 10        | 10.252264    | 0.903721          | 0.907671            | 0.292946          | 0.284938            |"
      ]
     },
     "metadata": {},
     "output_type": "display_data"
    },
    {
     "data": {
      "text/html": [
       "<pre>+-----------+--------------+-------------------+---------------------+-------------------+---------------------+</pre>"
      ],
      "text/plain": [
       "+-----------+--------------+-------------------+---------------------+-------------------+---------------------+"
      ]
     },
     "metadata": {},
     "output_type": "display_data"
    },
    {
     "name": "stdout",
     "output_type": "stream",
     "text": [
      "139\n",
      "{'f1_score': 0.6144231907206759, 'auc': 0.9849401097397168, 'recall': 0.5020159215093678, 'precision': 0.9757947976878613, 'log_loss': 0.2849375093839389, 'roc_curve': Columns:\n",
      "\tthreshold\tfloat\n",
      "\tfpr\tfloat\n",
      "\ttpr\tfloat\n",
      "\tp\tint\n",
      "\tn\tint\n",
      "\tclass\tint\n",
      "\n",
      "Rows: 400004\n",
      "\n",
      "Data:\n",
      "+-----------+-----+-----+------+-----+-------+\n",
      "| threshold | fpr | tpr |  p   |  n  | class |\n",
      "+-----------+-----+-----+------+-----+-------+\n",
      "|    0.0    | 1.0 | 1.0 | 1875 | 302 |   0   |\n",
      "|   1e-05   | 1.0 | 1.0 | 1875 | 302 |   0   |\n",
      "|   2e-05   | 1.0 | 1.0 | 1875 | 302 |   0   |\n",
      "|   3e-05   | 1.0 | 1.0 | 1875 | 302 |   0   |\n",
      "|   4e-05   | 1.0 | 1.0 | 1875 | 302 |   0   |\n",
      "|   5e-05   | 1.0 | 1.0 | 1875 | 302 |   0   |\n",
      "|   6e-05   | 1.0 | 1.0 | 1875 | 302 |   0   |\n",
      "|   7e-05   | 1.0 | 1.0 | 1875 | 302 |   0   |\n",
      "|   8e-05   | 1.0 | 1.0 | 1875 | 302 |   0   |\n",
      "|   9e-05   | 1.0 | 1.0 | 1875 | 302 |   0   |\n",
      "+-----------+-----+-----+------+-----+-------+\n",
      "[400004 rows x 6 columns]\n",
      "Note: Only the head of the SFrame is printed.\n",
      "You can use print_rows(num_rows=m, num_columns=n) to print more rows and columns., 'confusion_matrix': Columns:\n",
      "\ttarget_label\tint\n",
      "\tpredicted_label\tint\n",
      "\tcount\tint\n",
      "\n",
      "Rows: 7\n",
      "\n",
      "Data:\n",
      "+--------------+-----------------+-------+\n",
      "| target_label | predicted_label | count |\n",
      "+--------------+-----------------+-------+\n",
      "|     2000     |       2000      |   24  |\n",
      "|     1000     |       1000      |   45  |\n",
      "|     2000     |        0        |   49  |\n",
      "|     1000     |        0        |   94  |\n",
      "|     1500     |        0        |   58  |\n",
      "|     1500     |       1500      |   32  |\n",
      "|      0       |        0        |  1875 |\n",
      "+--------------+-----------------+-------+\n",
      "[7 rows x 3 columns]\n",
      ", 'accuracy': 0.9076711070280202}\n",
      "90\n",
      "{'f1_score': 0.6144231907206759, 'auc': 0.9849401097397168, 'recall': 0.5020159215093678, 'precision': 0.9757947976878613, 'log_loss': 0.2849375093839389, 'roc_curve': Columns:\n",
      "\tthreshold\tfloat\n",
      "\tfpr\tfloat\n",
      "\ttpr\tfloat\n",
      "\tp\tint\n",
      "\tn\tint\n",
      "\tclass\tint\n",
      "\n",
      "Rows: 400004\n",
      "\n",
      "Data:\n",
      "+-----------+-----+-----+------+-----+-------+\n",
      "| threshold | fpr | tpr |  p   |  n  | class |\n",
      "+-----------+-----+-----+------+-----+-------+\n",
      "|    0.0    | 1.0 | 1.0 | 1875 | 302 |   0   |\n",
      "|   1e-05   | 1.0 | 1.0 | 1875 | 302 |   0   |\n",
      "|   2e-05   | 1.0 | 1.0 | 1875 | 302 |   0   |\n",
      "|   3e-05   | 1.0 | 1.0 | 1875 | 302 |   0   |\n",
      "|   4e-05   | 1.0 | 1.0 | 1875 | 302 |   0   |\n",
      "|   5e-05   | 1.0 | 1.0 | 1875 | 302 |   0   |\n",
      "|   6e-05   | 1.0 | 1.0 | 1875 | 302 |   0   |\n",
      "|   7e-05   | 1.0 | 1.0 | 1875 | 302 |   0   |\n",
      "|   8e-05   | 1.0 | 1.0 | 1875 | 302 |   0   |\n",
      "|   9e-05   | 1.0 | 1.0 | 1875 | 302 |   0   |\n",
      "+-----------+-----+-----+------+-----+-------+\n",
      "[400004 rows x 6 columns]\n",
      "Note: Only the head of the SFrame is printed.\n",
      "You can use print_rows(num_rows=m, num_columns=n) to print more rows and columns., 'confusion_matrix': Columns:\n",
      "\ttarget_label\tint\n",
      "\tpredicted_label\tint\n",
      "\tcount\tint\n",
      "\n",
      "Rows: 7\n",
      "\n",
      "Data:\n",
      "+--------------+-----------------+-------+\n",
      "| target_label | predicted_label | count |\n",
      "+--------------+-----------------+-------+\n",
      "|     2000     |       2000      |   24  |\n",
      "|     1000     |       1000      |   45  |\n",
      "|     2000     |        0        |   49  |\n",
      "|     1000     |        0        |   94  |\n",
      "|     1500     |        0        |   58  |\n",
      "|     1500     |       1500      |   32  |\n",
      "|      0       |        0        |  1875 |\n",
      "+--------------+-----------------+-------+\n",
      "[7 rows x 3 columns]\n",
      ", 'accuracy': 0.9076711070280202}\n",
      "73\n",
      "{'f1_score': 0.6144231907206759, 'auc': 0.9849401097397168, 'recall': 0.5020159215093678, 'precision': 0.9757947976878613, 'log_loss': 0.2849375093839389, 'roc_curve': Columns:\n",
      "\tthreshold\tfloat\n",
      "\tfpr\tfloat\n",
      "\ttpr\tfloat\n",
      "\tp\tint\n",
      "\tn\tint\n",
      "\tclass\tint\n",
      "\n",
      "Rows: 400004\n",
      "\n",
      "Data:\n",
      "+-----------+-----+-----+------+-----+-------+\n",
      "| threshold | fpr | tpr |  p   |  n  | class |\n",
      "+-----------+-----+-----+------+-----+-------+\n",
      "|    0.0    | 1.0 | 1.0 | 1875 | 302 |   0   |\n",
      "|   1e-05   | 1.0 | 1.0 | 1875 | 302 |   0   |\n",
      "|   2e-05   | 1.0 | 1.0 | 1875 | 302 |   0   |\n",
      "|   3e-05   | 1.0 | 1.0 | 1875 | 302 |   0   |\n",
      "|   4e-05   | 1.0 | 1.0 | 1875 | 302 |   0   |\n",
      "|   5e-05   | 1.0 | 1.0 | 1875 | 302 |   0   |\n",
      "|   6e-05   | 1.0 | 1.0 | 1875 | 302 |   0   |\n",
      "|   7e-05   | 1.0 | 1.0 | 1875 | 302 |   0   |\n",
      "|   8e-05   | 1.0 | 1.0 | 1875 | 302 |   0   |\n",
      "|   9e-05   | 1.0 | 1.0 | 1875 | 302 |   0   |\n",
      "+-----------+-----+-----+------+-----+-------+\n",
      "[400004 rows x 6 columns]\n",
      "Note: Only the head of the SFrame is printed.\n",
      "You can use print_rows(num_rows=m, num_columns=n) to print more rows and columns., 'confusion_matrix': Columns:\n",
      "\ttarget_label\tint\n",
      "\tpredicted_label\tint\n",
      "\tcount\tint\n",
      "\n",
      "Rows: 7\n",
      "\n",
      "Data:\n",
      "+--------------+-----------------+-------+\n",
      "| target_label | predicted_label | count |\n",
      "+--------------+-----------------+-------+\n",
      "|     2000     |       2000      |   24  |\n",
      "|     1000     |       1000      |   45  |\n",
      "|     2000     |        0        |   49  |\n",
      "|     1000     |        0        |   94  |\n",
      "|     1500     |        0        |   58  |\n",
      "|     1500     |       1500      |   32  |\n",
      "|      0       |        0        |  1875 |\n",
      "+--------------+-----------------+-------+\n",
      "[7 rows x 3 columns]\n",
      ", 'accuracy': 0.9076711070280202}\n"
     ]
    },
    {
     "data": {
      "text/html": [
       "<pre>WARNING: Detected extremely low variance for feature(s) 'lib_hour_other_per_day', 'dorm_hour00_day_mean', 'dorm_hour01_day_mean', 'dorm_hour02_day_mean', 'dorm_hour03_day_mean', 'dorm_hour04_day_mean', 'dorm_hour05_day_mean', 'dorm_hour09_day_mean', 'dorm_hour10_day_mean', 'dorm_hour13_day_mean', 'dorm_hour14_day_mean', 'dorm_hour15_day_mean', 'dorm_hour16_day_mean', 'dorm_hour19_day_mean', 'dorm_hour20_day_mean', 'dorm_hour23_day_mean', 'dorm_hour_01_05_day_mean' because all entries are nearly the same.\n",
       "Proceeding with model training using all features. If the model does not provide results of adequate quality, exclude the above mentioned feature(s) from the input dataset.</pre>"
      ],
      "text/plain": [
       "WARNING: Detected extremely low variance for feature(s) 'lib_hour_other_per_day', 'dorm_hour00_day_mean', 'dorm_hour01_day_mean', 'dorm_hour02_day_mean', 'dorm_hour03_day_mean', 'dorm_hour04_day_mean', 'dorm_hour05_day_mean', 'dorm_hour09_day_mean', 'dorm_hour10_day_mean', 'dorm_hour13_day_mean', 'dorm_hour14_day_mean', 'dorm_hour15_day_mean', 'dorm_hour16_day_mean', 'dorm_hour19_day_mean', 'dorm_hour20_day_mean', 'dorm_hour23_day_mean', 'dorm_hour_01_05_day_mean' because all entries are nearly the same.\n",
       "Proceeding with model training using all features. If the model does not provide results of adequate quality, exclude the above mentioned feature(s) from the input dataset."
      ]
     },
     "metadata": {},
     "output_type": "display_data"
    },
    {
     "data": {
      "text/html": [
       "<pre>Boosted trees classifier:</pre>"
      ],
      "text/plain": [
       "Boosted trees classifier:"
      ]
     },
     "metadata": {},
     "output_type": "display_data"
    },
    {
     "data": {
      "text/html": [
       "<pre>--------------------------------------------------------</pre>"
      ],
      "text/plain": [
       "--------------------------------------------------------"
      ]
     },
     "metadata": {},
     "output_type": "display_data"
    },
    {
     "data": {
      "text/html": [
       "<pre>Number of examples          : 10885</pre>"
      ],
      "text/plain": [
       "Number of examples          : 10885"
      ]
     },
     "metadata": {},
     "output_type": "display_data"
    },
    {
     "data": {
      "text/html": [
       "<pre>Number of classes           : 4</pre>"
      ],
      "text/plain": [
       "Number of classes           : 4"
      ]
     },
     "metadata": {},
     "output_type": "display_data"
    },
    {
     "data": {
      "text/html": [
       "<pre>Number of feature columns   : 584</pre>"
      ],
      "text/plain": [
       "Number of feature columns   : 584"
      ]
     },
     "metadata": {},
     "output_type": "display_data"
    },
    {
     "data": {
      "text/html": [
       "<pre>Number of unpacked features : 584</pre>"
      ],
      "text/plain": [
       "Number of unpacked features : 584"
      ]
     },
     "metadata": {},
     "output_type": "display_data"
    },
    {
     "data": {
      "text/html": [
       "<pre>+-----------+--------------+-------------------+---------------------+-------------------+---------------------+</pre>"
      ],
      "text/plain": [
       "+-----------+--------------+-------------------+---------------------+-------------------+---------------------+"
      ]
     },
     "metadata": {},
     "output_type": "display_data"
    },
    {
     "data": {
      "text/html": [
       "<pre>| Iteration | Elapsed Time | Training-accuracy | Validation-accuracy | Training-log_loss | Validation-log_loss |</pre>"
      ],
      "text/plain": [
       "| Iteration | Elapsed Time | Training-accuracy | Validation-accuracy | Training-log_loss | Validation-log_loss |"
      ]
     },
     "metadata": {},
     "output_type": "display_data"
    },
    {
     "data": {
      "text/html": [
       "<pre>+-----------+--------------+-------------------+---------------------+-------------------+---------------------+</pre>"
      ],
      "text/plain": [
       "+-----------+--------------+-------------------+---------------------+-------------------+---------------------+"
      ]
     },
     "metadata": {},
     "output_type": "display_data"
    },
    {
     "data": {
      "text/html": [
       "<pre>| 1         | 1.158545     | 0.875517          | 0.868167            | 0.996739          | 1.001499            |</pre>"
      ],
      "text/plain": [
       "| 1         | 1.158545     | 0.875517          | 0.868167            | 0.996739          | 1.001499            |"
      ]
     },
     "metadata": {},
     "output_type": "display_data"
    },
    {
     "data": {
      "text/html": [
       "<pre>| 2         | 2.227784     | 0.879467          | 0.870923            | 0.784137          | 0.791233            |</pre>"
      ],
      "text/plain": [
       "| 2         | 2.227784     | 0.879467          | 0.870923            | 0.784137          | 0.791233            |"
      ]
     },
     "metadata": {},
     "output_type": "display_data"
    },
    {
     "data": {
      "text/html": [
       "<pre>| 3         | 3.318160     | 0.882683          | 0.871842            | 0.644273          | 0.653348            |</pre>"
      ],
      "text/plain": [
       "| 3         | 3.318160     | 0.882683          | 0.871842            | 0.644273          | 0.653348            |"
      ]
     },
     "metadata": {},
     "output_type": "display_data"
    },
    {
     "data": {
      "text/html": [
       "<pre>| 4         | 4.517886     | 0.884704          | 0.873220            | 0.546046          | 0.557623            |</pre>"
      ],
      "text/plain": [
       "| 4         | 4.517886     | 0.884704          | 0.873220            | 0.546046          | 0.557623            |"
      ]
     },
     "metadata": {},
     "output_type": "display_data"
    },
    {
     "data": {
      "text/html": [
       "<pre>| 5         | 5.594205     | 0.886909          | 0.875976            | 0.474044          | 0.485838            |</pre>"
      ],
      "text/plain": [
       "| 5         | 5.594205     | 0.886909          | 0.875976            | 0.474044          | 0.485838            |"
      ]
     },
     "metadata": {},
     "output_type": "display_data"
    },
    {
     "data": {
      "text/html": [
       "<pre>| 6         | 6.648917     | 0.889389          | 0.877814            | 0.420495          | 0.433212            |</pre>"
      ],
      "text/plain": [
       "| 6         | 6.648917     | 0.889389          | 0.877814            | 0.420495          | 0.433212            |"
      ]
     },
     "metadata": {},
     "output_type": "display_data"
    },
    {
     "data": {
      "text/html": [
       "<pre>| 7         | 7.664693     | 0.893891          | 0.882407            | 0.377852          | 0.390012            |</pre>"
      ],
      "text/plain": [
       "| 7         | 7.664693     | 0.893891          | 0.882407            | 0.377852          | 0.390012            |"
      ]
     },
     "metadata": {},
     "output_type": "display_data"
    },
    {
     "data": {
      "text/html": [
       "<pre>| 8         | 8.750142     | 0.897198          | 0.888379            | 0.344869          | 0.356364            |</pre>"
      ],
      "text/plain": [
       "| 8         | 8.750142     | 0.897198          | 0.888379            | 0.344869          | 0.356364            |"
      ]
     },
     "metadata": {},
     "output_type": "display_data"
    },
    {
     "data": {
      "text/html": [
       "<pre>| 9         | 9.825457     | 0.901332          | 0.890216            | 0.315167          | 0.325919            |</pre>"
      ],
      "text/plain": [
       "| 9         | 9.825457     | 0.901332          | 0.890216            | 0.315167          | 0.325919            |"
      ]
     },
     "metadata": {},
     "output_type": "display_data"
    },
    {
     "data": {
      "text/html": [
       "<pre>| 10        | 10.838627    | 0.903721          | 0.891594            | 0.292946          | 0.303825            |</pre>"
      ],
      "text/plain": [
       "| 10        | 10.838627    | 0.903721          | 0.891594            | 0.292946          | 0.303825            |"
      ]
     },
     "metadata": {},
     "output_type": "display_data"
    },
    {
     "data": {
      "text/html": [
       "<pre>+-----------+--------------+-------------------+---------------------+-------------------+---------------------+</pre>"
      ],
      "text/plain": [
       "+-----------+--------------+-------------------+---------------------+-------------------+---------------------+"
      ]
     },
     "metadata": {},
     "output_type": "display_data"
    },
    {
     "name": "stdout",
     "output_type": "stream",
     "text": [
      "168\n",
      "{'f1_score': 0.5705305311459775, 'auc': 0.9832007556696533, 'recall': 0.4671306843562941, 'precision': 0.9608043953699259, 'log_loss': 0.3038247584551167, 'roc_curve': Columns:\n",
      "\tthreshold\tfloat\n",
      "\tfpr\tfloat\n",
      "\ttpr\tfloat\n",
      "\tp\tint\n",
      "\tn\tint\n",
      "\tclass\tint\n",
      "\n",
      "Rows: 400004\n",
      "\n",
      "Data:\n",
      "+-----------+-----+-----+------+-----+-------+\n",
      "| threshold | fpr | tpr |  p   |  n  | class |\n",
      "+-----------+-----+-----+------+-----+-------+\n",
      "|    0.0    | 1.0 | 1.0 | 1849 | 328 |   0   |\n",
      "|   1e-05   | 1.0 | 1.0 | 1849 | 328 |   0   |\n",
      "|   2e-05   | 1.0 | 1.0 | 1849 | 328 |   0   |\n",
      "|   3e-05   | 1.0 | 1.0 | 1849 | 328 |   0   |\n",
      "|   4e-05   | 1.0 | 1.0 | 1849 | 328 |   0   |\n",
      "|   5e-05   | 1.0 | 1.0 | 1849 | 328 |   0   |\n",
      "|   6e-05   | 1.0 | 1.0 | 1849 | 328 |   0   |\n",
      "|   7e-05   | 1.0 | 1.0 | 1849 | 328 |   0   |\n",
      "|   8e-05   | 1.0 | 1.0 | 1849 | 328 |   0   |\n",
      "|   9e-05   | 1.0 | 1.0 | 1849 | 328 |   0   |\n",
      "+-----------+-----+-----+------+-----+-------+\n",
      "[400004 rows x 6 columns]\n",
      "Note: Only the head of the SFrame is printed.\n",
      "You can use print_rows(num_rows=m, num_columns=n) to print more rows and columns., 'confusion_matrix': Columns:\n",
      "\ttarget_label\tint\n",
      "\tpredicted_label\tint\n",
      "\tcount\tint\n",
      "\n",
      "Rows: 8\n",
      "\n",
      "Data:\n",
      "+--------------+-----------------+-------+\n",
      "| target_label | predicted_label | count |\n",
      "+--------------+-----------------+-------+\n",
      "|     1500     |        0        |   57  |\n",
      "|     2000     |        0        |   52  |\n",
      "|     2000     |       2000      |   24  |\n",
      "|     1000     |       1000      |   43  |\n",
      "|     1000     |        0        |  125  |\n",
      "|     2000     |       1000      |   2   |\n",
      "|     1500     |       1500      |   25  |\n",
      "|      0       |        0        |  1849 |\n",
      "+--------------+-----------------+-------+\n",
      "[8 rows x 3 columns]\n",
      ", 'accuracy': 0.8915939366100137}\n",
      "82\n",
      "{'f1_score': 0.5705305311459775, 'auc': 0.9832007556696533, 'recall': 0.4671306843562941, 'precision': 0.9608043953699259, 'log_loss': 0.3038247584551167, 'roc_curve': Columns:\n",
      "\tthreshold\tfloat\n",
      "\tfpr\tfloat\n",
      "\ttpr\tfloat\n",
      "\tp\tint\n",
      "\tn\tint\n",
      "\tclass\tint\n",
      "\n",
      "Rows: 400004\n",
      "\n",
      "Data:\n",
      "+-----------+-----+-----+------+-----+-------+\n",
      "| threshold | fpr | tpr |  p   |  n  | class |\n",
      "+-----------+-----+-----+------+-----+-------+\n",
      "|    0.0    | 1.0 | 1.0 | 1849 | 328 |   0   |\n",
      "|   1e-05   | 1.0 | 1.0 | 1849 | 328 |   0   |\n",
      "|   2e-05   | 1.0 | 1.0 | 1849 | 328 |   0   |\n",
      "|   3e-05   | 1.0 | 1.0 | 1849 | 328 |   0   |\n",
      "|   4e-05   | 1.0 | 1.0 | 1849 | 328 |   0   |\n",
      "|   5e-05   | 1.0 | 1.0 | 1849 | 328 |   0   |\n",
      "|   6e-05   | 1.0 | 1.0 | 1849 | 328 |   0   |\n",
      "|   7e-05   | 1.0 | 1.0 | 1849 | 328 |   0   |\n",
      "|   8e-05   | 1.0 | 1.0 | 1849 | 328 |   0   |\n",
      "|   9e-05   | 1.0 | 1.0 | 1849 | 328 |   0   |\n",
      "+-----------+-----+-----+------+-----+-------+\n",
      "[400004 rows x 6 columns]\n",
      "Note: Only the head of the SFrame is printed.\n",
      "You can use print_rows(num_rows=m, num_columns=n) to print more rows and columns., 'confusion_matrix': Columns:\n",
      "\ttarget_label\tint\n",
      "\tpredicted_label\tint\n",
      "\tcount\tint\n",
      "\n",
      "Rows: 8\n",
      "\n",
      "Data:\n",
      "+--------------+-----------------+-------+\n",
      "| target_label | predicted_label | count |\n",
      "+--------------+-----------------+-------+\n",
      "|     1500     |        0        |   57  |\n",
      "|     2000     |        0        |   52  |\n",
      "|     2000     |       2000      |   24  |\n",
      "|     1000     |       1000      |   43  |\n",
      "|     1000     |        0        |  125  |\n",
      "|     2000     |       1000      |   2   |\n",
      "|     1500     |       1500      |   25  |\n",
      "|      0       |        0        |  1849 |\n",
      "+--------------+-----------------+-------+\n",
      "[8 rows x 3 columns]\n",
      ", 'accuracy': 0.8915939366100137}\n",
      "78\n",
      "{'f1_score': 0.5705305311459775, 'auc': 0.9832007556696533, 'recall': 0.4671306843562941, 'precision': 0.9608043953699259, 'log_loss': 0.3038247584551167, 'roc_curve': Columns:\n",
      "\tthreshold\tfloat\n",
      "\tfpr\tfloat\n",
      "\ttpr\tfloat\n",
      "\tp\tint\n",
      "\tn\tint\n",
      "\tclass\tint\n",
      "\n",
      "Rows: 400004\n",
      "\n",
      "Data:\n",
      "+-----------+-----+-----+------+-----+-------+\n",
      "| threshold | fpr | tpr |  p   |  n  | class |\n",
      "+-----------+-----+-----+------+-----+-------+\n",
      "|    0.0    | 1.0 | 1.0 | 1849 | 328 |   0   |\n",
      "|   1e-05   | 1.0 | 1.0 | 1849 | 328 |   0   |\n",
      "|   2e-05   | 1.0 | 1.0 | 1849 | 328 |   0   |\n",
      "|   3e-05   | 1.0 | 1.0 | 1849 | 328 |   0   |\n",
      "|   4e-05   | 1.0 | 1.0 | 1849 | 328 |   0   |\n",
      "|   5e-05   | 1.0 | 1.0 | 1849 | 328 |   0   |\n",
      "|   6e-05   | 1.0 | 1.0 | 1849 | 328 |   0   |\n",
      "|   7e-05   | 1.0 | 1.0 | 1849 | 328 |   0   |\n",
      "|   8e-05   | 1.0 | 1.0 | 1849 | 328 |   0   |\n",
      "|   9e-05   | 1.0 | 1.0 | 1849 | 328 |   0   |\n",
      "+-----------+-----+-----+------+-----+-------+\n",
      "[400004 rows x 6 columns]\n",
      "Note: Only the head of the SFrame is printed.\n",
      "You can use print_rows(num_rows=m, num_columns=n) to print more rows and columns., 'confusion_matrix': Columns:\n",
      "\ttarget_label\tint\n",
      "\tpredicted_label\tint\n",
      "\tcount\tint\n",
      "\n",
      "Rows: 8\n",
      "\n",
      "Data:\n",
      "+--------------+-----------------+-------+\n",
      "| target_label | predicted_label | count |\n",
      "+--------------+-----------------+-------+\n",
      "|     1500     |        0        |   57  |\n",
      "|     2000     |        0        |   52  |\n",
      "|     2000     |       2000      |   24  |\n",
      "|     1000     |       1000      |   43  |\n",
      "|     1000     |        0        |  125  |\n",
      "|     2000     |       1000      |   2   |\n",
      "|     1500     |       1500      |   25  |\n",
      "|      0       |        0        |  1849 |\n",
      "+--------------+-----------------+-------+\n",
      "[8 rows x 3 columns]\n",
      ", 'accuracy': 0.8915939366100137}\n"
     ]
    }
   ],
   "source": [
    "#需要找到合适的随机种子才能达到分层cv，本代码没有找到适合随机种子\n",
    "    \n",
    "sf=glb.toolkits.cross_validation.shuffle(Strain,random_seed=True)\n",
    "folds = glb.cross_validation.KFold(sf, 5)\n",
    "m = glb.boosted_trees_classifier.create(sf, target=label)\n",
    "for train, valid in folds:\n",
    "    m = glb.boosted_trees_classifier.create(sf, target=label,validation_set=valid)\n",
    "    a=[1000,1500,2000]\n",
    "    for i in range(len(a)):\n",
    "        print len(valid[valid['money']==a[i]])\n",
    "        print m.evaluate(valid)"
   ]
  },
  {
   "cell_type": "code",
   "execution_count": 33,
   "metadata": {
    "collapsed": false
   },
   "outputs": [
    {
     "name": "stdout",
     "output_type": "stream",
     "text": [
      "+-------------------------------+-------+-------+\n",
      "|              name             | index | count |\n",
      "+-------------------------------+-------+-------+\n",
      "|       POS_recharge_mean       |  None |   36  |\n",
      "|            bus_mean           |  None |   32  |\n",
      "|     hour_06_07_amount_sum     |  None |   30  |\n",
      "|          score_order          |  None |   29  |\n",
      "|   hour_06_07_amount_sum_rate  |  None |   26  |\n",
      "|  amount_slice_day_10_20_count |  None |   21  |\n",
      "|        hour_06_07_mean        |  None |   21  |\n",
      "|         on_school_mean        |  None |   20  |\n",
      "|          amount_mean          |  None |   19  |\n",
      "|         remainder_max         |  None |   18  |\n",
      "|          card_day_sum         |  None |   17  |\n",
      "|      summer_vacation_mean     |  None |   16  |\n",
      "|        hour_08_09_mean        |  None |   16  |\n",
      "| card_recharge_amount_sum_rate |  None |   16  |\n",
      "|       landry_amount_mean      |  None |   15  |\n",
      "|        lib_morning_mean       |  None |   14  |\n",
      "|          shower_mean          |  None |   14  |\n",
      "|       shower_amount_std       |  None |   13  |\n",
      "|    f_ten_canteen_amount_std   |  None |   13  |\n",
      "|  load_tansfer_amount_sum_rate |  None |   13  |\n",
      "+-------------------------------+-------+-------+\n",
      "[584 rows x 3 columns]\n",
      "\n"
     ]
    }
   ],
   "source": [
    "feature_important=m.get_feature_importance()\n",
    "feature_important.print_rows(num_rows=20)\n",
    "#feature_important.tail()"
   ]
  },
  {
   "cell_type": "code",
   "execution_count": 39,
   "metadata": {
    "collapsed": false
   },
   "outputs": [
    {
     "data": {
      "text/plain": [
       "dtype: str\n",
       "Rows: 500\n",
       "['POS_recharge_mean', 'bus_mean', 'hour_06_07_amount_sum', 'score_order', 'hour_06_07_amount_sum_rate', 'amount_slice_day_10_20_count', 'hour_06_07_mean', 'on_school_mean', 'amount_mean', 'remainder_max', 'card_day_sum', 'summer_vacation_mean', 'hour_08_09_mean', 'card_recharge_amount_sum_rate', 'landry_amount_mean', 'lib_morning_mean', 'shower_mean', 'shower_amount_std', 'f_ten_canteen_amount_std', 'load_tansfer_amount_sum_rate', 'canteen_mean', 'POS_recharge_amount_std', 'amount_slice_5_10_count_rate', 'hour_other_amount_sum', 'amount_slice_10_20_count_rate', 'shower_amount_mean', 'resting_day_mean', 'hour_11_13_mean', 'hour_17_21_mean', 'lib_hour_07', 'lib_hour_07_mean', 'hospital_mean', 'market_mean', 'card_recharge_mean', 'f_ten_place_amount_std', 'dorm_hour_afternoon_rate', 'POS_recharge_amount_sum_rate', 'f_ten_canteen_mean', 'hour_11_13_amount_mean', 'dorm_hour15_rate', 'hour_other_mean', 'amount_slice_2.5_5_rate_day', 'winter_vacation_mean', 'amount_slice_day_30_40day_rate', 'borrow_resting_day_rate', 'shower_amount_sum', 'hour_06_07_amount_mean', 'water', 'amount_slice_day_10_20day_rate', 'shower_amount_sum_rate', 'hour_06_07_amount_max', 'load_tansfer_amount_std', 'dorm_hour07_rate', 'lib_per_day', 'lib_working_day_mean', 'amount_score_rank', 'f_ten_place_mean', 'hour_06_07', 'amount_slice_10_20_count', 'score', 'bus', 'remainder_std', 'landry_amount_median', 'canteen_amount_std', 'library_mean', 'dorm_hour17_rate', 'dorm_hour20_rate', 'on_school_amount_sum_rate', 'hour_other_amount_sum_rate', 'market_amount_sum_rate', 'hour_11_13', 'f_ten_canteen_amount_max', 'f_ten_place_amount_sum', 'hour_11_13_amount_min', 'lib_month_10', 'other_canteen_amount_std', 'payment_collection_mean', 'dorm_hour11', 'market_amount_std', 'lib_hour_12_mean', 'load_tansfer_mean', 'f_ten_place_amount_sum_rate', 'lib_month_01_mean', 'canteen', 'remainder_mean', 'hour_17_21_amount_mean', 'f_ten_canteen_amount_sum_rate', 'f_ten_place_amount_mean', 'POS_recharge', 'hour_08_09_amount_median', 'other_place_amount_sum_rate', 'printting_amount_std', 'hour_other_amount_std', 'bus_amount_min', 'printting_amount_mean', 'other_canteen_amount_max', 'summer_vacation_amount_sum_rate', 'market_amount_max', 'shower_amount_max', 'hour_11_13_amount_sum_rate', ... ]"
      ]
     },
     "execution_count": 39,
     "metadata": {},
     "output_type": "execute_result"
    }
   ],
   "source": [
    "feature_important[:500]['name']"
   ]
  },
  {
   "cell_type": "code",
   "execution_count": 34,
   "metadata": {
    "collapsed": false
   },
   "outputs": [
    {
     "data": {
      "text/plain": [
       "Class                          : BoostedTreesClassifier\n",
       "\n",
       "Schema\n",
       "------\n",
       "Number of examples             : 10885\n",
       "Number of feature columns      : 584\n",
       "Number of unpacked features    : 584\n",
       "Number of classes              : 4\n",
       "\n",
       "Settings\n",
       "--------\n",
       "Number of trees                : 40\n",
       "Max tree depth                 : 6\n",
       "Training time (sec)            : 10.8386\n",
       "Training accuracy              : 0.9037\n",
       "Validation accuracy            : 0.8916\n",
       "Training log_loss              : 0.2929\n",
       "Validation log_loss            : 0.3038"
      ]
     },
     "execution_count": 34,
     "metadata": {},
     "output_type": "execute_result"
    }
   ],
   "source": [
    "m"
   ]
  },
  {
   "cell_type": "code",
   "execution_count": 35,
   "metadata": {
    "collapsed": false
   },
   "outputs": [
    {
     "data": {
      "text/plain": [
       "Class                          : BoostedTreesClassifier\n",
       "\n",
       "Schema\n",
       "------\n",
       "Number of examples             : 10333\n",
       "Number of feature columns      : 584\n",
       "Number of unpacked features    : 584\n",
       "Number of classes              : 4\n",
       "\n",
       "Settings\n",
       "--------\n",
       "Number of trees                : 40\n",
       "Max tree depth                 : 6\n",
       "Training time (sec)            : 9.6048\n",
       "Training accuracy              : 0.9075\n",
       "Validation accuracy            : 0.8732\n",
       "Training log_loss              : 0.2872\n",
       "Validation log_loss            : 0.4487"
      ]
     },
     "execution_count": 35,
     "metadata": {},
     "output_type": "execute_result"
    }
   ],
   "source": [
    "model_1"
   ]
  },
  {
   "cell_type": "code",
   "execution_count": 40,
   "metadata": {
    "collapsed": false
   },
   "outputs": [
    {
     "name": "stdout",
     "output_type": "stream",
     "text": [
      "+--------------------------------+-------+-------+\n",
      "|              name              | index | count |\n",
      "+--------------------------------+-------+-------+\n",
      "|         on_school_mean         |  None |   31  |\n",
      "|     hour_06_07_amount_sum      |  None |   31  |\n",
      "|       POS_recharge_mean        |  None |   31  |\n",
      "|          amount_mean           |  None |   27  |\n",
      "|   hour_06_07_amount_sum_rate   |  None |   26  |\n",
      "|        hour_06_07_mean         |  None |   23  |\n",
      "|         remainder_max          |  None |   21  |\n",
      "|          card_day_sum          |  None |   20  |\n",
      "|            bus_mean            |  None |   20  |\n",
      "|          score_order           |  None |   19  |\n",
      "|  POS_recharge_amount_sum_rate  |  None |   18  |\n",
      "|       card_recharge_mean       |  None |   17  |\n",
      "| amount_slice_day_10_20day_rate |  None |   17  |\n",
      "|  amount_slice_day_10_20_count  |  None |   17  |\n",
      "|        resting_day_mean        |  None |   17  |\n",
      "|        hour_08_09_mean         |  None |   16  |\n",
      "|       shower_amount_std        |  None |   16  |\n",
      "|       f_ten_canteen_mean       |  None |   14  |\n",
      "|     f_ten_place_amount_std     |  None |   14  |\n",
      "|    f_ten_canteen_amount_std    |  None |   14  |\n",
      "+--------------------------------+-------+-------+\n",
      "[584 rows x 3 columns]\n",
      "\n"
     ]
    }
   ],
   "source": [
    "feature_important1=model_1.get_feature_importance()\n",
    "feature_important1.print_rows(num_rows=20)\n",
    "#feature_important.tail()"
   ]
  },
  {
   "cell_type": "code",
   "execution_count": 50,
   "metadata": {
    "collapsed": false
   },
   "outputs": [
    {
     "name": "stdout",
     "output_type": "stream",
     "text": [
      "PROGRESS: Creating a validation set from 5 percent of training data. This may take a while.\n",
      "          You can set ``validation_set=None`` to disable validation tracking.\n",
      "\n"
     ]
    },
    {
     "data": {
      "text/html": [
       "<pre>Boosted trees classifier:</pre>"
      ],
      "text/plain": [
       "Boosted trees classifier:"
      ]
     },
     "metadata": {},
     "output_type": "display_data"
    },
    {
     "data": {
      "text/html": [
       "<pre>--------------------------------------------------------</pre>"
      ],
      "text/plain": [
       "--------------------------------------------------------"
      ]
     },
     "metadata": {},
     "output_type": "display_data"
    },
    {
     "data": {
      "text/html": [
       "<pre>Number of examples          : 10378</pre>"
      ],
      "text/plain": [
       "Number of examples          : 10378"
      ]
     },
     "metadata": {},
     "output_type": "display_data"
    },
    {
     "data": {
      "text/html": [
       "<pre>Number of classes           : 4</pre>"
      ],
      "text/plain": [
       "Number of classes           : 4"
      ]
     },
     "metadata": {},
     "output_type": "display_data"
    },
    {
     "data": {
      "text/html": [
       "<pre>Number of feature columns   : 488</pre>"
      ],
      "text/plain": [
       "Number of feature columns   : 488"
      ]
     },
     "metadata": {},
     "output_type": "display_data"
    },
    {
     "data": {
      "text/html": [
       "<pre>Number of unpacked features : 488</pre>"
      ],
      "text/plain": [
       "Number of unpacked features : 488"
      ]
     },
     "metadata": {},
     "output_type": "display_data"
    },
    {
     "data": {
      "text/html": [
       "<pre>+-----------+--------------+-------------------+---------------------+-------------------+---------------------+</pre>"
      ],
      "text/plain": [
       "+-----------+--------------+-------------------+---------------------+-------------------+---------------------+"
      ]
     },
     "metadata": {},
     "output_type": "display_data"
    },
    {
     "data": {
      "text/html": [
       "<pre>| Iteration | Elapsed Time | Training-accuracy | Validation-accuracy | Training-log_loss | Validation-log_loss |</pre>"
      ],
      "text/plain": [
       "| Iteration | Elapsed Time | Training-accuracy | Validation-accuracy | Training-log_loss | Validation-log_loss |"
      ]
     },
     "metadata": {},
     "output_type": "display_data"
    },
    {
     "data": {
      "text/html": [
       "<pre>+-----------+--------------+-------------------+---------------------+-------------------+---------------------+</pre>"
      ],
      "text/plain": [
       "+-----------+--------------+-------------------+---------------------+-------------------+---------------------+"
      ]
     },
     "metadata": {},
     "output_type": "display_data"
    },
    {
     "data": {
      "text/html": [
       "<pre>| 1         | 0.878373     | 0.876759          | 0.840237            | 0.994552          | 1.029475            |</pre>"
      ],
      "text/plain": [
       "| 1         | 0.878373     | 0.876759          | 0.840237            | 0.994552          | 1.029475            |"
      ]
     },
     "metadata": {},
     "output_type": "display_data"
    },
    {
     "data": {
      "text/html": [
       "<pre>| 2         | 1.730970     | 0.879553          | 0.844181            | 0.780901          | 0.837812            |</pre>"
      ],
      "text/plain": [
       "| 2         | 1.730970     | 0.879553          | 0.844181            | 0.780901          | 0.837812            |"
      ]
     },
     "metadata": {},
     "output_type": "display_data"
    },
    {
     "data": {
      "text/html": [
       "<pre>| 3         | 2.662015     | 0.881866          | 0.844181            | 0.641839          | 0.716864            |</pre>"
      ],
      "text/plain": [
       "| 3         | 2.662015     | 0.881866          | 0.844181            | 0.641839          | 0.716864            |"
      ]
     },
     "metadata": {},
     "output_type": "display_data"
    },
    {
     "data": {
      "text/html": [
       "<pre>| 4         | 3.545061     | 0.884178          | 0.852071            | 0.544734          | 0.638933            |</pre>"
      ],
      "text/plain": [
       "| 4         | 3.545061     | 0.884178          | 0.852071            | 0.544734          | 0.638933            |"
      ]
     },
     "metadata": {},
     "output_type": "display_data"
    },
    {
     "data": {
      "text/html": [
       "<pre>| 5         | 4.415969     | 0.887262          | 0.850099            | 0.473079          | 0.587794            |</pre>"
      ],
      "text/plain": [
       "| 5         | 4.415969     | 0.887262          | 0.850099            | 0.473079          | 0.587794            |"
      ]
     },
     "metadata": {},
     "output_type": "display_data"
    },
    {
     "data": {
      "text/html": [
       "<pre>| 6         | 5.298084     | 0.888803          | 0.850099            | 0.418958          | 0.551858            |</pre>"
      ],
      "text/plain": [
       "| 6         | 5.298084     | 0.888803          | 0.850099            | 0.418958          | 0.551858            |"
      ]
     },
     "metadata": {},
     "output_type": "display_data"
    },
    {
     "data": {
      "text/html": [
       "<pre>| 10        | 8.721715     | 0.906533          | 0.852071            | 0.287844          | 0.485440            |</pre>"
      ],
      "text/plain": [
       "| 10        | 8.721715     | 0.906533          | 0.852071            | 0.287844          | 0.485440            |"
      ]
     },
     "metadata": {},
     "output_type": "display_data"
    },
    {
     "data": {
      "text/html": [
       "<pre>+-----------+--------------+-------------------+---------------------+-------------------+---------------------+</pre>"
      ],
      "text/plain": [
       "+-----------+--------------+-------------------+---------------------+-------------------+---------------------+"
      ]
     },
     "metadata": {},
     "output_type": "display_data"
    }
   ],
   "source": [
    "#模型\n",
    "predictor=[x for x in Strain.column_names() if x not in feature_important[501:]['name']]\n",
    "low_variance_feature=['dorm_hour00_day_mean', 'dorm_hour01_day_mean', 'dorm_hour02_day_mean', \n",
    "                      'dorm_hour03_day_mean', 'dorm_hour04_day_mean', 'dorm_hour05_day_mean', \n",
    "                      'dorm_hour14_day_mean', 'dorm_hour15_day_mean', 'dorm_hour16_day_mean', \n",
    "                      'dorm_hour19_day_mean', 'dorm_hour20_day_mean', \n",
    "                      'dorm_hour23_day_mean', 'dorm_hour_01_05_day_mean']\n",
    "predictor_1=[x for x in predictor if x not in low_variance_feature]\n",
    "model_2 =glb.boosted_trees_classifier.create(Strain[predictor_1], target=label)"
   ]
  },
  {
   "cell_type": "code",
   "execution_count": 51,
   "metadata": {
    "collapsed": false
   },
   "outputs": [
    {
     "name": "stdout",
     "output_type": "stream",
     "text": [
      "PROGRESS: Creating a validation set from 5 percent of training data. This may take a while.\n",
      "          You can set ``validation_set=None`` to disable validation tracking.\n",
      "\n"
     ]
    },
    {
     "data": {
      "text/html": [
       "<pre>Boosted trees classifier:</pre>"
      ],
      "text/plain": [
       "Boosted trees classifier:"
      ]
     },
     "metadata": {},
     "output_type": "display_data"
    },
    {
     "data": {
      "text/html": [
       "<pre>--------------------------------------------------------</pre>"
      ],
      "text/plain": [
       "--------------------------------------------------------"
      ]
     },
     "metadata": {},
     "output_type": "display_data"
    },
    {
     "data": {
      "text/html": [
       "<pre>Number of examples          : 10344</pre>"
      ],
      "text/plain": [
       "Number of examples          : 10344"
      ]
     },
     "metadata": {},
     "output_type": "display_data"
    },
    {
     "data": {
      "text/html": [
       "<pre>Number of classes           : 4</pre>"
      ],
      "text/plain": [
       "Number of classes           : 4"
      ]
     },
     "metadata": {},
     "output_type": "display_data"
    },
    {
     "data": {
      "text/html": [
       "<pre>Number of feature columns   : 488</pre>"
      ],
      "text/plain": [
       "Number of feature columns   : 488"
      ]
     },
     "metadata": {},
     "output_type": "display_data"
    },
    {
     "data": {
      "text/html": [
       "<pre>Number of unpacked features : 488</pre>"
      ],
      "text/plain": [
       "Number of unpacked features : 488"
      ]
     },
     "metadata": {},
     "output_type": "display_data"
    },
    {
     "data": {
      "text/html": [
       "<pre>+-----------+--------------+-------------------+---------------------+-------------------+---------------------+</pre>"
      ],
      "text/plain": [
       "+-----------+--------------+-------------------+---------------------+-------------------+---------------------+"
      ]
     },
     "metadata": {},
     "output_type": "display_data"
    },
    {
     "data": {
      "text/html": [
       "<pre>| Iteration | Elapsed Time | Training-accuracy | Validation-accuracy | Training-log_loss | Validation-log_loss |</pre>"
      ],
      "text/plain": [
       "| Iteration | Elapsed Time | Training-accuracy | Validation-accuracy | Training-log_loss | Validation-log_loss |"
      ]
     },
     "metadata": {},
     "output_type": "display_data"
    },
    {
     "data": {
      "text/html": [
       "<pre>+-----------+--------------+-------------------+---------------------+-------------------+---------------------+</pre>"
      ],
      "text/plain": [
       "+-----------+--------------+-------------------+---------------------+-------------------+---------------------+"
      ]
     },
     "metadata": {},
     "output_type": "display_data"
    },
    {
     "data": {
      "text/html": [
       "<pre>| 1         | 0.924253     | 0.877514          | 0.857671            | 0.997232          | 1.010472            |</pre>"
      ],
      "text/plain": [
       "| 1         | 0.924253     | 0.877514          | 0.857671            | 0.997232          | 1.010472            |"
      ]
     },
     "metadata": {},
     "output_type": "display_data"
    },
    {
     "data": {
      "text/html": [
       "<pre>| 2         | 1.922564     | 0.882057          | 0.866913            | 0.782300          | 0.813426            |</pre>"
      ],
      "text/plain": [
       "| 2         | 1.922564     | 0.882057          | 0.866913            | 0.782300          | 0.813426            |"
      ]
     },
     "metadata": {},
     "output_type": "display_data"
    },
    {
     "data": {
      "text/html": [
       "<pre>| 3         | 2.888520     | 0.883024          | 0.868762            | 0.643036          | 0.695456            |</pre>"
      ],
      "text/plain": [
       "| 3         | 2.888520     | 0.883024          | 0.868762            | 0.643036          | 0.695456            |"
      ]
     },
     "metadata": {},
     "output_type": "display_data"
    },
    {
     "data": {
      "text/html": [
       "<pre>| 4         | 3.823968     | 0.885247          | 0.863216            | 0.546098          | 0.613492            |</pre>"
      ],
      "text/plain": [
       "| 4         | 3.823968     | 0.885247          | 0.863216            | 0.546098          | 0.613492            |"
      ]
     },
     "metadata": {},
     "output_type": "display_data"
    },
    {
     "data": {
      "text/html": [
       "<pre>| 5         | 4.753232     | 0.887374          | 0.870610            | 0.474191          | 0.555729            |</pre>"
      ],
      "text/plain": [
       "| 5         | 4.753232     | 0.887374          | 0.870610            | 0.474191          | 0.555729            |"
      ]
     },
     "metadata": {},
     "output_type": "display_data"
    },
    {
     "data": {
      "text/html": [
       "<pre>| 6         | 5.697969     | 0.890951          | 0.870610            | 0.419993          | 0.517024            |</pre>"
      ],
      "text/plain": [
       "| 6         | 5.697969     | 0.890951          | 0.870610            | 0.419993          | 0.517024            |"
      ]
     },
     "metadata": {},
     "output_type": "display_data"
    },
    {
     "data": {
      "text/html": [
       "<pre>| 10        | 9.343416     | 0.907483          | 0.872458            | 0.289619          | 0.447568            |</pre>"
      ],
      "text/plain": [
       "| 10        | 9.343416     | 0.907483          | 0.872458            | 0.289619          | 0.447568            |"
      ]
     },
     "metadata": {},
     "output_type": "display_data"
    },
    {
     "data": {
      "text/html": [
       "<pre>+-----------+--------------+-------------------+---------------------+-------------------+---------------------+</pre>"
      ],
      "text/plain": [
       "+-----------+--------------+-------------------+---------------------+-------------------+---------------------+"
      ]
     },
     "metadata": {},
     "output_type": "display_data"
    },
    {
     "data": {
      "text/html": [
       "<pre>Boosted trees classifier:</pre>"
      ],
      "text/plain": [
       "Boosted trees classifier:"
      ]
     },
     "metadata": {},
     "output_type": "display_data"
    },
    {
     "data": {
      "text/html": [
       "<pre>--------------------------------------------------------</pre>"
      ],
      "text/plain": [
       "--------------------------------------------------------"
      ]
     },
     "metadata": {},
     "output_type": "display_data"
    },
    {
     "data": {
      "text/html": [
       "<pre>Number of examples          : 10885</pre>"
      ],
      "text/plain": [
       "Number of examples          : 10885"
      ]
     },
     "metadata": {},
     "output_type": "display_data"
    },
    {
     "data": {
      "text/html": [
       "<pre>Number of classes           : 4</pre>"
      ],
      "text/plain": [
       "Number of classes           : 4"
      ]
     },
     "metadata": {},
     "output_type": "display_data"
    },
    {
     "data": {
      "text/html": [
       "<pre>Number of feature columns   : 488</pre>"
      ],
      "text/plain": [
       "Number of feature columns   : 488"
      ]
     },
     "metadata": {},
     "output_type": "display_data"
    },
    {
     "data": {
      "text/html": [
       "<pre>Number of unpacked features : 488</pre>"
      ],
      "text/plain": [
       "Number of unpacked features : 488"
      ]
     },
     "metadata": {},
     "output_type": "display_data"
    },
    {
     "data": {
      "text/html": [
       "<pre>+-----------+--------------+-------------------+---------------------+-------------------+---------------------+</pre>"
      ],
      "text/plain": [
       "+-----------+--------------+-------------------+---------------------+-------------------+---------------------+"
      ]
     },
     "metadata": {},
     "output_type": "display_data"
    },
    {
     "data": {
      "text/html": [
       "<pre>| Iteration | Elapsed Time | Training-accuracy | Validation-accuracy | Training-log_loss | Validation-log_loss |</pre>"
      ],
      "text/plain": [
       "| Iteration | Elapsed Time | Training-accuracy | Validation-accuracy | Training-log_loss | Validation-log_loss |"
      ]
     },
     "metadata": {},
     "output_type": "display_data"
    },
    {
     "data": {
      "text/html": [
       "<pre>+-----------+--------------+-------------------+---------------------+-------------------+---------------------+</pre>"
      ],
      "text/plain": [
       "+-----------+--------------+-------------------+---------------------+-------------------+---------------------+"
      ]
     },
     "metadata": {},
     "output_type": "display_data"
    },
    {
     "data": {
      "text/html": [
       "<pre>| 1         | 0.999320     | 0.875517          | 0.873220            | 0.996739          | 1.000838            |</pre>"
      ],
      "text/plain": [
       "| 1         | 0.999320     | 0.875517          | 0.873220            | 0.996739          | 1.000838            |"
      ]
     },
     "metadata": {},
     "output_type": "display_data"
    },
    {
     "data": {
      "text/html": [
       "<pre>| 2         | 1.964148     | 0.879467          | 0.876895            | 0.784137          | 0.791852            |</pre>"
      ],
      "text/plain": [
       "| 2         | 1.964148     | 0.879467          | 0.876895            | 0.784137          | 0.791852            |"
      ]
     },
     "metadata": {},
     "output_type": "display_data"
    },
    {
     "data": {
      "text/html": [
       "<pre>| 3         | 2.926090     | 0.882683          | 0.877814            | 0.644273          | 0.652001            |</pre>"
      ],
      "text/plain": [
       "| 3         | 2.926090     | 0.882683          | 0.877814            | 0.644273          | 0.652001            |"
      ]
     },
     "metadata": {},
     "output_type": "display_data"
    },
    {
     "data": {
      "text/html": [
       "<pre>| 4         | 3.844777     | 0.884704          | 0.877814            | 0.546046          | 0.552883            |</pre>"
      ],
      "text/plain": [
       "| 4         | 3.844777     | 0.884704          | 0.877814            | 0.546046          | 0.552883            |"
      ]
     },
     "metadata": {},
     "output_type": "display_data"
    },
    {
     "data": {
      "text/html": [
       "<pre>| 5         | 4.759828     | 0.886909          | 0.882407            | 0.474044          | 0.482567            |</pre>"
      ],
      "text/plain": [
       "| 5         | 4.759828     | 0.886909          | 0.882407            | 0.474044          | 0.482567            |"
      ]
     },
     "metadata": {},
     "output_type": "display_data"
    },
    {
     "data": {
      "text/html": [
       "<pre>| 6         | 5.713284     | 0.889389          | 0.886541            | 0.420495          | 0.428716            |</pre>"
      ],
      "text/plain": [
       "| 6         | 5.713284     | 0.889389          | 0.886541            | 0.420495          | 0.428716            |"
      ]
     },
     "metadata": {},
     "output_type": "display_data"
    },
    {
     "data": {
      "text/html": [
       "<pre>| 10        | 9.302803     | 0.903721          | 0.903078            | 0.292946          | 0.301014            |</pre>"
      ],
      "text/plain": [
       "| 10        | 9.302803     | 0.903721          | 0.903078            | 0.292946          | 0.301014            |"
      ]
     },
     "metadata": {},
     "output_type": "display_data"
    },
    {
     "data": {
      "text/html": [
       "<pre>+-----------+--------------+-------------------+---------------------+-------------------+---------------------+</pre>"
      ],
      "text/plain": [
       "+-----------+--------------+-------------------+---------------------+-------------------+---------------------+"
      ]
     },
     "metadata": {},
     "output_type": "display_data"
    },
    {
     "name": "stdout",
     "output_type": "stream",
     "text": [
      "150\n",
      "{'f1_score': 0.6290470234277132, 'auc': 0.9807617927868448, 'recall': 0.5169596499035751, 'precision': 0.9744922630560928, 'log_loss': 0.3010141665030884, 'roc_curve': Columns:\n",
      "\tthreshold\tfloat\n",
      "\tfpr\tfloat\n",
      "\ttpr\tfloat\n",
      "\tp\tint\n",
      "\tn\tint\n",
      "\tclass\tint\n",
      "\n",
      "Rows: 400004\n",
      "\n",
      "Data:\n",
      "+-----------+-----+-----+------+-----+-------+\n",
      "| threshold | fpr | tpr |  p   |  n  | class |\n",
      "+-----------+-----+-----+------+-----+-------+\n",
      "|    0.0    | 1.0 | 1.0 | 1857 | 320 |   0   |\n",
      "|   1e-05   | 1.0 | 1.0 | 1857 | 320 |   0   |\n",
      "|   2e-05   | 1.0 | 1.0 | 1857 | 320 |   0   |\n",
      "|   3e-05   | 1.0 | 1.0 | 1857 | 320 |   0   |\n",
      "|   4e-05   | 1.0 | 1.0 | 1857 | 320 |   0   |\n",
      "|   5e-05   | 1.0 | 1.0 | 1857 | 320 |   0   |\n",
      "|   6e-05   | 1.0 | 1.0 | 1857 | 320 |   0   |\n",
      "|   7e-05   | 1.0 | 1.0 | 1857 | 320 |   0   |\n",
      "|   8e-05   | 1.0 | 1.0 | 1857 | 320 |   0   |\n",
      "|   9e-05   | 1.0 | 1.0 | 1857 | 320 |   0   |\n",
      "+-----------+-----+-----+------+-----+-------+\n",
      "[400004 rows x 6 columns]\n",
      "Note: Only the head of the SFrame is printed.\n",
      "You can use print_rows(num_rows=m, num_columns=n) to print more rows and columns., 'confusion_matrix': Columns:\n",
      "\ttarget_label\tint\n",
      "\tpredicted_label\tint\n",
      "\tcount\tint\n",
      "\n",
      "Rows: 7\n",
      "\n",
      "Data:\n",
      "+--------------+-----------------+-------+\n",
      "| target_label | predicted_label | count |\n",
      "+--------------+-----------------+-------+\n",
      "|     1000     |        0        |  105  |\n",
      "|     2000     |        0        |   37  |\n",
      "|     2000     |       2000      |   26  |\n",
      "|     1000     |       1000      |   45  |\n",
      "|     1500     |        0        |   69  |\n",
      "|     1500     |       1500      |   38  |\n",
      "|      0       |        0        |  1857 |\n",
      "+--------------+-----------------+-------+\n",
      "[7 rows x 3 columns]\n",
      ", 'accuracy': 0.9030776297657327}\n",
      "107\n",
      "{'f1_score': 0.6290470234277132, 'auc': 0.9807617927868448, 'recall': 0.5169596499035751, 'precision': 0.9744922630560928, 'log_loss': 0.3010141665030884, 'roc_curve': Columns:\n",
      "\tthreshold\tfloat\n",
      "\tfpr\tfloat\n",
      "\ttpr\tfloat\n",
      "\tp\tint\n",
      "\tn\tint\n",
      "\tclass\tint\n",
      "\n",
      "Rows: 400004\n",
      "\n",
      "Data:\n",
      "+-----------+-----+-----+------+-----+-------+\n",
      "| threshold | fpr | tpr |  p   |  n  | class |\n",
      "+-----------+-----+-----+------+-----+-------+\n",
      "|    0.0    | 1.0 | 1.0 | 1857 | 320 |   0   |\n",
      "|   1e-05   | 1.0 | 1.0 | 1857 | 320 |   0   |\n",
      "|   2e-05   | 1.0 | 1.0 | 1857 | 320 |   0   |\n",
      "|   3e-05   | 1.0 | 1.0 | 1857 | 320 |   0   |\n",
      "|   4e-05   | 1.0 | 1.0 | 1857 | 320 |   0   |\n",
      "|   5e-05   | 1.0 | 1.0 | 1857 | 320 |   0   |\n",
      "|   6e-05   | 1.0 | 1.0 | 1857 | 320 |   0   |\n",
      "|   7e-05   | 1.0 | 1.0 | 1857 | 320 |   0   |\n",
      "|   8e-05   | 1.0 | 1.0 | 1857 | 320 |   0   |\n",
      "|   9e-05   | 1.0 | 1.0 | 1857 | 320 |   0   |\n",
      "+-----------+-----+-----+------+-----+-------+\n",
      "[400004 rows x 6 columns]\n",
      "Note: Only the head of the SFrame is printed.\n",
      "You can use print_rows(num_rows=m, num_columns=n) to print more rows and columns., 'confusion_matrix': Columns:\n",
      "\ttarget_label\tint\n",
      "\tpredicted_label\tint\n",
      "\tcount\tint\n",
      "\n",
      "Rows: 7\n",
      "\n",
      "Data:\n",
      "+--------------+-----------------+-------+\n",
      "| target_label | predicted_label | count |\n",
      "+--------------+-----------------+-------+\n",
      "|     1000     |        0        |  105  |\n",
      "|     2000     |        0        |   37  |\n",
      "|     2000     |       2000      |   26  |\n",
      "|     1000     |       1000      |   45  |\n",
      "|     1500     |        0        |   69  |\n",
      "|     1500     |       1500      |   38  |\n",
      "|      0       |        0        |  1857 |\n",
      "+--------------+-----------------+-------+\n",
      "[7 rows x 3 columns]\n",
      ", 'accuracy': 0.9030776297657327}\n",
      "63\n",
      "{'f1_score': 0.6290470234277132, 'auc': 0.9807617927868448, 'recall': 0.5169596499035751, 'precision': 0.9744922630560928, 'log_loss': 0.3010141665030884, 'roc_curve': Columns:\n",
      "\tthreshold\tfloat\n",
      "\tfpr\tfloat\n",
      "\ttpr\tfloat\n",
      "\tp\tint\n",
      "\tn\tint\n",
      "\tclass\tint\n",
      "\n",
      "Rows: 400004\n",
      "\n",
      "Data:\n",
      "+-----------+-----+-----+------+-----+-------+\n",
      "| threshold | fpr | tpr |  p   |  n  | class |\n",
      "+-----------+-----+-----+------+-----+-------+\n",
      "|    0.0    | 1.0 | 1.0 | 1857 | 320 |   0   |\n",
      "|   1e-05   | 1.0 | 1.0 | 1857 | 320 |   0   |\n",
      "|   2e-05   | 1.0 | 1.0 | 1857 | 320 |   0   |\n",
      "|   3e-05   | 1.0 | 1.0 | 1857 | 320 |   0   |\n",
      "|   4e-05   | 1.0 | 1.0 | 1857 | 320 |   0   |\n",
      "|   5e-05   | 1.0 | 1.0 | 1857 | 320 |   0   |\n",
      "|   6e-05   | 1.0 | 1.0 | 1857 | 320 |   0   |\n",
      "|   7e-05   | 1.0 | 1.0 | 1857 | 320 |   0   |\n",
      "|   8e-05   | 1.0 | 1.0 | 1857 | 320 |   0   |\n",
      "|   9e-05   | 1.0 | 1.0 | 1857 | 320 |   0   |\n",
      "+-----------+-----+-----+------+-----+-------+\n",
      "[400004 rows x 6 columns]\n",
      "Note: Only the head of the SFrame is printed.\n",
      "You can use print_rows(num_rows=m, num_columns=n) to print more rows and columns., 'confusion_matrix': Columns:\n",
      "\ttarget_label\tint\n",
      "\tpredicted_label\tint\n",
      "\tcount\tint\n",
      "\n",
      "Rows: 7\n",
      "\n",
      "Data:\n",
      "+--------------+-----------------+-------+\n",
      "| target_label | predicted_label | count |\n",
      "+--------------+-----------------+-------+\n",
      "|     1000     |        0        |  105  |\n",
      "|     2000     |        0        |   37  |\n",
      "|     2000     |       2000      |   26  |\n",
      "|     1000     |       1000      |   45  |\n",
      "|     1500     |        0        |   69  |\n",
      "|     1500     |       1500      |   38  |\n",
      "|      0       |        0        |  1857 |\n",
      "+--------------+-----------------+-------+\n",
      "[7 rows x 3 columns]\n",
      ", 'accuracy': 0.9030776297657327}\n"
     ]
    },
    {
     "data": {
      "text/html": [
       "<pre>Boosted trees classifier:</pre>"
      ],
      "text/plain": [
       "Boosted trees classifier:"
      ]
     },
     "metadata": {},
     "output_type": "display_data"
    },
    {
     "data": {
      "text/html": [
       "<pre>--------------------------------------------------------</pre>"
      ],
      "text/plain": [
       "--------------------------------------------------------"
      ]
     },
     "metadata": {},
     "output_type": "display_data"
    },
    {
     "data": {
      "text/html": [
       "<pre>Number of examples          : 10885</pre>"
      ],
      "text/plain": [
       "Number of examples          : 10885"
      ]
     },
     "metadata": {},
     "output_type": "display_data"
    },
    {
     "data": {
      "text/html": [
       "<pre>Number of classes           : 4</pre>"
      ],
      "text/plain": [
       "Number of classes           : 4"
      ]
     },
     "metadata": {},
     "output_type": "display_data"
    },
    {
     "data": {
      "text/html": [
       "<pre>Number of feature columns   : 488</pre>"
      ],
      "text/plain": [
       "Number of feature columns   : 488"
      ]
     },
     "metadata": {},
     "output_type": "display_data"
    },
    {
     "data": {
      "text/html": [
       "<pre>Number of unpacked features : 488</pre>"
      ],
      "text/plain": [
       "Number of unpacked features : 488"
      ]
     },
     "metadata": {},
     "output_type": "display_data"
    },
    {
     "data": {
      "text/html": [
       "<pre>+-----------+--------------+-------------------+---------------------+-------------------+---------------------+</pre>"
      ],
      "text/plain": [
       "+-----------+--------------+-------------------+---------------------+-------------------+---------------------+"
      ]
     },
     "metadata": {},
     "output_type": "display_data"
    },
    {
     "data": {
      "text/html": [
       "<pre>| Iteration | Elapsed Time | Training-accuracy | Validation-accuracy | Training-log_loss | Validation-log_loss |</pre>"
      ],
      "text/plain": [
       "| Iteration | Elapsed Time | Training-accuracy | Validation-accuracy | Training-log_loss | Validation-log_loss |"
      ]
     },
     "metadata": {},
     "output_type": "display_data"
    },
    {
     "data": {
      "text/html": [
       "<pre>+-----------+--------------+-------------------+---------------------+-------------------+---------------------+</pre>"
      ],
      "text/plain": [
       "+-----------+--------------+-------------------+---------------------+-------------------+---------------------+"
      ]
     },
     "metadata": {},
     "output_type": "display_data"
    },
    {
     "data": {
      "text/html": [
       "<pre>| 1         | 0.983050     | 0.875517          | 0.881488            | 0.996739          | 0.995720            |</pre>"
      ],
      "text/plain": [
       "| 1         | 0.983050     | 0.875517          | 0.881488            | 0.996739          | 0.995720            |"
      ]
     },
     "metadata": {},
     "output_type": "display_data"
    },
    {
     "data": {
      "text/html": [
       "<pre>| 2         | 1.882289     | 0.879467          | 0.883326            | 0.784137          | 0.780293            |</pre>"
      ],
      "text/plain": [
       "| 2         | 1.882289     | 0.879467          | 0.883326            | 0.784137          | 0.780293            |"
      ]
     },
     "metadata": {},
     "output_type": "display_data"
    },
    {
     "data": {
      "text/html": [
       "<pre>| 3         | 2.821344     | 0.882683          | 0.887460            | 0.644273          | 0.639323            |</pre>"
      ],
      "text/plain": [
       "| 3         | 2.821344     | 0.882683          | 0.887460            | 0.644273          | 0.639323            |"
      ]
     },
     "metadata": {},
     "output_type": "display_data"
    },
    {
     "data": {
      "text/html": [
       "<pre>| 4         | 3.827696     | 0.884704          | 0.889297            | 0.546046          | 0.540903            |</pre>"
      ],
      "text/plain": [
       "| 4         | 3.827696     | 0.884704          | 0.889297            | 0.546046          | 0.540903            |"
      ]
     },
     "metadata": {},
     "output_type": "display_data"
    },
    {
     "data": {
      "text/html": [
       "<pre>| 5         | 4.799293     | 0.886909          | 0.889297            | 0.474044          | 0.469519            |</pre>"
      ],
      "text/plain": [
       "| 5         | 4.799293     | 0.886909          | 0.889297            | 0.474044          | 0.469519            |"
      ]
     },
     "metadata": {},
     "output_type": "display_data"
    },
    {
     "data": {
      "text/html": [
       "<pre>| 6         | 5.784656     | 0.889389          | 0.891135            | 0.420495          | 0.416080            |</pre>"
      ],
      "text/plain": [
       "| 6         | 5.784656     | 0.889389          | 0.891135            | 0.420495          | 0.416080            |"
      ]
     },
     "metadata": {},
     "output_type": "display_data"
    },
    {
     "data": {
      "text/html": [
       "<pre>| 10        | 9.626949     | 0.903721          | 0.903537            | 0.292946          | 0.291568            |</pre>"
      ],
      "text/plain": [
       "| 10        | 9.626949     | 0.903721          | 0.903537            | 0.292946          | 0.291568            |"
      ]
     },
     "metadata": {},
     "output_type": "display_data"
    },
    {
     "data": {
      "text/html": [
       "<pre>+-----------+--------------+-------------------+---------------------+-------------------+---------------------+</pre>"
      ],
      "text/plain": [
       "+-----------+--------------+-------------------+---------------------+-------------------+---------------------+"
      ]
     },
     "metadata": {},
     "output_type": "display_data"
    },
    {
     "name": "stdout",
     "output_type": "stream",
     "text": [
      "138\n",
      "{'f1_score': 0.5765485592127347, 'auc': 0.9761210306127288, 'recall': 0.47066267143197327, 'precision': 0.969047619047619, 'log_loss': 0.29156835172189066, 'roc_curve': Columns:\n",
      "\tthreshold\tfloat\n",
      "\tfpr\tfloat\n",
      "\ttpr\tfloat\n",
      "\tp\tint\n",
      "\tn\tint\n",
      "\tclass\tint\n",
      "\n",
      "Rows: 400004\n",
      "\n",
      "Data:\n",
      "+-----------+-----+-----+------+-----+-------+\n",
      "| threshold | fpr | tpr |  p   |  n  | class |\n",
      "+-----------+-----+-----+------+-----+-------+\n",
      "|    0.0    | 1.0 | 1.0 | 1882 | 295 |   0   |\n",
      "|   1e-05   | 1.0 | 1.0 | 1882 | 295 |   0   |\n",
      "|   2e-05   | 1.0 | 1.0 | 1882 | 295 |   0   |\n",
      "|   3e-05   | 1.0 | 1.0 | 1882 | 295 |   0   |\n",
      "|   4e-05   | 1.0 | 1.0 | 1882 | 295 |   0   |\n",
      "|   5e-05   | 1.0 | 1.0 | 1882 | 295 |   0   |\n",
      "|   6e-05   | 1.0 | 1.0 | 1882 | 295 |   0   |\n",
      "|   7e-05   | 1.0 | 1.0 | 1882 | 295 |   0   |\n",
      "|   8e-05   | 1.0 | 1.0 | 1882 | 295 |   0   |\n",
      "|   9e-05   | 1.0 | 1.0 | 1882 | 295 |   0   |\n",
      "+-----------+-----+-----+------+-----+-------+\n",
      "[400004 rows x 6 columns]\n",
      "Note: Only the head of the SFrame is printed.\n",
      "You can use print_rows(num_rows=m, num_columns=n) to print more rows and columns., 'confusion_matrix': Columns:\n",
      "\ttarget_label\tint\n",
      "\tpredicted_label\tint\n",
      "\tcount\tint\n",
      "\n",
      "Rows: 8\n",
      "\n",
      "Data:\n",
      "+--------------+-----------------+-------+\n",
      "| target_label | predicted_label | count |\n",
      "+--------------+-----------------+-------+\n",
      "|     2000     |       2000      |   22  |\n",
      "|     1000     |       1000      |   41  |\n",
      "|     2000     |        0        |   44  |\n",
      "|     1000     |        0        |   97  |\n",
      "|     1500     |        0        |   68  |\n",
      "|      0       |       1000      |   1   |\n",
      "|     1500     |       1500      |   23  |\n",
      "|      0       |        0        |  1881 |\n",
      "+--------------+-----------------+-------+\n",
      "[8 rows x 3 columns]\n",
      ", 'accuracy': 0.9035369774919614}\n",
      "91\n",
      "{'f1_score': 0.5765485592127347, 'auc': 0.9761210306127288, 'recall': 0.47066267143197327, 'precision': 0.969047619047619, 'log_loss': 0.29156835172189066, 'roc_curve': Columns:\n",
      "\tthreshold\tfloat\n",
      "\tfpr\tfloat\n",
      "\ttpr\tfloat\n",
      "\tp\tint\n",
      "\tn\tint\n",
      "\tclass\tint\n",
      "\n",
      "Rows: 400004\n",
      "\n",
      "Data:\n",
      "+-----------+-----+-----+------+-----+-------+\n",
      "| threshold | fpr | tpr |  p   |  n  | class |\n",
      "+-----------+-----+-----+------+-----+-------+\n",
      "|    0.0    | 1.0 | 1.0 | 1882 | 295 |   0   |\n",
      "|   1e-05   | 1.0 | 1.0 | 1882 | 295 |   0   |\n",
      "|   2e-05   | 1.0 | 1.0 | 1882 | 295 |   0   |\n",
      "|   3e-05   | 1.0 | 1.0 | 1882 | 295 |   0   |\n",
      "|   4e-05   | 1.0 | 1.0 | 1882 | 295 |   0   |\n",
      "|   5e-05   | 1.0 | 1.0 | 1882 | 295 |   0   |\n",
      "|   6e-05   | 1.0 | 1.0 | 1882 | 295 |   0   |\n",
      "|   7e-05   | 1.0 | 1.0 | 1882 | 295 |   0   |\n",
      "|   8e-05   | 1.0 | 1.0 | 1882 | 295 |   0   |\n",
      "|   9e-05   | 1.0 | 1.0 | 1882 | 295 |   0   |\n",
      "+-----------+-----+-----+------+-----+-------+\n",
      "[400004 rows x 6 columns]\n",
      "Note: Only the head of the SFrame is printed.\n",
      "You can use print_rows(num_rows=m, num_columns=n) to print more rows and columns., 'confusion_matrix': Columns:\n",
      "\ttarget_label\tint\n",
      "\tpredicted_label\tint\n",
      "\tcount\tint\n",
      "\n",
      "Rows: 8\n",
      "\n",
      "Data:\n",
      "+--------------+-----------------+-------+\n",
      "| target_label | predicted_label | count |\n",
      "+--------------+-----------------+-------+\n",
      "|     2000     |       2000      |   22  |\n",
      "|     1000     |       1000      |   41  |\n",
      "|     2000     |        0        |   44  |\n",
      "|     1000     |        0        |   97  |\n",
      "|     1500     |        0        |   68  |\n",
      "|      0       |       1000      |   1   |\n",
      "|     1500     |       1500      |   23  |\n",
      "|      0       |        0        |  1881 |\n",
      "+--------------+-----------------+-------+\n",
      "[8 rows x 3 columns]\n",
      ", 'accuracy': 0.9035369774919614}\n",
      "66\n",
      "{'f1_score': 0.5765485592127347, 'auc': 0.9761210306127288, 'recall': 0.47066267143197327, 'precision': 0.969047619047619, 'log_loss': 0.29156835172189066, 'roc_curve': Columns:\n",
      "\tthreshold\tfloat\n",
      "\tfpr\tfloat\n",
      "\ttpr\tfloat\n",
      "\tp\tint\n",
      "\tn\tint\n",
      "\tclass\tint\n",
      "\n",
      "Rows: 400004\n",
      "\n",
      "Data:\n",
      "+-----------+-----+-----+------+-----+-------+\n",
      "| threshold | fpr | tpr |  p   |  n  | class |\n",
      "+-----------+-----+-----+------+-----+-------+\n",
      "|    0.0    | 1.0 | 1.0 | 1882 | 295 |   0   |\n",
      "|   1e-05   | 1.0 | 1.0 | 1882 | 295 |   0   |\n",
      "|   2e-05   | 1.0 | 1.0 | 1882 | 295 |   0   |\n",
      "|   3e-05   | 1.0 | 1.0 | 1882 | 295 |   0   |\n",
      "|   4e-05   | 1.0 | 1.0 | 1882 | 295 |   0   |\n",
      "|   5e-05   | 1.0 | 1.0 | 1882 | 295 |   0   |\n",
      "|   6e-05   | 1.0 | 1.0 | 1882 | 295 |   0   |\n",
      "|   7e-05   | 1.0 | 1.0 | 1882 | 295 |   0   |\n",
      "|   8e-05   | 1.0 | 1.0 | 1882 | 295 |   0   |\n",
      "|   9e-05   | 1.0 | 1.0 | 1882 | 295 |   0   |\n",
      "+-----------+-----+-----+------+-----+-------+\n",
      "[400004 rows x 6 columns]\n",
      "Note: Only the head of the SFrame is printed.\n",
      "You can use print_rows(num_rows=m, num_columns=n) to print more rows and columns., 'confusion_matrix': Columns:\n",
      "\ttarget_label\tint\n",
      "\tpredicted_label\tint\n",
      "\tcount\tint\n",
      "\n",
      "Rows: 8\n",
      "\n",
      "Data:\n",
      "+--------------+-----------------+-------+\n",
      "| target_label | predicted_label | count |\n",
      "+--------------+-----------------+-------+\n",
      "|     2000     |       2000      |   22  |\n",
      "|     1000     |       1000      |   41  |\n",
      "|     2000     |        0        |   44  |\n",
      "|     1000     |        0        |   97  |\n",
      "|     1500     |        0        |   68  |\n",
      "|      0       |       1000      |   1   |\n",
      "|     1500     |       1500      |   23  |\n",
      "|      0       |        0        |  1881 |\n",
      "+--------------+-----------------+-------+\n",
      "[8 rows x 3 columns]\n",
      ", 'accuracy': 0.9035369774919614}\n"
     ]
    },
    {
     "data": {
      "text/html": [
       "<pre>Boosted trees classifier:</pre>"
      ],
      "text/plain": [
       "Boosted trees classifier:"
      ]
     },
     "metadata": {},
     "output_type": "display_data"
    },
    {
     "data": {
      "text/html": [
       "<pre>--------------------------------------------------------</pre>"
      ],
      "text/plain": [
       "--------------------------------------------------------"
      ]
     },
     "metadata": {},
     "output_type": "display_data"
    },
    {
     "data": {
      "text/html": [
       "<pre>Number of examples          : 10885</pre>"
      ],
      "text/plain": [
       "Number of examples          : 10885"
      ]
     },
     "metadata": {},
     "output_type": "display_data"
    },
    {
     "data": {
      "text/html": [
       "<pre>Number of classes           : 4</pre>"
      ],
      "text/plain": [
       "Number of classes           : 4"
      ]
     },
     "metadata": {},
     "output_type": "display_data"
    },
    {
     "data": {
      "text/html": [
       "<pre>Number of feature columns   : 488</pre>"
      ],
      "text/plain": [
       "Number of feature columns   : 488"
      ]
     },
     "metadata": {},
     "output_type": "display_data"
    },
    {
     "data": {
      "text/html": [
       "<pre>Number of unpacked features : 488</pre>"
      ],
      "text/plain": [
       "Number of unpacked features : 488"
      ]
     },
     "metadata": {},
     "output_type": "display_data"
    },
    {
     "data": {
      "text/html": [
       "<pre>+-----------+--------------+-------------------+---------------------+-------------------+---------------------+</pre>"
      ],
      "text/plain": [
       "+-----------+--------------+-------------------+---------------------+-------------------+---------------------+"
      ]
     },
     "metadata": {},
     "output_type": "display_data"
    },
    {
     "data": {
      "text/html": [
       "<pre>| Iteration | Elapsed Time | Training-accuracy | Validation-accuracy | Training-log_loss | Validation-log_loss |</pre>"
      ],
      "text/plain": [
       "| Iteration | Elapsed Time | Training-accuracy | Validation-accuracy | Training-log_loss | Validation-log_loss |"
      ]
     },
     "metadata": {},
     "output_type": "display_data"
    },
    {
     "data": {
      "text/html": [
       "<pre>+-----------+--------------+-------------------+---------------------+-------------------+---------------------+</pre>"
      ],
      "text/plain": [
       "+-----------+--------------+-------------------+---------------------+-------------------+---------------------+"
      ]
     },
     "metadata": {},
     "output_type": "display_data"
    },
    {
     "data": {
      "text/html": [
       "<pre>| 1         | 0.950249     | 0.875517          | 0.877354            | 0.996739          | 0.993394            |</pre>"
      ],
      "text/plain": [
       "| 1         | 0.950249     | 0.875517          | 0.877354            | 0.996739          | 0.993394            |"
      ]
     },
     "metadata": {},
     "output_type": "display_data"
    },
    {
     "data": {
      "text/html": [
       "<pre>| 2         | 1.938017     | 0.879467          | 0.885622            | 0.784137          | 0.778974            |</pre>"
      ],
      "text/plain": [
       "| 2         | 1.938017     | 0.879467          | 0.885622            | 0.784137          | 0.778974            |"
      ]
     },
     "metadata": {},
     "output_type": "display_data"
    },
    {
     "data": {
      "text/html": [
       "<pre>| 3         | 2.822356     | 0.882683          | 0.889297            | 0.644273          | 0.638637            |</pre>"
      ],
      "text/plain": [
       "| 3         | 2.822356     | 0.882683          | 0.889297            | 0.644273          | 0.638637            |"
      ]
     },
     "metadata": {},
     "output_type": "display_data"
    },
    {
     "data": {
      "text/html": [
       "<pre>| 4         | 3.721930     | 0.884704          | 0.892972            | 0.546046          | 0.539710            |</pre>"
      ],
      "text/plain": [
       "| 4         | 3.721930     | 0.884704          | 0.892972            | 0.546046          | 0.539710            |"
      ]
     },
     "metadata": {},
     "output_type": "display_data"
    },
    {
     "data": {
      "text/html": [
       "<pre>| 5         | 4.715141     | 0.886909          | 0.895728            | 0.474044          | 0.466427            |</pre>"
      ],
      "text/plain": [
       "| 5         | 4.715141     | 0.886909          | 0.895728            | 0.474044          | 0.466427            |"
      ]
     },
     "metadata": {},
     "output_type": "display_data"
    },
    {
     "data": {
      "text/html": [
       "<pre>| 6         | 5.704924     | 0.889389          | 0.899862            | 0.420495          | 0.412466            |</pre>"
      ],
      "text/plain": [
       "| 6         | 5.704924     | 0.889389          | 0.899862            | 0.420495          | 0.412466            |"
      ]
     },
     "metadata": {},
     "output_type": "display_data"
    },
    {
     "data": {
      "text/html": [
       "<pre>| 10        | 9.445345     | 0.903721          | 0.912724            | 0.292946          | 0.283387            |</pre>"
      ],
      "text/plain": [
       "| 10        | 9.445345     | 0.903721          | 0.912724            | 0.292946          | 0.283387            |"
      ]
     },
     "metadata": {},
     "output_type": "display_data"
    },
    {
     "data": {
      "text/html": [
       "<pre>+-----------+--------------+-------------------+---------------------+-------------------+---------------------+</pre>"
      ],
      "text/plain": [
       "+-----------+--------------+-------------------+---------------------+-------------------+---------------------+"
      ]
     },
     "metadata": {},
     "output_type": "display_data"
    },
    {
     "name": "stdout",
     "output_type": "stream",
     "text": [
      "146\n",
      "{'f1_score': 0.6670484904820797, 'auc': 0.9816674847081006, 'recall': 0.5517963072912089, 'precision': 0.9724869337979094, 'log_loss': 0.2833869888650507, 'roc_curve': Columns:\n",
      "\tthreshold\tfloat\n",
      "\tfpr\tfloat\n",
      "\ttpr\tfloat\n",
      "\tp\tint\n",
      "\tn\tint\n",
      "\tclass\tint\n",
      "\n",
      "Rows: 400004\n",
      "\n",
      "Data:\n",
      "+-----------+-----+-----+------+-----+-------+\n",
      "| threshold | fpr | tpr |  p   |  n  | class |\n",
      "+-----------+-----+-----+------+-----+-------+\n",
      "|    0.0    | 1.0 | 1.0 | 1862 | 315 |   0   |\n",
      "|   1e-05   | 1.0 | 1.0 | 1862 | 315 |   0   |\n",
      "|   2e-05   | 1.0 | 1.0 | 1862 | 315 |   0   |\n",
      "|   3e-05   | 1.0 | 1.0 | 1862 | 315 |   0   |\n",
      "|   4e-05   | 1.0 | 1.0 | 1862 | 315 |   0   |\n",
      "|   5e-05   | 1.0 | 1.0 | 1862 | 315 |   0   |\n",
      "|   6e-05   | 1.0 | 1.0 | 1862 | 315 |   0   |\n",
      "|   7e-05   | 1.0 | 1.0 | 1862 | 315 |   0   |\n",
      "|   8e-05   | 1.0 | 1.0 | 1862 | 315 |   0   |\n",
      "|   9e-05   | 1.0 | 1.0 | 1862 | 315 |   0   |\n",
      "+-----------+-----+-----+------+-----+-------+\n",
      "[400004 rows x 6 columns]\n",
      "Note: Only the head of the SFrame is printed.\n",
      "You can use print_rows(num_rows=m, num_columns=n) to print more rows and columns., 'confusion_matrix': Columns:\n",
      "\ttarget_label\tint\n",
      "\tpredicted_label\tint\n",
      "\tcount\tint\n",
      "\n",
      "Rows: 8\n",
      "\n",
      "Data:\n",
      "+--------------+-----------------+-------+\n",
      "| target_label | predicted_label | count |\n",
      "+--------------+-----------------+-------+\n",
      "|     2000     |        0        |   46  |\n",
      "|     2000     |       2000      |   28  |\n",
      "|     1000     |       1000      |   55  |\n",
      "|     1500     |        0        |   52  |\n",
      "|      0       |       1000      |   1   |\n",
      "|     1000     |        0        |   91  |\n",
      "|     1500     |       1500      |   43  |\n",
      "|      0       |        0        |  1861 |\n",
      "+--------------+-----------------+-------+\n",
      "[8 rows x 3 columns]\n",
      ", 'accuracy': 0.9127239320165366}\n",
      "95\n",
      "{'f1_score': 0.6670484904820797, 'auc': 0.9816674847081006, 'recall': 0.5517963072912089, 'precision': 0.9724869337979094, 'log_loss': 0.2833869888650507, 'roc_curve': Columns:\n",
      "\tthreshold\tfloat\n",
      "\tfpr\tfloat\n",
      "\ttpr\tfloat\n",
      "\tp\tint\n",
      "\tn\tint\n",
      "\tclass\tint\n",
      "\n",
      "Rows: 400004\n",
      "\n",
      "Data:\n",
      "+-----------+-----+-----+------+-----+-------+\n",
      "| threshold | fpr | tpr |  p   |  n  | class |\n",
      "+-----------+-----+-----+------+-----+-------+\n",
      "|    0.0    | 1.0 | 1.0 | 1862 | 315 |   0   |\n",
      "|   1e-05   | 1.0 | 1.0 | 1862 | 315 |   0   |\n",
      "|   2e-05   | 1.0 | 1.0 | 1862 | 315 |   0   |\n",
      "|   3e-05   | 1.0 | 1.0 | 1862 | 315 |   0   |\n",
      "|   4e-05   | 1.0 | 1.0 | 1862 | 315 |   0   |\n",
      "|   5e-05   | 1.0 | 1.0 | 1862 | 315 |   0   |\n",
      "|   6e-05   | 1.0 | 1.0 | 1862 | 315 |   0   |\n",
      "|   7e-05   | 1.0 | 1.0 | 1862 | 315 |   0   |\n",
      "|   8e-05   | 1.0 | 1.0 | 1862 | 315 |   0   |\n",
      "|   9e-05   | 1.0 | 1.0 | 1862 | 315 |   0   |\n",
      "+-----------+-----+-----+------+-----+-------+\n",
      "[400004 rows x 6 columns]\n",
      "Note: Only the head of the SFrame is printed.\n",
      "You can use print_rows(num_rows=m, num_columns=n) to print more rows and columns., 'confusion_matrix': Columns:\n",
      "\ttarget_label\tint\n",
      "\tpredicted_label\tint\n",
      "\tcount\tint\n",
      "\n",
      "Rows: 8\n",
      "\n",
      "Data:\n",
      "+--------------+-----------------+-------+\n",
      "| target_label | predicted_label | count |\n",
      "+--------------+-----------------+-------+\n",
      "|     2000     |        0        |   46  |\n",
      "|     2000     |       2000      |   28  |\n",
      "|     1000     |       1000      |   55  |\n",
      "|     1500     |        0        |   52  |\n",
      "|      0       |       1000      |   1   |\n",
      "|     1000     |        0        |   91  |\n",
      "|     1500     |       1500      |   43  |\n",
      "|      0       |        0        |  1861 |\n",
      "+--------------+-----------------+-------+\n",
      "[8 rows x 3 columns]\n",
      ", 'accuracy': 0.9127239320165366}\n",
      "74\n",
      "{'f1_score': 0.6670484904820797, 'auc': 0.9816674847081006, 'recall': 0.5517963072912089, 'precision': 0.9724869337979094, 'log_loss': 0.2833869888650507, 'roc_curve': Columns:\n",
      "\tthreshold\tfloat\n",
      "\tfpr\tfloat\n",
      "\ttpr\tfloat\n",
      "\tp\tint\n",
      "\tn\tint\n",
      "\tclass\tint\n",
      "\n",
      "Rows: 400004\n",
      "\n",
      "Data:\n",
      "+-----------+-----+-----+------+-----+-------+\n",
      "| threshold | fpr | tpr |  p   |  n  | class |\n",
      "+-----------+-----+-----+------+-----+-------+\n",
      "|    0.0    | 1.0 | 1.0 | 1862 | 315 |   0   |\n",
      "|   1e-05   | 1.0 | 1.0 | 1862 | 315 |   0   |\n",
      "|   2e-05   | 1.0 | 1.0 | 1862 | 315 |   0   |\n",
      "|   3e-05   | 1.0 | 1.0 | 1862 | 315 |   0   |\n",
      "|   4e-05   | 1.0 | 1.0 | 1862 | 315 |   0   |\n",
      "|   5e-05   | 1.0 | 1.0 | 1862 | 315 |   0   |\n",
      "|   6e-05   | 1.0 | 1.0 | 1862 | 315 |   0   |\n",
      "|   7e-05   | 1.0 | 1.0 | 1862 | 315 |   0   |\n",
      "|   8e-05   | 1.0 | 1.0 | 1862 | 315 |   0   |\n",
      "|   9e-05   | 1.0 | 1.0 | 1862 | 315 |   0   |\n",
      "+-----------+-----+-----+------+-----+-------+\n",
      "[400004 rows x 6 columns]\n",
      "Note: Only the head of the SFrame is printed.\n",
      "You can use print_rows(num_rows=m, num_columns=n) to print more rows and columns., 'confusion_matrix': Columns:\n",
      "\ttarget_label\tint\n",
      "\tpredicted_label\tint\n",
      "\tcount\tint\n",
      "\n",
      "Rows: 8\n",
      "\n",
      "Data:\n",
      "+--------------+-----------------+-------+\n",
      "| target_label | predicted_label | count |\n",
      "+--------------+-----------------+-------+\n",
      "|     2000     |        0        |   46  |\n",
      "|     2000     |       2000      |   28  |\n",
      "|     1000     |       1000      |   55  |\n",
      "|     1500     |        0        |   52  |\n",
      "|      0       |       1000      |   1   |\n",
      "|     1000     |        0        |   91  |\n",
      "|     1500     |       1500      |   43  |\n",
      "|      0       |        0        |  1861 |\n",
      "+--------------+-----------------+-------+\n",
      "[8 rows x 3 columns]\n",
      ", 'accuracy': 0.9127239320165366}\n"
     ]
    },
    {
     "data": {
      "text/html": [
       "<pre>Boosted trees classifier:</pre>"
      ],
      "text/plain": [
       "Boosted trees classifier:"
      ]
     },
     "metadata": {},
     "output_type": "display_data"
    },
    {
     "data": {
      "text/html": [
       "<pre>--------------------------------------------------------</pre>"
      ],
      "text/plain": [
       "--------------------------------------------------------"
      ]
     },
     "metadata": {},
     "output_type": "display_data"
    },
    {
     "data": {
      "text/html": [
       "<pre>Number of examples          : 10885</pre>"
      ],
      "text/plain": [
       "Number of examples          : 10885"
      ]
     },
     "metadata": {},
     "output_type": "display_data"
    },
    {
     "data": {
      "text/html": [
       "<pre>Number of classes           : 4</pre>"
      ],
      "text/plain": [
       "Number of classes           : 4"
      ]
     },
     "metadata": {},
     "output_type": "display_data"
    },
    {
     "data": {
      "text/html": [
       "<pre>Number of feature columns   : 488</pre>"
      ],
      "text/plain": [
       "Number of feature columns   : 488"
      ]
     },
     "metadata": {},
     "output_type": "display_data"
    },
    {
     "data": {
      "text/html": [
       "<pre>Number of unpacked features : 488</pre>"
      ],
      "text/plain": [
       "Number of unpacked features : 488"
      ]
     },
     "metadata": {},
     "output_type": "display_data"
    },
    {
     "data": {
      "text/html": [
       "<pre>+-----------+--------------+-------------------+---------------------+-------------------+---------------------+</pre>"
      ],
      "text/plain": [
       "+-----------+--------------+-------------------+---------------------+-------------------+---------------------+"
      ]
     },
     "metadata": {},
     "output_type": "display_data"
    },
    {
     "data": {
      "text/html": [
       "<pre>| Iteration | Elapsed Time | Training-accuracy | Validation-accuracy | Training-log_loss | Validation-log_loss |</pre>"
      ],
      "text/plain": [
       "| Iteration | Elapsed Time | Training-accuracy | Validation-accuracy | Training-log_loss | Validation-log_loss |"
      ]
     },
     "metadata": {},
     "output_type": "display_data"
    },
    {
     "data": {
      "text/html": [
       "<pre>+-----------+--------------+-------------------+---------------------+-------------------+---------------------+</pre>"
      ],
      "text/plain": [
       "+-----------+--------------+-------------------+---------------------+-------------------+---------------------+"
      ]
     },
     "metadata": {},
     "output_type": "display_data"
    },
    {
     "data": {
      "text/html": [
       "<pre>| 1         | 0.986653     | 0.875517          | 0.877354            | 0.996739          | 0.992246            |</pre>"
      ],
      "text/plain": [
       "| 1         | 0.986653     | 0.875517          | 0.877354            | 0.996739          | 0.992246            |"
      ]
     },
     "metadata": {},
     "output_type": "display_data"
    },
    {
     "data": {
      "text/html": [
       "<pre>| 2         | 2.017952     | 0.879467          | 0.880570            | 0.784137          | 0.778332            |</pre>"
      ],
      "text/plain": [
       "| 2         | 2.017952     | 0.879467          | 0.880570            | 0.784137          | 0.778332            |"
      ]
     },
     "metadata": {},
     "output_type": "display_data"
    },
    {
     "data": {
      "text/html": [
       "<pre>| 3         | 3.013879     | 0.882683          | 0.887000            | 0.644273          | 0.638057            |</pre>"
      ],
      "text/plain": [
       "| 3         | 3.013879     | 0.882683          | 0.887000            | 0.644273          | 0.638057            |"
      ]
     },
     "metadata": {},
     "output_type": "display_data"
    },
    {
     "data": {
      "text/html": [
       "<pre>| 4         | 3.892087     | 0.884704          | 0.890216            | 0.546046          | 0.539113            |</pre>"
      ],
      "text/plain": [
       "| 4         | 3.892087     | 0.884704          | 0.890216            | 0.546046          | 0.539113            |"
      ]
     },
     "metadata": {},
     "output_type": "display_data"
    },
    {
     "data": {
      "text/html": [
       "<pre>| 5         | 4.881017     | 0.886909          | 0.891135            | 0.474044          | 0.465869            |</pre>"
      ],
      "text/plain": [
       "| 5         | 4.881017     | 0.886909          | 0.891135            | 0.474044          | 0.465869            |"
      ]
     },
     "metadata": {},
     "output_type": "display_data"
    },
    {
     "data": {
      "text/html": [
       "<pre>| 6         | 5.856153     | 0.889389          | 0.891594            | 0.420495          | 0.412002            |</pre>"
      ],
      "text/plain": [
       "| 6         | 5.856153     | 0.889389          | 0.891594            | 0.420495          | 0.412002            |"
      ]
     },
     "metadata": {},
     "output_type": "display_data"
    },
    {
     "data": {
      "text/html": [
       "<pre>| 10        | 9.610088     | 0.903721          | 0.907671            | 0.292946          | 0.284938            |</pre>"
      ],
      "text/plain": [
       "| 10        | 9.610088     | 0.903721          | 0.907671            | 0.292946          | 0.284938            |"
      ]
     },
     "metadata": {},
     "output_type": "display_data"
    },
    {
     "data": {
      "text/html": [
       "<pre>+-----------+--------------+-------------------+---------------------+-------------------+---------------------+</pre>"
      ],
      "text/plain": [
       "+-----------+--------------+-------------------+---------------------+-------------------+---------------------+"
      ]
     },
     "metadata": {},
     "output_type": "display_data"
    },
    {
     "name": "stdout",
     "output_type": "stream",
     "text": [
      "139\n",
      "{'f1_score': 0.6144231907206759, 'auc': 0.9849401097397168, 'recall': 0.5020159215093678, 'precision': 0.9757947976878613, 'log_loss': 0.2849375093839389, 'roc_curve': Columns:\n",
      "\tthreshold\tfloat\n",
      "\tfpr\tfloat\n",
      "\ttpr\tfloat\n",
      "\tp\tint\n",
      "\tn\tint\n",
      "\tclass\tint\n",
      "\n",
      "Rows: 400004\n",
      "\n",
      "Data:\n",
      "+-----------+-----+-----+------+-----+-------+\n",
      "| threshold | fpr | tpr |  p   |  n  | class |\n",
      "+-----------+-----+-----+------+-----+-------+\n",
      "|    0.0    | 1.0 | 1.0 | 1875 | 302 |   0   |\n",
      "|   1e-05   | 1.0 | 1.0 | 1875 | 302 |   0   |\n",
      "|   2e-05   | 1.0 | 1.0 | 1875 | 302 |   0   |\n",
      "|   3e-05   | 1.0 | 1.0 | 1875 | 302 |   0   |\n",
      "|   4e-05   | 1.0 | 1.0 | 1875 | 302 |   0   |\n",
      "|   5e-05   | 1.0 | 1.0 | 1875 | 302 |   0   |\n",
      "|   6e-05   | 1.0 | 1.0 | 1875 | 302 |   0   |\n",
      "|   7e-05   | 1.0 | 1.0 | 1875 | 302 |   0   |\n",
      "|   8e-05   | 1.0 | 1.0 | 1875 | 302 |   0   |\n",
      "|   9e-05   | 1.0 | 1.0 | 1875 | 302 |   0   |\n",
      "+-----------+-----+-----+------+-----+-------+\n",
      "[400004 rows x 6 columns]\n",
      "Note: Only the head of the SFrame is printed.\n",
      "You can use print_rows(num_rows=m, num_columns=n) to print more rows and columns., 'confusion_matrix': Columns:\n",
      "\ttarget_label\tint\n",
      "\tpredicted_label\tint\n",
      "\tcount\tint\n",
      "\n",
      "Rows: 7\n",
      "\n",
      "Data:\n",
      "+--------------+-----------------+-------+\n",
      "| target_label | predicted_label | count |\n",
      "+--------------+-----------------+-------+\n",
      "|     2000     |       2000      |   24  |\n",
      "|     1000     |       1000      |   45  |\n",
      "|     2000     |        0        |   49  |\n",
      "|     1000     |        0        |   94  |\n",
      "|     1500     |        0        |   58  |\n",
      "|     1500     |       1500      |   32  |\n",
      "|      0       |        0        |  1875 |\n",
      "+--------------+-----------------+-------+\n",
      "[7 rows x 3 columns]\n",
      ", 'accuracy': 0.9076711070280202}\n",
      "90\n",
      "{'f1_score': 0.6144231907206759, 'auc': 0.9849401097397168, 'recall': 0.5020159215093678, 'precision': 0.9757947976878613, 'log_loss': 0.2849375093839389, 'roc_curve': Columns:\n",
      "\tthreshold\tfloat\n",
      "\tfpr\tfloat\n",
      "\ttpr\tfloat\n",
      "\tp\tint\n",
      "\tn\tint\n",
      "\tclass\tint\n",
      "\n",
      "Rows: 400004\n",
      "\n",
      "Data:\n",
      "+-----------+-----+-----+------+-----+-------+\n",
      "| threshold | fpr | tpr |  p   |  n  | class |\n",
      "+-----------+-----+-----+------+-----+-------+\n",
      "|    0.0    | 1.0 | 1.0 | 1875 | 302 |   0   |\n",
      "|   1e-05   | 1.0 | 1.0 | 1875 | 302 |   0   |\n",
      "|   2e-05   | 1.0 | 1.0 | 1875 | 302 |   0   |\n",
      "|   3e-05   | 1.0 | 1.0 | 1875 | 302 |   0   |\n",
      "|   4e-05   | 1.0 | 1.0 | 1875 | 302 |   0   |\n",
      "|   5e-05   | 1.0 | 1.0 | 1875 | 302 |   0   |\n",
      "|   6e-05   | 1.0 | 1.0 | 1875 | 302 |   0   |\n",
      "|   7e-05   | 1.0 | 1.0 | 1875 | 302 |   0   |\n",
      "|   8e-05   | 1.0 | 1.0 | 1875 | 302 |   0   |\n",
      "|   9e-05   | 1.0 | 1.0 | 1875 | 302 |   0   |\n",
      "+-----------+-----+-----+------+-----+-------+\n",
      "[400004 rows x 6 columns]\n",
      "Note: Only the head of the SFrame is printed.\n",
      "You can use print_rows(num_rows=m, num_columns=n) to print more rows and columns., 'confusion_matrix': Columns:\n",
      "\ttarget_label\tint\n",
      "\tpredicted_label\tint\n",
      "\tcount\tint\n",
      "\n",
      "Rows: 7\n",
      "\n",
      "Data:\n",
      "+--------------+-----------------+-------+\n",
      "| target_label | predicted_label | count |\n",
      "+--------------+-----------------+-------+\n",
      "|     2000     |       2000      |   24  |\n",
      "|     1000     |       1000      |   45  |\n",
      "|     2000     |        0        |   49  |\n",
      "|     1000     |        0        |   94  |\n",
      "|     1500     |        0        |   58  |\n",
      "|     1500     |       1500      |   32  |\n",
      "|      0       |        0        |  1875 |\n",
      "+--------------+-----------------+-------+\n",
      "[7 rows x 3 columns]\n",
      ", 'accuracy': 0.9076711070280202}\n",
      "73\n",
      "{'f1_score': 0.6144231907206759, 'auc': 0.9849401097397168, 'recall': 0.5020159215093678, 'precision': 0.9757947976878613, 'log_loss': 0.2849375093839389, 'roc_curve': Columns:\n",
      "\tthreshold\tfloat\n",
      "\tfpr\tfloat\n",
      "\ttpr\tfloat\n",
      "\tp\tint\n",
      "\tn\tint\n",
      "\tclass\tint\n",
      "\n",
      "Rows: 400004\n",
      "\n",
      "Data:\n",
      "+-----------+-----+-----+------+-----+-------+\n",
      "| threshold | fpr | tpr |  p   |  n  | class |\n",
      "+-----------+-----+-----+------+-----+-------+\n",
      "|    0.0    | 1.0 | 1.0 | 1875 | 302 |   0   |\n",
      "|   1e-05   | 1.0 | 1.0 | 1875 | 302 |   0   |\n",
      "|   2e-05   | 1.0 | 1.0 | 1875 | 302 |   0   |\n",
      "|   3e-05   | 1.0 | 1.0 | 1875 | 302 |   0   |\n",
      "|   4e-05   | 1.0 | 1.0 | 1875 | 302 |   0   |\n",
      "|   5e-05   | 1.0 | 1.0 | 1875 | 302 |   0   |\n",
      "|   6e-05   | 1.0 | 1.0 | 1875 | 302 |   0   |\n",
      "|   7e-05   | 1.0 | 1.0 | 1875 | 302 |   0   |\n",
      "|   8e-05   | 1.0 | 1.0 | 1875 | 302 |   0   |\n",
      "|   9e-05   | 1.0 | 1.0 | 1875 | 302 |   0   |\n",
      "+-----------+-----+-----+------+-----+-------+\n",
      "[400004 rows x 6 columns]\n",
      "Note: Only the head of the SFrame is printed.\n",
      "You can use print_rows(num_rows=m, num_columns=n) to print more rows and columns., 'confusion_matrix': Columns:\n",
      "\ttarget_label\tint\n",
      "\tpredicted_label\tint\n",
      "\tcount\tint\n",
      "\n",
      "Rows: 7\n",
      "\n",
      "Data:\n",
      "+--------------+-----------------+-------+\n",
      "| target_label | predicted_label | count |\n",
      "+--------------+-----------------+-------+\n",
      "|     2000     |       2000      |   24  |\n",
      "|     1000     |       1000      |   45  |\n",
      "|     2000     |        0        |   49  |\n",
      "|     1000     |        0        |   94  |\n",
      "|     1500     |        0        |   58  |\n",
      "|     1500     |       1500      |   32  |\n",
      "|      0       |        0        |  1875 |\n",
      "+--------------+-----------------+-------+\n",
      "[7 rows x 3 columns]\n",
      ", 'accuracy': 0.9076711070280202}\n"
     ]
    },
    {
     "data": {
      "text/html": [
       "<pre>Boosted trees classifier:</pre>"
      ],
      "text/plain": [
       "Boosted trees classifier:"
      ]
     },
     "metadata": {},
     "output_type": "display_data"
    },
    {
     "data": {
      "text/html": [
       "<pre>--------------------------------------------------------</pre>"
      ],
      "text/plain": [
       "--------------------------------------------------------"
      ]
     },
     "metadata": {},
     "output_type": "display_data"
    },
    {
     "data": {
      "text/html": [
       "<pre>Number of examples          : 10885</pre>"
      ],
      "text/plain": [
       "Number of examples          : 10885"
      ]
     },
     "metadata": {},
     "output_type": "display_data"
    },
    {
     "data": {
      "text/html": [
       "<pre>Number of classes           : 4</pre>"
      ],
      "text/plain": [
       "Number of classes           : 4"
      ]
     },
     "metadata": {},
     "output_type": "display_data"
    },
    {
     "data": {
      "text/html": [
       "<pre>Number of feature columns   : 488</pre>"
      ],
      "text/plain": [
       "Number of feature columns   : 488"
      ]
     },
     "metadata": {},
     "output_type": "display_data"
    },
    {
     "data": {
      "text/html": [
       "<pre>Number of unpacked features : 488</pre>"
      ],
      "text/plain": [
       "Number of unpacked features : 488"
      ]
     },
     "metadata": {},
     "output_type": "display_data"
    },
    {
     "data": {
      "text/html": [
       "<pre>+-----------+--------------+-------------------+---------------------+-------------------+---------------------+</pre>"
      ],
      "text/plain": [
       "+-----------+--------------+-------------------+---------------------+-------------------+---------------------+"
      ]
     },
     "metadata": {},
     "output_type": "display_data"
    },
    {
     "data": {
      "text/html": [
       "<pre>| Iteration | Elapsed Time | Training-accuracy | Validation-accuracy | Training-log_loss | Validation-log_loss |</pre>"
      ],
      "text/plain": [
       "| Iteration | Elapsed Time | Training-accuracy | Validation-accuracy | Training-log_loss | Validation-log_loss |"
      ]
     },
     "metadata": {},
     "output_type": "display_data"
    },
    {
     "data": {
      "text/html": [
       "<pre>+-----------+--------------+-------------------+---------------------+-------------------+---------------------+</pre>"
      ],
      "text/plain": [
       "+-----------+--------------+-------------------+---------------------+-------------------+---------------------+"
      ]
     },
     "metadata": {},
     "output_type": "display_data"
    },
    {
     "data": {
      "text/html": [
       "<pre>| 1         | 1.059263     | 0.875517          | 0.868167            | 0.996739          | 1.001499            |</pre>"
      ],
      "text/plain": [
       "| 1         | 1.059263     | 0.875517          | 0.868167            | 0.996739          | 1.001499            |"
      ]
     },
     "metadata": {},
     "output_type": "display_data"
    },
    {
     "data": {
      "text/html": [
       "<pre>| 2         | 2.077171     | 0.879467          | 0.870923            | 0.784137          | 0.791233            |</pre>"
      ],
      "text/plain": [
       "| 2         | 2.077171     | 0.879467          | 0.870923            | 0.784137          | 0.791233            |"
      ]
     },
     "metadata": {},
     "output_type": "display_data"
    },
    {
     "data": {
      "text/html": [
       "<pre>| 3         | 3.038048     | 0.882683          | 0.871842            | 0.644273          | 0.653348            |</pre>"
      ],
      "text/plain": [
       "| 3         | 3.038048     | 0.882683          | 0.871842            | 0.644273          | 0.653348            |"
      ]
     },
     "metadata": {},
     "output_type": "display_data"
    },
    {
     "data": {
      "text/html": [
       "<pre>| 4         | 3.947056     | 0.884704          | 0.873220            | 0.546046          | 0.557623            |</pre>"
      ],
      "text/plain": [
       "| 4         | 3.947056     | 0.884704          | 0.873220            | 0.546046          | 0.557623            |"
      ]
     },
     "metadata": {},
     "output_type": "display_data"
    },
    {
     "data": {
      "text/html": [
       "<pre>| 5         | 4.950133     | 0.886909          | 0.875976            | 0.474044          | 0.485838            |</pre>"
      ],
      "text/plain": [
       "| 5         | 4.950133     | 0.886909          | 0.875976            | 0.474044          | 0.485838            |"
      ]
     },
     "metadata": {},
     "output_type": "display_data"
    },
    {
     "data": {
      "text/html": [
       "<pre>| 6         | 5.955855     | 0.889389          | 0.877814            | 0.420495          | 0.433212            |</pre>"
      ],
      "text/plain": [
       "| 6         | 5.955855     | 0.889389          | 0.877814            | 0.420495          | 0.433212            |"
      ]
     },
     "metadata": {},
     "output_type": "display_data"
    },
    {
     "data": {
      "text/html": [
       "<pre>| 10        | 9.834127     | 0.903721          | 0.891594            | 0.292946          | 0.303825            |</pre>"
      ],
      "text/plain": [
       "| 10        | 9.834127     | 0.903721          | 0.891594            | 0.292946          | 0.303825            |"
      ]
     },
     "metadata": {},
     "output_type": "display_data"
    },
    {
     "data": {
      "text/html": [
       "<pre>+-----------+--------------+-------------------+---------------------+-------------------+---------------------+</pre>"
      ],
      "text/plain": [
       "+-----------+--------------+-------------------+---------------------+-------------------+---------------------+"
      ]
     },
     "metadata": {},
     "output_type": "display_data"
    },
    {
     "name": "stdout",
     "output_type": "stream",
     "text": [
      "168\n",
      "{'f1_score': 0.5705305311459775, 'auc': 0.9832007556696533, 'recall': 0.4671306843562941, 'precision': 0.9608043953699259, 'log_loss': 0.3038247584551167, 'roc_curve': Columns:\n",
      "\tthreshold\tfloat\n",
      "\tfpr\tfloat\n",
      "\ttpr\tfloat\n",
      "\tp\tint\n",
      "\tn\tint\n",
      "\tclass\tint\n",
      "\n",
      "Rows: 400004\n",
      "\n",
      "Data:\n",
      "+-----------+-----+-----+------+-----+-------+\n",
      "| threshold | fpr | tpr |  p   |  n  | class |\n",
      "+-----------+-----+-----+------+-----+-------+\n",
      "|    0.0    | 1.0 | 1.0 | 1849 | 328 |   0   |\n",
      "|   1e-05   | 1.0 | 1.0 | 1849 | 328 |   0   |\n",
      "|   2e-05   | 1.0 | 1.0 | 1849 | 328 |   0   |\n",
      "|   3e-05   | 1.0 | 1.0 | 1849 | 328 |   0   |\n",
      "|   4e-05   | 1.0 | 1.0 | 1849 | 328 |   0   |\n",
      "|   5e-05   | 1.0 | 1.0 | 1849 | 328 |   0   |\n",
      "|   6e-05   | 1.0 | 1.0 | 1849 | 328 |   0   |\n",
      "|   7e-05   | 1.0 | 1.0 | 1849 | 328 |   0   |\n",
      "|   8e-05   | 1.0 | 1.0 | 1849 | 328 |   0   |\n",
      "|   9e-05   | 1.0 | 1.0 | 1849 | 328 |   0   |\n",
      "+-----------+-----+-----+------+-----+-------+\n",
      "[400004 rows x 6 columns]\n",
      "Note: Only the head of the SFrame is printed.\n",
      "You can use print_rows(num_rows=m, num_columns=n) to print more rows and columns., 'confusion_matrix': Columns:\n",
      "\ttarget_label\tint\n",
      "\tpredicted_label\tint\n",
      "\tcount\tint\n",
      "\n",
      "Rows: 8\n",
      "\n",
      "Data:\n",
      "+--------------+-----------------+-------+\n",
      "| target_label | predicted_label | count |\n",
      "+--------------+-----------------+-------+\n",
      "|     1500     |        0        |   57  |\n",
      "|     2000     |        0        |   52  |\n",
      "|     2000     |       2000      |   24  |\n",
      "|     1000     |       1000      |   43  |\n",
      "|     1000     |        0        |  125  |\n",
      "|     2000     |       1000      |   2   |\n",
      "|     1500     |       1500      |   25  |\n",
      "|      0       |        0        |  1849 |\n",
      "+--------------+-----------------+-------+\n",
      "[8 rows x 3 columns]\n",
      ", 'accuracy': 0.8915939366100137}\n",
      "82\n",
      "{'f1_score': 0.5705305311459775, 'auc': 0.9832007556696533, 'recall': 0.4671306843562941, 'precision': 0.9608043953699259, 'log_loss': 0.3038247584551167, 'roc_curve': Columns:\n",
      "\tthreshold\tfloat\n",
      "\tfpr\tfloat\n",
      "\ttpr\tfloat\n",
      "\tp\tint\n",
      "\tn\tint\n",
      "\tclass\tint\n",
      "\n",
      "Rows: 400004\n",
      "\n",
      "Data:\n",
      "+-----------+-----+-----+------+-----+-------+\n",
      "| threshold | fpr | tpr |  p   |  n  | class |\n",
      "+-----------+-----+-----+------+-----+-------+\n",
      "|    0.0    | 1.0 | 1.0 | 1849 | 328 |   0   |\n",
      "|   1e-05   | 1.0 | 1.0 | 1849 | 328 |   0   |\n",
      "|   2e-05   | 1.0 | 1.0 | 1849 | 328 |   0   |\n",
      "|   3e-05   | 1.0 | 1.0 | 1849 | 328 |   0   |\n",
      "|   4e-05   | 1.0 | 1.0 | 1849 | 328 |   0   |\n",
      "|   5e-05   | 1.0 | 1.0 | 1849 | 328 |   0   |\n",
      "|   6e-05   | 1.0 | 1.0 | 1849 | 328 |   0   |\n",
      "|   7e-05   | 1.0 | 1.0 | 1849 | 328 |   0   |\n",
      "|   8e-05   | 1.0 | 1.0 | 1849 | 328 |   0   |\n",
      "|   9e-05   | 1.0 | 1.0 | 1849 | 328 |   0   |\n",
      "+-----------+-----+-----+------+-----+-------+\n",
      "[400004 rows x 6 columns]\n",
      "Note: Only the head of the SFrame is printed.\n",
      "You can use print_rows(num_rows=m, num_columns=n) to print more rows and columns., 'confusion_matrix': Columns:\n",
      "\ttarget_label\tint\n",
      "\tpredicted_label\tint\n",
      "\tcount\tint\n",
      "\n",
      "Rows: 8\n",
      "\n",
      "Data:\n",
      "+--------------+-----------------+-------+\n",
      "| target_label | predicted_label | count |\n",
      "+--------------+-----------------+-------+\n",
      "|     1500     |        0        |   57  |\n",
      "|     2000     |        0        |   52  |\n",
      "|     2000     |       2000      |   24  |\n",
      "|     1000     |       1000      |   43  |\n",
      "|     1000     |        0        |  125  |\n",
      "|     2000     |       1000      |   2   |\n",
      "|     1500     |       1500      |   25  |\n",
      "|      0       |        0        |  1849 |\n",
      "+--------------+-----------------+-------+\n",
      "[8 rows x 3 columns]\n",
      ", 'accuracy': 0.8915939366100137}\n",
      "78\n",
      "{'f1_score': 0.5705305311459775, 'auc': 0.9832007556696533, 'recall': 0.4671306843562941, 'precision': 0.9608043953699259, 'log_loss': 0.3038247584551167, 'roc_curve': Columns:\n",
      "\tthreshold\tfloat\n",
      "\tfpr\tfloat\n",
      "\ttpr\tfloat\n",
      "\tp\tint\n",
      "\tn\tint\n",
      "\tclass\tint\n",
      "\n",
      "Rows: 400004\n",
      "\n",
      "Data:\n",
      "+-----------+-----+-----+------+-----+-------+\n",
      "| threshold | fpr | tpr |  p   |  n  | class |\n",
      "+-----------+-----+-----+------+-----+-------+\n",
      "|    0.0    | 1.0 | 1.0 | 1849 | 328 |   0   |\n",
      "|   1e-05   | 1.0 | 1.0 | 1849 | 328 |   0   |\n",
      "|   2e-05   | 1.0 | 1.0 | 1849 | 328 |   0   |\n",
      "|   3e-05   | 1.0 | 1.0 | 1849 | 328 |   0   |\n",
      "|   4e-05   | 1.0 | 1.0 | 1849 | 328 |   0   |\n",
      "|   5e-05   | 1.0 | 1.0 | 1849 | 328 |   0   |\n",
      "|   6e-05   | 1.0 | 1.0 | 1849 | 328 |   0   |\n",
      "|   7e-05   | 1.0 | 1.0 | 1849 | 328 |   0   |\n",
      "|   8e-05   | 1.0 | 1.0 | 1849 | 328 |   0   |\n",
      "|   9e-05   | 1.0 | 1.0 | 1849 | 328 |   0   |\n",
      "+-----------+-----+-----+------+-----+-------+\n",
      "[400004 rows x 6 columns]\n",
      "Note: Only the head of the SFrame is printed.\n",
      "You can use print_rows(num_rows=m, num_columns=n) to print more rows and columns., 'confusion_matrix': Columns:\n",
      "\ttarget_label\tint\n",
      "\tpredicted_label\tint\n",
      "\tcount\tint\n",
      "\n",
      "Rows: 8\n",
      "\n",
      "Data:\n",
      "+--------------+-----------------+-------+\n",
      "| target_label | predicted_label | count |\n",
      "+--------------+-----------------+-------+\n",
      "|     1500     |        0        |   57  |\n",
      "|     2000     |        0        |   52  |\n",
      "|     2000     |       2000      |   24  |\n",
      "|     1000     |       1000      |   43  |\n",
      "|     1000     |        0        |  125  |\n",
      "|     2000     |       1000      |   2   |\n",
      "|     1500     |       1500      |   25  |\n",
      "|      0       |        0        |  1849 |\n",
      "+--------------+-----------------+-------+\n",
      "[8 rows x 3 columns]\n",
      ", 'accuracy': 0.8915939366100137}\n"
     ]
    }
   ],
   "source": [
    "#需要找到合适的随机种子才能达到分层cv，本代码没有找到适合随机种子\n",
    "    \n",
    "sf_1=glb.toolkits.cross_validation.shuffle(Strain[predictor_1],random_seed=True)\n",
    "folds = glb.cross_validation.KFold(sf_1, 5)\n",
    "m = glb.boosted_trees_classifier.create(sf_1, target=label)\n",
    "for train, valid in folds:\n",
    "    m = glb.boosted_trees_classifier.create(sf_1, target=label,validation_set=valid)\n",
    "    a=[1000,1500,2000]\n",
    "    for i in range(len(a)):\n",
    "        print len(valid[valid['money']==a[i]])\n",
    "        print m.evaluate(valid)"
   ]
  },
  {
   "cell_type": "code",
   "execution_count": 56,
   "metadata": {
    "collapsed": false
   },
   "outputs": [
    {
     "name": "stdout",
     "output_type": "stream",
     "text": [
      "Canvas is accessible via web browser at the URL: http://localhost:4761/index.html\n",
      "Opening Canvas in default web browser.\n"
     ]
    }
   ],
   "source": [
    "Stest=SFrame(all_feature_test)\n",
    "predictions= m.classify(Stest[predictor_1])\n",
    "predictions.show()"
   ]
  },
  {
   "cell_type": "code",
   "execution_count": 67,
   "metadata": {
    "collapsed": true
   },
   "outputs": [],
   "source": [
    "#predictions2=m.predict(Stest)\n",
    "predictions3=model_2.predict(Stest)"
   ]
  },
  {
   "cell_type": "code",
   "execution_count": 68,
   "metadata": {
    "collapsed": true
   },
   "outputs": [],
   "source": [
    "test_result=SFrame()"
   ]
  },
  {
   "cell_type": "code",
   "execution_count": 69,
   "metadata": {
    "collapsed": true
   },
   "outputs": [],
   "source": [
    "test_result=test_result.add_columns([SArray(ids),predictions2],namelist=['studentid','subsidy'])"
   ]
  },
  {
   "cell_type": "code",
   "execution_count": 70,
   "metadata": {
    "collapsed": false
   },
   "outputs": [
    {
     "data": {
      "text/html": [
       "<div style=\"max-height:1000px;max-width:1500px;overflow:auto;\"><table frame=\"box\" rules=\"cols\">\n",
       "    <tr>\n",
       "        <th style=\"padding-left: 1em; padding-right: 1em; text-align: center\">studentid</th>\n",
       "        <th style=\"padding-left: 1em; padding-right: 1em; text-align: center\">subsidy</th>\n",
       "    </tr>\n",
       "    <tr>\n",
       "        <td style=\"padding-left: 1em; padding-right: 1em; text-align: center; vertical-align: top\">316</td>\n",
       "        <td style=\"padding-left: 1em; padding-right: 1em; text-align: center; vertical-align: top\">0</td>\n",
       "    </tr>\n",
       "    <tr>\n",
       "        <td style=\"padding-left: 1em; padding-right: 1em; text-align: center; vertical-align: top\">7399</td>\n",
       "        <td style=\"padding-left: 1em; padding-right: 1em; text-align: center; vertical-align: top\">0</td>\n",
       "    </tr>\n",
       "    <tr>\n",
       "        <td style=\"padding-left: 1em; padding-right: 1em; text-align: center; vertical-align: top\">12370</td>\n",
       "        <td style=\"padding-left: 1em; padding-right: 1em; text-align: center; vertical-align: top\">0</td>\n",
       "    </tr>\n",
       "    <tr>\n",
       "        <td style=\"padding-left: 1em; padding-right: 1em; text-align: center; vertical-align: top\">21479</td>\n",
       "        <td style=\"padding-left: 1em; padding-right: 1em; text-align: center; vertical-align: top\">0</td>\n",
       "    </tr>\n",
       "    <tr>\n",
       "        <td style=\"padding-left: 1em; padding-right: 1em; text-align: center; vertical-align: top\">29078</td>\n",
       "        <td style=\"padding-left: 1em; padding-right: 1em; text-align: center; vertical-align: top\">0</td>\n",
       "    </tr>\n",
       "    <tr>\n",
       "        <td style=\"padding-left: 1em; padding-right: 1em; text-align: center; vertical-align: top\">87</td>\n",
       "        <td style=\"padding-left: 1em; padding-right: 1em; text-align: center; vertical-align: top\">0</td>\n",
       "    </tr>\n",
       "    <tr>\n",
       "        <td style=\"padding-left: 1em; padding-right: 1em; text-align: center; vertical-align: top\">106</td>\n",
       "        <td style=\"padding-left: 1em; padding-right: 1em; text-align: center; vertical-align: top\">0</td>\n",
       "    </tr>\n",
       "    <tr>\n",
       "        <td style=\"padding-left: 1em; padding-right: 1em; text-align: center; vertical-align: top\">107</td>\n",
       "        <td style=\"padding-left: 1em; padding-right: 1em; text-align: center; vertical-align: top\">0</td>\n",
       "    </tr>\n",
       "    <tr>\n",
       "        <td style=\"padding-left: 1em; padding-right: 1em; text-align: center; vertical-align: top\">144</td>\n",
       "        <td style=\"padding-left: 1em; padding-right: 1em; text-align: center; vertical-align: top\">0</td>\n",
       "    </tr>\n",
       "    <tr>\n",
       "        <td style=\"padding-left: 1em; padding-right: 1em; text-align: center; vertical-align: top\">189</td>\n",
       "        <td style=\"padding-left: 1em; padding-right: 1em; text-align: center; vertical-align: top\">0</td>\n",
       "    </tr>\n",
       "</table>\n",
       "[10961 rows x 2 columns]<br/>Note: Only the head of the SFrame is printed.<br/>You can use print_rows(num_rows=m, num_columns=n) to print more rows and columns.\n",
       "</div>"
      ],
      "text/plain": [
       "Columns:\n",
       "\tstudentid\tint\n",
       "\tsubsidy\tint\n",
       "\n",
       "Rows: 10961\n",
       "\n",
       "Data:\n",
       "+-----------+---------+\n",
       "| studentid | subsidy |\n",
       "+-----------+---------+\n",
       "|    316    |    0    |\n",
       "|    7399   |    0    |\n",
       "|   12370   |    0    |\n",
       "|   21479   |    0    |\n",
       "|   29078   |    0    |\n",
       "|     87    |    0    |\n",
       "|    106    |    0    |\n",
       "|    107    |    0    |\n",
       "|    144    |    0    |\n",
       "|    189    |    0    |\n",
       "+-----------+---------+\n",
       "[10961 rows x 2 columns]\n",
       "Note: Only the head of the SFrame is printed.\n",
       "You can use print_rows(num_rows=m, num_columns=n) to print more rows and columns."
      ]
     },
     "execution_count": 70,
     "metadata": {},
     "output_type": "execute_result"
    }
   ],
   "source": [
    "test_result"
   ]
  },
  {
   "cell_type": "code",
   "execution_count": 72,
   "metadata": {
    "collapsed": false
   },
   "outputs": [
    {
     "data": {
      "text/plain": [
       "44"
      ]
     },
     "execution_count": 72,
     "metadata": {},
     "output_type": "execute_result"
    }
   ],
   "source": [
    "len(test_result[test_result['subsidy']==1000])"
   ]
  },
  {
   "cell_type": "code",
   "execution_count": 33,
   "metadata": {
    "collapsed": true
   },
   "outputs": [],
   "source": [
    "test_result2=test_result.to_dataframe()"
   ]
  },
  {
   "cell_type": "code",
   "execution_count": 34,
   "metadata": {
    "collapsed": false
   },
   "outputs": [],
   "source": [
    "test_result2.to_csv('output/result_submit.csv',index=False)"
   ]
  },
  {
   "cell_type": "code",
   "execution_count": 35,
   "metadata": {
    "collapsed": true
   },
   "outputs": [],
   "source": [
    "test_result2.to_csv('output/result_submit_2.csv',index=False)"
   ]
  },
  {
   "cell_type": "code",
   "execution_count": null,
   "metadata": {
    "collapsed": true
   },
   "outputs": [],
   "source": []
  }
 ],
 "metadata": {
  "anaconda-cloud": {},
  "kernelspec": {
   "display_name": "Python [py2]",
   "language": "python",
   "name": "Python [py2]"
  },
  "language_info": {
   "codemirror_mode": {
    "name": "ipython",
    "version": 2
   },
   "file_extension": ".py",
   "mimetype": "text/x-python",
   "name": "python",
   "nbconvert_exporter": "python",
   "pygments_lexer": "ipython2",
   "version": "2.7.12"
  }
 },
 "nbformat": 4,
 "nbformat_minor": 0
}
